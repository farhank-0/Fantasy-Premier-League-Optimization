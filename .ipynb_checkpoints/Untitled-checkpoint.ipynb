{
 "cells": [
  {
   "cell_type": "markdown",
   "id": "48003689",
   "metadata": {},
   "source": [
    "Review of gameweek data for 22/23 Season GW 1-24."
   ]
  },
  {
   "cell_type": "code",
   "execution_count": 1,
   "id": "164aad22",
   "metadata": {},
   "outputs": [],
   "source": [
    "import pandas as pd\n",
    "import numpy as np\n",
    "import plotly.express as px"
   ]
  },
  {
   "cell_type": "code",
   "execution_count": 2,
   "id": "bc8d8a0e",
   "metadata": {},
   "outputs": [
    {
     "name": "stdout",
     "output_type": "stream",
     "text": [
      "(15866, 41)\n",
      "Index(['name', 'position', 'team', 'xP', 'assists', 'bonus', 'bps',\n",
      "       'clean_sheets', 'creativity', 'element', 'expected_assists',\n",
      "       'expected_goal_involvements', 'expected_goals',\n",
      "       'expected_goals_conceded', 'fixture', 'goals_conceded', 'goals_scored',\n",
      "       'ict_index', 'influence', 'kickoff_time', 'minutes', 'opponent_team',\n",
      "       'own_goals', 'penalties_missed', 'penalties_saved', 'red_cards',\n",
      "       'round', 'saves', 'selected', 'starts', 'team_a_score', 'team_h_score',\n",
      "       'threat', 'total_points', 'transfers_balance', 'transfers_in',\n",
      "       'transfers_out', 'value', 'was_home', 'yellow_cards', 'GW'],\n",
      "      dtype='object')\n"
     ]
    }
   ],
   "source": [
    "df = pd.read_csv('data/merged_gw.csv')\n",
    "print(df.shape)\n",
    "print(df.columns)"
   ]
  },
  {
   "cell_type": "code",
   "execution_count": 3,
   "id": "67f90baf",
   "metadata": {},
   "outputs": [
    {
     "data": {
      "text/html": [
       "<div>\n",
       "<style scoped>\n",
       "    .dataframe tbody tr th:only-of-type {\n",
       "        vertical-align: middle;\n",
       "    }\n",
       "\n",
       "    .dataframe tbody tr th {\n",
       "        vertical-align: top;\n",
       "    }\n",
       "\n",
       "    .dataframe thead th {\n",
       "        text-align: right;\n",
       "    }\n",
       "</style>\n",
       "<table border=\"1\" class=\"dataframe\">\n",
       "  <thead>\n",
       "    <tr style=\"text-align: right;\">\n",
       "      <th></th>\n",
       "      <th>name</th>\n",
       "      <th>position</th>\n",
       "      <th>team</th>\n",
       "      <th>xP</th>\n",
       "      <th>assists</th>\n",
       "      <th>bonus</th>\n",
       "      <th>bps</th>\n",
       "      <th>clean_sheets</th>\n",
       "      <th>creativity</th>\n",
       "      <th>element</th>\n",
       "      <th>expected_assists</th>\n",
       "      <th>expected_goal_involvements</th>\n",
       "      <th>expected_goals</th>\n",
       "      <th>expected_goals_conceded</th>\n",
       "      <th>fixture</th>\n",
       "      <th>goals_conceded</th>\n",
       "      <th>goals_scored</th>\n",
       "      <th>ict_index</th>\n",
       "      <th>influence</th>\n",
       "      <th>kickoff_time</th>\n",
       "      <th>minutes</th>\n",
       "      <th>opponent_team</th>\n",
       "      <th>own_goals</th>\n",
       "      <th>penalties_missed</th>\n",
       "      <th>penalties_saved</th>\n",
       "      <th>red_cards</th>\n",
       "      <th>round</th>\n",
       "      <th>saves</th>\n",
       "      <th>selected</th>\n",
       "      <th>starts</th>\n",
       "      <th>team_a_score</th>\n",
       "      <th>team_h_score</th>\n",
       "      <th>threat</th>\n",
       "      <th>total_points</th>\n",
       "      <th>transfers_balance</th>\n",
       "      <th>transfers_in</th>\n",
       "      <th>transfers_out</th>\n",
       "      <th>value</th>\n",
       "      <th>was_home</th>\n",
       "      <th>yellow_cards</th>\n",
       "      <th>GW</th>\n",
       "    </tr>\n",
       "  </thead>\n",
       "  <tbody>\n",
       "    <tr>\n",
       "      <th>353</th>\n",
       "      <td>James Tarkowski</td>\n",
       "      <td>DEF</td>\n",
       "      <td>Everton</td>\n",
       "      <td>1.4</td>\n",
       "      <td>0</td>\n",
       "      <td>0</td>\n",
       "      <td>12</td>\n",
       "      <td>0</td>\n",
       "      <td>13.7</td>\n",
       "      <td>199</td>\n",
       "      <td>0.00000</td>\n",
       "      <td>0.00000</td>\n",
       "      <td>0.0000</td>\n",
       "      <td>0.0000</td>\n",
       "      <td>3</td>\n",
       "      <td>1</td>\n",
       "      <td>0</td>\n",
       "      <td>7.8</td>\n",
       "      <td>30.4</td>\n",
       "      <td>2022-08-06T16:30:00Z</td>\n",
       "      <td>90</td>\n",
       "      <td>6</td>\n",
       "      <td>0</td>\n",
       "      <td>0</td>\n",
       "      <td>0</td>\n",
       "      <td>0</td>\n",
       "      <td>1</td>\n",
       "      <td>0</td>\n",
       "      <td>64435</td>\n",
       "      <td>0</td>\n",
       "      <td>1</td>\n",
       "      <td>0</td>\n",
       "      <td>34.0</td>\n",
       "      <td>2</td>\n",
       "      <td>0</td>\n",
       "      <td>0</td>\n",
       "      <td>0</td>\n",
       "      <td>45</td>\n",
       "      <td>True</td>\n",
       "      <td>0</td>\n",
       "      <td>1.0</td>\n",
       "    </tr>\n",
       "    <tr>\n",
       "      <th>9252</th>\n",
       "      <td>Scott McTominay</td>\n",
       "      <td>MID</td>\n",
       "      <td>Man Utd</td>\n",
       "      <td>0.5</td>\n",
       "      <td>0</td>\n",
       "      <td>0</td>\n",
       "      <td>0</td>\n",
       "      <td>0</td>\n",
       "      <td>0.0</td>\n",
       "      <td>338</td>\n",
       "      <td>0.00000</td>\n",
       "      <td>0.00000</td>\n",
       "      <td>0.0000</td>\n",
       "      <td>0.0000</td>\n",
       "      <td>169</td>\n",
       "      <td>0</td>\n",
       "      <td>0</td>\n",
       "      <td>0.0</td>\n",
       "      <td>0.0</td>\n",
       "      <td>2022-12-27T20:00:00Z</td>\n",
       "      <td>0</td>\n",
       "      <td>16</td>\n",
       "      <td>0</td>\n",
       "      <td>0</td>\n",
       "      <td>0</td>\n",
       "      <td>0</td>\n",
       "      <td>17</td>\n",
       "      <td>0</td>\n",
       "      <td>19798</td>\n",
       "      <td>0</td>\n",
       "      <td>0</td>\n",
       "      <td>3</td>\n",
       "      <td>0.0</td>\n",
       "      <td>0</td>\n",
       "      <td>-297</td>\n",
       "      <td>960</td>\n",
       "      <td>1257</td>\n",
       "      <td>49</td>\n",
       "      <td>True</td>\n",
       "      <td>0</td>\n",
       "      <td>17.0</td>\n",
       "    </tr>\n",
       "    <tr>\n",
       "      <th>12139</th>\n",
       "      <td>Bernardo Veiga de Carvalho e Silva</td>\n",
       "      <td>MID</td>\n",
       "      <td>Man City</td>\n",
       "      <td>3.5</td>\n",
       "      <td>0</td>\n",
       "      <td>0</td>\n",
       "      <td>9</td>\n",
       "      <td>0</td>\n",
       "      <td>4.4</td>\n",
       "      <td>311</td>\n",
       "      <td>0.01744</td>\n",
       "      <td>0.04194</td>\n",
       "      <td>0.0245</td>\n",
       "      <td>1.7499</td>\n",
       "      <td>196</td>\n",
       "      <td>2</td>\n",
       "      <td>0</td>\n",
       "      <td>1.8</td>\n",
       "      <td>8.0</td>\n",
       "      <td>2023-01-14T12:30:00Z</td>\n",
       "      <td>90</td>\n",
       "      <td>14</td>\n",
       "      <td>0</td>\n",
       "      <td>0</td>\n",
       "      <td>0</td>\n",
       "      <td>0</td>\n",
       "      <td>20</td>\n",
       "      <td>0</td>\n",
       "      <td>724222</td>\n",
       "      <td>1</td>\n",
       "      <td>1</td>\n",
       "      <td>2</td>\n",
       "      <td>6.0</td>\n",
       "      <td>2</td>\n",
       "      <td>-2078</td>\n",
       "      <td>34800</td>\n",
       "      <td>36878</td>\n",
       "      <td>68</td>\n",
       "      <td>False</td>\n",
       "      <td>0</td>\n",
       "      <td>20.0</td>\n",
       "    </tr>\n",
       "    <tr>\n",
       "      <th>12591</th>\n",
       "      <td>Gabriel Fernando de Jesus</td>\n",
       "      <td>FWD</td>\n",
       "      <td>Arsenal</td>\n",
       "      <td>0.0</td>\n",
       "      <td>0</td>\n",
       "      <td>0</td>\n",
       "      <td>0</td>\n",
       "      <td>0</td>\n",
       "      <td>0.0</td>\n",
       "      <td>28</td>\n",
       "      <td>0.00000</td>\n",
       "      <td>0.00000</td>\n",
       "      <td>0.0000</td>\n",
       "      <td>0.0000</td>\n",
       "      <td>199</td>\n",
       "      <td>0</td>\n",
       "      <td>0</td>\n",
       "      <td>0.0</td>\n",
       "      <td>0.0</td>\n",
       "      <td>2023-01-15T16:30:00Z</td>\n",
       "      <td>0</td>\n",
       "      <td>18</td>\n",
       "      <td>0</td>\n",
       "      <td>0</td>\n",
       "      <td>0</td>\n",
       "      <td>0</td>\n",
       "      <td>20</td>\n",
       "      <td>0</td>\n",
       "      <td>3187556</td>\n",
       "      <td>0</td>\n",
       "      <td>2</td>\n",
       "      <td>0</td>\n",
       "      <td>0.0</td>\n",
       "      <td>0</td>\n",
       "      <td>-200638</td>\n",
       "      <td>969</td>\n",
       "      <td>201607</td>\n",
       "      <td>79</td>\n",
       "      <td>False</td>\n",
       "      <td>0</td>\n",
       "      <td>20.0</td>\n",
       "    </tr>\n",
       "    <tr>\n",
       "      <th>625</th>\n",
       "      <td>Maxwel Cornet</td>\n",
       "      <td>MID</td>\n",
       "      <td>West Ham</td>\n",
       "      <td>2.7</td>\n",
       "      <td>0</td>\n",
       "      <td>0</td>\n",
       "      <td>3</td>\n",
       "      <td>0</td>\n",
       "      <td>0.3</td>\n",
       "      <td>575</td>\n",
       "      <td>0.00000</td>\n",
       "      <td>0.00000</td>\n",
       "      <td>0.0000</td>\n",
       "      <td>0.0000</td>\n",
       "      <td>18</td>\n",
       "      <td>0</td>\n",
       "      <td>0</td>\n",
       "      <td>0.2</td>\n",
       "      <td>2.0</td>\n",
       "      <td>2022-08-14T13:00:00Z</td>\n",
       "      <td>5</td>\n",
       "      <td>16</td>\n",
       "      <td>0</td>\n",
       "      <td>0</td>\n",
       "      <td>0</td>\n",
       "      <td>0</td>\n",
       "      <td>2</td>\n",
       "      <td>0</td>\n",
       "      <td>4719</td>\n",
       "      <td>0</td>\n",
       "      <td>0</td>\n",
       "      <td>1</td>\n",
       "      <td>0.0</td>\n",
       "      <td>1</td>\n",
       "      <td>3130</td>\n",
       "      <td>3968</td>\n",
       "      <td>838</td>\n",
       "      <td>60</td>\n",
       "      <td>False</td>\n",
       "      <td>0</td>\n",
       "      <td>2.0</td>\n",
       "    </tr>\n",
       "  </tbody>\n",
       "</table>\n",
       "</div>"
      ],
      "text/plain": [
       "                                     name position      team   xP  assists  \\\n",
       "353                       James Tarkowski      DEF   Everton  1.4        0   \n",
       "9252                      Scott McTominay      MID   Man Utd  0.5        0   \n",
       "12139  Bernardo Veiga de Carvalho e Silva      MID  Man City  3.5        0   \n",
       "12591           Gabriel Fernando de Jesus      FWD   Arsenal  0.0        0   \n",
       "625                         Maxwel Cornet      MID  West Ham  2.7        0   \n",
       "\n",
       "       bonus  bps  clean_sheets  creativity  element  expected_assists  \\\n",
       "353        0   12             0        13.7      199           0.00000   \n",
       "9252       0    0             0         0.0      338           0.00000   \n",
       "12139      0    9             0         4.4      311           0.01744   \n",
       "12591      0    0             0         0.0       28           0.00000   \n",
       "625        0    3             0         0.3      575           0.00000   \n",
       "\n",
       "       expected_goal_involvements  expected_goals  expected_goals_conceded  \\\n",
       "353                       0.00000          0.0000                   0.0000   \n",
       "9252                      0.00000          0.0000                   0.0000   \n",
       "12139                     0.04194          0.0245                   1.7499   \n",
       "12591                     0.00000          0.0000                   0.0000   \n",
       "625                       0.00000          0.0000                   0.0000   \n",
       "\n",
       "       fixture  goals_conceded  goals_scored  ict_index  influence  \\\n",
       "353          3               1             0        7.8       30.4   \n",
       "9252       169               0             0        0.0        0.0   \n",
       "12139      196               2             0        1.8        8.0   \n",
       "12591      199               0             0        0.0        0.0   \n",
       "625         18               0             0        0.2        2.0   \n",
       "\n",
       "               kickoff_time  minutes  opponent_team  own_goals  \\\n",
       "353    2022-08-06T16:30:00Z       90              6          0   \n",
       "9252   2022-12-27T20:00:00Z        0             16          0   \n",
       "12139  2023-01-14T12:30:00Z       90             14          0   \n",
       "12591  2023-01-15T16:30:00Z        0             18          0   \n",
       "625    2022-08-14T13:00:00Z        5             16          0   \n",
       "\n",
       "       penalties_missed  penalties_saved  red_cards  round  saves  selected  \\\n",
       "353                   0                0          0      1      0     64435   \n",
       "9252                  0                0          0     17      0     19798   \n",
       "12139                 0                0          0     20      0    724222   \n",
       "12591                 0                0          0     20      0   3187556   \n",
       "625                   0                0          0      2      0      4719   \n",
       "\n",
       "       starts  team_a_score  team_h_score  threat  total_points  \\\n",
       "353         0             1             0    34.0             2   \n",
       "9252        0             0             3     0.0             0   \n",
       "12139       1             1             2     6.0             2   \n",
       "12591       0             2             0     0.0             0   \n",
       "625         0             0             1     0.0             1   \n",
       "\n",
       "       transfers_balance  transfers_in  transfers_out  value  was_home  \\\n",
       "353                    0             0              0     45      True   \n",
       "9252                -297           960           1257     49      True   \n",
       "12139              -2078         34800          36878     68     False   \n",
       "12591            -200638           969         201607     79     False   \n",
       "625                 3130          3968            838     60     False   \n",
       "\n",
       "       yellow_cards    GW  \n",
       "353               0   1.0  \n",
       "9252              0  17.0  \n",
       "12139             0  20.0  \n",
       "12591             0  20.0  \n",
       "625               0   2.0  "
      ]
     },
     "execution_count": 3,
     "metadata": {},
     "output_type": "execute_result"
    }
   ],
   "source": [
    "# sample of data and option to show all columns\n",
    "pd.set_option('display.max_columns', None)\n",
    "df.sample(5)"
   ]
  },
  {
   "cell_type": "code",
   "execution_count": 4,
   "id": "ecc44233",
   "metadata": {},
   "outputs": [
    {
     "data": {
      "text/plain": [
       "name                            0\n",
       "position                        0\n",
       "team                            0\n",
       "xP                              0\n",
       "assists                         0\n",
       "bonus                           0\n",
       "bps                             0\n",
       "clean_sheets                    0\n",
       "creativity                      0\n",
       "element                         0\n",
       "expected_assists                0\n",
       "expected_goal_involvements      0\n",
       "expected_goals                  0\n",
       "expected_goals_conceded         0\n",
       "fixture                         0\n",
       "goals_conceded                  0\n",
       "goals_scored                    0\n",
       "ict_index                       0\n",
       "influence                       0\n",
       "kickoff_time                    0\n",
       "minutes                         0\n",
       "opponent_team                   0\n",
       "own_goals                       0\n",
       "penalties_missed                0\n",
       "penalties_saved                 0\n",
       "red_cards                       0\n",
       "round                           0\n",
       "saves                           0\n",
       "selected                        0\n",
       "starts                          0\n",
       "team_a_score                    0\n",
       "team_h_score                    0\n",
       "threat                          0\n",
       "total_points                    0\n",
       "transfers_balance               0\n",
       "transfers_in                    0\n",
       "transfers_out                   0\n",
       "value                           0\n",
       "was_home                        0\n",
       "yellow_cards                    0\n",
       "GW                            678\n",
       "dtype: int64"
      ]
     },
     "execution_count": 4,
     "metadata": {},
     "output_type": "execute_result"
    }
   ],
   "source": [
    "# Checking for any null values\n",
    "df.isna().sum()"
   ]
  },
  {
   "cell_type": "code",
   "execution_count": 5,
   "id": "1ae66438",
   "metadata": {},
   "outputs": [
    {
     "data": {
      "text/plain": [
       "array(['2022-12-31T15:00:00Z', '2023-01-01T16:30:00Z',\n",
       "       '2022-12-30T20:00:00Z', '2022-12-31T12:30:00Z',\n",
       "       '2022-12-30T19:45:00Z', '2023-01-01T14:00:00Z',\n",
       "       '2022-12-31T17:30:00Z'], dtype=object)"
      ]
     },
     "execution_count": 5,
     "metadata": {},
     "output_type": "execute_result"
    }
   ],
   "source": [
    "# Checking which gameweek data is missing based off kickoff times and cross referencing it with PL website\n",
    "df.loc[df['GW'].isna() == True, 'kickoff_time'].unique()"
   ]
  },
  {
   "cell_type": "markdown",
   "id": "6487f049",
   "metadata": {},
   "source": [
    "All of the missing columns contain data from Gameweek 18 since kickoff times are from the date range of 2022-12-30 to 2023-01-01."
   ]
  },
  {
   "cell_type": "code",
   "execution_count": 6,
   "id": "47ef0922",
   "metadata": {},
   "outputs": [
    {
     "data": {
      "text/plain": [
       "name                          0\n",
       "position                      0\n",
       "team                          0\n",
       "xP                            0\n",
       "assists                       0\n",
       "bonus                         0\n",
       "bps                           0\n",
       "clean_sheets                  0\n",
       "creativity                    0\n",
       "element                       0\n",
       "expected_assists              0\n",
       "expected_goal_involvements    0\n",
       "expected_goals                0\n",
       "expected_goals_conceded       0\n",
       "fixture                       0\n",
       "goals_conceded                0\n",
       "goals_scored                  0\n",
       "ict_index                     0\n",
       "influence                     0\n",
       "kickoff_time                  0\n",
       "minutes                       0\n",
       "opponent_team                 0\n",
       "own_goals                     0\n",
       "penalties_missed              0\n",
       "penalties_saved               0\n",
       "red_cards                     0\n",
       "round                         0\n",
       "saves                         0\n",
       "selected                      0\n",
       "starts                        0\n",
       "team_a_score                  0\n",
       "team_h_score                  0\n",
       "threat                        0\n",
       "total_points                  0\n",
       "transfers_balance             0\n",
       "transfers_in                  0\n",
       "transfers_out                 0\n",
       "value                         0\n",
       "was_home                      0\n",
       "yellow_cards                  0\n",
       "GW                            0\n",
       "dtype: int64"
      ]
     },
     "execution_count": 6,
     "metadata": {},
     "output_type": "execute_result"
    }
   ],
   "source": [
    "# filling missing GW as a float\n",
    "df.fillna(18.0, inplace=True)\n",
    "# checking again for any na values\n",
    "df.isna().sum()"
   ]
  },
  {
   "cell_type": "code",
   "execution_count": 7,
   "id": "416ec665",
   "metadata": {},
   "outputs": [
    {
     "data": {
      "text/html": [
       "<div>\n",
       "<style scoped>\n",
       "    .dataframe tbody tr th:only-of-type {\n",
       "        vertical-align: middle;\n",
       "    }\n",
       "\n",
       "    .dataframe tbody tr th {\n",
       "        vertical-align: top;\n",
       "    }\n",
       "\n",
       "    .dataframe thead th {\n",
       "        text-align: right;\n",
       "    }\n",
       "</style>\n",
       "<table border=\"1\" class=\"dataframe\">\n",
       "  <thead>\n",
       "    <tr style=\"text-align: right;\">\n",
       "      <th></th>\n",
       "      <th>name</th>\n",
       "      <th>position</th>\n",
       "      <th>team</th>\n",
       "      <th>xP</th>\n",
       "      <th>assists</th>\n",
       "      <th>bonus</th>\n",
       "      <th>bps</th>\n",
       "      <th>clean_sheets</th>\n",
       "      <th>creativity</th>\n",
       "      <th>element</th>\n",
       "      <th>expected_assists</th>\n",
       "      <th>expected_goal_involvements</th>\n",
       "      <th>expected_goals</th>\n",
       "      <th>expected_goals_conceded</th>\n",
       "      <th>fixture</th>\n",
       "      <th>goals_conceded</th>\n",
       "      <th>goals_scored</th>\n",
       "      <th>ict_index</th>\n",
       "      <th>influence</th>\n",
       "      <th>kickoff_time</th>\n",
       "      <th>minutes</th>\n",
       "      <th>opponent_team</th>\n",
       "      <th>own_goals</th>\n",
       "      <th>penalties_missed</th>\n",
       "      <th>penalties_saved</th>\n",
       "      <th>red_cards</th>\n",
       "      <th>round</th>\n",
       "      <th>saves</th>\n",
       "      <th>selected</th>\n",
       "      <th>starts</th>\n",
       "      <th>team_a_score</th>\n",
       "      <th>team_h_score</th>\n",
       "      <th>threat</th>\n",
       "      <th>total_points</th>\n",
       "      <th>transfers_balance</th>\n",
       "      <th>transfers_in</th>\n",
       "      <th>transfers_out</th>\n",
       "      <th>value</th>\n",
       "      <th>was_home</th>\n",
       "      <th>yellow_cards</th>\n",
       "      <th>GW</th>\n",
       "    </tr>\n",
       "  </thead>\n",
       "  <tbody>\n",
       "    <tr>\n",
       "      <th>9833</th>\n",
       "      <td>Nathan Redmond</td>\n",
       "      <td>MID</td>\n",
       "      <td>Southampton</td>\n",
       "      <td>0.0</td>\n",
       "      <td>0</td>\n",
       "      <td>0</td>\n",
       "      <td>0</td>\n",
       "      <td>0</td>\n",
       "      <td>0.0</td>\n",
       "      <td>403</td>\n",
       "      <td>0.00000</td>\n",
       "      <td>0.00000</td>\n",
       "      <td>0.0000</td>\n",
       "      <td>0.0000</td>\n",
       "      <td>173</td>\n",
       "      <td>0</td>\n",
       "      <td>0</td>\n",
       "      <td>0.0</td>\n",
       "      <td>0.0</td>\n",
       "      <td>2022-12-31T15:00:00Z</td>\n",
       "      <td>0</td>\n",
       "      <td>9</td>\n",
       "      <td>0</td>\n",
       "      <td>0</td>\n",
       "      <td>0</td>\n",
       "      <td>0</td>\n",
       "      <td>18</td>\n",
       "      <td>0</td>\n",
       "      <td>2958</td>\n",
       "      <td>0</td>\n",
       "      <td>1</td>\n",
       "      <td>2</td>\n",
       "      <td>0.0</td>\n",
       "      <td>0</td>\n",
       "      <td>-28</td>\n",
       "      <td>0</td>\n",
       "      <td>28</td>\n",
       "      <td>53</td>\n",
       "      <td>False</td>\n",
       "      <td>0</td>\n",
       "      <td>18.0</td>\n",
       "    </tr>\n",
       "    <tr>\n",
       "      <th>9834</th>\n",
       "      <td>Junior Stanislas</td>\n",
       "      <td>MID</td>\n",
       "      <td>Bournemouth</td>\n",
       "      <td>0.0</td>\n",
       "      <td>0</td>\n",
       "      <td>0</td>\n",
       "      <td>0</td>\n",
       "      <td>0</td>\n",
       "      <td>0.0</td>\n",
       "      <td>58</td>\n",
       "      <td>0.00000</td>\n",
       "      <td>0.00000</td>\n",
       "      <td>0.0000</td>\n",
       "      <td>0.0000</td>\n",
       "      <td>171</td>\n",
       "      <td>0</td>\n",
       "      <td>0</td>\n",
       "      <td>0.0</td>\n",
       "      <td>0.0</td>\n",
       "      <td>2022-12-31T15:00:00Z</td>\n",
       "      <td>0</td>\n",
       "      <td>7</td>\n",
       "      <td>0</td>\n",
       "      <td>0</td>\n",
       "      <td>0</td>\n",
       "      <td>0</td>\n",
       "      <td>18</td>\n",
       "      <td>0</td>\n",
       "      <td>2454</td>\n",
       "      <td>0</td>\n",
       "      <td>2</td>\n",
       "      <td>0</td>\n",
       "      <td>0.0</td>\n",
       "      <td>0</td>\n",
       "      <td>-37</td>\n",
       "      <td>16</td>\n",
       "      <td>53</td>\n",
       "      <td>48</td>\n",
       "      <td>True</td>\n",
       "      <td>0</td>\n",
       "      <td>18.0</td>\n",
       "    </tr>\n",
       "    <tr>\n",
       "      <th>9835</th>\n",
       "      <td>Armando Broja</td>\n",
       "      <td>FWD</td>\n",
       "      <td>Chelsea</td>\n",
       "      <td>0.0</td>\n",
       "      <td>0</td>\n",
       "      <td>0</td>\n",
       "      <td>0</td>\n",
       "      <td>0</td>\n",
       "      <td>0.0</td>\n",
       "      <td>150</td>\n",
       "      <td>0.00000</td>\n",
       "      <td>0.00000</td>\n",
       "      <td>0.0000</td>\n",
       "      <td>0.0000</td>\n",
       "      <td>177</td>\n",
       "      <td>0</td>\n",
       "      <td>0</td>\n",
       "      <td>0.0</td>\n",
       "      <td>0.0</td>\n",
       "      <td>2023-01-01T16:30:00Z</td>\n",
       "      <td>0</td>\n",
       "      <td>16</td>\n",
       "      <td>0</td>\n",
       "      <td>0</td>\n",
       "      <td>0</td>\n",
       "      <td>0</td>\n",
       "      <td>18</td>\n",
       "      <td>0</td>\n",
       "      <td>48382</td>\n",
       "      <td>0</td>\n",
       "      <td>1</td>\n",
       "      <td>1</td>\n",
       "      <td>0.0</td>\n",
       "      <td>0</td>\n",
       "      <td>-4881</td>\n",
       "      <td>100</td>\n",
       "      <td>4981</td>\n",
       "      <td>53</td>\n",
       "      <td>False</td>\n",
       "      <td>0</td>\n",
       "      <td>18.0</td>\n",
       "    </tr>\n",
       "    <tr>\n",
       "      <th>9836</th>\n",
       "      <td>Fabian Schär</td>\n",
       "      <td>DEF</td>\n",
       "      <td>Newcastle</td>\n",
       "      <td>6.0</td>\n",
       "      <td>0</td>\n",
       "      <td>0</td>\n",
       "      <td>17</td>\n",
       "      <td>1</td>\n",
       "      <td>4.2</td>\n",
       "      <td>366</td>\n",
       "      <td>0.19894</td>\n",
       "      <td>0.52454</td>\n",
       "      <td>0.3256</td>\n",
       "      <td>0.4746</td>\n",
       "      <td>176</td>\n",
       "      <td>0</td>\n",
       "      <td>0</td>\n",
       "      <td>4.1</td>\n",
       "      <td>7.6</td>\n",
       "      <td>2022-12-31T15:00:00Z</td>\n",
       "      <td>90</td>\n",
       "      <td>11</td>\n",
       "      <td>0</td>\n",
       "      <td>0</td>\n",
       "      <td>0</td>\n",
       "      <td>0</td>\n",
       "      <td>18</td>\n",
       "      <td>0</td>\n",
       "      <td>1283324</td>\n",
       "      <td>1</td>\n",
       "      <td>0</td>\n",
       "      <td>0</td>\n",
       "      <td>29.0</td>\n",
       "      <td>6</td>\n",
       "      <td>57864</td>\n",
       "      <td>85844</td>\n",
       "      <td>27980</td>\n",
       "      <td>49</td>\n",
       "      <td>True</td>\n",
       "      <td>0</td>\n",
       "      <td>18.0</td>\n",
       "    </tr>\n",
       "    <tr>\n",
       "      <th>9837</th>\n",
       "      <td>Jonny Evans</td>\n",
       "      <td>DEF</td>\n",
       "      <td>Leicester</td>\n",
       "      <td>0.0</td>\n",
       "      <td>0</td>\n",
       "      <td>0</td>\n",
       "      <td>0</td>\n",
       "      <td>0</td>\n",
       "      <td>0.0</td>\n",
       "      <td>249</td>\n",
       "      <td>0.00000</td>\n",
       "      <td>0.00000</td>\n",
       "      <td>0.0000</td>\n",
       "      <td>0.0000</td>\n",
       "      <td>174</td>\n",
       "      <td>0</td>\n",
       "      <td>0</td>\n",
       "      <td>0.0</td>\n",
       "      <td>0.0</td>\n",
       "      <td>2022-12-30T20:00:00Z</td>\n",
       "      <td>0</td>\n",
       "      <td>12</td>\n",
       "      <td>0</td>\n",
       "      <td>0</td>\n",
       "      <td>0</td>\n",
       "      <td>0</td>\n",
       "      <td>18</td>\n",
       "      <td>0</td>\n",
       "      <td>19096</td>\n",
       "      <td>0</td>\n",
       "      <td>1</td>\n",
       "      <td>2</td>\n",
       "      <td>0.0</td>\n",
       "      <td>0</td>\n",
       "      <td>-550</td>\n",
       "      <td>38</td>\n",
       "      <td>588</td>\n",
       "      <td>44</td>\n",
       "      <td>False</td>\n",
       "      <td>0</td>\n",
       "      <td>18.0</td>\n",
       "    </tr>\n",
       "    <tr>\n",
       "      <th>...</th>\n",
       "      <td>...</td>\n",
       "      <td>...</td>\n",
       "      <td>...</td>\n",
       "      <td>...</td>\n",
       "      <td>...</td>\n",
       "      <td>...</td>\n",
       "      <td>...</td>\n",
       "      <td>...</td>\n",
       "      <td>...</td>\n",
       "      <td>...</td>\n",
       "      <td>...</td>\n",
       "      <td>...</td>\n",
       "      <td>...</td>\n",
       "      <td>...</td>\n",
       "      <td>...</td>\n",
       "      <td>...</td>\n",
       "      <td>...</td>\n",
       "      <td>...</td>\n",
       "      <td>...</td>\n",
       "      <td>...</td>\n",
       "      <td>...</td>\n",
       "      <td>...</td>\n",
       "      <td>...</td>\n",
       "      <td>...</td>\n",
       "      <td>...</td>\n",
       "      <td>...</td>\n",
       "      <td>...</td>\n",
       "      <td>...</td>\n",
       "      <td>...</td>\n",
       "      <td>...</td>\n",
       "      <td>...</td>\n",
       "      <td>...</td>\n",
       "      <td>...</td>\n",
       "      <td>...</td>\n",
       "      <td>...</td>\n",
       "      <td>...</td>\n",
       "      <td>...</td>\n",
       "      <td>...</td>\n",
       "      <td>...</td>\n",
       "      <td>...</td>\n",
       "      <td>...</td>\n",
       "    </tr>\n",
       "    <tr>\n",
       "      <th>11184</th>\n",
       "      <td>Oliver Skipp</td>\n",
       "      <td>MID</td>\n",
       "      <td>Spurs</td>\n",
       "      <td>1.0</td>\n",
       "      <td>0</td>\n",
       "      <td>0</td>\n",
       "      <td>3</td>\n",
       "      <td>0</td>\n",
       "      <td>0.4</td>\n",
       "      <td>441</td>\n",
       "      <td>0.00215</td>\n",
       "      <td>0.00215</td>\n",
       "      <td>0.0000</td>\n",
       "      <td>0.1844</td>\n",
       "      <td>178</td>\n",
       "      <td>0</td>\n",
       "      <td>0</td>\n",
       "      <td>0.0</td>\n",
       "      <td>0.0</td>\n",
       "      <td>2023-01-01T14:00:00Z</td>\n",
       "      <td>2</td>\n",
       "      <td>2</td>\n",
       "      <td>0</td>\n",
       "      <td>0</td>\n",
       "      <td>0</td>\n",
       "      <td>0</td>\n",
       "      <td>18</td>\n",
       "      <td>0</td>\n",
       "      <td>11418</td>\n",
       "      <td>0</td>\n",
       "      <td>2</td>\n",
       "      <td>0</td>\n",
       "      <td>0.0</td>\n",
       "      <td>1</td>\n",
       "      <td>-83</td>\n",
       "      <td>297</td>\n",
       "      <td>380</td>\n",
       "      <td>43</td>\n",
       "      <td>True</td>\n",
       "      <td>0</td>\n",
       "      <td>18.0</td>\n",
       "    </tr>\n",
       "    <tr>\n",
       "      <th>11185</th>\n",
       "      <td>Ryan Sessegnon</td>\n",
       "      <td>DEF</td>\n",
       "      <td>Spurs</td>\n",
       "      <td>1.0</td>\n",
       "      <td>0</td>\n",
       "      <td>0</td>\n",
       "      <td>2</td>\n",
       "      <td>0</td>\n",
       "      <td>0.4</td>\n",
       "      <td>436</td>\n",
       "      <td>0.00084</td>\n",
       "      <td>0.00084</td>\n",
       "      <td>0.0000</td>\n",
       "      <td>0.7473</td>\n",
       "      <td>178</td>\n",
       "      <td>1</td>\n",
       "      <td>0</td>\n",
       "      <td>0.1</td>\n",
       "      <td>1.0</td>\n",
       "      <td>2023-01-01T14:00:00Z</td>\n",
       "      <td>27</td>\n",
       "      <td>2</td>\n",
       "      <td>0</td>\n",
       "      <td>0</td>\n",
       "      <td>0</td>\n",
       "      <td>0</td>\n",
       "      <td>18</td>\n",
       "      <td>0</td>\n",
       "      <td>86632</td>\n",
       "      <td>0</td>\n",
       "      <td>2</td>\n",
       "      <td>0</td>\n",
       "      <td>0.0</td>\n",
       "      <td>1</td>\n",
       "      <td>-3248</td>\n",
       "      <td>675</td>\n",
       "      <td>3923</td>\n",
       "      <td>45</td>\n",
       "      <td>True</td>\n",
       "      <td>0</td>\n",
       "      <td>18.0</td>\n",
       "    </tr>\n",
       "    <tr>\n",
       "      <th>11186</th>\n",
       "      <td>Ashley Young</td>\n",
       "      <td>DEF</td>\n",
       "      <td>Aston Villa</td>\n",
       "      <td>3.5</td>\n",
       "      <td>0</td>\n",
       "      <td>1</td>\n",
       "      <td>24</td>\n",
       "      <td>1</td>\n",
       "      <td>0.9</td>\n",
       "      <td>538</td>\n",
       "      <td>0.00623</td>\n",
       "      <td>0.01783</td>\n",
       "      <td>0.0116</td>\n",
       "      <td>0.4230</td>\n",
       "      <td>178</td>\n",
       "      <td>0</td>\n",
       "      <td>0</td>\n",
       "      <td>2.8</td>\n",
       "      <td>19.0</td>\n",
       "      <td>2023-01-01T14:00:00Z</td>\n",
       "      <td>90</td>\n",
       "      <td>18</td>\n",
       "      <td>0</td>\n",
       "      <td>0</td>\n",
       "      <td>0</td>\n",
       "      <td>0</td>\n",
       "      <td>18</td>\n",
       "      <td>0</td>\n",
       "      <td>79045</td>\n",
       "      <td>1</td>\n",
       "      <td>2</td>\n",
       "      <td>0</td>\n",
       "      <td>8.0</td>\n",
       "      <td>7</td>\n",
       "      <td>-2888</td>\n",
       "      <td>1295</td>\n",
       "      <td>4183</td>\n",
       "      <td>44</td>\n",
       "      <td>False</td>\n",
       "      <td>0</td>\n",
       "      <td>18.0</td>\n",
       "    </tr>\n",
       "    <tr>\n",
       "      <th>11187</th>\n",
       "      <td>Jeremy Sarmiento Morante</td>\n",
       "      <td>MID</td>\n",
       "      <td>Brighton</td>\n",
       "      <td>0.0</td>\n",
       "      <td>0</td>\n",
       "      <td>0</td>\n",
       "      <td>-4</td>\n",
       "      <td>0</td>\n",
       "      <td>4.5</td>\n",
       "      <td>119</td>\n",
       "      <td>0.01185</td>\n",
       "      <td>0.12255</td>\n",
       "      <td>0.1107</td>\n",
       "      <td>0.3747</td>\n",
       "      <td>172</td>\n",
       "      <td>1</td>\n",
       "      <td>0</td>\n",
       "      <td>1.2</td>\n",
       "      <td>0.0</td>\n",
       "      <td>2022-12-31T17:30:00Z</td>\n",
       "      <td>29</td>\n",
       "      <td>1</td>\n",
       "      <td>0</td>\n",
       "      <td>0</td>\n",
       "      <td>0</td>\n",
       "      <td>0</td>\n",
       "      <td>18</td>\n",
       "      <td>0</td>\n",
       "      <td>4866</td>\n",
       "      <td>0</td>\n",
       "      <td>4</td>\n",
       "      <td>2</td>\n",
       "      <td>9.0</td>\n",
       "      <td>0</td>\n",
       "      <td>-17</td>\n",
       "      <td>91</td>\n",
       "      <td>108</td>\n",
       "      <td>45</td>\n",
       "      <td>True</td>\n",
       "      <td>1</td>\n",
       "      <td>18.0</td>\n",
       "    </tr>\n",
       "    <tr>\n",
       "      <th>11188</th>\n",
       "      <td>Philip Billing</td>\n",
       "      <td>MID</td>\n",
       "      <td>Bournemouth</td>\n",
       "      <td>1.5</td>\n",
       "      <td>0</td>\n",
       "      <td>0</td>\n",
       "      <td>2</td>\n",
       "      <td>0</td>\n",
       "      <td>0.5</td>\n",
       "      <td>70</td>\n",
       "      <td>0.00157</td>\n",
       "      <td>0.00157</td>\n",
       "      <td>0.0000</td>\n",
       "      <td>0.7880</td>\n",
       "      <td>171</td>\n",
       "      <td>2</td>\n",
       "      <td>0</td>\n",
       "      <td>0.1</td>\n",
       "      <td>0.0</td>\n",
       "      <td>2022-12-31T15:00:00Z</td>\n",
       "      <td>37</td>\n",
       "      <td>7</td>\n",
       "      <td>0</td>\n",
       "      <td>0</td>\n",
       "      <td>0</td>\n",
       "      <td>0</td>\n",
       "      <td>18</td>\n",
       "      <td>0</td>\n",
       "      <td>82456</td>\n",
       "      <td>1</td>\n",
       "      <td>2</td>\n",
       "      <td>0</td>\n",
       "      <td>2.0</td>\n",
       "      <td>1</td>\n",
       "      <td>-1391</td>\n",
       "      <td>7126</td>\n",
       "      <td>8517</td>\n",
       "      <td>53</td>\n",
       "      <td>True</td>\n",
       "      <td>0</td>\n",
       "      <td>18.0</td>\n",
       "    </tr>\n",
       "  </tbody>\n",
       "</table>\n",
       "<p>1356 rows × 41 columns</p>\n",
       "</div>"
      ],
      "text/plain": [
       "                           name position         team   xP  assists  bonus  \\\n",
       "9833             Nathan Redmond      MID  Southampton  0.0        0      0   \n",
       "9834           Junior Stanislas      MID  Bournemouth  0.0        0      0   \n",
       "9835              Armando Broja      FWD      Chelsea  0.0        0      0   \n",
       "9836               Fabian Schär      DEF    Newcastle  6.0        0      0   \n",
       "9837                Jonny Evans      DEF    Leicester  0.0        0      0   \n",
       "...                         ...      ...          ...  ...      ...    ...   \n",
       "11184              Oliver Skipp      MID        Spurs  1.0        0      0   \n",
       "11185            Ryan Sessegnon      DEF        Spurs  1.0        0      0   \n",
       "11186              Ashley Young      DEF  Aston Villa  3.5        0      1   \n",
       "11187  Jeremy Sarmiento Morante      MID     Brighton  0.0        0      0   \n",
       "11188            Philip Billing      MID  Bournemouth  1.5        0      0   \n",
       "\n",
       "       bps  clean_sheets  creativity  element  expected_assists  \\\n",
       "9833     0             0         0.0      403           0.00000   \n",
       "9834     0             0         0.0       58           0.00000   \n",
       "9835     0             0         0.0      150           0.00000   \n",
       "9836    17             1         4.2      366           0.19894   \n",
       "9837     0             0         0.0      249           0.00000   \n",
       "...    ...           ...         ...      ...               ...   \n",
       "11184    3             0         0.4      441           0.00215   \n",
       "11185    2             0         0.4      436           0.00084   \n",
       "11186   24             1         0.9      538           0.00623   \n",
       "11187   -4             0         4.5      119           0.01185   \n",
       "11188    2             0         0.5       70           0.00157   \n",
       "\n",
       "       expected_goal_involvements  expected_goals  expected_goals_conceded  \\\n",
       "9833                      0.00000          0.0000                   0.0000   \n",
       "9834                      0.00000          0.0000                   0.0000   \n",
       "9835                      0.00000          0.0000                   0.0000   \n",
       "9836                      0.52454          0.3256                   0.4746   \n",
       "9837                      0.00000          0.0000                   0.0000   \n",
       "...                           ...             ...                      ...   \n",
       "11184                     0.00215          0.0000                   0.1844   \n",
       "11185                     0.00084          0.0000                   0.7473   \n",
       "11186                     0.01783          0.0116                   0.4230   \n",
       "11187                     0.12255          0.1107                   0.3747   \n",
       "11188                     0.00157          0.0000                   0.7880   \n",
       "\n",
       "       fixture  goals_conceded  goals_scored  ict_index  influence  \\\n",
       "9833       173               0             0        0.0        0.0   \n",
       "9834       171               0             0        0.0        0.0   \n",
       "9835       177               0             0        0.0        0.0   \n",
       "9836       176               0             0        4.1        7.6   \n",
       "9837       174               0             0        0.0        0.0   \n",
       "...        ...             ...           ...        ...        ...   \n",
       "11184      178               0             0        0.0        0.0   \n",
       "11185      178               1             0        0.1        1.0   \n",
       "11186      178               0             0        2.8       19.0   \n",
       "11187      172               1             0        1.2        0.0   \n",
       "11188      171               2             0        0.1        0.0   \n",
       "\n",
       "               kickoff_time  minutes  opponent_team  own_goals  \\\n",
       "9833   2022-12-31T15:00:00Z        0              9          0   \n",
       "9834   2022-12-31T15:00:00Z        0              7          0   \n",
       "9835   2023-01-01T16:30:00Z        0             16          0   \n",
       "9836   2022-12-31T15:00:00Z       90             11          0   \n",
       "9837   2022-12-30T20:00:00Z        0             12          0   \n",
       "...                     ...      ...            ...        ...   \n",
       "11184  2023-01-01T14:00:00Z        2              2          0   \n",
       "11185  2023-01-01T14:00:00Z       27              2          0   \n",
       "11186  2023-01-01T14:00:00Z       90             18          0   \n",
       "11187  2022-12-31T17:30:00Z       29              1          0   \n",
       "11188  2022-12-31T15:00:00Z       37              7          0   \n",
       "\n",
       "       penalties_missed  penalties_saved  red_cards  round  saves  selected  \\\n",
       "9833                  0                0          0     18      0      2958   \n",
       "9834                  0                0          0     18      0      2454   \n",
       "9835                  0                0          0     18      0     48382   \n",
       "9836                  0                0          0     18      0   1283324   \n",
       "9837                  0                0          0     18      0     19096   \n",
       "...                 ...              ...        ...    ...    ...       ...   \n",
       "11184                 0                0          0     18      0     11418   \n",
       "11185                 0                0          0     18      0     86632   \n",
       "11186                 0                0          0     18      0     79045   \n",
       "11187                 0                0          0     18      0      4866   \n",
       "11188                 0                0          0     18      0     82456   \n",
       "\n",
       "       starts  team_a_score  team_h_score  threat  total_points  \\\n",
       "9833        0             1             2     0.0             0   \n",
       "9834        0             2             0     0.0             0   \n",
       "9835        0             1             1     0.0             0   \n",
       "9836        1             0             0    29.0             6   \n",
       "9837        0             1             2     0.0             0   \n",
       "...       ...           ...           ...     ...           ...   \n",
       "11184       0             2             0     0.0             1   \n",
       "11185       0             2             0     0.0             1   \n",
       "11186       1             2             0     8.0             7   \n",
       "11187       0             4             2     9.0             0   \n",
       "11188       1             2             0     2.0             1   \n",
       "\n",
       "       transfers_balance  transfers_in  transfers_out  value  was_home  \\\n",
       "9833                 -28             0             28     53     False   \n",
       "9834                 -37            16             53     48      True   \n",
       "9835               -4881           100           4981     53     False   \n",
       "9836               57864         85844          27980     49      True   \n",
       "9837                -550            38            588     44     False   \n",
       "...                  ...           ...            ...    ...       ...   \n",
       "11184                -83           297            380     43      True   \n",
       "11185              -3248           675           3923     45      True   \n",
       "11186              -2888          1295           4183     44     False   \n",
       "11187                -17            91            108     45      True   \n",
       "11188              -1391          7126           8517     53      True   \n",
       "\n",
       "       yellow_cards    GW  \n",
       "9833              0  18.0  \n",
       "9834              0  18.0  \n",
       "9835              0  18.0  \n",
       "9836              0  18.0  \n",
       "9837              0  18.0  \n",
       "...             ...   ...  \n",
       "11184             0  18.0  \n",
       "11185             0  18.0  \n",
       "11186             0  18.0  \n",
       "11187             1  18.0  \n",
       "11188             0  18.0  \n",
       "\n",
       "[1356 rows x 41 columns]"
      ]
     },
     "execution_count": 7,
     "metadata": {},
     "output_type": "execute_result"
    }
   ],
   "source": [
    "df.loc[df['GW']==18.0]"
   ]
  },
  {
   "cell_type": "code",
   "execution_count": 8,
   "id": "9103713e",
   "metadata": {},
   "outputs": [
    {
     "name": "stdout",
     "output_type": "stream",
     "text": [
      "<class 'pandas.core.frame.DataFrame'>\n",
      "RangeIndex: 15866 entries, 0 to 15865\n",
      "Data columns (total 11 columns):\n",
      " #   Column        Non-Null Count  Dtype  \n",
      "---  ------        --------------  -----  \n",
      " 0   name          15866 non-null  object \n",
      " 1   position      15866 non-null  object \n",
      " 2   team          15866 non-null  object \n",
      " 3   GW            15866 non-null  float64\n",
      " 4   xP            15866 non-null  float64\n",
      " 5   influence     15866 non-null  float64\n",
      " 6   creativity    15866 non-null  float64\n",
      " 7   threat        15866 non-null  float64\n",
      " 8   ict_index     15866 non-null  float64\n",
      " 9   total_points  15866 non-null  int64  \n",
      " 10  value         15866 non-null  int64  \n",
      "dtypes: float64(6), int64(2), object(3)\n",
      "memory usage: 1.3+ MB\n"
     ]
    }
   ],
   "source": [
    "# Selecting for specific columns\n",
    "selected = df[['name', 'position', 'team', 'GW', 'xP', 'influence', 'creativity', 'threat', 'ict_index', 'total_points', 'value']]\n",
    "# Checking datatypes in selection\n",
    "selected.info()"
   ]
  },
  {
   "cell_type": "code",
   "execution_count": 9,
   "id": "f55dcc54",
   "metadata": {},
   "outputs": [
    {
     "data": {
      "text/html": [
       "<div>\n",
       "<style scoped>\n",
       "    .dataframe tbody tr th:only-of-type {\n",
       "        vertical-align: middle;\n",
       "    }\n",
       "\n",
       "    .dataframe tbody tr th {\n",
       "        vertical-align: top;\n",
       "    }\n",
       "\n",
       "    .dataframe thead th {\n",
       "        text-align: right;\n",
       "    }\n",
       "</style>\n",
       "<table border=\"1\" class=\"dataframe\">\n",
       "  <thead>\n",
       "    <tr style=\"text-align: right;\">\n",
       "      <th></th>\n",
       "      <th>name</th>\n",
       "      <th>position</th>\n",
       "      <th>team</th>\n",
       "      <th>GW</th>\n",
       "      <th>xP</th>\n",
       "      <th>influence</th>\n",
       "      <th>creativity</th>\n",
       "      <th>threat</th>\n",
       "      <th>ict_index</th>\n",
       "      <th>total_points</th>\n",
       "      <th>value</th>\n",
       "    </tr>\n",
       "  </thead>\n",
       "  <tbody>\n",
       "    <tr>\n",
       "      <th>0</th>\n",
       "      <td>Nathan Redmond</td>\n",
       "      <td>MID</td>\n",
       "      <td>Southampton</td>\n",
       "      <td>1.0</td>\n",
       "      <td>1.5</td>\n",
       "      <td>0.0</td>\n",
       "      <td>0.0</td>\n",
       "      <td>0.0</td>\n",
       "      <td>0.0</td>\n",
       "      <td>1</td>\n",
       "      <td>55</td>\n",
       "    </tr>\n",
       "    <tr>\n",
       "      <th>1</th>\n",
       "      <td>Junior Stanislas</td>\n",
       "      <td>MID</td>\n",
       "      <td>Bournemouth</td>\n",
       "      <td>1.0</td>\n",
       "      <td>1.1</td>\n",
       "      <td>0.0</td>\n",
       "      <td>0.0</td>\n",
       "      <td>0.0</td>\n",
       "      <td>0.0</td>\n",
       "      <td>1</td>\n",
       "      <td>50</td>\n",
       "    </tr>\n",
       "    <tr>\n",
       "      <th>2</th>\n",
       "      <td>Armando Broja</td>\n",
       "      <td>FWD</td>\n",
       "      <td>Chelsea</td>\n",
       "      <td>1.0</td>\n",
       "      <td>2.0</td>\n",
       "      <td>5.2</td>\n",
       "      <td>0.3</td>\n",
       "      <td>19.0</td>\n",
       "      <td>2.5</td>\n",
       "      <td>1</td>\n",
       "      <td>55</td>\n",
       "    </tr>\n",
       "    <tr>\n",
       "      <th>3</th>\n",
       "      <td>Fabian Schär</td>\n",
       "      <td>DEF</td>\n",
       "      <td>Newcastle</td>\n",
       "      <td>1.0</td>\n",
       "      <td>2.4</td>\n",
       "      <td>66.0</td>\n",
       "      <td>14.6</td>\n",
       "      <td>25.0</td>\n",
       "      <td>10.6</td>\n",
       "      <td>15</td>\n",
       "      <td>45</td>\n",
       "    </tr>\n",
       "    <tr>\n",
       "      <th>4</th>\n",
       "      <td>Jonny Evans</td>\n",
       "      <td>DEF</td>\n",
       "      <td>Leicester</td>\n",
       "      <td>1.0</td>\n",
       "      <td>1.9</td>\n",
       "      <td>14.0</td>\n",
       "      <td>1.3</td>\n",
       "      <td>0.0</td>\n",
       "      <td>1.5</td>\n",
       "      <td>1</td>\n",
       "      <td>45</td>\n",
       "    </tr>\n",
       "  </tbody>\n",
       "</table>\n",
       "</div>"
      ],
      "text/plain": [
       "               name position         team   GW   xP  influence  creativity  \\\n",
       "0    Nathan Redmond      MID  Southampton  1.0  1.5        0.0         0.0   \n",
       "1  Junior Stanislas      MID  Bournemouth  1.0  1.1        0.0         0.0   \n",
       "2     Armando Broja      FWD      Chelsea  1.0  2.0        5.2         0.3   \n",
       "3      Fabian Schär      DEF    Newcastle  1.0  2.4       66.0        14.6   \n",
       "4       Jonny Evans      DEF    Leicester  1.0  1.9       14.0         1.3   \n",
       "\n",
       "   threat  ict_index  total_points  value  \n",
       "0     0.0        0.0             1     55  \n",
       "1     0.0        0.0             1     50  \n",
       "2    19.0        2.5             1     55  \n",
       "3    25.0       10.6            15     45  \n",
       "4     0.0        1.5             1     45  "
      ]
     },
     "execution_count": 9,
     "metadata": {},
     "output_type": "execute_result"
    }
   ],
   "source": [
    "selected.head()"
   ]
  },
  {
   "cell_type": "code",
   "execution_count": 10,
   "id": "f0d5856a",
   "metadata": {},
   "outputs": [
    {
     "data": {
      "text/html": [
       "<div>\n",
       "<style scoped>\n",
       "    .dataframe tbody tr th:only-of-type {\n",
       "        vertical-align: middle;\n",
       "    }\n",
       "\n",
       "    .dataframe tbody tr th {\n",
       "        vertical-align: top;\n",
       "    }\n",
       "\n",
       "    .dataframe thead th {\n",
       "        text-align: right;\n",
       "    }\n",
       "</style>\n",
       "<table border=\"1\" class=\"dataframe\">\n",
       "  <thead>\n",
       "    <tr style=\"text-align: right;\">\n",
       "      <th></th>\n",
       "      <th>name</th>\n",
       "      <th>position</th>\n",
       "      <th>total_points</th>\n",
       "    </tr>\n",
       "  </thead>\n",
       "  <tbody>\n",
       "    <tr>\n",
       "      <th>0</th>\n",
       "      <td>Erling Haaland</td>\n",
       "      <td>FWD</td>\n",
       "      <td>189</td>\n",
       "    </tr>\n",
       "    <tr>\n",
       "      <th>1</th>\n",
       "      <td>Harry Kane</td>\n",
       "      <td>FWD</td>\n",
       "      <td>157</td>\n",
       "    </tr>\n",
       "    <tr>\n",
       "      <th>2</th>\n",
       "      <td>Marcus Rashford</td>\n",
       "      <td>MID</td>\n",
       "      <td>156</td>\n",
       "    </tr>\n",
       "    <tr>\n",
       "      <th>3</th>\n",
       "      <td>Kieran Trippier</td>\n",
       "      <td>DEF</td>\n",
       "      <td>154</td>\n",
       "    </tr>\n",
       "    <tr>\n",
       "      <th>4</th>\n",
       "      <td>Martin Ødegaard</td>\n",
       "      <td>MID</td>\n",
       "      <td>144</td>\n",
       "    </tr>\n",
       "    <tr>\n",
       "      <th>...</th>\n",
       "      <td>...</td>\n",
       "      <td>...</td>\n",
       "      <td>...</td>\n",
       "    </tr>\n",
       "    <tr>\n",
       "      <th>740</th>\n",
       "      <td>Omar Richards</td>\n",
       "      <td>DEF</td>\n",
       "      <td>0</td>\n",
       "    </tr>\n",
       "    <tr>\n",
       "      <th>741</th>\n",
       "      <td>James Furlong</td>\n",
       "      <td>DEF</td>\n",
       "      <td>0</td>\n",
       "    </tr>\n",
       "    <tr>\n",
       "      <th>742</th>\n",
       "      <td>Owen Goodman</td>\n",
       "      <td>GK</td>\n",
       "      <td>0</td>\n",
       "    </tr>\n",
       "    <tr>\n",
       "      <th>743</th>\n",
       "      <td>Pablo Marí Villar</td>\n",
       "      <td>DEF</td>\n",
       "      <td>0</td>\n",
       "    </tr>\n",
       "    <tr>\n",
       "      <th>744</th>\n",
       "      <td>Harry Winks</td>\n",
       "      <td>MID</td>\n",
       "      <td>0</td>\n",
       "    </tr>\n",
       "  </tbody>\n",
       "</table>\n",
       "<p>745 rows × 3 columns</p>\n",
       "</div>"
      ],
      "text/plain": [
       "                  name position  total_points\n",
       "0       Erling Haaland      FWD           189\n",
       "1           Harry Kane      FWD           157\n",
       "2      Marcus Rashford      MID           156\n",
       "3      Kieran Trippier      DEF           154\n",
       "4      Martin Ødegaard      MID           144\n",
       "..                 ...      ...           ...\n",
       "740      Omar Richards      DEF             0\n",
       "741      James Furlong      DEF             0\n",
       "742       Owen Goodman       GK             0\n",
       "743  Pablo Marí Villar      DEF             0\n",
       "744        Harry Winks      MID             0\n",
       "\n",
       "[745 rows x 3 columns]"
      ]
     },
     "execution_count": 10,
     "metadata": {},
     "output_type": "execute_result"
    }
   ],
   "source": [
    "agg_points = selected.groupby(['name', 'position'])[['total_points']].sum().sort_values('total_points', ascending=False).reset_index()\n",
    "agg_points"
   ]
  },
  {
   "cell_type": "code",
   "execution_count": 11,
   "id": "405c5b27",
   "metadata": {},
   "outputs": [
    {
     "data": {
      "text/html": [
       "<div>\n",
       "<style scoped>\n",
       "    .dataframe tbody tr th:only-of-type {\n",
       "        vertical-align: middle;\n",
       "    }\n",
       "\n",
       "    .dataframe tbody tr th {\n",
       "        vertical-align: top;\n",
       "    }\n",
       "\n",
       "    .dataframe thead th {\n",
       "        text-align: right;\n",
       "    }\n",
       "</style>\n",
       "<table border=\"1\" class=\"dataframe\">\n",
       "  <thead>\n",
       "    <tr style=\"text-align: right;\">\n",
       "      <th></th>\n",
       "      <th>name</th>\n",
       "      <th>position</th>\n",
       "      <th>value</th>\n",
       "    </tr>\n",
       "  </thead>\n",
       "  <tbody>\n",
       "    <tr>\n",
       "      <th>15120</th>\n",
       "      <td>Nathan Redmond</td>\n",
       "      <td>MID</td>\n",
       "      <td>53</td>\n",
       "    </tr>\n",
       "    <tr>\n",
       "      <th>15121</th>\n",
       "      <td>Junior Stanislas</td>\n",
       "      <td>MID</td>\n",
       "      <td>48</td>\n",
       "    </tr>\n",
       "    <tr>\n",
       "      <th>15122</th>\n",
       "      <td>Armando Broja</td>\n",
       "      <td>FWD</td>\n",
       "      <td>53</td>\n",
       "    </tr>\n",
       "    <tr>\n",
       "      <th>15123</th>\n",
       "      <td>Fabian Schär</td>\n",
       "      <td>DEF</td>\n",
       "      <td>52</td>\n",
       "    </tr>\n",
       "    <tr>\n",
       "      <th>15124</th>\n",
       "      <td>Jeremiah Chilokoa-Mullen</td>\n",
       "      <td>DEF</td>\n",
       "      <td>40</td>\n",
       "    </tr>\n",
       "    <tr>\n",
       "      <th>...</th>\n",
       "      <td>...</td>\n",
       "      <td>...</td>\n",
       "      <td>...</td>\n",
       "    </tr>\n",
       "    <tr>\n",
       "      <th>15861</th>\n",
       "      <td>Oliver Skipp</td>\n",
       "      <td>MID</td>\n",
       "      <td>43</td>\n",
       "    </tr>\n",
       "    <tr>\n",
       "      <th>15862</th>\n",
       "      <td>Ryan Sessegnon</td>\n",
       "      <td>DEF</td>\n",
       "      <td>44</td>\n",
       "    </tr>\n",
       "    <tr>\n",
       "      <th>15863</th>\n",
       "      <td>Ashley Young</td>\n",
       "      <td>DEF</td>\n",
       "      <td>44</td>\n",
       "    </tr>\n",
       "    <tr>\n",
       "      <th>15864</th>\n",
       "      <td>Jeremy Sarmiento Morante</td>\n",
       "      <td>MID</td>\n",
       "      <td>45</td>\n",
       "    </tr>\n",
       "    <tr>\n",
       "      <th>15865</th>\n",
       "      <td>Philip Billing</td>\n",
       "      <td>MID</td>\n",
       "      <td>51</td>\n",
       "    </tr>\n",
       "  </tbody>\n",
       "</table>\n",
       "<p>746 rows × 3 columns</p>\n",
       "</div>"
      ],
      "text/plain": [
       "                           name position  value\n",
       "15120            Nathan Redmond      MID     53\n",
       "15121          Junior Stanislas      MID     48\n",
       "15122             Armando Broja      FWD     53\n",
       "15123              Fabian Schär      DEF     52\n",
       "15124  Jeremiah Chilokoa-Mullen      DEF     40\n",
       "...                         ...      ...    ...\n",
       "15861              Oliver Skipp      MID     43\n",
       "15862            Ryan Sessegnon      DEF     44\n",
       "15863              Ashley Young      DEF     44\n",
       "15864  Jeremy Sarmiento Morante      MID     45\n",
       "15865            Philip Billing      MID     51\n",
       "\n",
       "[746 rows x 3 columns]"
      ]
     },
     "execution_count": 11,
     "metadata": {},
     "output_type": "execute_result"
    }
   ],
   "source": [
    "curr_val =  selected.loc[selected['GW'] == 24.0, ['name', 'position', 'value']]\n",
    "curr_val"
   ]
  },
  {
   "cell_type": "code",
   "execution_count": 12,
   "id": "a21ffe79",
   "metadata": {},
   "outputs": [
    {
     "data": {
      "text/html": [
       "<div>\n",
       "<style scoped>\n",
       "    .dataframe tbody tr th:only-of-type {\n",
       "        vertical-align: middle;\n",
       "    }\n",
       "\n",
       "    .dataframe tbody tr th {\n",
       "        vertical-align: top;\n",
       "    }\n",
       "\n",
       "    .dataframe thead th {\n",
       "        text-align: right;\n",
       "    }\n",
       "</style>\n",
       "<table border=\"1\" class=\"dataframe\">\n",
       "  <thead>\n",
       "    <tr style=\"text-align: right;\">\n",
       "      <th></th>\n",
       "      <th>name</th>\n",
       "      <th>position</th>\n",
       "      <th>total_points</th>\n",
       "      <th>value</th>\n",
       "    </tr>\n",
       "  </thead>\n",
       "  <tbody>\n",
       "    <tr>\n",
       "      <th>0</th>\n",
       "      <td>Erling Haaland</td>\n",
       "      <td>FWD</td>\n",
       "      <td>189</td>\n",
       "      <td>122</td>\n",
       "    </tr>\n",
       "    <tr>\n",
       "      <th>1</th>\n",
       "      <td>Harry Kane</td>\n",
       "      <td>FWD</td>\n",
       "      <td>157</td>\n",
       "      <td>118</td>\n",
       "    </tr>\n",
       "    <tr>\n",
       "      <th>2</th>\n",
       "      <td>Marcus Rashford</td>\n",
       "      <td>MID</td>\n",
       "      <td>156</td>\n",
       "      <td>73</td>\n",
       "    </tr>\n",
       "    <tr>\n",
       "      <th>3</th>\n",
       "      <td>Kieran Trippier</td>\n",
       "      <td>DEF</td>\n",
       "      <td>154</td>\n",
       "      <td>61</td>\n",
       "    </tr>\n",
       "    <tr>\n",
       "      <th>4</th>\n",
       "      <td>Martin Ødegaard</td>\n",
       "      <td>MID</td>\n",
       "      <td>144</td>\n",
       "      <td>70</td>\n",
       "    </tr>\n",
       "    <tr>\n",
       "      <th>...</th>\n",
       "      <td>...</td>\n",
       "      <td>...</td>\n",
       "      <td>...</td>\n",
       "      <td>...</td>\n",
       "    </tr>\n",
       "    <tr>\n",
       "      <th>741</th>\n",
       "      <td>Omar Richards</td>\n",
       "      <td>DEF</td>\n",
       "      <td>0</td>\n",
       "      <td>44</td>\n",
       "    </tr>\n",
       "    <tr>\n",
       "      <th>742</th>\n",
       "      <td>James Furlong</td>\n",
       "      <td>DEF</td>\n",
       "      <td>0</td>\n",
       "      <td>40</td>\n",
       "    </tr>\n",
       "    <tr>\n",
       "      <th>743</th>\n",
       "      <td>Owen Goodman</td>\n",
       "      <td>GK</td>\n",
       "      <td>0</td>\n",
       "      <td>40</td>\n",
       "    </tr>\n",
       "    <tr>\n",
       "      <th>744</th>\n",
       "      <td>Pablo Marí Villar</td>\n",
       "      <td>DEF</td>\n",
       "      <td>0</td>\n",
       "      <td>45</td>\n",
       "    </tr>\n",
       "    <tr>\n",
       "      <th>745</th>\n",
       "      <td>Harry Winks</td>\n",
       "      <td>MID</td>\n",
       "      <td>0</td>\n",
       "      <td>44</td>\n",
       "    </tr>\n",
       "  </tbody>\n",
       "</table>\n",
       "<p>746 rows × 4 columns</p>\n",
       "</div>"
      ],
      "text/plain": [
       "                  name position  total_points  value\n",
       "0       Erling Haaland      FWD           189    122\n",
       "1           Harry Kane      FWD           157    118\n",
       "2      Marcus Rashford      MID           156     73\n",
       "3      Kieran Trippier      DEF           154     61\n",
       "4      Martin Ødegaard      MID           144     70\n",
       "..                 ...      ...           ...    ...\n",
       "741      Omar Richards      DEF             0     44\n",
       "742      James Furlong      DEF             0     40\n",
       "743       Owen Goodman       GK             0     40\n",
       "744  Pablo Marí Villar      DEF             0     45\n",
       "745        Harry Winks      MID             0     44\n",
       "\n",
       "[746 rows x 4 columns]"
      ]
     },
     "execution_count": 12,
     "metadata": {},
     "output_type": "execute_result"
    }
   ],
   "source": [
    "agg_points_val = agg_points.merge(curr_val, on=['name', 'position'])\n",
    "agg_points_val"
   ]
  },
  {
   "cell_type": "code",
   "execution_count": 20,
   "id": "15ea8c30",
   "metadata": {},
   "outputs": [
    {
     "data": {
      "application/vnd.plotly.v1+json": {
       "config": {
        "plotlyServerURL": "https://plot.ly"
       },
       "data": [
        {
         "customdata": [
          [
           "Erling Haaland"
          ],
          [
           "Harry Kane"
          ],
          [
           "Ivan Toney"
          ],
          [
           "Ollie Watkins"
          ],
          [
           "Aleksandar Mitrović"
          ],
          [
           "Bryan Mbeumo"
          ],
          [
           "Che Adams"
          ],
          [
           "Brennan Johnson"
          ],
          [
           "Callum Wilson"
          ],
          [
           "Roberto Firmino"
          ],
          [
           "Dominic Solanke"
          ],
          [
           "Darwin Núñez Ribeiro"
          ],
          [
           "Kai Havertz"
          ],
          [
           "Gabriel Fernando de Jesus"
          ],
          [
           "Danny Ings"
          ],
          [
           "Eddie Nketiah"
          ],
          [
           "Jamie Vardy"
          ],
          [
           "Kieffer Moore"
          ],
          [
           "Taiwo Awoniyi"
          ],
          [
           "Kelechi Iheanacho"
          ],
          [
           "Odsonne Edouard"
          ],
          [
           "Chris Wood"
          ],
          [
           "Michail Antonio"
          ],
          [
           "Patson Daka"
          ],
          [
           "Julián Álvarez"
          ],
          [
           "Danny Welbeck"
          ],
          [
           "Gianluca Scamacca"
          ],
          [
           "Adam Armstrong"
          ],
          [
           "Wilfried Gnonto"
          ],
          [
           "Evan Ferguson"
          ],
          [
           "Patrick Bamford"
          ],
          [
           "Anthony Martial"
          ],
          [
           "Alexander Isak"
          ],
          [
           "Carlos Vinícius Alves Morais"
          ],
          [
           "Neal Maupay"
          ],
          [
           "Richarlison de Andrade"
          ],
          [
           "Dominic Calvert-Lewin"
          ],
          [
           "Sam Greenwood"
          ],
          [
           "Jean-Philippe Mateta"
          ],
          [
           "Pierre-Emerick Aubameyang"
          ],
          [
           "Armando Broja"
          ],
          [
           "Joe Gelhardt"
          ],
          [
           "Sam Surridge"
          ],
          [
           "Emmanuel Dennis"
          ],
          [
           "Cristiano Ronaldo dos Santos Aveiro"
          ],
          [
           "Sékou Mara"
          ],
          [
           "Diego Da Silva Costa"
          ],
          [
           "Wout Weghorst"
          ],
          [
           "Deniz Undav"
          ],
          [
           "Raúl Jiménez"
          ],
          [
           "Diogo Teixeira da Silva"
          ],
          [
           "João Félix Sequeira"
          ],
          [
           "Matheus Santos Carneiro Da Cunha"
          ],
          [
           "Julio Enciso"
          ],
          [
           "Salomón Rondón"
          ],
          [
           "Jay Stansfield"
          ],
          [
           "Cameron Archer"
          ],
          [
           "Ellis Simms"
          ],
          [
           "Paul Onuachu"
          ],
          [
           "Antoine Semenyo"
          ],
          [
           "Halil Dervişoğlu"
          ],
          [
           "Georginio Rutter"
          ],
          [
           "Jhon Durán"
          ],
          [
           "David Datro Fofana"
          ],
          [
           "Thomas Cannon"
          ],
          [
           "Mateo Joseph Fernández"
          ],
          [
           "Divin Mubama"
          ],
          [
           "Sasa Kalajdzic"
          ],
          [
           "Fabio Silva"
          ],
          [
           "Daniel Adu-Adjei"
          ],
          [
           "Sonny Perkins"
          ],
          [
           "Dominic Sadi"
          ],
          [
           "Shola Shoretire"
          ],
          [
           "Dwight Gayle"
          ],
          [
           "Euan Pollock"
          ],
          [
           "Dane Scarlett"
          ],
          [
           "Christian Saydee"
          ],
          [
           "Dale Taylor"
          ],
          [
           "Terry Ablade"
          ],
          [
           "Christian Benteke"
          ],
          [
           "Timo Werner"
          ],
          [
           "Troy Parrott"
          ],
          [
           "Rodrigo Muniz Carvalho"
          ],
          [
           "Keinan Davis"
          ],
          [
           "John-Kymani Gordon"
          ],
          [
           "Luke Plange"
          ],
          [
           "Lyle Taylor"
          ],
          [
           "Liam Delap"
          ],
          [
           "Marcus Forss"
          ],
          [
           "Jimmy Morgan"
          ],
          [
           "Nathan Butler-Oyedeji"
          ],
          [
           "Nathan Fraser"
          ]
         ],
         "hovertemplate": "position=FWD<br>value=%{x}<br>total_points=%{y}<br>name=%{customdata[0]}<extra></extra>",
         "legendgroup": "FWD",
         "marker": {
          "color": "#636efa",
          "symbol": "circle"
         },
         "mode": "markers",
         "name": "FWD",
         "orientation": "v",
         "showlegend": true,
         "type": "scatter",
         "x": [
          122,
          118,
          77,
          71,
          69,
          58,
          62,
          57,
          70,
          80,
          55,
          87,
          77,
          79,
          64,
          68,
          91,
          51,
          56,
          61,
          51,
          56,
          70,
          56,
          60,
          65,
          66,
          54,
          50,
          46,
          72,
          64,
          66,
          54,
          59,
          84,
          79,
          41,
          51,
          84,
          53,
          51,
          47,
          57,
          102,
          53,
          54,
          59,
          51,
          67,
          88,
          76,
          55,
          47,
          49,
          45,
          42,
          45,
          55,
          50,
          45,
          54,
          55,
          50,
          45,
          45,
          45,
          53,
          55,
          45,
          45,
          45,
          45,
          45,
          45,
          45,
          45,
          45,
          45,
          55,
          79,
          45,
          54,
          54,
          45,
          45,
          42,
          44,
          45,
          45,
          45,
          45
         ],
         "xaxis": "x",
         "y": [
          189,
          157,
          134,
          99,
          87,
          83,
          78,
          78,
          71,
          71,
          70,
          70,
          70,
          69,
          62,
          60,
          54,
          53,
          52,
          52,
          51,
          50,
          49,
          49,
          46,
          45,
          43,
          42,
          36,
          36,
          34,
          34,
          31,
          28,
          28,
          27,
          27,
          26,
          25,
          22,
          21,
          21,
          21,
          21,
          20,
          19,
          13,
          13,
          12,
          11,
          10,
          9,
          8,
          8,
          7,
          7,
          6,
          5,
          4,
          4,
          4,
          4,
          3,
          2,
          2,
          2,
          1,
          1,
          0,
          0,
          0,
          0,
          0,
          0,
          0,
          0,
          0,
          0,
          0,
          0,
          0,
          0,
          0,
          0,
          0,
          0,
          0,
          0,
          0,
          0,
          0,
          0
         ],
         "yaxis": "y"
        },
        {
         "customdata": [
          [
           "Marcus Rashford"
          ],
          [
           "Martin Ødegaard"
          ],
          [
           "Bukayo Saka"
          ],
          [
           "Miguel Almirón Rejala"
          ],
          [
           "Kevin De Bruyne"
          ],
          [
           "Mohamed Salah"
          ],
          [
           "Gabriel Martinelli Silva"
          ],
          [
           "Bruno Borges Fernandes"
          ],
          [
           "Solly March"
          ],
          [
           "Pascal Groß"
          ],
          [
           "James Maddison"
          ],
          [
           "James Ward-Prowse"
          ],
          [
           "Eberechi Eze"
          ],
          [
           "Leandro Trossard"
          ],
          [
           "Rodrigo Moreno"
          ],
          [
           "Andreas Hoelgebaum Pereira"
          ],
          [
           "Harvey Barnes"
          ],
          [
           "Pierre-Emile Højbjerg"
          ],
          [
           "Riyad Mahrez"
          ],
          [
           "Granit Xhaka"
          ],
          [
           "Michael Olise"
          ],
          [
           "Jarrod Bowen"
          ],
          [
           "Son Heung-min"
          ],
          [
           "Bernardo Veiga de Carvalho e Silva"
          ],
          [
           "Phil Foden"
          ],
          [
           "Morgan Gibbs-White"
          ],
          [
           "Alex Iwobi"
          ],
          [
           "Mason Mount"
          ],
          [
           "Rúben da Silva Neves"
          ],
          [
           "Mathias Jensen"
          ],
          [
           "Douglas Luiz Soares de Paulo"
          ],
          [
           "Wilfried Zaha"
          ],
          [
           "Rodrigo Hernandez"
          ],
          [
           "Kaoru Mitoma"
          ],
          [
           "Leon Bailey"
          ],
          [
           "Christian Eriksen"
          ],
          [
           "Kiernan Dewsbury-Hall"
          ],
          [
           "Emiliano Buendía Stati"
          ],
          [
           "Joe Willock"
          ],
          [
           "Bobby De Cordova-Reid"
          ],
          [
           "Ilkay Gündogan"
          ],
          [
           "João Palhinha Gonçalves"
          ],
          [
           "Jack Grealish"
          ],
          [
           "Demarai Gray"
          ],
          [
           "Philip Billing"
          ],
          [
           "Sean Longstaff"
          ],
          [
           "Daniel Castelo Podence"
          ],
          [
           "Willian Borges da Silva"
          ],
          [
           "Raheem Sterling"
          ],
          [
           "Rodrigo Bentancur"
          ],
          [
           "Alexis Mac Allister"
          ],
          [
           "Marcus Tavernier"
          ],
          [
           "Jack Harrison"
          ],
          [
           "Yoane Wissa"
          ],
          [
           "Harrison Reed"
          ],
          [
           "Declan Rice"
          ],
          [
           "Bruno Guimarães Rodriguez Moura"
          ],
          [
           "Youri Tielemans"
          ],
          [
           "Joelinton Cássio Apolinário de Lira"
          ],
          [
           "Josh Dasilva"
          ],
          [
           "Dejan Kulusevski"
          ],
          [
           "Vitaly Janelt"
          ],
          [
           "Jordan Ayew"
          ],
          [
           "Brenden Aaronson"
          ],
          [
           "Jorge Luiz Frello Filho"
          ],
          [
           "Carlos Henrique Casimiro"
          ],
          [
           "Thomas Partey"
          ],
          [
           "Jefferson Lerma Solís"
          ],
          [
           "Crysencio Summerville"
          ],
          [
           "Jacob Ramsey"
          ],
          [
           "Tomas Soucek"
          ],
          [
           "Amadou Onana"
          ],
          [
           "Jeffrey Schlupp"
          ],
          [
           "Saïd Benrahma"
          ],
          [
           "Jadon Sancho"
          ],
          [
           "Christian Nørgaard"
          ],
          [
           "Lucas Tolentino Coelho de Lima"
          ],
          [
           "Dwight McNeil"
          ],
          [
           "Adam Lallana"
          ],
          [
           "Cheick Doucouré"
          ],
          [
           "Moisés Caicedo Corozo"
          ],
          [
           "Matheus Luiz Nunes"
          ],
          [
           "João Filipe Iria Santos Moutinho"
          ],
          [
           "Harvey Elliott"
          ],
          [
           "Lewis Cook"
          ],
          [
           "John McGinn"
          ],
          [
           "Anthony Gordon"
          ],
          [
           "Jaidon Anthony"
          ],
          [
           "Allan Saint-Maximin"
          ],
          [
           "Idrissa Gueye"
          ],
          [
           "Joe Ayodele-Aribo"
          ],
          [
           "Frederico Rodrigues de Paula Santos"
          ],
          [
           "Tyler Adams"
          ],
          [
           "Adama Traoré Diarra"
          ],
          [
           "Antony Matheus dos Santos"
          ],
          [
           "Remo Freuler"
          ],
          [
           "Marc Roca Junqué"
          ],
          [
           "Mohamed Elyounoussi"
          ],
          [
           "Luis Díaz"
          ],
          [
           "Ryan Yates"
          ],
          [
           "Jacob Murphy"
          ],
          [
           "Pablo Fornals Malla"
          ],
          [
           "Boubacar Kamara"
          ],
          [
           "Fabio Henrique Tavares"
          ],
          [
           "Ryan Christie"
          ],
          [
           "Neeskens Kebano"
          ],
          [
           "Conor Gallagher"
          ],
          [
           "Philippe Coutinho Correia"
          ],
          [
           "Stuart Armstrong"
          ],
          [
           "Jordan Henderson"
          ],
          [
           "Christian Pulisic"
          ],
          [
           "Fábio Ferreira Vieira"
          ],
          [
           "Jesse Lingard"
          ],
          [
           "Hwang Hee-chan"
          ],
          [
           "Gonçalo Manuel Ganchinho Guedes"
          ],
          [
           "Alejandro Garnacho"
          ],
          [
           "Ruben Loftus-Cheek"
          ],
          [
           "Thiago Alcántara do Nascimento"
          ],
          [
           "Roméo Lavia"
          ],
          [
           "Mateo Kovacic"
          ],
          [
           "Cheikhou Kouyaté"
          ],
          [
           "Boubakary Soumaré"
          ],
          [
           "Tom Cairney"
          ],
          [
           "Daniel James"
          ],
          [
           "Luis Sinisterra Lucumí"
          ],
          [
           "Fábio Freitas Gouveia Carvalho"
          ],
          [
           "James Milner"
          ],
          [
           "Leander Dendoncker"
          ],
          [
           "Yves Bissouma"
          ],
          [
           "Dennis Praet"
          ],
          [
           "Orel Mangala"
          ],
          [
           "Anthony Elanga"
          ],
          [
           "Samuel Edozie"
          ],
          [
           "Hakim Ziyech"
          ],
          [
           "Lewis O'Brien"
          ],
          [
           "Harry Wilson"
          ],
          [
           "Alex Oxlade-Chamberlain"
          ],
          [
           "Wilfred Ndidi"
          ],
          [
           "Ayoze Pérez"
          ],
          [
           "Cody Gakpo"
          ],
          [
           "Reiss Nelson"
          ],
          [
           "Ainsley Maitland-Niles"
          ],
          [
           "Nampalys Mendy"
          ],
          [
           "Moussa Djenepo"
          ],
          [
           "Shandon Baptiste"
          ],
          [
           "Scott McTominay"
          ],
          [
           "Frank Onyeka"
          ],
          [
           "Pedro Lomba Neto"
          ],
          [
           "Ibrahima Diallo"
          ],
          [
           "Stefan Bajcetic"
          ],
          [
           "Abdoulaye Doucouré"
          ],
          [
           "Manor Solomon"
          ],
          [
           "Flynn Downes"
          ],
          [
           "Will Hughes"
          ],
          [
           "Dango Ouattara"
          ],
          [
           "Jeremy Sarmiento Morante"
          ],
          [
           "Tom Davies"
          ],
          [
           "Luka Milivojevic"
          ],
          [
           "Keane Lewis-Potter"
          ],
          [
           "Mateusz Klich"
          ],
          [
           "Marc Albrighton"
          ],
          [
           "Carlos Alcaraz"
          ],
          [
           "Carney Chukwuemeka"
          ],
          [
           "Mikkel Damsgaard"
          ],
          [
           "Mateus Cardoso Lemos Martins"
          ],
          [
           "Denis Zakaria"
          ],
          [
           "Albert Sambi Lokonga"
          ],
          [
           "Boubacar Traoré"
          ],
          [
           "Oliver Skipp"
          ],
          [
           "Enzo Fernández"
          ],
          [
           "Elliot Anderson"
          ],
          [
           "Jack Colback"
          ],
          [
           "Bryan Gil Salvatierra"
          ],
          [
           "Enock Mwepu"
          ],
          [
           "Ryan Fraser"
          ],
          [
           "Joe Rothwell"
          ],
          [
           "Naby Keita"
          ],
          [
           "Saman Ghoddos"
          ],
          [
           "Donny van de Beek"
          ],
          [
           "Lucas Rodrigues Moura da Silva"
          ],
          [
           "Ben Pearson"
          ],
          [
           "Marcel Sabitzer"
          ],
          [
           "Hamed Traorè"
          ],
          [
           "Lewis Hall"
          ],
          [
           "Cole Palmer"
          ],
          [
           "Billy Gilmour"
          ],
          [
           "João Victor Gomes da Silva"
          ],
          [
           "Adam Forshaw"
          ],
          [
           "Siriki Dembélé"
          ],
          [
           "Mohamed Elneny"
          ],
          [
           "Pape Matar Sarr"
          ],
          [
           "Jonjo Shelvey"
          ],
          [
           "Curtis Jones"
          ],
          [
           "Chem Campbell"
          ],
          [
           "Maxwel Cornet"
          ],
          [
           "Mykhailo Mudryk"
          ],
          [
           "Pablo Sarabia"
          ],
          [
           "Noni Madueke"
          ],
          [
           "Theo Walcott"
          ],
          [
           "Emile Smith Rowe"
          ],
          [
           "Manuel Lanzini"
          ],
          [
           "James Garner"
          ],
          [
           "N'Golo Kanté"
          ],
          [
           "Weston McKennie"
          ],
          [
           "Junior Stanislas"
          ],
          [
           "Kalvin Phillips"
          ],
          [
           "Jairo Riedewald"
          ],
          [
           "Kamaldeen Sulemana"
          ],
          [
           "Joseph Hodge"
          ],
          [
           "Jamal Lowe"
          ],
          [
           "Mario Lemina"
          ],
          [
           "Gustavo Henrique Furtado Scarpa"
          ],
          [
           "Malcolm Ebiowei"
          ],
          [
           "André Ayew"
          ],
          [
           "Naouirou Ahamada"
          ],
          [
           "Kevin Schade"
          ],
          [
           "Luke Harris"
          ],
          [
           "Ben Doak"
          ],
          [
           "Dele Alli"
          ],
          [
           "Josh Onomah"
          ],
          [
           "Morgan Sanson"
          ],
          [
           "Oriol Romeu Vidal"
          ],
          [
           "Danilo dos Santos de Oliveira"
          ],
          [
           "Facundo Buonanotte"
          ],
          [
           "Kobbie Mainoo"
          ],
          [
           "Mislav Orsic"
          ],
          [
           "Ethan Nwaneri"
          ],
          [
           "Carlos Ribeiro Dias"
          ],
          [
           "Darko Gyabi"
          ],
          [
           "Facundo Pellistri Rebollo"
          ],
          [
           "Omari Hutchinson"
          ],
          [
           "Alex Mighten"
          ],
          [
           "Nathan Redmond"
          ],
          [
           "Nathaniel Chalobah"
          ],
          [
           "Connor Ronan"
          ],
          [
           "Conor Coventry"
          ],
          [
           "David Ozoh"
          ],
          [
           "Emiliano Marcondes"
          ],
          [
           "Marcus Oliveira Alencar"
          ],
          [
           "Harvey White"
          ],
          [
           "Arnaut Danjuma"
          ],
          [
           "Tyrese Francois"
          ],
          [
           "Andrew Moran"
          ],
          [
           "Sasa Lukic"
          ],
          [
           "Bobby Clark"
          ],
          [
           "Ryan Trevitt"
          ],
          [
           "Sammy Braybrooke"
          ],
          [
           "Stanley Mills"
          ],
          [
           "Ross Barkley"
          ],
          [
           "David Brooks"
          ],
          [
           "Ryan Finnigan"
          ],
          [
           "Amad Diallo"
          ],
          [
           "Arthur Henrique Ramos de Oliveira Melo"
          ],
          [
           "Armstrong Oko-Flex"
          ],
          [
           "Archie Gray"
          ],
          [
           "Anwar El Ghazi"
          ],
          [
           "Wanya Marçal-Madivadua"
          ],
          [
           "Anthony Knockaert"
          ],
          [
           "André Tavares Gomes"
          ],
          [
           "Andros Townsend"
          ],
          [
           "Andrey Nascimento dos Santos"
          ],
          [
           "Amario Cozier-Duberry"
          ],
          [
           "Will Smallbone"
          ],
          [
           "Allan Marques Loureiro"
          ],
          [
           "Alfie Devine"
          ],
          [
           "Xande Nascimento da Costa Silva"
          ],
          [
           "Yasin Ayari"
          ],
          [
           "Yegor Yarmolyuk"
          ],
          [
           "Zidane Iqbal"
          ],
          [
           "Tim Iroegbunam"
          ],
          [
           "Steven Alzate"
          ],
          [
           "Steven Bergwijn"
          ],
          [
           "Claudio Gomes"
          ],
          [
           "Taylor Richards"
          ],
          [
           "Tyler Roberts"
          ],
          [
           "Callum Hudson-Odoi"
          ],
          [
           "Braian Ojeda Rodríguez"
          ],
          [
           "Bertrand Traoré"
          ],
          [
           "Ben Knight"
          ],
          [
           "Kasey McAteer"
          ],
          [
           "Matthew Smith"
          ],
          [
           "Kaden Rodney"
          ],
          [
           "Joe Lolley"
          ],
          [
           "Michael Dacosta Gonzalez"
          ],
          [
           "Kadan Young"
          ],
          [
           "Kacper Kozłowski"
          ],
          [
           "Máximo Perrone"
          ],
          [
           "Killian Phillips"
          ],
          [
           "Lucas Torreira di Pascua"
          ],
          [
           "Mads Bidstrup"
          ],
          [
           "Lewis Warrington"
          ],
          [
           "Lewis Payne"
          ],
          [
           "Lewis Miley"
          ],
          [
           "Lewis Bate"
          ],
          [
           "Martial Godo"
          ],
          [
           "Kristian Sekularac"
          ],
          [
           "Marvelous Nakamba"
          ],
          [
           "Jack Wells-Morrison"
          ],
          [
           "Jack Hinshelwood"
          ],
          [
           "Ivan Neves Abreu Cavaleiro"
          ],
          [
           "Isaac Price"
          ],
          [
           "Raphael Dias Belloli"
          ],
          [
           "Harvey Vale"
          ],
          [
           "Harvey Griffiths"
          ],
          [
           "Luke Cundle"
          ],
          [
           "Harry Arter"
          ],
          [
           "Hamza Choudhury"
          ],
          [
           "Garang Kuol"
          ],
          [
           "Francisco Jorge Tomás Oliveira"
          ],
          [
           "Jaden Philogene-Bidace"
          ],
          [
           "Jakub Moder"
          ],
          [
           "Jesurun Rak-Sakyi"
          ],
          [
           "Nathan Tella"
          ],
          [
           "Jeff Hendrick"
          ],
          [
           "Jean-Philippe Gbamin"
          ],
          [
           "Nicolas Pépé"
          ],
          [
           "Nikola Vlasic"
          ],
          [
           "Jamie Shackleton"
          ],
          [
           "James McAtee"
          ],
          [
           "Oliver Hammond"
          ],
          [
           "James McArthur"
          ],
          [
           "Harry Winks"
          ]
         ],
         "hovertemplate": "position=MID<br>value=%{x}<br>total_points=%{y}<br>name=%{customdata[0]}<extra></extra>",
         "legendgroup": "MID",
         "marker": {
          "color": "#EF553B",
          "symbol": "circle"
         },
         "mode": "markers",
         "name": "MID",
         "orientation": "v",
         "showlegend": true,
         "type": "scatter",
         "x": [
          73,
          70,
          84,
          56,
          124,
          126,
          65,
          99,
          51,
          55,
          81,
          62,
          54,
          66,
          63,
          44,
          67,
          55,
          78,
          49,
          54,
          80,
          116,
          68,
          80,
          55,
          54,
          73,
          54,
          48,
          48,
          72,
          56,
          54,
          44,
          63,
          49,
          57,
          47,
          55,
          73,
          49,
          68,
          53,
          51,
          43,
          53,
          55,
          97,
          54,
          54,
          47,
          58,
          53,
          44,
          47,
          55,
          61,
          59,
          41,
          79,
          55,
          53,
          54,
          58,
          49,
          47,
          48,
          42,
          52,
          51,
          48,
          47,
          55,
          71,
          53,
          59,
          51,
          49,
          50,
          50,
          48,
          47,
          49,
          49,
          51,
          51,
          52,
          61,
          49,
          51,
          51,
          49,
          54,
          73,
          49,
          48,
          52,
          78,
          50,
          42,
          49,
          48,
          52,
          53,
          54,
          57,
          66,
          47,
          53,
          57,
          56,
          54,
          57,
          58,
          42,
          50,
          51,
          45,
          49,
          44,
          44,
          47,
          60,
          65,
          51,
          44,
          47,
          47,
          48,
          49,
          47,
          47,
          55,
          48,
          57,
          49,
          48,
          47,
          77,
          47,
          48,
          43,
          50,
          45,
          49,
          48,
          49,
          42,
          44,
          53,
          49,
          42,
          48,
          50,
          45,
          49,
          42,
          52,
          46,
          47,
          50,
          43,
          51,
          55,
          49,
          43,
          43,
          43,
          50,
          44,
          41,
          50,
          53,
          52,
          49,
          47,
          48,
          51,
          58,
          44,
          50,
          45,
          44,
          43,
          42,
          45,
          44,
          47,
          41,
          42,
          48,
          49,
          44,
          59,
          69,
          55,
          55,
          48,
          56,
          51,
          45,
          48,
          50,
          48,
          48,
          43,
          50,
          44,
          52,
          45,
          50,
          42,
          50,
          45,
          50,
          44,
          45,
          53,
          43,
          43,
          48,
          45,
          45,
          45,
          53,
          45,
          42,
          43,
          43,
          43,
          49,
          53,
          44,
          44,
          44,
          45,
          47,
          46,
          44,
          65,
          44,
          45,
          45,
          45,
          44,
          45,
          44,
          49,
          53,
          45,
          44,
          48,
          44,
          45,
          48,
          45,
          47,
          45,
          54,
          45,
          45,
          45,
          48,
          43,
          50,
          45,
          45,
          42,
          45,
          44,
          55,
          45,
          45,
          50,
          53,
          45,
          49,
          45,
          45,
          45,
          45,
          49,
          44,
          45,
          45,
          45,
          45,
          45,
          45,
          44,
          45,
          45,
          45,
          45,
          45,
          43,
          45,
          45,
          48,
          45,
          70,
          45,
          44,
          44,
          41,
          45,
          45,
          50,
          45,
          44,
          45,
          50,
          45,
          45,
          53,
          50,
          45,
          45,
          43,
          48,
          44
         ],
         "xaxis": "x",
         "y": [
          156,
          144,
          138,
          128,
          126,
          124,
          124,
          120,
          106,
          103,
          98,
          95,
          95,
          95,
          95,
          94,
          94,
          93,
          90,
          89,
          88,
          87,
          87,
          86,
          85,
          84,
          84,
          83,
          83,
          82,
          81,
          81,
          78,
          78,
          77,
          77,
          76,
          76,
          76,
          75,
          75,
          75,
          74,
          74,
          73,
          72,
          72,
          72,
          72,
          71,
          70,
          70,
          69,
          69,
          69,
          68,
          68,
          67,
          66,
          66,
          65,
          64,
          63,
          60,
          59,
          58,
          58,
          58,
          57,
          57,
          56,
          55,
          55,
          55,
          55,
          53,
          52,
          51,
          49,
          49,
          48,
          48,
          47,
          46,
          45,
          45,
          45,
          45,
          45,
          45,
          44,
          43,
          43,
          43,
          43,
          41,
          41,
          40,
          39,
          39,
          39,
          39,
          37,
          37,
          37,
          35,
          35,
          33,
          32,
          32,
          31,
          31,
          30,
          29,
          29,
          29,
          28,
          28,
          28,
          27,
          27,
          27,
          26,
          26,
          25,
          25,
          25,
          24,
          24,
          24,
          24,
          23,
          23,
          22,
          22,
          21,
          21,
          21,
          21,
          21,
          20,
          20,
          20,
          20,
          19,
          19,
          18,
          18,
          17,
          17,
          17,
          16,
          16,
          15,
          15,
          14,
          14,
          14,
          14,
          13,
          13,
          13,
          12,
          12,
          12,
          12,
          12,
          12,
          12,
          11,
          11,
          11,
          11,
          11,
          11,
          11,
          11,
          10,
          9,
          9,
          9,
          8,
          8,
          8,
          8,
          8,
          8,
          7,
          7,
          7,
          6,
          6,
          6,
          5,
          5,
          5,
          5,
          5,
          5,
          5,
          5,
          5,
          5,
          4,
          4,
          4,
          4,
          4,
          4,
          3,
          3,
          3,
          3,
          3,
          3,
          3,
          3,
          2,
          2,
          2,
          2,
          2,
          2,
          2,
          1,
          1,
          1,
          1,
          1,
          1,
          1,
          1,
          1,
          1,
          1,
          1,
          1,
          1,
          1,
          1,
          1,
          1,
          1,
          1,
          1,
          0,
          0,
          0,
          0,
          0,
          0,
          0,
          0,
          0,
          0,
          0,
          0,
          0,
          0,
          0,
          0,
          0,
          0,
          0,
          0,
          0,
          0,
          0,
          0,
          0,
          0,
          0,
          0,
          0,
          0,
          0,
          0,
          0,
          0,
          0,
          0,
          0,
          0,
          0,
          0,
          0,
          0,
          0,
          0,
          0,
          0,
          0,
          0,
          0,
          0,
          0,
          0,
          0,
          0,
          0,
          0,
          0,
          0,
          0,
          0,
          0,
          0,
          0,
          0,
          0,
          0,
          0,
          0,
          0,
          0,
          0,
          0,
          0,
          0,
          0,
          0,
          0
         ],
         "yaxis": "y"
        },
        {
         "customdata": [
          [
           "Kieran Trippier"
          ],
          [
           "Fabian Schär"
          ],
          [
           "Ben Mee"
          ],
          [
           "Luke Shaw"
          ],
          [
           "William Saliba"
          ],
          [
           "Dan Burn"
          ],
          [
           "Sven Botman"
          ],
          [
           "Gabriel dos Santos Magalhães"
          ],
          [
           "Benjamin White"
          ],
          [
           "Tim Ream"
          ],
          [
           "Trent Alexander-Arnold"
          ],
          [
           "Ben Davies"
          ],
          [
           "Ben Davies"
          ],
          [
           "Timothy Castagne"
          ],
          [
           "Andrew Robertson"
          ],
          [
           "Eric Dier"
          ],
          [
           "Rico Henry"
          ],
          [
           "João Cancelo"
          ],
          [
           "Thiago Emiliano da Silva"
          ],
          [
           "Ivan Perišić"
          ],
          [
           "Max Kilman"
          ],
          [
           "Conor Coady"
          ],
          [
           "James Tarkowski"
          ],
          [
           "Diogo Dalot Teixeira"
          ],
          [
           "Emerson Leite de Souza Junior"
          ],
          [
           "Pascal Struijk"
          ],
          [
           "Virgil van Dijk"
          ],
          [
           "Kenny Tete"
          ],
          [
           "Lewis Dunk"
          ],
          [
           "Serge Aurier"
          ],
          [
           "Antonee Robinson"
          ],
          [
           "Pervis Estupiñán"
          ],
          [
           "Joseph Gomez"
          ],
          [
           "Oleksandr Zinchenko"
          ],
          [
           "Issa Diop"
          ],
          [
           "Vitalii Mykolenko"
          ],
          [
           "Joël Veltman"
          ],
          [
           "Tyrone Mings"
          ],
          [
           "Ashley Young"
          ],
          [
           "Lisandro Martínez"
          ],
          [
           "Marc Cucurella Saseta"
          ],
          [
           "Kurt Zouma"
          ],
          [
           "John Stones"
          ],
          [
           "Ezri Konsa Ngoyo"
          ],
          [
           "Raphaël Varane"
          ],
          [
           "Ethan Pinnock"
          ],
          [
           "Marc Guéhi"
          ],
          [
           "Romain Perraud"
          ],
          [
           "Joachim Andersen"
          ],
          [
           "Tyrell Malacia"
          ],
          [
           "Seamus Coleman"
          ],
          [
           "Tyrick Mitchell"
          ],
          [
           "Kalidou Koulibaly"
          ],
          [
           "Adam Smith"
          ],
          [
           "Manuel Akanji"
          ],
          [
           "Nathan Aké"
          ],
          [
           "Joel Ward"
          ],
          [
           "Daniel Amartey"
          ],
          [
           "Jordan Zemura"
          ],
          [
           "James Justin"
          ],
          [
           "Rúben Gato Alves Dias"
          ],
          [
           "Robin Koch"
          ],
          [
           "Nélson Cabral Semedo"
          ],
          [
           "Nathan Collins"
          ],
          [
           "Aaron Cresswell"
          ],
          [
           "Adam Webster"
          ],
          [
           "Lucas Digne"
          ],
          [
           "Neco Williams"
          ],
          [
           "Mads Roerslev Rasmussen"
          ],
          [
           "Willy Boly"
          ],
          [
           "César Azpilicueta"
          ],
          [
           "Marcos Senesi"
          ],
          [
           "Cristian Romero"
          ],
          [
           "Aaron Wan-Bissaka"
          ],
          [
           "Rayan Aït-Nouri"
          ],
          [
           "Thilo Kehrer"
          ],
          [
           "Wout Faes"
          ],
          [
           "Scott McKenna"
          ],
          [
           "Joe Worrall"
          ],
          [
           "Liam Cooper"
          ],
          [
           "Renan Augusto Lodi dos Santos"
          ],
          [
           "Trevoh Chalobah"
          ],
          [
           "Ryan Sessegnon"
          ],
          [
           "Matt Doherty"
          ],
          [
           "Ben Chilwell"
          ],
          [
           "Luke Ayling"
          ],
          [
           "Hugo Bueno López"
          ],
          [
           "Jonathan Castro Otto"
          ],
          [
           "Nathaniel Clyne"
          ],
          [
           "Vladimir Coufal"
          ],
          [
           "Craig Dawson"
          ],
          [
           "Kyle Walker-Peters"
          ],
          [
           "Mohammed Salisu"
          ],
          [
           "Kyle Walker"
          ],
          [
           "Tosin Adarabioyo"
          ],
          [
           "Clément Lenglet"
          ],
          [
           "Chris Mepham"
          ],
          [
           "Reece James"
          ],
          [
           "Mathias Jorgensen"
          ],
          [
           "Takehiro Tomiyasu"
          ],
          [
           "Rasmus Kristensen"
          ],
          [
           "Kristoffer Ajer"
          ],
          [
           "Matty Cash"
          ],
          [
           "Emerson Palmieri dos Santos"
          ],
          [
           "Lloyd Kelly"
          ],
          [
           "Konstantinos Tsimikas"
          ],
          [
           "Nathan Patterson"
          ],
          [
           "Armel Bella-Kotchap"
          ],
          [
           "Harry Maguire"
          ],
          [
           "Benoît Badiashile"
          ],
          [
           "Matt Targett"
          ],
          [
           "Kieran Tierney"
          ],
          [
           "Tariq Lamptey"
          ],
          [
           "Davinson Sánchez"
          ],
          [
           "Aaron Hickey"
          ],
          [
           "Victor Lindelöf"
          ],
          [
           "Aymeric Laporte"
          ],
          [
           "Ben Johnson"
          ],
          [
           "Harry Toffolo"
          ],
          [
           "Steve Cook"
          ],
          [
           "Jack Stephens"
          ],
          [
           "Duje Caleta-Car"
          ],
          [
           "Angelo Ogbonna"
          ],
          [
           "Luke Thomas"
          ],
          [
           "Pontus Jansson"
          ],
          [
           "Joel Matip"
          ],
          [
           "Rico Lewis"
          ],
          [
           "Lyanco Silveira Neves Vojnovic"
          ],
          [
           "Diego Llorente"
          ],
          [
           "Levi Colwill"
          ],
          [
           "Alexandre Moreno Lopera"
          ],
          [
           "Yerry Mina"
          ],
          [
           "Nayef Aguerd"
          ],
          [
           "Chris Richards"
          ],
          [
           "Toti António Gomes"
          ],
          [
           "Maximilian Wöber"
          ],
          [
           "Mason Holgate"
          ],
          [
           "Jan Bednarek"
          ],
          [
           "Jonny Evans"
          ],
          [
           "Ryan Fredericks"
          ],
          [
           "Ibrahima Konaté"
          ],
          [
           "Rob Holding"
          ],
          [
           "James Tomkins"
          ],
          [
           "Kevin Mbabu"
          ],
          [
           "Moussa Niakhaté"
          ],
          [
           "Sergio Gómez"
          ],
          [
           "Ben Godfrey"
          ],
          [
           "Junior Firpo Adames"
          ],
          [
           "Sergi Canós Tenés"
          ],
          [
           "Djed Spence"
          ],
          [
           "Calum Chambers"
          ],
          [
           "Wesley Fofana"
          ],
          [
           "Jack Stacey"
          ],
          [
           "Mads Bech Sørensen"
          ],
          [
           "Victor Kristiansen"
          ],
          [
           "Shane Duffy"
          ],
          [
           "Juan Larios López"
          ],
          [
           "Harry Souttar"
          ],
          [
           "James Bree"
          ],
          [
           "Matt Ritchie"
          ],
          [
           "Nathaniel Phillips"
          ],
          [
           "Cédric Alves Soares"
          ],
          [
           "Felipe Augusto de Almeida Monteiro"
          ],
          [
           "Diego Carlos Santos Silva"
          ],
          [
           "Matías Viña"
          ],
          [
           "Çaglar Söyüncü"
          ],
          [
           "Japhet Tanganga"
          ],
          [
           "Jan Paul van Hecke"
          ],
          [
           "Ludwig Augustinsson"
          ],
          [
           "Layvin Kurzawa"
          ],
          [
           "Giulian Biancone"
          ],
          [
           "Rúben Nascimento Vinagre"
          ],
          [
           "Owen Bevan"
          ],
          [
           "Jamaal Lascelles"
          ],
          [
           "Jamal Lewis"
          ],
          [
           "Ricardo Barbosa Pereira"
          ],
          [
           "Michael Keane"
          ],
          [
           "Cody Drameh"
          ],
          [
           "Javier Manquillo Gaitán"
          ],
          [
           "Lewis Brunt"
          ],
          [
           "Emil Krafth"
          ],
          [
           "Pedro Porro"
          ],
          [
           "Dexter Lembikisa"
          ],
          [
           "Eric Bailly"
          ],
          [
           "Dominic Thompson"
          ],
          [
           "Ed Turns"
          ],
          [
           "Sil Swinkels"
          ],
          [
           "Ethan Ampadu"
          ],
          [
           "Sepp van den Berg"
          ],
          [
           "Ryan Bertrand"
          ],
          [
           "Diogo Pinheiro Monteiro"
          ],
          [
           "Sergio Reguilón"
          ],
          [
           "Bashir Humphreys"
          ],
          [
           "Alex Telles"
          ],
          [
           "Yan Valery"
          ],
          [
           "Yerson Mosquera Valdelamar"
          ],
          [
           "Arthur Masuaku"
          ],
          [
           "Ben Greenwood"
          ],
          [
           "Stefan Parkes"
          ],
          [
           "Stuart Dallas"
          ],
          [
           "Ciaran Clark"
          ],
          [
           "Terence Kongolo"
          ],
          [
           "Charlie Goode"
          ],
          [
           "Calvin Ramsay"
          ],
          [
           "Tino Livramento"
          ],
          [
           "Brandon Williams"
          ],
          [
           "Tristan Crama"
          ],
          [
           "Luke Chambers"
          ],
          [
           "Federico Fernández"
          ],
          [
           "Kaelan Casey"
          ],
          [
           "Matt Clarke"
          ],
          [
           "Kaine Kesler Hayden"
          ],
          [
           "Max Kinsey-Wellings"
          ],
          [
           "Josh Wilson-Esbrand"
          ],
          [
           "Mohamed Dräger"
          ],
          [
           "Jonathan Panzo"
          ],
          [
           "Joe Wormleighton"
          ],
          [
           "Kofi Balmer"
          ],
          [
           "Luke Mbete-Tabu"
          ],
          [
           "Loïc Mbe Soh"
          ],
          [
           "Loïc Badé"
          ],
          [
           "Malang Sarr"
          ],
          [
           "Lino Sousa"
          ],
          [
           "Leo Fuhr Hjelde"
          ],
          [
           "Marcos Alonso"
          ],
          [
           "Lamare Bogarde"
          ],
          [
           "Kyle John"
          ],
          [
           "Kortney Hause"
          ],
          [
           "Joe Rodon"
          ],
          [
           "Joe Bryan"
          ],
          [
           "Phil Jones"
          ],
          [
           "Illia Zabarnyi"
          ],
          [
           "Haydon Roberts"
          ],
          [
           "Reece Welch"
          ],
          [
           "Harrison Ashby"
          ],
          [
           "Rhys Bennett"
          ],
          [
           "Rhys Williams"
          ],
          [
           "Richie Laryea"
          ],
          [
           "Robert Kenedy Nunes do Nascimento"
          ],
          [
           "Frédéric Guilbert"
          ],
          [
           "Fin Stevens"
          ],
          [
           "Paul Dummett"
          ],
          [
           "Jakub Kiwior"
          ],
          [
           "Nathan Ferguson"
          ],
          [
           "Jeremiah Chilokoa-Mullen"
          ],
          [
           "Jarrad Branthwaite"
          ],
          [
           "Niels Nkounkou"
          ],
          [
           "Jannik Vestergaard"
          ],
          [
           "Nuno Varela Tavares"
          ],
          [
           "Odeluga Offiah"
          ],
          [
           "James Hill"
          ],
          [
           "Omar Richards"
          ],
          [
           "James Furlong"
          ],
          [
           "Pablo Marí Villar"
          ]
         ],
         "hovertemplate": "position=DEF<br>value=%{x}<br>total_points=%{y}<br>name=%{customdata[0]}<extra></extra>",
         "legendgroup": "DEF",
         "marker": {
          "color": "#00cc96",
          "symbol": "circle"
         },
         "mode": "markers",
         "name": "DEF",
         "orientation": "v",
         "showlegend": true,
         "type": "scatter",
         "x": [
          61,
          52,
          50,
          54,
          53,
          46,
          45,
          52,
          47,
          46,
          73,
          40,
          48,
          44,
          68,
          51,
          45,
          71,
          55,
          55,
          44,
          49,
          43,
          47,
          49,
          45,
          65,
          44,
          47,
          45,
          44,
          47,
          43,
          51,
          43,
          43,
          46,
          43,
          44,
          45,
          51,
          44,
          54,
          44,
          48,
          44,
          44,
          41,
          45,
          42,
          44,
          44,
          55,
          43,
          50,
          51,
          44,
          41,
          43,
          42,
          59,
          45,
          50,
          44,
          47,
          45,
          46,
          39,
          43,
          42,
          48,
          44,
          49,
          43,
          42,
          44,
          42,
          44,
          42,
          44,
          43,
          45,
          44,
          46,
          58,
          45,
          39,
          43,
          45,
          41,
          48,
          44,
          44,
          48,
          45,
          48,
          44,
          58,
          40,
          42,
          48,
          45,
          46,
          40,
          43,
          44,
          39,
          45,
          47,
          50,
          47,
          46,
          42,
          43,
          49,
          41,
          57,
          44,
          43,
          43,
          43,
          45,
          44,
          41,
          42,
          59,
          39,
          44,
          44,
          44,
          44,
          43,
          48,
          44,
          39,
          45,
          43,
          42,
          44,
          44,
          48,
          42,
          39,
          43,
          43,
          45,
          43,
          45,
          50,
          41,
          42,
          43,
          43,
          45,
          45,
          43,
          40,
          45,
          45,
          42,
          39,
          42,
          45,
          47,
          45,
          42,
          39,
          40,
          43,
          43,
          42,
          43,
          40,
          43,
          44,
          43,
          42,
          40,
          42,
          39,
          43,
          50,
          40,
          40,
          40,
          40,
          40,
          44,
          40,
          39,
          40,
          42,
          45,
          50,
          40,
          39,
          45,
          40,
          40,
          49,
          45,
          39,
          39,
          39,
          44,
          38,
          40,
          40,
          44,
          40,
          40,
          40,
          40,
          38,
          40,
          40,
          40,
          40,
          39,
          42,
          45,
          50,
          40,
          39,
          53,
          40,
          40,
          44,
          40,
          44,
          39,
          45,
          40,
          40,
          38,
          40,
          40,
          45,
          39,
          39,
          40,
          39,
          40,
          39,
          40,
          40,
          40,
          39,
          45,
          40,
          44,
          44,
          40,
          45
         ],
         "xaxis": "x",
         "y": [
          154,
          108,
          101,
          99,
          98,
          98,
          95,
          92,
          91,
          86,
          83,
          79,
          79,
          77,
          77,
          76,
          76,
          73,
          73,
          72,
          71,
          71,
          71,
          68,
          68,
          67,
          66,
          65,
          65,
          64,
          64,
          64,
          63,
          62,
          61,
          61,
          61,
          60,
          60,
          59,
          58,
          58,
          56,
          55,
          55,
          55,
          54,
          54,
          52,
          52,
          52,
          51,
          50,
          50,
          49,
          49,
          48,
          47,
          46,
          45,
          45,
          44,
          44,
          44,
          43,
          43,
          42,
          42,
          42,
          41,
          41,
          40,
          40,
          40,
          40,
          39,
          39,
          38,
          38,
          37,
          36,
          36,
          36,
          36,
          36,
          35,
          35,
          35,
          34,
          34,
          34,
          33,
          33,
          32,
          31,
          31,
          30,
          30,
          29,
          29,
          29,
          29,
          28,
          27,
          27,
          25,
          25,
          25,
          24,
          23,
          23,
          23,
          22,
          22,
          21,
          21,
          21,
          20,
          20,
          20,
          19,
          19,
          18,
          18,
          18,
          17,
          17,
          16,
          16,
          15,
          13,
          13,
          13,
          12,
          12,
          12,
          12,
          12,
          11,
          10,
          9,
          8,
          8,
          7,
          7,
          7,
          7,
          6,
          5,
          5,
          5,
          5,
          5,
          4,
          4,
          4,
          4,
          4,
          3,
          3,
          3,
          3,
          3,
          3,
          2,
          2,
          2,
          2,
          2,
          2,
          2,
          2,
          1,
          1,
          1,
          1,
          1,
          1,
          1,
          1,
          1,
          1,
          1,
          0,
          0,
          0,
          0,
          0,
          0,
          0,
          0,
          0,
          0,
          0,
          0,
          0,
          0,
          0,
          0,
          0,
          0,
          0,
          0,
          0,
          0,
          0,
          0,
          0,
          0,
          0,
          0,
          0,
          0,
          0,
          0,
          0,
          0,
          0,
          0,
          0,
          0,
          0,
          0,
          0,
          0,
          0,
          0,
          0,
          0,
          0,
          0,
          0,
          0,
          0,
          0,
          0,
          0,
          0,
          0,
          0,
          0,
          0,
          0,
          0,
          0,
          0,
          0,
          0,
          0,
          0,
          0,
          0,
          0,
          0
         ],
         "yaxis": "y"
        },
        {
         "customdata": [
          [
           "David Raya Martin"
          ],
          [
           "Nick Pope"
          ],
          [
           "David De Gea Quintana"
          ],
          [
           "Alisson Ramses Becker"
          ],
          [
           "Bernd Leno"
          ],
          [
           "José Malheiro de Sá"
          ],
          [
           "Aaron Ramsdale"
          ],
          [
           "Vicente Guaita"
          ],
          [
           "Ederson Santana de Moraes"
          ],
          [
           "Dean Henderson"
          ],
          [
           "Hugo Lloris"
          ],
          [
           "Robert Sánchez"
          ],
          [
           "Lukasz Fabianski"
          ],
          [
           "Illan Meslier"
          ],
          [
           "Kepa Arrizabalaga"
          ],
          [
           "Danny Ward"
          ],
          [
           "Jordan Pickford"
          ],
          [
           "Gavin Bazunu"
          ],
          [
           "Emiliano Martínez Romero"
          ],
          [
           "Norberto Murara Neto"
          ],
          [
           "Mark Travers"
          ],
          [
           "Edouard Mendy"
          ],
          [
           "Robin Olsen"
          ],
          [
           "Keylor Navas"
          ],
          [
           "Asmir Begović"
          ],
          [
           "Martin Dubravka"
          ],
          [
           "Fraser Forster"
          ],
          [
           "Marek Rodák"
          ],
          [
           "Wayne Hennessey"
          ],
          [
           "Alphonse Areola"
          ],
          [
           "Daniel Iversen"
          ],
          [
           "Eldin Jakupovic"
          ],
          [
           "Sam Johnstone"
          ],
          [
           "Daniel Bentley"
          ],
          [
           "Scott Carson"
          ],
          [
           "Darren Randolph"
          ],
          [
           "Ellery Balcombe"
          ],
          [
           "Stefan Ortega Moreno"
          ],
          [
           "Viljami Sinisalo"
          ],
          [
           "Will Dennis"
          ],
          [
           "Willy Caballero"
          ],
          [
           "Alex Smithies"
          ],
          [
           "Alex McCarthy"
          ],
          [
           "Adrián San Miguel del Castillo"
          ],
          [
           "Zack Steffen"
          ],
          [
           "Caoimhin Kelleher"
          ],
          [
           "Thomas Strakosha"
          ],
          [
           "Cameron Plain"
          ],
          [
           "Brice Samba"
          ],
          [
           "Tom Heaton"
          ],
          [
           "Brandon Austin"
          ],
          [
           "Mateusz Lis"
          ],
          [
           "Kasper Schmeichel"
          ],
          [
           "Karl Hein"
          ],
          [
           "Matija Šarkić"
          ],
          [
           "Karl Darlow"
          ],
          [
           "Matt Turner"
          ],
          [
           "Matthew Cox"
          ],
          [
           "Joseph Whitworth"
          ],
          [
           "Joseph Anang"
          ],
          [
           "Jordan Smith"
          ],
          [
           "Joel Robles"
          ],
          [
           "Kjell Scherpen"
          ],
          [
           "Matej Kovár"
          ],
          [
           "Loris Karius"
          ],
          [
           "Marcus Bettinelli"
          ],
          [
           "Krisztián Hegyi"
          ],
          [
           "Kristoffer Klaesson"
          ],
          [
           "Filip Marschall"
          ],
          [
           "Harvey Davies"
          ],
          [
           "Paulo Gazzaniga Farias"
          ],
          [
           "Jackson Smith"
          ],
          [
           "Jack Butland"
          ],
          [
           "Remi Matthews"
          ],
          [
           "Nathan Bishop"
          ],
          [
           "Jason Steele"
          ],
          [
           "Oliwier Zych"
          ],
          [
           "Owen Goodman"
          ]
         ],
         "hovertemplate": "position=GK<br>value=%{x}<br>total_points=%{y}<br>name=%{customdata[0]}<extra></extra>",
         "legendgroup": "GK",
         "marker": {
          "color": "#ab63fa",
          "symbol": "circle"
         },
         "mode": "markers",
         "name": "GK",
         "orientation": "v",
         "showlegend": true,
         "type": "scatter",
         "x": [
          47,
          55,
          50,
          54,
          45,
          50,
          49,
          44,
          54,
          46,
          55,
          46,
          50,
          45,
          47,
          40,
          44,
          45,
          49,
          45,
          42,
          48,
          39,
          45,
          40,
          41,
          39,
          43,
          39,
          43,
          38,
          40,
          44,
          40,
          38,
          40,
          40,
          38,
          40,
          39,
          39,
          39,
          43,
          39,
          40,
          40,
          43,
          40,
          45,
          39,
          39,
          40,
          50,
          40,
          39,
          39,
          38,
          39,
          40,
          40,
          40,
          40,
          40,
          40,
          39,
          40,
          40,
          39,
          40,
          40,
          40,
          39,
          44,
          40,
          40,
          39,
          40,
          40
         ],
         "xaxis": "x",
         "y": [
          116,
          111,
          104,
          100,
          99,
          96,
          91,
          90,
          85,
          84,
          83,
          82,
          82,
          80,
          80,
          79,
          76,
          68,
          62,
          45,
          27,
          23,
          16,
          14,
          9,
          8,
          8,
          7,
          4,
          2,
          0,
          0,
          0,
          0,
          0,
          0,
          0,
          0,
          0,
          0,
          0,
          0,
          0,
          0,
          0,
          0,
          0,
          0,
          0,
          0,
          0,
          0,
          0,
          0,
          0,
          0,
          0,
          0,
          0,
          0,
          0,
          0,
          0,
          0,
          0,
          0,
          0,
          0,
          0,
          0,
          0,
          0,
          0,
          0,
          0,
          0,
          0,
          0
         ],
         "yaxis": "y"
        }
       ],
       "layout": {
        "legend": {
         "title": {
          "text": "position"
         },
         "tracegroupgap": 0
        },
        "margin": {
         "t": 60
        },
        "template": {
         "data": {
          "bar": [
           {
            "error_x": {
             "color": "#2a3f5f"
            },
            "error_y": {
             "color": "#2a3f5f"
            },
            "marker": {
             "line": {
              "color": "#E5ECF6",
              "width": 0.5
             }
            },
            "type": "bar"
           }
          ],
          "barpolar": [
           {
            "marker": {
             "line": {
              "color": "#E5ECF6",
              "width": 0.5
             }
            },
            "type": "barpolar"
           }
          ],
          "carpet": [
           {
            "aaxis": {
             "endlinecolor": "#2a3f5f",
             "gridcolor": "white",
             "linecolor": "white",
             "minorgridcolor": "white",
             "startlinecolor": "#2a3f5f"
            },
            "baxis": {
             "endlinecolor": "#2a3f5f",
             "gridcolor": "white",
             "linecolor": "white",
             "minorgridcolor": "white",
             "startlinecolor": "#2a3f5f"
            },
            "type": "carpet"
           }
          ],
          "choropleth": [
           {
            "colorbar": {
             "outlinewidth": 0,
             "ticks": ""
            },
            "type": "choropleth"
           }
          ],
          "contour": [
           {
            "colorbar": {
             "outlinewidth": 0,
             "ticks": ""
            },
            "colorscale": [
             [
              0,
              "#0d0887"
             ],
             [
              0.1111111111111111,
              "#46039f"
             ],
             [
              0.2222222222222222,
              "#7201a8"
             ],
             [
              0.3333333333333333,
              "#9c179e"
             ],
             [
              0.4444444444444444,
              "#bd3786"
             ],
             [
              0.5555555555555556,
              "#d8576b"
             ],
             [
              0.6666666666666666,
              "#ed7953"
             ],
             [
              0.7777777777777778,
              "#fb9f3a"
             ],
             [
              0.8888888888888888,
              "#fdca26"
             ],
             [
              1,
              "#f0f921"
             ]
            ],
            "type": "contour"
           }
          ],
          "contourcarpet": [
           {
            "colorbar": {
             "outlinewidth": 0,
             "ticks": ""
            },
            "type": "contourcarpet"
           }
          ],
          "heatmap": [
           {
            "colorbar": {
             "outlinewidth": 0,
             "ticks": ""
            },
            "colorscale": [
             [
              0,
              "#0d0887"
             ],
             [
              0.1111111111111111,
              "#46039f"
             ],
             [
              0.2222222222222222,
              "#7201a8"
             ],
             [
              0.3333333333333333,
              "#9c179e"
             ],
             [
              0.4444444444444444,
              "#bd3786"
             ],
             [
              0.5555555555555556,
              "#d8576b"
             ],
             [
              0.6666666666666666,
              "#ed7953"
             ],
             [
              0.7777777777777778,
              "#fb9f3a"
             ],
             [
              0.8888888888888888,
              "#fdca26"
             ],
             [
              1,
              "#f0f921"
             ]
            ],
            "type": "heatmap"
           }
          ],
          "heatmapgl": [
           {
            "colorbar": {
             "outlinewidth": 0,
             "ticks": ""
            },
            "colorscale": [
             [
              0,
              "#0d0887"
             ],
             [
              0.1111111111111111,
              "#46039f"
             ],
             [
              0.2222222222222222,
              "#7201a8"
             ],
             [
              0.3333333333333333,
              "#9c179e"
             ],
             [
              0.4444444444444444,
              "#bd3786"
             ],
             [
              0.5555555555555556,
              "#d8576b"
             ],
             [
              0.6666666666666666,
              "#ed7953"
             ],
             [
              0.7777777777777778,
              "#fb9f3a"
             ],
             [
              0.8888888888888888,
              "#fdca26"
             ],
             [
              1,
              "#f0f921"
             ]
            ],
            "type": "heatmapgl"
           }
          ],
          "histogram": [
           {
            "marker": {
             "colorbar": {
              "outlinewidth": 0,
              "ticks": ""
             }
            },
            "type": "histogram"
           }
          ],
          "histogram2d": [
           {
            "colorbar": {
             "outlinewidth": 0,
             "ticks": ""
            },
            "colorscale": [
             [
              0,
              "#0d0887"
             ],
             [
              0.1111111111111111,
              "#46039f"
             ],
             [
              0.2222222222222222,
              "#7201a8"
             ],
             [
              0.3333333333333333,
              "#9c179e"
             ],
             [
              0.4444444444444444,
              "#bd3786"
             ],
             [
              0.5555555555555556,
              "#d8576b"
             ],
             [
              0.6666666666666666,
              "#ed7953"
             ],
             [
              0.7777777777777778,
              "#fb9f3a"
             ],
             [
              0.8888888888888888,
              "#fdca26"
             ],
             [
              1,
              "#f0f921"
             ]
            ],
            "type": "histogram2d"
           }
          ],
          "histogram2dcontour": [
           {
            "colorbar": {
             "outlinewidth": 0,
             "ticks": ""
            },
            "colorscale": [
             [
              0,
              "#0d0887"
             ],
             [
              0.1111111111111111,
              "#46039f"
             ],
             [
              0.2222222222222222,
              "#7201a8"
             ],
             [
              0.3333333333333333,
              "#9c179e"
             ],
             [
              0.4444444444444444,
              "#bd3786"
             ],
             [
              0.5555555555555556,
              "#d8576b"
             ],
             [
              0.6666666666666666,
              "#ed7953"
             ],
             [
              0.7777777777777778,
              "#fb9f3a"
             ],
             [
              0.8888888888888888,
              "#fdca26"
             ],
             [
              1,
              "#f0f921"
             ]
            ],
            "type": "histogram2dcontour"
           }
          ],
          "mesh3d": [
           {
            "colorbar": {
             "outlinewidth": 0,
             "ticks": ""
            },
            "type": "mesh3d"
           }
          ],
          "parcoords": [
           {
            "line": {
             "colorbar": {
              "outlinewidth": 0,
              "ticks": ""
             }
            },
            "type": "parcoords"
           }
          ],
          "pie": [
           {
            "automargin": true,
            "type": "pie"
           }
          ],
          "scatter": [
           {
            "marker": {
             "colorbar": {
              "outlinewidth": 0,
              "ticks": ""
             }
            },
            "type": "scatter"
           }
          ],
          "scatter3d": [
           {
            "line": {
             "colorbar": {
              "outlinewidth": 0,
              "ticks": ""
             }
            },
            "marker": {
             "colorbar": {
              "outlinewidth": 0,
              "ticks": ""
             }
            },
            "type": "scatter3d"
           }
          ],
          "scattercarpet": [
           {
            "marker": {
             "colorbar": {
              "outlinewidth": 0,
              "ticks": ""
             }
            },
            "type": "scattercarpet"
           }
          ],
          "scattergeo": [
           {
            "marker": {
             "colorbar": {
              "outlinewidth": 0,
              "ticks": ""
             }
            },
            "type": "scattergeo"
           }
          ],
          "scattergl": [
           {
            "marker": {
             "colorbar": {
              "outlinewidth": 0,
              "ticks": ""
             }
            },
            "type": "scattergl"
           }
          ],
          "scattermapbox": [
           {
            "marker": {
             "colorbar": {
              "outlinewidth": 0,
              "ticks": ""
             }
            },
            "type": "scattermapbox"
           }
          ],
          "scatterpolar": [
           {
            "marker": {
             "colorbar": {
              "outlinewidth": 0,
              "ticks": ""
             }
            },
            "type": "scatterpolar"
           }
          ],
          "scatterpolargl": [
           {
            "marker": {
             "colorbar": {
              "outlinewidth": 0,
              "ticks": ""
             }
            },
            "type": "scatterpolargl"
           }
          ],
          "scatterternary": [
           {
            "marker": {
             "colorbar": {
              "outlinewidth": 0,
              "ticks": ""
             }
            },
            "type": "scatterternary"
           }
          ],
          "surface": [
           {
            "colorbar": {
             "outlinewidth": 0,
             "ticks": ""
            },
            "colorscale": [
             [
              0,
              "#0d0887"
             ],
             [
              0.1111111111111111,
              "#46039f"
             ],
             [
              0.2222222222222222,
              "#7201a8"
             ],
             [
              0.3333333333333333,
              "#9c179e"
             ],
             [
              0.4444444444444444,
              "#bd3786"
             ],
             [
              0.5555555555555556,
              "#d8576b"
             ],
             [
              0.6666666666666666,
              "#ed7953"
             ],
             [
              0.7777777777777778,
              "#fb9f3a"
             ],
             [
              0.8888888888888888,
              "#fdca26"
             ],
             [
              1,
              "#f0f921"
             ]
            ],
            "type": "surface"
           }
          ],
          "table": [
           {
            "cells": {
             "fill": {
              "color": "#EBF0F8"
             },
             "line": {
              "color": "white"
             }
            },
            "header": {
             "fill": {
              "color": "#C8D4E3"
             },
             "line": {
              "color": "white"
             }
            },
            "type": "table"
           }
          ]
         },
         "layout": {
          "annotationdefaults": {
           "arrowcolor": "#2a3f5f",
           "arrowhead": 0,
           "arrowwidth": 1
          },
          "coloraxis": {
           "colorbar": {
            "outlinewidth": 0,
            "ticks": ""
           }
          },
          "colorscale": {
           "diverging": [
            [
             0,
             "#8e0152"
            ],
            [
             0.1,
             "#c51b7d"
            ],
            [
             0.2,
             "#de77ae"
            ],
            [
             0.3,
             "#f1b6da"
            ],
            [
             0.4,
             "#fde0ef"
            ],
            [
             0.5,
             "#f7f7f7"
            ],
            [
             0.6,
             "#e6f5d0"
            ],
            [
             0.7,
             "#b8e186"
            ],
            [
             0.8,
             "#7fbc41"
            ],
            [
             0.9,
             "#4d9221"
            ],
            [
             1,
             "#276419"
            ]
           ],
           "sequential": [
            [
             0,
             "#0d0887"
            ],
            [
             0.1111111111111111,
             "#46039f"
            ],
            [
             0.2222222222222222,
             "#7201a8"
            ],
            [
             0.3333333333333333,
             "#9c179e"
            ],
            [
             0.4444444444444444,
             "#bd3786"
            ],
            [
             0.5555555555555556,
             "#d8576b"
            ],
            [
             0.6666666666666666,
             "#ed7953"
            ],
            [
             0.7777777777777778,
             "#fb9f3a"
            ],
            [
             0.8888888888888888,
             "#fdca26"
            ],
            [
             1,
             "#f0f921"
            ]
           ],
           "sequentialminus": [
            [
             0,
             "#0d0887"
            ],
            [
             0.1111111111111111,
             "#46039f"
            ],
            [
             0.2222222222222222,
             "#7201a8"
            ],
            [
             0.3333333333333333,
             "#9c179e"
            ],
            [
             0.4444444444444444,
             "#bd3786"
            ],
            [
             0.5555555555555556,
             "#d8576b"
            ],
            [
             0.6666666666666666,
             "#ed7953"
            ],
            [
             0.7777777777777778,
             "#fb9f3a"
            ],
            [
             0.8888888888888888,
             "#fdca26"
            ],
            [
             1,
             "#f0f921"
            ]
           ]
          },
          "colorway": [
           "#636efa",
           "#EF553B",
           "#00cc96",
           "#ab63fa",
           "#FFA15A",
           "#19d3f3",
           "#FF6692",
           "#B6E880",
           "#FF97FF",
           "#FECB52"
          ],
          "font": {
           "color": "#2a3f5f"
          },
          "geo": {
           "bgcolor": "white",
           "lakecolor": "white",
           "landcolor": "#E5ECF6",
           "showlakes": true,
           "showland": true,
           "subunitcolor": "white"
          },
          "hoverlabel": {
           "align": "left"
          },
          "hovermode": "closest",
          "mapbox": {
           "style": "light"
          },
          "paper_bgcolor": "white",
          "plot_bgcolor": "#E5ECF6",
          "polar": {
           "angularaxis": {
            "gridcolor": "white",
            "linecolor": "white",
            "ticks": ""
           },
           "bgcolor": "#E5ECF6",
           "radialaxis": {
            "gridcolor": "white",
            "linecolor": "white",
            "ticks": ""
           }
          },
          "scene": {
           "xaxis": {
            "backgroundcolor": "#E5ECF6",
            "gridcolor": "white",
            "gridwidth": 2,
            "linecolor": "white",
            "showbackground": true,
            "ticks": "",
            "zerolinecolor": "white"
           },
           "yaxis": {
            "backgroundcolor": "#E5ECF6",
            "gridcolor": "white",
            "gridwidth": 2,
            "linecolor": "white",
            "showbackground": true,
            "ticks": "",
            "zerolinecolor": "white"
           },
           "zaxis": {
            "backgroundcolor": "#E5ECF6",
            "gridcolor": "white",
            "gridwidth": 2,
            "linecolor": "white",
            "showbackground": true,
            "ticks": "",
            "zerolinecolor": "white"
           }
          },
          "shapedefaults": {
           "line": {
            "color": "#2a3f5f"
           }
          },
          "ternary": {
           "aaxis": {
            "gridcolor": "white",
            "linecolor": "white",
            "ticks": ""
           },
           "baxis": {
            "gridcolor": "white",
            "linecolor": "white",
            "ticks": ""
           },
           "bgcolor": "#E5ECF6",
           "caxis": {
            "gridcolor": "white",
            "linecolor": "white",
            "ticks": ""
           }
          },
          "title": {
           "x": 0.05
          },
          "xaxis": {
           "automargin": true,
           "gridcolor": "white",
           "linecolor": "white",
           "ticks": "",
           "title": {
            "standoff": 15
           },
           "zerolinecolor": "white",
           "zerolinewidth": 2
          },
          "yaxis": {
           "automargin": true,
           "gridcolor": "white",
           "linecolor": "white",
           "ticks": "",
           "title": {
            "standoff": 15
           },
           "zerolinecolor": "white",
           "zerolinewidth": 2
          }
         }
        },
        "xaxis": {
         "anchor": "y",
         "domain": [
          0,
          1
         ],
         "title": {
          "text": "value"
         }
        },
        "yaxis": {
         "anchor": "x",
         "domain": [
          0,
          1
         ],
         "title": {
          "text": "total_points"
         }
        }
       }
      },
      "text/html": [
       "<div>                            <div id=\"b8e4d34e-52b4-4772-9662-7bd354de14af\" class=\"plotly-graph-div\" style=\"height:525px; width:100%;\"></div>            <script type=\"text/javascript\">                require([\"plotly\"], function(Plotly) {                    window.PLOTLYENV=window.PLOTLYENV || {};                                    if (document.getElementById(\"b8e4d34e-52b4-4772-9662-7bd354de14af\")) {                    Plotly.newPlot(                        \"b8e4d34e-52b4-4772-9662-7bd354de14af\",                        [{\"customdata\": [[\"Erling Haaland\"], [\"Harry Kane\"], [\"Ivan Toney\"], [\"Ollie Watkins\"], [\"Aleksandar Mitrovi\\u0107\"], [\"Bryan Mbeumo\"], [\"Che Adams\"], [\"Brennan Johnson\"], [\"Callum Wilson\"], [\"Roberto Firmino\"], [\"Dominic Solanke\"], [\"Darwin N\\u00fa\\u00f1ez Ribeiro\"], [\"Kai Havertz\"], [\"Gabriel Fernando de Jesus\"], [\"Danny Ings\"], [\"Eddie Nketiah\"], [\"Jamie Vardy\"], [\"Kieffer Moore\"], [\"Taiwo Awoniyi\"], [\"Kelechi Iheanacho\"], [\"Odsonne Edouard\"], [\"Chris Wood\"], [\"Michail Antonio\"], [\"Patson Daka\"], [\"Juli\\u00e1n \\u00c1lvarez\"], [\"Danny Welbeck\"], [\"Gianluca Scamacca\"], [\"Adam Armstrong\"], [\"Wilfried Gnonto\"], [\"Evan Ferguson\"], [\"Patrick Bamford\"], [\"Anthony Martial\"], [\"Alexander Isak\"], [\"Carlos Vin\\u00edcius Alves Morais\"], [\"Neal Maupay\"], [\"Richarlison de Andrade\"], [\"Dominic Calvert-Lewin\"], [\"Sam Greenwood\"], [\"Jean-Philippe Mateta\"], [\"Pierre-Emerick Aubameyang\"], [\"Armando Broja\"], [\"Joe Gelhardt\"], [\"Sam Surridge\"], [\"Emmanuel Dennis\"], [\"Cristiano Ronaldo dos Santos Aveiro\"], [\"S\\u00e9kou Mara\"], [\"Diego Da Silva Costa\"], [\"Wout Weghorst\"], [\"Deniz Undav\"], [\"Ra\\u00fal Jim\\u00e9nez\"], [\"Diogo Teixeira da Silva\"], [\"Jo\\u00e3o F\\u00e9lix Sequeira\"], [\"Matheus Santos Carneiro Da Cunha\"], [\"Julio Enciso\"], [\"Salom\\u00f3n Rond\\u00f3n\"], [\"Jay Stansfield\"], [\"Cameron Archer\"], [\"Ellis Simms\"], [\"Paul Onuachu\"], [\"Antoine Semenyo\"], [\"Halil Dervi\\u015fo\\u011flu\"], [\"Georginio Rutter\"], [\"Jhon Dur\\u00e1n\"], [\"David Datro Fofana\"], [\"Thomas Cannon\"], [\"Mateo Joseph Fern\\u00e1ndez\"], [\"Divin Mubama\"], [\"Sasa Kalajdzic\"], [\"Fabio Silva\"], [\"Daniel Adu-Adjei\"], [\"Sonny Perkins\"], [\"Dominic Sadi\"], [\"Shola Shoretire\"], [\"Dwight Gayle\"], [\"Euan Pollock\"], [\"Dane Scarlett\"], [\"Christian Saydee\"], [\"Dale Taylor\"], [\"Terry Ablade\"], [\"Christian Benteke\"], [\"Timo Werner\"], [\"Troy Parrott\"], [\"Rodrigo Muniz Carvalho\"], [\"Keinan Davis\"], [\"John-Kymani Gordon\"], [\"Luke Plange\"], [\"Lyle Taylor\"], [\"Liam Delap\"], [\"Marcus Forss\"], [\"Jimmy Morgan\"], [\"Nathan Butler-Oyedeji\"], [\"Nathan Fraser\"]], \"hovertemplate\": \"position=FWD<br>value=%{x}<br>total_points=%{y}<br>name=%{customdata[0]}<extra></extra>\", \"legendgroup\": \"FWD\", \"marker\": {\"color\": \"#636efa\", \"symbol\": \"circle\"}, \"mode\": \"markers\", \"name\": \"FWD\", \"orientation\": \"v\", \"showlegend\": true, \"type\": \"scatter\", \"x\": [122, 118, 77, 71, 69, 58, 62, 57, 70, 80, 55, 87, 77, 79, 64, 68, 91, 51, 56, 61, 51, 56, 70, 56, 60, 65, 66, 54, 50, 46, 72, 64, 66, 54, 59, 84, 79, 41, 51, 84, 53, 51, 47, 57, 102, 53, 54, 59, 51, 67, 88, 76, 55, 47, 49, 45, 42, 45, 55, 50, 45, 54, 55, 50, 45, 45, 45, 53, 55, 45, 45, 45, 45, 45, 45, 45, 45, 45, 45, 55, 79, 45, 54, 54, 45, 45, 42, 44, 45, 45, 45, 45], \"xaxis\": \"x\", \"y\": [189, 157, 134, 99, 87, 83, 78, 78, 71, 71, 70, 70, 70, 69, 62, 60, 54, 53, 52, 52, 51, 50, 49, 49, 46, 45, 43, 42, 36, 36, 34, 34, 31, 28, 28, 27, 27, 26, 25, 22, 21, 21, 21, 21, 20, 19, 13, 13, 12, 11, 10, 9, 8, 8, 7, 7, 6, 5, 4, 4, 4, 4, 3, 2, 2, 2, 1, 1, 0, 0, 0, 0, 0, 0, 0, 0, 0, 0, 0, 0, 0, 0, 0, 0, 0, 0, 0, 0, 0, 0, 0, 0], \"yaxis\": \"y\"}, {\"customdata\": [[\"Marcus Rashford\"], [\"Martin \\u00d8degaard\"], [\"Bukayo Saka\"], [\"Miguel Almir\\u00f3n Rejala\"], [\"Kevin De Bruyne\"], [\"Mohamed Salah\"], [\"Gabriel Martinelli Silva\"], [\"Bruno Borges Fernandes\"], [\"Solly March\"], [\"Pascal Gro\\u00df\"], [\"James Maddison\"], [\"James Ward-Prowse\"], [\"Eberechi Eze\"], [\"Leandro Trossard\"], [\"Rodrigo Moreno\"], [\"Andreas Hoelgebaum Pereira\"], [\"Harvey Barnes\"], [\"Pierre-Emile H\\u00f8jbjerg\"], [\"Riyad Mahrez\"], [\"Granit Xhaka\"], [\"Michael Olise\"], [\"Jarrod Bowen\"], [\"Son Heung-min\"], [\"Bernardo Veiga de Carvalho e Silva\"], [\"Phil Foden\"], [\"Morgan Gibbs-White\"], [\"Alex Iwobi\"], [\"Mason Mount\"], [\"R\\u00faben da Silva Neves\"], [\"Mathias Jensen\"], [\"Douglas Luiz Soares de Paulo\"], [\"Wilfried Zaha\"], [\"Rodrigo Hernandez\"], [\"Kaoru Mitoma\"], [\"Leon Bailey\"], [\"Christian Eriksen\"], [\"Kiernan Dewsbury-Hall\"], [\"Emiliano Buend\\u00eda Stati\"], [\"Joe Willock\"], [\"Bobby De Cordova-Reid\"], [\"Ilkay G\\u00fcndogan\"], [\"Jo\\u00e3o Palhinha Gon\\u00e7alves\"], [\"Jack Grealish\"], [\"Demarai Gray\"], [\"Philip Billing\"], [\"Sean Longstaff\"], [\"Daniel Castelo Podence\"], [\"Willian Borges da Silva\"], [\"Raheem Sterling\"], [\"Rodrigo Bentancur\"], [\"Alexis Mac Allister\"], [\"Marcus Tavernier\"], [\"Jack Harrison\"], [\"Yoane Wissa\"], [\"Harrison Reed\"], [\"Declan Rice\"], [\"Bruno Guimar\\u00e3es Rodriguez Moura\"], [\"Youri Tielemans\"], [\"Joelinton C\\u00e1ssio Apolin\\u00e1rio de Lira\"], [\"Josh Dasilva\"], [\"Dejan Kulusevski\"], [\"Vitaly Janelt\"], [\"Jordan Ayew\"], [\"Brenden Aaronson\"], [\"Jorge Luiz Frello Filho\"], [\"Carlos Henrique Casimiro\"], [\"Thomas Partey\"], [\"Jefferson Lerma Sol\\u00eds\"], [\"Crysencio Summerville\"], [\"Jacob Ramsey\"], [\"Tomas Soucek\"], [\"Amadou Onana\"], [\"Jeffrey Schlupp\"], [\"Sa\\u00efd Benrahma\"], [\"Jadon Sancho\"], [\"Christian N\\u00f8rgaard\"], [\"Lucas Tolentino Coelho de Lima\"], [\"Dwight McNeil\"], [\"Adam Lallana\"], [\"Cheick Doucour\\u00e9\"], [\"Mois\\u00e9s Caicedo Corozo\"], [\"Matheus Luiz Nunes\"], [\"Jo\\u00e3o Filipe Iria Santos Moutinho\"], [\"Harvey Elliott\"], [\"Lewis Cook\"], [\"John McGinn\"], [\"Anthony Gordon\"], [\"Jaidon Anthony\"], [\"Allan Saint-Maximin\"], [\"Idrissa Gueye\"], [\"Joe Ayodele-Aribo\"], [\"Frederico Rodrigues de Paula Santos\"], [\"Tyler Adams\"], [\"Adama Traor\\u00e9 Diarra\"], [\"Antony Matheus dos Santos\"], [\"Remo Freuler\"], [\"Marc Roca Junqu\\u00e9\"], [\"Mohamed Elyounoussi\"], [\"Luis D\\u00edaz\"], [\"Ryan Yates\"], [\"Jacob Murphy\"], [\"Pablo Fornals Malla\"], [\"Boubacar Kamara\"], [\"Fabio Henrique Tavares\"], [\"Ryan Christie\"], [\"Neeskens Kebano\"], [\"Conor Gallagher\"], [\"Philippe Coutinho Correia\"], [\"Stuart Armstrong\"], [\"Jordan Henderson\"], [\"Christian Pulisic\"], [\"F\\u00e1bio Ferreira Vieira\"], [\"Jesse Lingard\"], [\"Hwang Hee-chan\"], [\"Gon\\u00e7alo Manuel Ganchinho Guedes\"], [\"Alejandro Garnacho\"], [\"Ruben Loftus-Cheek\"], [\"Thiago Alc\\u00e1ntara do Nascimento\"], [\"Rom\\u00e9o Lavia\"], [\"Mateo Kovacic\"], [\"Cheikhou Kouyat\\u00e9\"], [\"Boubakary Soumar\\u00e9\"], [\"Tom Cairney\"], [\"Daniel James\"], [\"Luis Sinisterra Lucum\\u00ed\"], [\"F\\u00e1bio Freitas Gouveia Carvalho\"], [\"James Milner\"], [\"Leander Dendoncker\"], [\"Yves Bissouma\"], [\"Dennis Praet\"], [\"Orel Mangala\"], [\"Anthony Elanga\"], [\"Samuel Edozie\"], [\"Hakim Ziyech\"], [\"Lewis O'Brien\"], [\"Harry Wilson\"], [\"Alex Oxlade-Chamberlain\"], [\"Wilfred Ndidi\"], [\"Ayoze P\\u00e9rez\"], [\"Cody Gakpo\"], [\"Reiss Nelson\"], [\"Ainsley Maitland-Niles\"], [\"Nampalys Mendy\"], [\"Moussa Djenepo\"], [\"Shandon Baptiste\"], [\"Scott McTominay\"], [\"Frank Onyeka\"], [\"Pedro Lomba Neto\"], [\"Ibrahima Diallo\"], [\"Stefan Bajcetic\"], [\"Abdoulaye Doucour\\u00e9\"], [\"Manor Solomon\"], [\"Flynn Downes\"], [\"Will Hughes\"], [\"Dango Ouattara\"], [\"Jeremy Sarmiento Morante\"], [\"Tom Davies\"], [\"Luka Milivojevic\"], [\"Keane Lewis-Potter\"], [\"Mateusz Klich\"], [\"Marc Albrighton\"], [\"Carlos Alcaraz\"], [\"Carney Chukwuemeka\"], [\"Mikkel Damsgaard\"], [\"Mateus Cardoso Lemos Martins\"], [\"Denis Zakaria\"], [\"Albert Sambi Lokonga\"], [\"Boubacar Traor\\u00e9\"], [\"Oliver Skipp\"], [\"Enzo Fern\\u00e1ndez\"], [\"Elliot Anderson\"], [\"Jack Colback\"], [\"Bryan Gil Salvatierra\"], [\"Enock Mwepu\"], [\"Ryan Fraser\"], [\"Joe Rothwell\"], [\"Naby Keita\"], [\"Saman Ghoddos\"], [\"Donny van de Beek\"], [\"Lucas Rodrigues Moura da Silva\"], [\"Ben Pearson\"], [\"Marcel Sabitzer\"], [\"Hamed Traor\\u00e8\"], [\"Lewis Hall\"], [\"Cole Palmer\"], [\"Billy Gilmour\"], [\"Jo\\u00e3o Victor Gomes da Silva\"], [\"Adam Forshaw\"], [\"Siriki Demb\\u00e9l\\u00e9\"], [\"Mohamed Elneny\"], [\"Pape Matar Sarr\"], [\"Jonjo Shelvey\"], [\"Curtis Jones\"], [\"Chem Campbell\"], [\"Maxwel Cornet\"], [\"Mykhailo Mudryk\"], [\"Pablo Sarabia\"], [\"Noni Madueke\"], [\"Theo Walcott\"], [\"Emile Smith Rowe\"], [\"Manuel Lanzini\"], [\"James Garner\"], [\"N'Golo Kant\\u00e9\"], [\"Weston McKennie\"], [\"Junior Stanislas\"], [\"Kalvin Phillips\"], [\"Jairo Riedewald\"], [\"Kamaldeen Sulemana\"], [\"Joseph Hodge\"], [\"Jamal Lowe\"], [\"Mario Lemina\"], [\"Gustavo Henrique Furtado Scarpa\"], [\"Malcolm Ebiowei\"], [\"Andr\\u00e9 Ayew\"], [\"Naouirou Ahamada\"], [\"Kevin Schade\"], [\"Luke Harris\"], [\"Ben Doak\"], [\"Dele Alli\"], [\"Josh Onomah\"], [\"Morgan Sanson\"], [\"Oriol Romeu Vidal\"], [\"Danilo dos Santos de Oliveira\"], [\"Facundo Buonanotte\"], [\"Kobbie Mainoo\"], [\"Mislav Orsic\"], [\"Ethan Nwaneri\"], [\"Carlos Ribeiro Dias\"], [\"Darko Gyabi\"], [\"Facundo Pellistri Rebollo\"], [\"Omari Hutchinson\"], [\"Alex Mighten\"], [\"Nathan Redmond\"], [\"Nathaniel Chalobah\"], [\"Connor Ronan\"], [\"Conor Coventry\"], [\"David Ozoh\"], [\"Emiliano Marcondes\"], [\"Marcus Oliveira Alencar\"], [\"Harvey White\"], [\"Arnaut Danjuma\"], [\"Tyrese Francois\"], [\"Andrew Moran\"], [\"Sasa Lukic\"], [\"Bobby Clark\"], [\"Ryan Trevitt\"], [\"Sammy Braybrooke\"], [\"Stanley Mills\"], [\"Ross Barkley\"], [\"David Brooks\"], [\"Ryan Finnigan\"], [\"Amad Diallo\"], [\"Arthur Henrique Ramos de Oliveira Melo\"], [\"Armstrong Oko-Flex\"], [\"Archie Gray\"], [\"Anwar El Ghazi\"], [\"Wanya Mar\\u00e7al-Madivadua\"], [\"Anthony Knockaert\"], [\"Andr\\u00e9 Tavares Gomes\"], [\"Andros Townsend\"], [\"Andrey Nascimento dos Santos\"], [\"Amario Cozier-Duberry\"], [\"Will Smallbone\"], [\"Allan Marques Loureiro\"], [\"Alfie Devine\"], [\"Xande Nascimento da Costa Silva\"], [\"Yasin Ayari\"], [\"Yegor Yarmolyuk\"], [\"Zidane Iqbal\"], [\"Tim Iroegbunam\"], [\"Steven Alzate\"], [\"Steven Bergwijn\"], [\"Claudio Gomes\"], [\"Taylor Richards\"], [\"Tyler Roberts\"], [\"Callum Hudson-Odoi\"], [\"Braian Ojeda Rodr\\u00edguez\"], [\"Bertrand Traor\\u00e9\"], [\"Ben Knight\"], [\"Kasey McAteer\"], [\"Matthew Smith\"], [\"Kaden Rodney\"], [\"Joe Lolley\"], [\"Michael Dacosta Gonzalez\"], [\"Kadan Young\"], [\"Kacper Koz\\u0142owski\"], [\"M\\u00e1ximo Perrone\"], [\"Killian Phillips\"], [\"Lucas Torreira di Pascua\"], [\"Mads Bidstrup\"], [\"Lewis Warrington\"], [\"Lewis Payne\"], [\"Lewis Miley\"], [\"Lewis Bate\"], [\"Martial Godo\"], [\"Kristian Sekularac\"], [\"Marvelous Nakamba\"], [\"Jack Wells-Morrison\"], [\"Jack Hinshelwood\"], [\"Ivan Neves Abreu Cavaleiro\"], [\"Isaac Price\"], [\"Raphael Dias Belloli\"], [\"Harvey Vale\"], [\"Harvey Griffiths\"], [\"Luke Cundle\"], [\"Harry Arter\"], [\"Hamza Choudhury\"], [\"Garang Kuol\"], [\"Francisco Jorge Tom\\u00e1s Oliveira\"], [\"Jaden Philogene-Bidace\"], [\"Jakub Moder\"], [\"Jesurun Rak-Sakyi\"], [\"Nathan Tella\"], [\"Jeff Hendrick\"], [\"Jean-Philippe Gbamin\"], [\"Nicolas P\\u00e9p\\u00e9\"], [\"Nikola Vlasic\"], [\"Jamie Shackleton\"], [\"James McAtee\"], [\"Oliver Hammond\"], [\"James McArthur\"], [\"Harry Winks\"]], \"hovertemplate\": \"position=MID<br>value=%{x}<br>total_points=%{y}<br>name=%{customdata[0]}<extra></extra>\", \"legendgroup\": \"MID\", \"marker\": {\"color\": \"#EF553B\", \"symbol\": \"circle\"}, \"mode\": \"markers\", \"name\": \"MID\", \"orientation\": \"v\", \"showlegend\": true, \"type\": \"scatter\", \"x\": [73, 70, 84, 56, 124, 126, 65, 99, 51, 55, 81, 62, 54, 66, 63, 44, 67, 55, 78, 49, 54, 80, 116, 68, 80, 55, 54, 73, 54, 48, 48, 72, 56, 54, 44, 63, 49, 57, 47, 55, 73, 49, 68, 53, 51, 43, 53, 55, 97, 54, 54, 47, 58, 53, 44, 47, 55, 61, 59, 41, 79, 55, 53, 54, 58, 49, 47, 48, 42, 52, 51, 48, 47, 55, 71, 53, 59, 51, 49, 50, 50, 48, 47, 49, 49, 51, 51, 52, 61, 49, 51, 51, 49, 54, 73, 49, 48, 52, 78, 50, 42, 49, 48, 52, 53, 54, 57, 66, 47, 53, 57, 56, 54, 57, 58, 42, 50, 51, 45, 49, 44, 44, 47, 60, 65, 51, 44, 47, 47, 48, 49, 47, 47, 55, 48, 57, 49, 48, 47, 77, 47, 48, 43, 50, 45, 49, 48, 49, 42, 44, 53, 49, 42, 48, 50, 45, 49, 42, 52, 46, 47, 50, 43, 51, 55, 49, 43, 43, 43, 50, 44, 41, 50, 53, 52, 49, 47, 48, 51, 58, 44, 50, 45, 44, 43, 42, 45, 44, 47, 41, 42, 48, 49, 44, 59, 69, 55, 55, 48, 56, 51, 45, 48, 50, 48, 48, 43, 50, 44, 52, 45, 50, 42, 50, 45, 50, 44, 45, 53, 43, 43, 48, 45, 45, 45, 53, 45, 42, 43, 43, 43, 49, 53, 44, 44, 44, 45, 47, 46, 44, 65, 44, 45, 45, 45, 44, 45, 44, 49, 53, 45, 44, 48, 44, 45, 48, 45, 47, 45, 54, 45, 45, 45, 48, 43, 50, 45, 45, 42, 45, 44, 55, 45, 45, 50, 53, 45, 49, 45, 45, 45, 45, 49, 44, 45, 45, 45, 45, 45, 45, 44, 45, 45, 45, 45, 45, 43, 45, 45, 48, 45, 70, 45, 44, 44, 41, 45, 45, 50, 45, 44, 45, 50, 45, 45, 53, 50, 45, 45, 43, 48, 44], \"xaxis\": \"x\", \"y\": [156, 144, 138, 128, 126, 124, 124, 120, 106, 103, 98, 95, 95, 95, 95, 94, 94, 93, 90, 89, 88, 87, 87, 86, 85, 84, 84, 83, 83, 82, 81, 81, 78, 78, 77, 77, 76, 76, 76, 75, 75, 75, 74, 74, 73, 72, 72, 72, 72, 71, 70, 70, 69, 69, 69, 68, 68, 67, 66, 66, 65, 64, 63, 60, 59, 58, 58, 58, 57, 57, 56, 55, 55, 55, 55, 53, 52, 51, 49, 49, 48, 48, 47, 46, 45, 45, 45, 45, 45, 45, 44, 43, 43, 43, 43, 41, 41, 40, 39, 39, 39, 39, 37, 37, 37, 35, 35, 33, 32, 32, 31, 31, 30, 29, 29, 29, 28, 28, 28, 27, 27, 27, 26, 26, 25, 25, 25, 24, 24, 24, 24, 23, 23, 22, 22, 21, 21, 21, 21, 21, 20, 20, 20, 20, 19, 19, 18, 18, 17, 17, 17, 16, 16, 15, 15, 14, 14, 14, 14, 13, 13, 13, 12, 12, 12, 12, 12, 12, 12, 11, 11, 11, 11, 11, 11, 11, 11, 10, 9, 9, 9, 8, 8, 8, 8, 8, 8, 7, 7, 7, 6, 6, 6, 5, 5, 5, 5, 5, 5, 5, 5, 5, 5, 4, 4, 4, 4, 4, 4, 3, 3, 3, 3, 3, 3, 3, 3, 2, 2, 2, 2, 2, 2, 2, 1, 1, 1, 1, 1, 1, 1, 1, 1, 1, 1, 1, 1, 1, 1, 1, 1, 1, 1, 1, 1, 0, 0, 0, 0, 0, 0, 0, 0, 0, 0, 0, 0, 0, 0, 0, 0, 0, 0, 0, 0, 0, 0, 0, 0, 0, 0, 0, 0, 0, 0, 0, 0, 0, 0, 0, 0, 0, 0, 0, 0, 0, 0, 0, 0, 0, 0, 0, 0, 0, 0, 0, 0, 0, 0, 0, 0, 0, 0, 0, 0, 0, 0, 0, 0, 0, 0, 0, 0, 0, 0, 0, 0, 0, 0, 0, 0, 0], \"yaxis\": \"y\"}, {\"customdata\": [[\"Kieran Trippier\"], [\"Fabian Sch\\u00e4r\"], [\"Ben Mee\"], [\"Luke Shaw\"], [\"William Saliba\"], [\"Dan Burn\"], [\"Sven Botman\"], [\"Gabriel dos Santos Magalh\\u00e3es\"], [\"Benjamin White\"], [\"Tim Ream\"], [\"Trent Alexander-Arnold\"], [\"Ben Davies\"], [\"Ben Davies\"], [\"Timothy Castagne\"], [\"Andrew Robertson\"], [\"Eric Dier\"], [\"Rico Henry\"], [\"Jo\\u00e3o Cancelo\"], [\"Thiago Emiliano da Silva\"], [\"Ivan Peri\\u0161i\\u0107\"], [\"Max Kilman\"], [\"Conor Coady\"], [\"James Tarkowski\"], [\"Diogo Dalot Teixeira\"], [\"Emerson Leite de Souza Junior\"], [\"Pascal Struijk\"], [\"Virgil van Dijk\"], [\"Kenny Tete\"], [\"Lewis Dunk\"], [\"Serge Aurier\"], [\"Antonee Robinson\"], [\"Pervis Estupi\\u00f1\\u00e1n\"], [\"Joseph Gomez\"], [\"Oleksandr Zinchenko\"], [\"Issa Diop\"], [\"Vitalii Mykolenko\"], [\"Jo\\u00ebl Veltman\"], [\"Tyrone Mings\"], [\"Ashley Young\"], [\"Lisandro Mart\\u00ednez\"], [\"Marc Cucurella Saseta\"], [\"Kurt Zouma\"], [\"John Stones\"], [\"Ezri Konsa Ngoyo\"], [\"Rapha\\u00ebl Varane\"], [\"Ethan Pinnock\"], [\"Marc Gu\\u00e9hi\"], [\"Romain Perraud\"], [\"Joachim Andersen\"], [\"Tyrell Malacia\"], [\"Seamus Coleman\"], [\"Tyrick Mitchell\"], [\"Kalidou Koulibaly\"], [\"Adam Smith\"], [\"Manuel Akanji\"], [\"Nathan Ak\\u00e9\"], [\"Joel Ward\"], [\"Daniel Amartey\"], [\"Jordan Zemura\"], [\"James Justin\"], [\"R\\u00faben Gato Alves Dias\"], [\"Robin Koch\"], [\"N\\u00e9lson Cabral Semedo\"], [\"Nathan Collins\"], [\"Aaron Cresswell\"], [\"Adam Webster\"], [\"Lucas Digne\"], [\"Neco Williams\"], [\"Mads Roerslev Rasmussen\"], [\"Willy Boly\"], [\"C\\u00e9sar Azpilicueta\"], [\"Marcos Senesi\"], [\"Cristian Romero\"], [\"Aaron Wan-Bissaka\"], [\"Rayan A\\u00eft-Nouri\"], [\"Thilo Kehrer\"], [\"Wout Faes\"], [\"Scott McKenna\"], [\"Joe Worrall\"], [\"Liam Cooper\"], [\"Renan Augusto Lodi dos Santos\"], [\"Trevoh Chalobah\"], [\"Ryan Sessegnon\"], [\"Matt Doherty\"], [\"Ben Chilwell\"], [\"Luke Ayling\"], [\"Hugo Bueno L\\u00f3pez\"], [\"Jonathan Castro Otto\"], [\"Nathaniel Clyne\"], [\"Vladimir Coufal\"], [\"Craig Dawson\"], [\"Kyle Walker-Peters\"], [\"Mohammed Salisu\"], [\"Kyle Walker\"], [\"Tosin Adarabioyo\"], [\"Cl\\u00e9ment Lenglet\"], [\"Chris Mepham\"], [\"Reece James\"], [\"Mathias Jorgensen\"], [\"Takehiro Tomiyasu\"], [\"Rasmus Kristensen\"], [\"Kristoffer Ajer\"], [\"Matty Cash\"], [\"Emerson Palmieri dos Santos\"], [\"Lloyd Kelly\"], [\"Konstantinos Tsimikas\"], [\"Nathan Patterson\"], [\"Armel Bella-Kotchap\"], [\"Harry Maguire\"], [\"Beno\\u00eet Badiashile\"], [\"Matt Targett\"], [\"Kieran Tierney\"], [\"Tariq Lamptey\"], [\"Davinson S\\u00e1nchez\"], [\"Aaron Hickey\"], [\"Victor Lindel\\u00f6f\"], [\"Aymeric Laporte\"], [\"Ben Johnson\"], [\"Harry Toffolo\"], [\"Steve Cook\"], [\"Jack Stephens\"], [\"Duje Caleta-Car\"], [\"Angelo Ogbonna\"], [\"Luke Thomas\"], [\"Pontus Jansson\"], [\"Joel Matip\"], [\"Rico Lewis\"], [\"Lyanco Silveira Neves Vojnovic\"], [\"Diego Llorente\"], [\"Levi Colwill\"], [\"Alexandre Moreno Lopera\"], [\"Yerry Mina\"], [\"Nayef Aguerd\"], [\"Chris Richards\"], [\"Toti Ant\\u00f3nio Gomes\"], [\"Maximilian W\\u00f6ber\"], [\"Mason Holgate\"], [\"Jan Bednarek\"], [\"Jonny Evans\"], [\"Ryan Fredericks\"], [\"Ibrahima Konat\\u00e9\"], [\"Rob Holding\"], [\"James Tomkins\"], [\"Kevin Mbabu\"], [\"Moussa Niakhat\\u00e9\"], [\"Sergio G\\u00f3mez\"], [\"Ben Godfrey\"], [\"Junior Firpo Adames\"], [\"Sergi Can\\u00f3s Ten\\u00e9s\"], [\"Djed Spence\"], [\"Calum Chambers\"], [\"Wesley Fofana\"], [\"Jack Stacey\"], [\"Mads Bech S\\u00f8rensen\"], [\"Victor Kristiansen\"], [\"Shane Duffy\"], [\"Juan Larios L\\u00f3pez\"], [\"Harry Souttar\"], [\"James Bree\"], [\"Matt Ritchie\"], [\"Nathaniel Phillips\"], [\"C\\u00e9dric Alves Soares\"], [\"Felipe Augusto de Almeida Monteiro\"], [\"Diego Carlos Santos Silva\"], [\"Mat\\u00edas Vi\\u00f1a\"], [\"\\u00c7aglar S\\u00f6y\\u00fcnc\\u00fc\"], [\"Japhet Tanganga\"], [\"Jan Paul van Hecke\"], [\"Ludwig Augustinsson\"], [\"Layvin Kurzawa\"], [\"Giulian Biancone\"], [\"R\\u00faben Nascimento Vinagre\"], [\"Owen Bevan\"], [\"Jamaal Lascelles\"], [\"Jamal Lewis\"], [\"Ricardo Barbosa Pereira\"], [\"Michael Keane\"], [\"Cody Drameh\"], [\"Javier Manquillo Gait\\u00e1n\"], [\"Lewis Brunt\"], [\"Emil Krafth\"], [\"Pedro Porro\"], [\"Dexter Lembikisa\"], [\"Eric Bailly\"], [\"Dominic Thompson\"], [\"Ed Turns\"], [\"Sil Swinkels\"], [\"Ethan Ampadu\"], [\"Sepp van den Berg\"], [\"Ryan Bertrand\"], [\"Diogo Pinheiro Monteiro\"], [\"Sergio Reguil\\u00f3n\"], [\"Bashir Humphreys\"], [\"Alex Telles\"], [\"Yan Valery\"], [\"Yerson Mosquera Valdelamar\"], [\"Arthur Masuaku\"], [\"Ben Greenwood\"], [\"Stefan Parkes\"], [\"Stuart Dallas\"], [\"Ciaran Clark\"], [\"Terence Kongolo\"], [\"Charlie Goode\"], [\"Calvin Ramsay\"], [\"Tino Livramento\"], [\"Brandon Williams\"], [\"Tristan Crama\"], [\"Luke Chambers\"], [\"Federico Fern\\u00e1ndez\"], [\"Kaelan Casey\"], [\"Matt Clarke\"], [\"Kaine Kesler Hayden\"], [\"Max Kinsey-Wellings\"], [\"Josh Wilson-Esbrand\"], [\"Mohamed Dr\\u00e4ger\"], [\"Jonathan Panzo\"], [\"Joe Wormleighton\"], [\"Kofi Balmer\"], [\"Luke Mbete-Tabu\"], [\"Lo\\u00efc Mbe Soh\"], [\"Lo\\u00efc Bad\\u00e9\"], [\"Malang Sarr\"], [\"Lino Sousa\"], [\"Leo Fuhr Hjelde\"], [\"Marcos Alonso\"], [\"Lamare Bogarde\"], [\"Kyle John\"], [\"Kortney Hause\"], [\"Joe Rodon\"], [\"Joe Bryan\"], [\"Phil Jones\"], [\"Illia Zabarnyi\"], [\"Haydon Roberts\"], [\"Reece Welch\"], [\"Harrison Ashby\"], [\"Rhys Bennett\"], [\"Rhys Williams\"], [\"Richie Laryea\"], [\"Robert Kenedy Nunes do Nascimento\"], [\"Fr\\u00e9d\\u00e9ric Guilbert\"], [\"Fin Stevens\"], [\"Paul Dummett\"], [\"Jakub Kiwior\"], [\"Nathan Ferguson\"], [\"Jeremiah Chilokoa-Mullen\"], [\"Jarrad Branthwaite\"], [\"Niels Nkounkou\"], [\"Jannik Vestergaard\"], [\"Nuno Varela Tavares\"], [\"Odeluga Offiah\"], [\"James Hill\"], [\"Omar Richards\"], [\"James Furlong\"], [\"Pablo Mar\\u00ed Villar\"]], \"hovertemplate\": \"position=DEF<br>value=%{x}<br>total_points=%{y}<br>name=%{customdata[0]}<extra></extra>\", \"legendgroup\": \"DEF\", \"marker\": {\"color\": \"#00cc96\", \"symbol\": \"circle\"}, \"mode\": \"markers\", \"name\": \"DEF\", \"orientation\": \"v\", \"showlegend\": true, \"type\": \"scatter\", \"x\": [61, 52, 50, 54, 53, 46, 45, 52, 47, 46, 73, 40, 48, 44, 68, 51, 45, 71, 55, 55, 44, 49, 43, 47, 49, 45, 65, 44, 47, 45, 44, 47, 43, 51, 43, 43, 46, 43, 44, 45, 51, 44, 54, 44, 48, 44, 44, 41, 45, 42, 44, 44, 55, 43, 50, 51, 44, 41, 43, 42, 59, 45, 50, 44, 47, 45, 46, 39, 43, 42, 48, 44, 49, 43, 42, 44, 42, 44, 42, 44, 43, 45, 44, 46, 58, 45, 39, 43, 45, 41, 48, 44, 44, 48, 45, 48, 44, 58, 40, 42, 48, 45, 46, 40, 43, 44, 39, 45, 47, 50, 47, 46, 42, 43, 49, 41, 57, 44, 43, 43, 43, 45, 44, 41, 42, 59, 39, 44, 44, 44, 44, 43, 48, 44, 39, 45, 43, 42, 44, 44, 48, 42, 39, 43, 43, 45, 43, 45, 50, 41, 42, 43, 43, 45, 45, 43, 40, 45, 45, 42, 39, 42, 45, 47, 45, 42, 39, 40, 43, 43, 42, 43, 40, 43, 44, 43, 42, 40, 42, 39, 43, 50, 40, 40, 40, 40, 40, 44, 40, 39, 40, 42, 45, 50, 40, 39, 45, 40, 40, 49, 45, 39, 39, 39, 44, 38, 40, 40, 44, 40, 40, 40, 40, 38, 40, 40, 40, 40, 39, 42, 45, 50, 40, 39, 53, 40, 40, 44, 40, 44, 39, 45, 40, 40, 38, 40, 40, 45, 39, 39, 40, 39, 40, 39, 40, 40, 40, 39, 45, 40, 44, 44, 40, 45], \"xaxis\": \"x\", \"y\": [154, 108, 101, 99, 98, 98, 95, 92, 91, 86, 83, 79, 79, 77, 77, 76, 76, 73, 73, 72, 71, 71, 71, 68, 68, 67, 66, 65, 65, 64, 64, 64, 63, 62, 61, 61, 61, 60, 60, 59, 58, 58, 56, 55, 55, 55, 54, 54, 52, 52, 52, 51, 50, 50, 49, 49, 48, 47, 46, 45, 45, 44, 44, 44, 43, 43, 42, 42, 42, 41, 41, 40, 40, 40, 40, 39, 39, 38, 38, 37, 36, 36, 36, 36, 36, 35, 35, 35, 34, 34, 34, 33, 33, 32, 31, 31, 30, 30, 29, 29, 29, 29, 28, 27, 27, 25, 25, 25, 24, 23, 23, 23, 22, 22, 21, 21, 21, 20, 20, 20, 19, 19, 18, 18, 18, 17, 17, 16, 16, 15, 13, 13, 13, 12, 12, 12, 12, 12, 11, 10, 9, 8, 8, 7, 7, 7, 7, 6, 5, 5, 5, 5, 5, 4, 4, 4, 4, 4, 3, 3, 3, 3, 3, 3, 2, 2, 2, 2, 2, 2, 2, 2, 1, 1, 1, 1, 1, 1, 1, 1, 1, 1, 1, 0, 0, 0, 0, 0, 0, 0, 0, 0, 0, 0, 0, 0, 0, 0, 0, 0, 0, 0, 0, 0, 0, 0, 0, 0, 0, 0, 0, 0, 0, 0, 0, 0, 0, 0, 0, 0, 0, 0, 0, 0, 0, 0, 0, 0, 0, 0, 0, 0, 0, 0, 0, 0, 0, 0, 0, 0, 0, 0, 0, 0, 0, 0, 0, 0, 0, 0, 0, 0, 0, 0], \"yaxis\": \"y\"}, {\"customdata\": [[\"David Raya Martin\"], [\"Nick Pope\"], [\"David De Gea Quintana\"], [\"Alisson Ramses Becker\"], [\"Bernd Leno\"], [\"Jos\\u00e9 Malheiro de S\\u00e1\"], [\"Aaron Ramsdale\"], [\"Vicente Guaita\"], [\"Ederson Santana de Moraes\"], [\"Dean Henderson\"], [\"Hugo Lloris\"], [\"Robert S\\u00e1nchez\"], [\"Lukasz Fabianski\"], [\"Illan Meslier\"], [\"Kepa Arrizabalaga\"], [\"Danny Ward\"], [\"Jordan Pickford\"], [\"Gavin Bazunu\"], [\"Emiliano Mart\\u00ednez Romero\"], [\"Norberto Murara Neto\"], [\"Mark Travers\"], [\"Edouard Mendy\"], [\"Robin Olsen\"], [\"Keylor Navas\"], [\"Asmir Begovi\\u0107\"], [\"Martin Dubravka\"], [\"Fraser Forster\"], [\"Marek Rod\\u00e1k\"], [\"Wayne Hennessey\"], [\"Alphonse Areola\"], [\"Daniel Iversen\"], [\"Eldin Jakupovic\"], [\"Sam Johnstone\"], [\"Daniel Bentley\"], [\"Scott Carson\"], [\"Darren Randolph\"], [\"Ellery Balcombe\"], [\"Stefan Ortega Moreno\"], [\"Viljami Sinisalo\"], [\"Will Dennis\"], [\"Willy Caballero\"], [\"Alex Smithies\"], [\"Alex McCarthy\"], [\"Adri\\u00e1n San Miguel del Castillo\"], [\"Zack Steffen\"], [\"Caoimhin Kelleher\"], [\"Thomas Strakosha\"], [\"Cameron Plain\"], [\"Brice Samba\"], [\"Tom Heaton\"], [\"Brandon Austin\"], [\"Mateusz Lis\"], [\"Kasper Schmeichel\"], [\"Karl Hein\"], [\"Matija \\u0160arki\\u0107\"], [\"Karl Darlow\"], [\"Matt Turner\"], [\"Matthew Cox\"], [\"Joseph Whitworth\"], [\"Joseph Anang\"], [\"Jordan Smith\"], [\"Joel Robles\"], [\"Kjell Scherpen\"], [\"Matej Kov\\u00e1r\"], [\"Loris Karius\"], [\"Marcus Bettinelli\"], [\"Kriszti\\u00e1n Hegyi\"], [\"Kristoffer Klaesson\"], [\"Filip Marschall\"], [\"Harvey Davies\"], [\"Paulo Gazzaniga Farias\"], [\"Jackson Smith\"], [\"Jack Butland\"], [\"Remi Matthews\"], [\"Nathan Bishop\"], [\"Jason Steele\"], [\"Oliwier Zych\"], [\"Owen Goodman\"]], \"hovertemplate\": \"position=GK<br>value=%{x}<br>total_points=%{y}<br>name=%{customdata[0]}<extra></extra>\", \"legendgroup\": \"GK\", \"marker\": {\"color\": \"#ab63fa\", \"symbol\": \"circle\"}, \"mode\": \"markers\", \"name\": \"GK\", \"orientation\": \"v\", \"showlegend\": true, \"type\": \"scatter\", \"x\": [47, 55, 50, 54, 45, 50, 49, 44, 54, 46, 55, 46, 50, 45, 47, 40, 44, 45, 49, 45, 42, 48, 39, 45, 40, 41, 39, 43, 39, 43, 38, 40, 44, 40, 38, 40, 40, 38, 40, 39, 39, 39, 43, 39, 40, 40, 43, 40, 45, 39, 39, 40, 50, 40, 39, 39, 38, 39, 40, 40, 40, 40, 40, 40, 39, 40, 40, 39, 40, 40, 40, 39, 44, 40, 40, 39, 40, 40], \"xaxis\": \"x\", \"y\": [116, 111, 104, 100, 99, 96, 91, 90, 85, 84, 83, 82, 82, 80, 80, 79, 76, 68, 62, 45, 27, 23, 16, 14, 9, 8, 8, 7, 4, 2, 0, 0, 0, 0, 0, 0, 0, 0, 0, 0, 0, 0, 0, 0, 0, 0, 0, 0, 0, 0, 0, 0, 0, 0, 0, 0, 0, 0, 0, 0, 0, 0, 0, 0, 0, 0, 0, 0, 0, 0, 0, 0, 0, 0, 0, 0, 0, 0], \"yaxis\": \"y\"}],                        {\"legend\": {\"title\": {\"text\": \"position\"}, \"tracegroupgap\": 0}, \"margin\": {\"t\": 60}, \"template\": {\"data\": {\"bar\": [{\"error_x\": {\"color\": \"#2a3f5f\"}, \"error_y\": {\"color\": \"#2a3f5f\"}, \"marker\": {\"line\": {\"color\": \"#E5ECF6\", \"width\": 0.5}}, \"type\": \"bar\"}], \"barpolar\": [{\"marker\": {\"line\": {\"color\": \"#E5ECF6\", \"width\": 0.5}}, \"type\": \"barpolar\"}], \"carpet\": [{\"aaxis\": {\"endlinecolor\": \"#2a3f5f\", \"gridcolor\": \"white\", \"linecolor\": \"white\", \"minorgridcolor\": \"white\", \"startlinecolor\": \"#2a3f5f\"}, \"baxis\": {\"endlinecolor\": \"#2a3f5f\", \"gridcolor\": \"white\", \"linecolor\": \"white\", \"minorgridcolor\": \"white\", \"startlinecolor\": \"#2a3f5f\"}, \"type\": \"carpet\"}], \"choropleth\": [{\"colorbar\": {\"outlinewidth\": 0, \"ticks\": \"\"}, \"type\": \"choropleth\"}], \"contour\": [{\"colorbar\": {\"outlinewidth\": 0, \"ticks\": \"\"}, \"colorscale\": [[0.0, \"#0d0887\"], [0.1111111111111111, \"#46039f\"], [0.2222222222222222, \"#7201a8\"], [0.3333333333333333, \"#9c179e\"], [0.4444444444444444, \"#bd3786\"], [0.5555555555555556, \"#d8576b\"], [0.6666666666666666, \"#ed7953\"], [0.7777777777777778, \"#fb9f3a\"], [0.8888888888888888, \"#fdca26\"], [1.0, \"#f0f921\"]], \"type\": \"contour\"}], \"contourcarpet\": [{\"colorbar\": {\"outlinewidth\": 0, \"ticks\": \"\"}, \"type\": \"contourcarpet\"}], \"heatmap\": [{\"colorbar\": {\"outlinewidth\": 0, \"ticks\": \"\"}, \"colorscale\": [[0.0, \"#0d0887\"], [0.1111111111111111, \"#46039f\"], [0.2222222222222222, \"#7201a8\"], [0.3333333333333333, \"#9c179e\"], [0.4444444444444444, \"#bd3786\"], [0.5555555555555556, \"#d8576b\"], [0.6666666666666666, \"#ed7953\"], [0.7777777777777778, \"#fb9f3a\"], [0.8888888888888888, \"#fdca26\"], [1.0, \"#f0f921\"]], \"type\": \"heatmap\"}], \"heatmapgl\": [{\"colorbar\": {\"outlinewidth\": 0, \"ticks\": \"\"}, \"colorscale\": [[0.0, \"#0d0887\"], [0.1111111111111111, \"#46039f\"], [0.2222222222222222, \"#7201a8\"], [0.3333333333333333, \"#9c179e\"], [0.4444444444444444, \"#bd3786\"], [0.5555555555555556, \"#d8576b\"], [0.6666666666666666, \"#ed7953\"], [0.7777777777777778, \"#fb9f3a\"], [0.8888888888888888, \"#fdca26\"], [1.0, \"#f0f921\"]], \"type\": \"heatmapgl\"}], \"histogram\": [{\"marker\": {\"colorbar\": {\"outlinewidth\": 0, \"ticks\": \"\"}}, \"type\": \"histogram\"}], \"histogram2d\": [{\"colorbar\": {\"outlinewidth\": 0, \"ticks\": \"\"}, \"colorscale\": [[0.0, \"#0d0887\"], [0.1111111111111111, \"#46039f\"], [0.2222222222222222, \"#7201a8\"], [0.3333333333333333, \"#9c179e\"], [0.4444444444444444, \"#bd3786\"], [0.5555555555555556, \"#d8576b\"], [0.6666666666666666, \"#ed7953\"], [0.7777777777777778, \"#fb9f3a\"], [0.8888888888888888, \"#fdca26\"], [1.0, \"#f0f921\"]], \"type\": \"histogram2d\"}], \"histogram2dcontour\": [{\"colorbar\": {\"outlinewidth\": 0, \"ticks\": \"\"}, \"colorscale\": [[0.0, \"#0d0887\"], [0.1111111111111111, \"#46039f\"], [0.2222222222222222, \"#7201a8\"], [0.3333333333333333, \"#9c179e\"], [0.4444444444444444, \"#bd3786\"], [0.5555555555555556, \"#d8576b\"], [0.6666666666666666, \"#ed7953\"], [0.7777777777777778, \"#fb9f3a\"], [0.8888888888888888, \"#fdca26\"], [1.0, \"#f0f921\"]], \"type\": \"histogram2dcontour\"}], \"mesh3d\": [{\"colorbar\": {\"outlinewidth\": 0, \"ticks\": \"\"}, \"type\": \"mesh3d\"}], \"parcoords\": [{\"line\": {\"colorbar\": {\"outlinewidth\": 0, \"ticks\": \"\"}}, \"type\": \"parcoords\"}], \"pie\": [{\"automargin\": true, \"type\": \"pie\"}], \"scatter\": [{\"marker\": {\"colorbar\": {\"outlinewidth\": 0, \"ticks\": \"\"}}, \"type\": \"scatter\"}], \"scatter3d\": [{\"line\": {\"colorbar\": {\"outlinewidth\": 0, \"ticks\": \"\"}}, \"marker\": {\"colorbar\": {\"outlinewidth\": 0, \"ticks\": \"\"}}, \"type\": \"scatter3d\"}], \"scattercarpet\": [{\"marker\": {\"colorbar\": {\"outlinewidth\": 0, \"ticks\": \"\"}}, \"type\": \"scattercarpet\"}], \"scattergeo\": [{\"marker\": {\"colorbar\": {\"outlinewidth\": 0, \"ticks\": \"\"}}, \"type\": \"scattergeo\"}], \"scattergl\": [{\"marker\": {\"colorbar\": {\"outlinewidth\": 0, \"ticks\": \"\"}}, \"type\": \"scattergl\"}], \"scattermapbox\": [{\"marker\": {\"colorbar\": {\"outlinewidth\": 0, \"ticks\": \"\"}}, \"type\": \"scattermapbox\"}], \"scatterpolar\": [{\"marker\": {\"colorbar\": {\"outlinewidth\": 0, \"ticks\": \"\"}}, \"type\": \"scatterpolar\"}], \"scatterpolargl\": [{\"marker\": {\"colorbar\": {\"outlinewidth\": 0, \"ticks\": \"\"}}, \"type\": \"scatterpolargl\"}], \"scatterternary\": [{\"marker\": {\"colorbar\": {\"outlinewidth\": 0, \"ticks\": \"\"}}, \"type\": \"scatterternary\"}], \"surface\": [{\"colorbar\": {\"outlinewidth\": 0, \"ticks\": \"\"}, \"colorscale\": [[0.0, \"#0d0887\"], [0.1111111111111111, \"#46039f\"], [0.2222222222222222, \"#7201a8\"], [0.3333333333333333, \"#9c179e\"], [0.4444444444444444, \"#bd3786\"], [0.5555555555555556, \"#d8576b\"], [0.6666666666666666, \"#ed7953\"], [0.7777777777777778, \"#fb9f3a\"], [0.8888888888888888, \"#fdca26\"], [1.0, \"#f0f921\"]], \"type\": \"surface\"}], \"table\": [{\"cells\": {\"fill\": {\"color\": \"#EBF0F8\"}, \"line\": {\"color\": \"white\"}}, \"header\": {\"fill\": {\"color\": \"#C8D4E3\"}, \"line\": {\"color\": \"white\"}}, \"type\": \"table\"}]}, \"layout\": {\"annotationdefaults\": {\"arrowcolor\": \"#2a3f5f\", \"arrowhead\": 0, \"arrowwidth\": 1}, \"coloraxis\": {\"colorbar\": {\"outlinewidth\": 0, \"ticks\": \"\"}}, \"colorscale\": {\"diverging\": [[0, \"#8e0152\"], [0.1, \"#c51b7d\"], [0.2, \"#de77ae\"], [0.3, \"#f1b6da\"], [0.4, \"#fde0ef\"], [0.5, \"#f7f7f7\"], [0.6, \"#e6f5d0\"], [0.7, \"#b8e186\"], [0.8, \"#7fbc41\"], [0.9, \"#4d9221\"], [1, \"#276419\"]], \"sequential\": [[0.0, \"#0d0887\"], [0.1111111111111111, \"#46039f\"], [0.2222222222222222, \"#7201a8\"], [0.3333333333333333, \"#9c179e\"], [0.4444444444444444, \"#bd3786\"], [0.5555555555555556, \"#d8576b\"], [0.6666666666666666, \"#ed7953\"], [0.7777777777777778, \"#fb9f3a\"], [0.8888888888888888, \"#fdca26\"], [1.0, \"#f0f921\"]], \"sequentialminus\": [[0.0, \"#0d0887\"], [0.1111111111111111, \"#46039f\"], [0.2222222222222222, \"#7201a8\"], [0.3333333333333333, \"#9c179e\"], [0.4444444444444444, \"#bd3786\"], [0.5555555555555556, \"#d8576b\"], [0.6666666666666666, \"#ed7953\"], [0.7777777777777778, \"#fb9f3a\"], [0.8888888888888888, \"#fdca26\"], [1.0, \"#f0f921\"]]}, \"colorway\": [\"#636efa\", \"#EF553B\", \"#00cc96\", \"#ab63fa\", \"#FFA15A\", \"#19d3f3\", \"#FF6692\", \"#B6E880\", \"#FF97FF\", \"#FECB52\"], \"font\": {\"color\": \"#2a3f5f\"}, \"geo\": {\"bgcolor\": \"white\", \"lakecolor\": \"white\", \"landcolor\": \"#E5ECF6\", \"showlakes\": true, \"showland\": true, \"subunitcolor\": \"white\"}, \"hoverlabel\": {\"align\": \"left\"}, \"hovermode\": \"closest\", \"mapbox\": {\"style\": \"light\"}, \"paper_bgcolor\": \"white\", \"plot_bgcolor\": \"#E5ECF6\", \"polar\": {\"angularaxis\": {\"gridcolor\": \"white\", \"linecolor\": \"white\", \"ticks\": \"\"}, \"bgcolor\": \"#E5ECF6\", \"radialaxis\": {\"gridcolor\": \"white\", \"linecolor\": \"white\", \"ticks\": \"\"}}, \"scene\": {\"xaxis\": {\"backgroundcolor\": \"#E5ECF6\", \"gridcolor\": \"white\", \"gridwidth\": 2, \"linecolor\": \"white\", \"showbackground\": true, \"ticks\": \"\", \"zerolinecolor\": \"white\"}, \"yaxis\": {\"backgroundcolor\": \"#E5ECF6\", \"gridcolor\": \"white\", \"gridwidth\": 2, \"linecolor\": \"white\", \"showbackground\": true, \"ticks\": \"\", \"zerolinecolor\": \"white\"}, \"zaxis\": {\"backgroundcolor\": \"#E5ECF6\", \"gridcolor\": \"white\", \"gridwidth\": 2, \"linecolor\": \"white\", \"showbackground\": true, \"ticks\": \"\", \"zerolinecolor\": \"white\"}}, \"shapedefaults\": {\"line\": {\"color\": \"#2a3f5f\"}}, \"ternary\": {\"aaxis\": {\"gridcolor\": \"white\", \"linecolor\": \"white\", \"ticks\": \"\"}, \"baxis\": {\"gridcolor\": \"white\", \"linecolor\": \"white\", \"ticks\": \"\"}, \"bgcolor\": \"#E5ECF6\", \"caxis\": {\"gridcolor\": \"white\", \"linecolor\": \"white\", \"ticks\": \"\"}}, \"title\": {\"x\": 0.05}, \"xaxis\": {\"automargin\": true, \"gridcolor\": \"white\", \"linecolor\": \"white\", \"ticks\": \"\", \"title\": {\"standoff\": 15}, \"zerolinecolor\": \"white\", \"zerolinewidth\": 2}, \"yaxis\": {\"automargin\": true, \"gridcolor\": \"white\", \"linecolor\": \"white\", \"ticks\": \"\", \"title\": {\"standoff\": 15}, \"zerolinecolor\": \"white\", \"zerolinewidth\": 2}}}, \"xaxis\": {\"anchor\": \"y\", \"domain\": [0.0, 1.0], \"title\": {\"text\": \"value\"}}, \"yaxis\": {\"anchor\": \"x\", \"domain\": [0.0, 1.0], \"title\": {\"text\": \"total_points\"}}},                        {\"responsive\": true}                    ).then(function(){\n",
       "                            \n",
       "var gd = document.getElementById('b8e4d34e-52b4-4772-9662-7bd354de14af');\n",
       "var x = new MutationObserver(function (mutations, observer) {{\n",
       "        var display = window.getComputedStyle(gd).display;\n",
       "        if (!display || display === 'none') {{\n",
       "            console.log([gd, 'removed!']);\n",
       "            Plotly.purge(gd);\n",
       "            observer.disconnect();\n",
       "        }}\n",
       "}});\n",
       "\n",
       "// Listen for the removal of the full notebook cells\n",
       "var notebookContainer = gd.closest('#notebook-container');\n",
       "if (notebookContainer) {{\n",
       "    x.observe(notebookContainer, {childList: true});\n",
       "}}\n",
       "\n",
       "// Listen for the clearing of the current output cell\n",
       "var outputEl = gd.closest('.output');\n",
       "if (outputEl) {{\n",
       "    x.observe(outputEl, {childList: true});\n",
       "}}\n",
       "\n",
       "                        })                };                });            </script>        </div>"
      ]
     },
     "metadata": {},
     "output_type": "display_data"
    }
   ],
   "source": [
    "px.scatter(agg_points_val, x= 'value', y= 'total_points', color= 'position', hover_data=['name']).show()"
   ]
  },
  {
   "cell_type": "code",
   "execution_count": 28,
   "id": "9559e38a",
   "metadata": {},
   "outputs": [],
   "source": [
    "corr = selected.iloc[:,5:].corr()"
   ]
  },
  {
   "cell_type": "code",
   "execution_count": 38,
   "id": "bd1d55d8",
   "metadata": {},
   "outputs": [
    {
     "data": {
      "image/png": "[encoded data removed]",
      "text/plain": [
       "<Figure size 640x480 with 2 Axes>"
      ]
     },
     "metadata": {},
     "output_type": "display_data"
    }
   ],
   "source": [
    "import seaborn as sns\n",
    "import matplotlib.pyplot as plt\n",
    "plt.figure()\n",
    "sns.heatmap(corr[['total_points', 'value']], cmap=\"YlGnBu\", annot=True)\n",
    "plt.show()"
   ]
  },
  {
   "cell_type": "markdown",
   "id": "647d6e6f",
   "metadata": {},
   "source": [
    "From the above we can a strong positive correlation between `total_points` and `influence` of 0.83. Additionally, it seems `creativity` and `threat` of a player are not as descriptive of their success in earning points with a correlation coefficient of 0.46 and 0.53 respectively. The `ict_index` is a combined column from `influence`, `creativity` and `threat` columns which will introduce collinearity if included in a linear regression model but interesting to see that the combined metric lowers the correlation further evidence that `influence` may be a better predictor of `total_points`.\n",
    "Surprisingly, there is only a weak positive correlation between `value` and `total_points` which may indicated that there are a large amount of undervalued players that earn big points."
   ]
  },
  {
   "cell_type": "code",
   "execution_count": null,
   "id": "94f8e23b",
   "metadata": {},
   "outputs": [],
   "source": []
  }
 ],
 "metadata": {
  "kernelspec": {
   "display_name": "plotly_bokeh",
   "language": "python",
   "name": "plotly_bokeh"
  },
  "language_info": {
   "codemirror_mode": {
    "name": "ipython",
    "version": 3
   },
   "file_extension": ".py",
   "mimetype": "text/x-python",
   "name": "python",
   "nbconvert_exporter": "python",
   "pygments_lexer": "ipython3",
   "version": "3.8.16"
  }
 },
 "nbformat": 4,
 "nbformat_minor": 5
}
