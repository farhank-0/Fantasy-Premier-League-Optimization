{
 "cells": [
  {
   "cell_type": "markdown",
   "id": "48003689",
   "metadata": {},
   "source": [
    "Review of gameweek data for 22/23 Season GW 1-24."
   ]
  },
  {
   "cell_type": "code",
   "execution_count": 1,
   "id": "164aad22",
   "metadata": {},
   "outputs": [],
   "source": [
    "import pandas as pd\n",
    "import numpy as np\n",
    "import plotly.express as px"
   ]
  },
  {
   "cell_type": "code",
   "execution_count": 2,
   "id": "bc8d8a0e",
   "metadata": {},
   "outputs": [
    {
     "name": "stdout",
     "output_type": "stream",
     "text": [
      "(15866, 41)\n",
      "Index(['name', 'position', 'team', 'xP', 'assists', 'bonus', 'bps',\n",
      "       'clean_sheets', 'creativity', 'element', 'expected_assists',\n",
      "       'expected_goal_involvements', 'expected_goals',\n",
      "       'expected_goals_conceded', 'fixture', 'goals_conceded', 'goals_scored',\n",
      "       'ict_index', 'influence', 'kickoff_time', 'minutes', 'opponent_team',\n",
      "       'own_goals', 'penalties_missed', 'penalties_saved', 'red_cards',\n",
      "       'round', 'saves', 'selected', 'starts', 'team_a_score', 'team_h_score',\n",
      "       'threat', 'total_points', 'transfers_balance', 'transfers_in',\n",
      "       'transfers_out', 'value', 'was_home', 'yellow_cards', 'GW'],\n",
      "      dtype='object')\n"
     ]
    }
   ],
   "source": [
    "df = pd.read_csv('data/merged_gw.csv')\n",
    "print(df.shape)\n",
    "print(df.columns)"
   ]
  },
  {
   "cell_type": "code",
   "execution_count": 3,
   "id": "67f90baf",
   "metadata": {},
   "outputs": [
    {
     "data": {
      "text/html": [
       "<div>\n",
       "<style scoped>\n",
       "    .dataframe tbody tr th:only-of-type {\n",
       "        vertical-align: middle;\n",
       "    }\n",
       "\n",
       "    .dataframe tbody tr th {\n",
       "        vertical-align: top;\n",
       "    }\n",
       "\n",
       "    .dataframe thead th {\n",
       "        text-align: right;\n",
       "    }\n",
       "</style>\n",
       "<table border=\"1\" class=\"dataframe\">\n",
       "  <thead>\n",
       "    <tr style=\"text-align: right;\">\n",
       "      <th></th>\n",
       "      <th>name</th>\n",
       "      <th>position</th>\n",
       "      <th>team</th>\n",
       "      <th>xP</th>\n",
       "      <th>assists</th>\n",
       "      <th>bonus</th>\n",
       "      <th>bps</th>\n",
       "      <th>clean_sheets</th>\n",
       "      <th>creativity</th>\n",
       "      <th>element</th>\n",
       "      <th>expected_assists</th>\n",
       "      <th>expected_goal_involvements</th>\n",
       "      <th>expected_goals</th>\n",
       "      <th>expected_goals_conceded</th>\n",
       "      <th>fixture</th>\n",
       "      <th>goals_conceded</th>\n",
       "      <th>goals_scored</th>\n",
       "      <th>ict_index</th>\n",
       "      <th>influence</th>\n",
       "      <th>kickoff_time</th>\n",
       "      <th>minutes</th>\n",
       "      <th>opponent_team</th>\n",
       "      <th>own_goals</th>\n",
       "      <th>penalties_missed</th>\n",
       "      <th>penalties_saved</th>\n",
       "      <th>red_cards</th>\n",
       "      <th>round</th>\n",
       "      <th>saves</th>\n",
       "      <th>selected</th>\n",
       "      <th>starts</th>\n",
       "      <th>team_a_score</th>\n",
       "      <th>team_h_score</th>\n",
       "      <th>threat</th>\n",
       "      <th>total_points</th>\n",
       "      <th>transfers_balance</th>\n",
       "      <th>transfers_in</th>\n",
       "      <th>transfers_out</th>\n",
       "      <th>value</th>\n",
       "      <th>was_home</th>\n",
       "      <th>yellow_cards</th>\n",
       "      <th>GW</th>\n",
       "    </tr>\n",
       "  </thead>\n",
       "  <tbody>\n",
       "    <tr>\n",
       "      <th>9890</th>\n",
       "      <td>Luis Sinisterra Lucumí</td>\n",
       "      <td>MID</td>\n",
       "      <td>Leeds</td>\n",
       "      <td>0.0</td>\n",
       "      <td>0</td>\n",
       "      <td>0</td>\n",
       "      <td>0</td>\n",
       "      <td>0</td>\n",
       "      <td>0.0</td>\n",
       "      <td>508</td>\n",
       "      <td>0.00000</td>\n",
       "      <td>0.00000</td>\n",
       "      <td>0.0000</td>\n",
       "      <td>0.0000</td>\n",
       "      <td>176</td>\n",
       "      <td>0</td>\n",
       "      <td>0</td>\n",
       "      <td>0.0</td>\n",
       "      <td>0.0</td>\n",
       "      <td>2022-12-31T15:00:00Z</td>\n",
       "      <td>0</td>\n",
       "      <td>15</td>\n",
       "      <td>0</td>\n",
       "      <td>0</td>\n",
       "      <td>0</td>\n",
       "      <td>0</td>\n",
       "      <td>18</td>\n",
       "      <td>0</td>\n",
       "      <td>27383</td>\n",
       "      <td>0</td>\n",
       "      <td>0</td>\n",
       "      <td>0</td>\n",
       "      <td>0.0</td>\n",
       "      <td>0</td>\n",
       "      <td>-916</td>\n",
       "      <td>38</td>\n",
       "      <td>954</td>\n",
       "      <td>65</td>\n",
       "      <td>False</td>\n",
       "      <td>0</td>\n",
       "      <td>18.0</td>\n",
       "    </tr>\n",
       "    <tr>\n",
       "      <th>12148</th>\n",
       "      <td>Kyle Walker</td>\n",
       "      <td>DEF</td>\n",
       "      <td>Man City</td>\n",
       "      <td>2.7</td>\n",
       "      <td>0</td>\n",
       "      <td>0</td>\n",
       "      <td>11</td>\n",
       "      <td>0</td>\n",
       "      <td>15.3</td>\n",
       "      <td>299</td>\n",
       "      <td>0.02962</td>\n",
       "      <td>0.05392</td>\n",
       "      <td>0.0243</td>\n",
       "      <td>1.7499</td>\n",
       "      <td>196</td>\n",
       "      <td>2</td>\n",
       "      <td>0</td>\n",
       "      <td>3.3</td>\n",
       "      <td>11.0</td>\n",
       "      <td>2023-01-14T12:30:00Z</td>\n",
       "      <td>90</td>\n",
       "      <td>14</td>\n",
       "      <td>0</td>\n",
       "      <td>0</td>\n",
       "      <td>0</td>\n",
       "      <td>0</td>\n",
       "      <td>20</td>\n",
       "      <td>0</td>\n",
       "      <td>456854</td>\n",
       "      <td>1</td>\n",
       "      <td>1</td>\n",
       "      <td>2</td>\n",
       "      <td>7.0</td>\n",
       "      <td>1</td>\n",
       "      <td>-7388</td>\n",
       "      <td>23450</td>\n",
       "      <td>30838</td>\n",
       "      <td>48</td>\n",
       "      <td>False</td>\n",
       "      <td>0</td>\n",
       "      <td>20.0</td>\n",
       "    </tr>\n",
       "    <tr>\n",
       "      <th>14673</th>\n",
       "      <td>Mads Roerslev Rasmussen</td>\n",
       "      <td>DEF</td>\n",
       "      <td>Brentford</td>\n",
       "      <td>2.5</td>\n",
       "      <td>0</td>\n",
       "      <td>0</td>\n",
       "      <td>13</td>\n",
       "      <td>0</td>\n",
       "      <td>1.8</td>\n",
       "      <td>90</td>\n",
       "      <td>0.00000</td>\n",
       "      <td>0.00000</td>\n",
       "      <td>0.0000</td>\n",
       "      <td>1.6800</td>\n",
       "      <td>221</td>\n",
       "      <td>1</td>\n",
       "      <td>0</td>\n",
       "      <td>2.2</td>\n",
       "      <td>16.0</td>\n",
       "      <td>2023-02-11T15:00:00Z</td>\n",
       "      <td>90</td>\n",
       "      <td>1</td>\n",
       "      <td>0</td>\n",
       "      <td>0</td>\n",
       "      <td>0</td>\n",
       "      <td>0</td>\n",
       "      <td>23</td>\n",
       "      <td>0</td>\n",
       "      <td>8939</td>\n",
       "      <td>1</td>\n",
       "      <td>1</td>\n",
       "      <td>1</td>\n",
       "      <td>4.0</td>\n",
       "      <td>2</td>\n",
       "      <td>-573</td>\n",
       "      <td>135</td>\n",
       "      <td>708</td>\n",
       "      <td>43</td>\n",
       "      <td>False</td>\n",
       "      <td>0</td>\n",
       "      <td>23.0</td>\n",
       "    </tr>\n",
       "    <tr>\n",
       "      <th>932</th>\n",
       "      <td>Dominic Calvert-Lewin</td>\n",
       "      <td>FWD</td>\n",
       "      <td>Everton</td>\n",
       "      <td>0.0</td>\n",
       "      <td>0</td>\n",
       "      <td>0</td>\n",
       "      <td>0</td>\n",
       "      <td>0</td>\n",
       "      <td>0.0</td>\n",
       "      <td>191</td>\n",
       "      <td>0.00000</td>\n",
       "      <td>0.00000</td>\n",
       "      <td>0.0000</td>\n",
       "      <td>0.0000</td>\n",
       "      <td>12</td>\n",
       "      <td>0</td>\n",
       "      <td>0</td>\n",
       "      <td>0.0</td>\n",
       "      <td>0.0</td>\n",
       "      <td>2022-08-13T11:30:00Z</td>\n",
       "      <td>0</td>\n",
       "      <td>2</td>\n",
       "      <td>0</td>\n",
       "      <td>0</td>\n",
       "      <td>0</td>\n",
       "      <td>0</td>\n",
       "      <td>2</td>\n",
       "      <td>0</td>\n",
       "      <td>34136</td>\n",
       "      <td>0</td>\n",
       "      <td>1</td>\n",
       "      <td>2</td>\n",
       "      <td>0.0</td>\n",
       "      <td>0</td>\n",
       "      <td>-18059</td>\n",
       "      <td>408</td>\n",
       "      <td>18467</td>\n",
       "      <td>80</td>\n",
       "      <td>False</td>\n",
       "      <td>0</td>\n",
       "      <td>2.0</td>\n",
       "    </tr>\n",
       "    <tr>\n",
       "      <th>876</th>\n",
       "      <td>Ben Johnson</td>\n",
       "      <td>DEF</td>\n",
       "      <td>West Ham</td>\n",
       "      <td>2.0</td>\n",
       "      <td>0</td>\n",
       "      <td>0</td>\n",
       "      <td>7</td>\n",
       "      <td>0</td>\n",
       "      <td>0.2</td>\n",
       "      <td>471</td>\n",
       "      <td>0.00000</td>\n",
       "      <td>0.00000</td>\n",
       "      <td>0.0000</td>\n",
       "      <td>0.0000</td>\n",
       "      <td>18</td>\n",
       "      <td>1</td>\n",
       "      <td>0</td>\n",
       "      <td>1.4</td>\n",
       "      <td>13.6</td>\n",
       "      <td>2022-08-14T13:00:00Z</td>\n",
       "      <td>90</td>\n",
       "      <td>16</td>\n",
       "      <td>0</td>\n",
       "      <td>0</td>\n",
       "      <td>0</td>\n",
       "      <td>0</td>\n",
       "      <td>2</td>\n",
       "      <td>0</td>\n",
       "      <td>11552</td>\n",
       "      <td>0</td>\n",
       "      <td>0</td>\n",
       "      <td>1</td>\n",
       "      <td>0.0</td>\n",
       "      <td>2</td>\n",
       "      <td>514</td>\n",
       "      <td>1559</td>\n",
       "      <td>1045</td>\n",
       "      <td>45</td>\n",
       "      <td>False</td>\n",
       "      <td>0</td>\n",
       "      <td>2.0</td>\n",
       "    </tr>\n",
       "  </tbody>\n",
       "</table>\n",
       "</div>"
      ],
      "text/plain": [
       "                          name position       team   xP  assists  bonus  bps  \\\n",
       "9890    Luis Sinisterra Lucumí      MID      Leeds  0.0        0      0    0   \n",
       "12148              Kyle Walker      DEF   Man City  2.7        0      0   11   \n",
       "14673  Mads Roerslev Rasmussen      DEF  Brentford  2.5        0      0   13   \n",
       "932      Dominic Calvert-Lewin      FWD    Everton  0.0        0      0    0   \n",
       "876                Ben Johnson      DEF   West Ham  2.0        0      0    7   \n",
       "\n",
       "       clean_sheets  creativity  element  expected_assists  \\\n",
       "9890              0         0.0      508           0.00000   \n",
       "12148             0        15.3      299           0.02962   \n",
       "14673             0         1.8       90           0.00000   \n",
       "932               0         0.0      191           0.00000   \n",
       "876               0         0.2      471           0.00000   \n",
       "\n",
       "       expected_goal_involvements  expected_goals  expected_goals_conceded  \\\n",
       "9890                      0.00000          0.0000                   0.0000   \n",
       "12148                     0.05392          0.0243                   1.7499   \n",
       "14673                     0.00000          0.0000                   1.6800   \n",
       "932                       0.00000          0.0000                   0.0000   \n",
       "876                       0.00000          0.0000                   0.0000   \n",
       "\n",
       "       fixture  goals_conceded  goals_scored  ict_index  influence  \\\n",
       "9890       176               0             0        0.0        0.0   \n",
       "12148      196               2             0        3.3       11.0   \n",
       "14673      221               1             0        2.2       16.0   \n",
       "932         12               0             0        0.0        0.0   \n",
       "876         18               1             0        1.4       13.6   \n",
       "\n",
       "               kickoff_time  minutes  opponent_team  own_goals  \\\n",
       "9890   2022-12-31T15:00:00Z        0             15          0   \n",
       "12148  2023-01-14T12:30:00Z       90             14          0   \n",
       "14673  2023-02-11T15:00:00Z       90              1          0   \n",
       "932    2022-08-13T11:30:00Z        0              2          0   \n",
       "876    2022-08-14T13:00:00Z       90             16          0   \n",
       "\n",
       "       penalties_missed  penalties_saved  red_cards  round  saves  selected  \\\n",
       "9890                  0                0          0     18      0     27383   \n",
       "12148                 0                0          0     20      0    456854   \n",
       "14673                 0                0          0     23      0      8939   \n",
       "932                   0                0          0      2      0     34136   \n",
       "876                   0                0          0      2      0     11552   \n",
       "\n",
       "       starts  team_a_score  team_h_score  threat  total_points  \\\n",
       "9890        0             0             0     0.0             0   \n",
       "12148       1             1             2     7.0             1   \n",
       "14673       1             1             1     4.0             2   \n",
       "932         0             1             2     0.0             0   \n",
       "876         0             0             1     0.0             2   \n",
       "\n",
       "       transfers_balance  transfers_in  transfers_out  value  was_home  \\\n",
       "9890                -916            38            954     65     False   \n",
       "12148              -7388         23450          30838     48     False   \n",
       "14673               -573           135            708     43     False   \n",
       "932               -18059           408          18467     80     False   \n",
       "876                  514          1559           1045     45     False   \n",
       "\n",
       "       yellow_cards    GW  \n",
       "9890              0  18.0  \n",
       "12148             0  20.0  \n",
       "14673             0  23.0  \n",
       "932               0   2.0  \n",
       "876               0   2.0  "
      ]
     },
     "execution_count": 3,
     "metadata": {},
     "output_type": "execute_result"
    }
   ],
   "source": [
    "# sample of data and option to show all columns\n",
    "pd.set_option('display.max_columns', None)\n",
    "df.sample(5)"
   ]
  },
  {
   "cell_type": "code",
   "execution_count": 4,
   "id": "ecc44233",
   "metadata": {},
   "outputs": [
    {
     "data": {
      "text/plain": [
       "name                            0\n",
       "position                        0\n",
       "team                            0\n",
       "xP                              0\n",
       "assists                         0\n",
       "bonus                           0\n",
       "bps                             0\n",
       "clean_sheets                    0\n",
       "creativity                      0\n",
       "element                         0\n",
       "expected_assists                0\n",
       "expected_goal_involvements      0\n",
       "expected_goals                  0\n",
       "expected_goals_conceded         0\n",
       "fixture                         0\n",
       "goals_conceded                  0\n",
       "goals_scored                    0\n",
       "ict_index                       0\n",
       "influence                       0\n",
       "kickoff_time                    0\n",
       "minutes                         0\n",
       "opponent_team                   0\n",
       "own_goals                       0\n",
       "penalties_missed                0\n",
       "penalties_saved                 0\n",
       "red_cards                       0\n",
       "round                           0\n",
       "saves                           0\n",
       "selected                        0\n",
       "starts                          0\n",
       "team_a_score                    0\n",
       "team_h_score                    0\n",
       "threat                          0\n",
       "total_points                    0\n",
       "transfers_balance               0\n",
       "transfers_in                    0\n",
       "transfers_out                   0\n",
       "value                           0\n",
       "was_home                        0\n",
       "yellow_cards                    0\n",
       "GW                            678\n",
       "dtype: int64"
      ]
     },
     "execution_count": 4,
     "metadata": {},
     "output_type": "execute_result"
    }
   ],
   "source": [
    "# Checking for any null values\n",
    "df.isna().sum()"
   ]
  },
  {
   "cell_type": "code",
   "execution_count": 5,
   "id": "1ae66438",
   "metadata": {},
   "outputs": [
    {
     "data": {
      "text/plain": [
       "array(['2022-12-31T15:00:00Z', '2023-01-01T16:30:00Z',\n",
       "       '2022-12-30T20:00:00Z', '2022-12-31T12:30:00Z',\n",
       "       '2022-12-30T19:45:00Z', '2023-01-01T14:00:00Z',\n",
       "       '2022-12-31T17:30:00Z'], dtype=object)"
      ]
     },
     "execution_count": 5,
     "metadata": {},
     "output_type": "execute_result"
    }
   ],
   "source": [
    "# Checking which gameweek data is missing based off kickoff times and cross referencing it with PL website\n",
    "df.loc[df['GW'].isna() == True, 'kickoff_time'].unique()"
   ]
  },
  {
   "cell_type": "markdown",
   "id": "6487f049",
   "metadata": {},
   "source": [
    "All of the missing columns contain data from Gameweek 18 since kickoff times are from the date range of 2022-12-30 to 2023-01-01."
   ]
  },
  {
   "cell_type": "code",
   "execution_count": 6,
   "id": "47ef0922",
   "metadata": {},
   "outputs": [
    {
     "data": {
      "text/plain": [
       "name                          0\n",
       "position                      0\n",
       "team                          0\n",
       "xP                            0\n",
       "assists                       0\n",
       "bonus                         0\n",
       "bps                           0\n",
       "clean_sheets                  0\n",
       "creativity                    0\n",
       "element                       0\n",
       "expected_assists              0\n",
       "expected_goal_involvements    0\n",
       "expected_goals                0\n",
       "expected_goals_conceded       0\n",
       "fixture                       0\n",
       "goals_conceded                0\n",
       "goals_scored                  0\n",
       "ict_index                     0\n",
       "influence                     0\n",
       "kickoff_time                  0\n",
       "minutes                       0\n",
       "opponent_team                 0\n",
       "own_goals                     0\n",
       "penalties_missed              0\n",
       "penalties_saved               0\n",
       "red_cards                     0\n",
       "round                         0\n",
       "saves                         0\n",
       "selected                      0\n",
       "starts                        0\n",
       "team_a_score                  0\n",
       "team_h_score                  0\n",
       "threat                        0\n",
       "total_points                  0\n",
       "transfers_balance             0\n",
       "transfers_in                  0\n",
       "transfers_out                 0\n",
       "value                         0\n",
       "was_home                      0\n",
       "yellow_cards                  0\n",
       "GW                            0\n",
       "dtype: int64"
      ]
     },
     "execution_count": 6,
     "metadata": {},
     "output_type": "execute_result"
    }
   ],
   "source": [
    "# filling missing GW as a float\n",
    "df.fillna(18.0, inplace=True)\n",
    "# checking again for any na values\n",
    "df.isna().sum()"
   ]
  },
  {
   "cell_type": "code",
   "execution_count": 7,
   "id": "416ec665",
   "metadata": {},
   "outputs": [
    {
     "data": {
      "text/html": [
       "<div>\n",
       "<style scoped>\n",
       "    .dataframe tbody tr th:only-of-type {\n",
       "        vertical-align: middle;\n",
       "    }\n",
       "\n",
       "    .dataframe tbody tr th {\n",
       "        vertical-align: top;\n",
       "    }\n",
       "\n",
       "    .dataframe thead th {\n",
       "        text-align: right;\n",
       "    }\n",
       "</style>\n",
       "<table border=\"1\" class=\"dataframe\">\n",
       "  <thead>\n",
       "    <tr style=\"text-align: right;\">\n",
       "      <th></th>\n",
       "      <th>name</th>\n",
       "      <th>position</th>\n",
       "      <th>team</th>\n",
       "      <th>xP</th>\n",
       "      <th>assists</th>\n",
       "      <th>bonus</th>\n",
       "      <th>bps</th>\n",
       "      <th>clean_sheets</th>\n",
       "      <th>creativity</th>\n",
       "      <th>element</th>\n",
       "      <th>expected_assists</th>\n",
       "      <th>expected_goal_involvements</th>\n",
       "      <th>expected_goals</th>\n",
       "      <th>expected_goals_conceded</th>\n",
       "      <th>fixture</th>\n",
       "      <th>goals_conceded</th>\n",
       "      <th>goals_scored</th>\n",
       "      <th>ict_index</th>\n",
       "      <th>influence</th>\n",
       "      <th>kickoff_time</th>\n",
       "      <th>minutes</th>\n",
       "      <th>opponent_team</th>\n",
       "      <th>own_goals</th>\n",
       "      <th>penalties_missed</th>\n",
       "      <th>penalties_saved</th>\n",
       "      <th>red_cards</th>\n",
       "      <th>round</th>\n",
       "      <th>saves</th>\n",
       "      <th>selected</th>\n",
       "      <th>starts</th>\n",
       "      <th>team_a_score</th>\n",
       "      <th>team_h_score</th>\n",
       "      <th>threat</th>\n",
       "      <th>total_points</th>\n",
       "      <th>transfers_balance</th>\n",
       "      <th>transfers_in</th>\n",
       "      <th>transfers_out</th>\n",
       "      <th>value</th>\n",
       "      <th>was_home</th>\n",
       "      <th>yellow_cards</th>\n",
       "      <th>GW</th>\n",
       "    </tr>\n",
       "  </thead>\n",
       "  <tbody>\n",
       "    <tr>\n",
       "      <th>9833</th>\n",
       "      <td>Nathan Redmond</td>\n",
       "      <td>MID</td>\n",
       "      <td>Southampton</td>\n",
       "      <td>0.0</td>\n",
       "      <td>0</td>\n",
       "      <td>0</td>\n",
       "      <td>0</td>\n",
       "      <td>0</td>\n",
       "      <td>0.0</td>\n",
       "      <td>403</td>\n",
       "      <td>0.00000</td>\n",
       "      <td>0.00000</td>\n",
       "      <td>0.0000</td>\n",
       "      <td>0.0000</td>\n",
       "      <td>173</td>\n",
       "      <td>0</td>\n",
       "      <td>0</td>\n",
       "      <td>0.0</td>\n",
       "      <td>0.0</td>\n",
       "      <td>2022-12-31T15:00:00Z</td>\n",
       "      <td>0</td>\n",
       "      <td>9</td>\n",
       "      <td>0</td>\n",
       "      <td>0</td>\n",
       "      <td>0</td>\n",
       "      <td>0</td>\n",
       "      <td>18</td>\n",
       "      <td>0</td>\n",
       "      <td>2958</td>\n",
       "      <td>0</td>\n",
       "      <td>1</td>\n",
       "      <td>2</td>\n",
       "      <td>0.0</td>\n",
       "      <td>0</td>\n",
       "      <td>-28</td>\n",
       "      <td>0</td>\n",
       "      <td>28</td>\n",
       "      <td>53</td>\n",
       "      <td>False</td>\n",
       "      <td>0</td>\n",
       "      <td>18.0</td>\n",
       "    </tr>\n",
       "    <tr>\n",
       "      <th>9834</th>\n",
       "      <td>Junior Stanislas</td>\n",
       "      <td>MID</td>\n",
       "      <td>Bournemouth</td>\n",
       "      <td>0.0</td>\n",
       "      <td>0</td>\n",
       "      <td>0</td>\n",
       "      <td>0</td>\n",
       "      <td>0</td>\n",
       "      <td>0.0</td>\n",
       "      <td>58</td>\n",
       "      <td>0.00000</td>\n",
       "      <td>0.00000</td>\n",
       "      <td>0.0000</td>\n",
       "      <td>0.0000</td>\n",
       "      <td>171</td>\n",
       "      <td>0</td>\n",
       "      <td>0</td>\n",
       "      <td>0.0</td>\n",
       "      <td>0.0</td>\n",
       "      <td>2022-12-31T15:00:00Z</td>\n",
       "      <td>0</td>\n",
       "      <td>7</td>\n",
       "      <td>0</td>\n",
       "      <td>0</td>\n",
       "      <td>0</td>\n",
       "      <td>0</td>\n",
       "      <td>18</td>\n",
       "      <td>0</td>\n",
       "      <td>2454</td>\n",
       "      <td>0</td>\n",
       "      <td>2</td>\n",
       "      <td>0</td>\n",
       "      <td>0.0</td>\n",
       "      <td>0</td>\n",
       "      <td>-37</td>\n",
       "      <td>16</td>\n",
       "      <td>53</td>\n",
       "      <td>48</td>\n",
       "      <td>True</td>\n",
       "      <td>0</td>\n",
       "      <td>18.0</td>\n",
       "    </tr>\n",
       "    <tr>\n",
       "      <th>9835</th>\n",
       "      <td>Armando Broja</td>\n",
       "      <td>FWD</td>\n",
       "      <td>Chelsea</td>\n",
       "      <td>0.0</td>\n",
       "      <td>0</td>\n",
       "      <td>0</td>\n",
       "      <td>0</td>\n",
       "      <td>0</td>\n",
       "      <td>0.0</td>\n",
       "      <td>150</td>\n",
       "      <td>0.00000</td>\n",
       "      <td>0.00000</td>\n",
       "      <td>0.0000</td>\n",
       "      <td>0.0000</td>\n",
       "      <td>177</td>\n",
       "      <td>0</td>\n",
       "      <td>0</td>\n",
       "      <td>0.0</td>\n",
       "      <td>0.0</td>\n",
       "      <td>2023-01-01T16:30:00Z</td>\n",
       "      <td>0</td>\n",
       "      <td>16</td>\n",
       "      <td>0</td>\n",
       "      <td>0</td>\n",
       "      <td>0</td>\n",
       "      <td>0</td>\n",
       "      <td>18</td>\n",
       "      <td>0</td>\n",
       "      <td>48382</td>\n",
       "      <td>0</td>\n",
       "      <td>1</td>\n",
       "      <td>1</td>\n",
       "      <td>0.0</td>\n",
       "      <td>0</td>\n",
       "      <td>-4881</td>\n",
       "      <td>100</td>\n",
       "      <td>4981</td>\n",
       "      <td>53</td>\n",
       "      <td>False</td>\n",
       "      <td>0</td>\n",
       "      <td>18.0</td>\n",
       "    </tr>\n",
       "    <tr>\n",
       "      <th>9836</th>\n",
       "      <td>Fabian Schär</td>\n",
       "      <td>DEF</td>\n",
       "      <td>Newcastle</td>\n",
       "      <td>6.0</td>\n",
       "      <td>0</td>\n",
       "      <td>0</td>\n",
       "      <td>17</td>\n",
       "      <td>1</td>\n",
       "      <td>4.2</td>\n",
       "      <td>366</td>\n",
       "      <td>0.19894</td>\n",
       "      <td>0.52454</td>\n",
       "      <td>0.3256</td>\n",
       "      <td>0.4746</td>\n",
       "      <td>176</td>\n",
       "      <td>0</td>\n",
       "      <td>0</td>\n",
       "      <td>4.1</td>\n",
       "      <td>7.6</td>\n",
       "      <td>2022-12-31T15:00:00Z</td>\n",
       "      <td>90</td>\n",
       "      <td>11</td>\n",
       "      <td>0</td>\n",
       "      <td>0</td>\n",
       "      <td>0</td>\n",
       "      <td>0</td>\n",
       "      <td>18</td>\n",
       "      <td>0</td>\n",
       "      <td>1283324</td>\n",
       "      <td>1</td>\n",
       "      <td>0</td>\n",
       "      <td>0</td>\n",
       "      <td>29.0</td>\n",
       "      <td>6</td>\n",
       "      <td>57864</td>\n",
       "      <td>85844</td>\n",
       "      <td>27980</td>\n",
       "      <td>49</td>\n",
       "      <td>True</td>\n",
       "      <td>0</td>\n",
       "      <td>18.0</td>\n",
       "    </tr>\n",
       "    <tr>\n",
       "      <th>9837</th>\n",
       "      <td>Jonny Evans</td>\n",
       "      <td>DEF</td>\n",
       "      <td>Leicester</td>\n",
       "      <td>0.0</td>\n",
       "      <td>0</td>\n",
       "      <td>0</td>\n",
       "      <td>0</td>\n",
       "      <td>0</td>\n",
       "      <td>0.0</td>\n",
       "      <td>249</td>\n",
       "      <td>0.00000</td>\n",
       "      <td>0.00000</td>\n",
       "      <td>0.0000</td>\n",
       "      <td>0.0000</td>\n",
       "      <td>174</td>\n",
       "      <td>0</td>\n",
       "      <td>0</td>\n",
       "      <td>0.0</td>\n",
       "      <td>0.0</td>\n",
       "      <td>2022-12-30T20:00:00Z</td>\n",
       "      <td>0</td>\n",
       "      <td>12</td>\n",
       "      <td>0</td>\n",
       "      <td>0</td>\n",
       "      <td>0</td>\n",
       "      <td>0</td>\n",
       "      <td>18</td>\n",
       "      <td>0</td>\n",
       "      <td>19096</td>\n",
       "      <td>0</td>\n",
       "      <td>1</td>\n",
       "      <td>2</td>\n",
       "      <td>0.0</td>\n",
       "      <td>0</td>\n",
       "      <td>-550</td>\n",
       "      <td>38</td>\n",
       "      <td>588</td>\n",
       "      <td>44</td>\n",
       "      <td>False</td>\n",
       "      <td>0</td>\n",
       "      <td>18.0</td>\n",
       "    </tr>\n",
       "    <tr>\n",
       "      <th>...</th>\n",
       "      <td>...</td>\n",
       "      <td>...</td>\n",
       "      <td>...</td>\n",
       "      <td>...</td>\n",
       "      <td>...</td>\n",
       "      <td>...</td>\n",
       "      <td>...</td>\n",
       "      <td>...</td>\n",
       "      <td>...</td>\n",
       "      <td>...</td>\n",
       "      <td>...</td>\n",
       "      <td>...</td>\n",
       "      <td>...</td>\n",
       "      <td>...</td>\n",
       "      <td>...</td>\n",
       "      <td>...</td>\n",
       "      <td>...</td>\n",
       "      <td>...</td>\n",
       "      <td>...</td>\n",
       "      <td>...</td>\n",
       "      <td>...</td>\n",
       "      <td>...</td>\n",
       "      <td>...</td>\n",
       "      <td>...</td>\n",
       "      <td>...</td>\n",
       "      <td>...</td>\n",
       "      <td>...</td>\n",
       "      <td>...</td>\n",
       "      <td>...</td>\n",
       "      <td>...</td>\n",
       "      <td>...</td>\n",
       "      <td>...</td>\n",
       "      <td>...</td>\n",
       "      <td>...</td>\n",
       "      <td>...</td>\n",
       "      <td>...</td>\n",
       "      <td>...</td>\n",
       "      <td>...</td>\n",
       "      <td>...</td>\n",
       "      <td>...</td>\n",
       "      <td>...</td>\n",
       "    </tr>\n",
       "    <tr>\n",
       "      <th>11184</th>\n",
       "      <td>Oliver Skipp</td>\n",
       "      <td>MID</td>\n",
       "      <td>Spurs</td>\n",
       "      <td>1.0</td>\n",
       "      <td>0</td>\n",
       "      <td>0</td>\n",
       "      <td>3</td>\n",
       "      <td>0</td>\n",
       "      <td>0.4</td>\n",
       "      <td>441</td>\n",
       "      <td>0.00215</td>\n",
       "      <td>0.00215</td>\n",
       "      <td>0.0000</td>\n",
       "      <td>0.1844</td>\n",
       "      <td>178</td>\n",
       "      <td>0</td>\n",
       "      <td>0</td>\n",
       "      <td>0.0</td>\n",
       "      <td>0.0</td>\n",
       "      <td>2023-01-01T14:00:00Z</td>\n",
       "      <td>2</td>\n",
       "      <td>2</td>\n",
       "      <td>0</td>\n",
       "      <td>0</td>\n",
       "      <td>0</td>\n",
       "      <td>0</td>\n",
       "      <td>18</td>\n",
       "      <td>0</td>\n",
       "      <td>11418</td>\n",
       "      <td>0</td>\n",
       "      <td>2</td>\n",
       "      <td>0</td>\n",
       "      <td>0.0</td>\n",
       "      <td>1</td>\n",
       "      <td>-83</td>\n",
       "      <td>297</td>\n",
       "      <td>380</td>\n",
       "      <td>43</td>\n",
       "      <td>True</td>\n",
       "      <td>0</td>\n",
       "      <td>18.0</td>\n",
       "    </tr>\n",
       "    <tr>\n",
       "      <th>11185</th>\n",
       "      <td>Ryan Sessegnon</td>\n",
       "      <td>DEF</td>\n",
       "      <td>Spurs</td>\n",
       "      <td>1.0</td>\n",
       "      <td>0</td>\n",
       "      <td>0</td>\n",
       "      <td>2</td>\n",
       "      <td>0</td>\n",
       "      <td>0.4</td>\n",
       "      <td>436</td>\n",
       "      <td>0.00084</td>\n",
       "      <td>0.00084</td>\n",
       "      <td>0.0000</td>\n",
       "      <td>0.7473</td>\n",
       "      <td>178</td>\n",
       "      <td>1</td>\n",
       "      <td>0</td>\n",
       "      <td>0.1</td>\n",
       "      <td>1.0</td>\n",
       "      <td>2023-01-01T14:00:00Z</td>\n",
       "      <td>27</td>\n",
       "      <td>2</td>\n",
       "      <td>0</td>\n",
       "      <td>0</td>\n",
       "      <td>0</td>\n",
       "      <td>0</td>\n",
       "      <td>18</td>\n",
       "      <td>0</td>\n",
       "      <td>86632</td>\n",
       "      <td>0</td>\n",
       "      <td>2</td>\n",
       "      <td>0</td>\n",
       "      <td>0.0</td>\n",
       "      <td>1</td>\n",
       "      <td>-3248</td>\n",
       "      <td>675</td>\n",
       "      <td>3923</td>\n",
       "      <td>45</td>\n",
       "      <td>True</td>\n",
       "      <td>0</td>\n",
       "      <td>18.0</td>\n",
       "    </tr>\n",
       "    <tr>\n",
       "      <th>11186</th>\n",
       "      <td>Ashley Young</td>\n",
       "      <td>DEF</td>\n",
       "      <td>Aston Villa</td>\n",
       "      <td>3.5</td>\n",
       "      <td>0</td>\n",
       "      <td>1</td>\n",
       "      <td>24</td>\n",
       "      <td>1</td>\n",
       "      <td>0.9</td>\n",
       "      <td>538</td>\n",
       "      <td>0.00623</td>\n",
       "      <td>0.01783</td>\n",
       "      <td>0.0116</td>\n",
       "      <td>0.4230</td>\n",
       "      <td>178</td>\n",
       "      <td>0</td>\n",
       "      <td>0</td>\n",
       "      <td>2.8</td>\n",
       "      <td>19.0</td>\n",
       "      <td>2023-01-01T14:00:00Z</td>\n",
       "      <td>90</td>\n",
       "      <td>18</td>\n",
       "      <td>0</td>\n",
       "      <td>0</td>\n",
       "      <td>0</td>\n",
       "      <td>0</td>\n",
       "      <td>18</td>\n",
       "      <td>0</td>\n",
       "      <td>79045</td>\n",
       "      <td>1</td>\n",
       "      <td>2</td>\n",
       "      <td>0</td>\n",
       "      <td>8.0</td>\n",
       "      <td>7</td>\n",
       "      <td>-2888</td>\n",
       "      <td>1295</td>\n",
       "      <td>4183</td>\n",
       "      <td>44</td>\n",
       "      <td>False</td>\n",
       "      <td>0</td>\n",
       "      <td>18.0</td>\n",
       "    </tr>\n",
       "    <tr>\n",
       "      <th>11187</th>\n",
       "      <td>Jeremy Sarmiento Morante</td>\n",
       "      <td>MID</td>\n",
       "      <td>Brighton</td>\n",
       "      <td>0.0</td>\n",
       "      <td>0</td>\n",
       "      <td>0</td>\n",
       "      <td>-4</td>\n",
       "      <td>0</td>\n",
       "      <td>4.5</td>\n",
       "      <td>119</td>\n",
       "      <td>0.01185</td>\n",
       "      <td>0.12255</td>\n",
       "      <td>0.1107</td>\n",
       "      <td>0.3747</td>\n",
       "      <td>172</td>\n",
       "      <td>1</td>\n",
       "      <td>0</td>\n",
       "      <td>1.2</td>\n",
       "      <td>0.0</td>\n",
       "      <td>2022-12-31T17:30:00Z</td>\n",
       "      <td>29</td>\n",
       "      <td>1</td>\n",
       "      <td>0</td>\n",
       "      <td>0</td>\n",
       "      <td>0</td>\n",
       "      <td>0</td>\n",
       "      <td>18</td>\n",
       "      <td>0</td>\n",
       "      <td>4866</td>\n",
       "      <td>0</td>\n",
       "      <td>4</td>\n",
       "      <td>2</td>\n",
       "      <td>9.0</td>\n",
       "      <td>0</td>\n",
       "      <td>-17</td>\n",
       "      <td>91</td>\n",
       "      <td>108</td>\n",
       "      <td>45</td>\n",
       "      <td>True</td>\n",
       "      <td>1</td>\n",
       "      <td>18.0</td>\n",
       "    </tr>\n",
       "    <tr>\n",
       "      <th>11188</th>\n",
       "      <td>Philip Billing</td>\n",
       "      <td>MID</td>\n",
       "      <td>Bournemouth</td>\n",
       "      <td>1.5</td>\n",
       "      <td>0</td>\n",
       "      <td>0</td>\n",
       "      <td>2</td>\n",
       "      <td>0</td>\n",
       "      <td>0.5</td>\n",
       "      <td>70</td>\n",
       "      <td>0.00157</td>\n",
       "      <td>0.00157</td>\n",
       "      <td>0.0000</td>\n",
       "      <td>0.7880</td>\n",
       "      <td>171</td>\n",
       "      <td>2</td>\n",
       "      <td>0</td>\n",
       "      <td>0.1</td>\n",
       "      <td>0.0</td>\n",
       "      <td>2022-12-31T15:00:00Z</td>\n",
       "      <td>37</td>\n",
       "      <td>7</td>\n",
       "      <td>0</td>\n",
       "      <td>0</td>\n",
       "      <td>0</td>\n",
       "      <td>0</td>\n",
       "      <td>18</td>\n",
       "      <td>0</td>\n",
       "      <td>82456</td>\n",
       "      <td>1</td>\n",
       "      <td>2</td>\n",
       "      <td>0</td>\n",
       "      <td>2.0</td>\n",
       "      <td>1</td>\n",
       "      <td>-1391</td>\n",
       "      <td>7126</td>\n",
       "      <td>8517</td>\n",
       "      <td>53</td>\n",
       "      <td>True</td>\n",
       "      <td>0</td>\n",
       "      <td>18.0</td>\n",
       "    </tr>\n",
       "  </tbody>\n",
       "</table>\n",
       "<p>1356 rows × 41 columns</p>\n",
       "</div>"
      ],
      "text/plain": [
       "                           name position         team   xP  assists  bonus  \\\n",
       "9833             Nathan Redmond      MID  Southampton  0.0        0      0   \n",
       "9834           Junior Stanislas      MID  Bournemouth  0.0        0      0   \n",
       "9835              Armando Broja      FWD      Chelsea  0.0        0      0   \n",
       "9836               Fabian Schär      DEF    Newcastle  6.0        0      0   \n",
       "9837                Jonny Evans      DEF    Leicester  0.0        0      0   \n",
       "...                         ...      ...          ...  ...      ...    ...   \n",
       "11184              Oliver Skipp      MID        Spurs  1.0        0      0   \n",
       "11185            Ryan Sessegnon      DEF        Spurs  1.0        0      0   \n",
       "11186              Ashley Young      DEF  Aston Villa  3.5        0      1   \n",
       "11187  Jeremy Sarmiento Morante      MID     Brighton  0.0        0      0   \n",
       "11188            Philip Billing      MID  Bournemouth  1.5        0      0   \n",
       "\n",
       "       bps  clean_sheets  creativity  element  expected_assists  \\\n",
       "9833     0             0         0.0      403           0.00000   \n",
       "9834     0             0         0.0       58           0.00000   \n",
       "9835     0             0         0.0      150           0.00000   \n",
       "9836    17             1         4.2      366           0.19894   \n",
       "9837     0             0         0.0      249           0.00000   \n",
       "...    ...           ...         ...      ...               ...   \n",
       "11184    3             0         0.4      441           0.00215   \n",
       "11185    2             0         0.4      436           0.00084   \n",
       "11186   24             1         0.9      538           0.00623   \n",
       "11187   -4             0         4.5      119           0.01185   \n",
       "11188    2             0         0.5       70           0.00157   \n",
       "\n",
       "       expected_goal_involvements  expected_goals  expected_goals_conceded  \\\n",
       "9833                      0.00000          0.0000                   0.0000   \n",
       "9834                      0.00000          0.0000                   0.0000   \n",
       "9835                      0.00000          0.0000                   0.0000   \n",
       "9836                      0.52454          0.3256                   0.4746   \n",
       "9837                      0.00000          0.0000                   0.0000   \n",
       "...                           ...             ...                      ...   \n",
       "11184                     0.00215          0.0000                   0.1844   \n",
       "11185                     0.00084          0.0000                   0.7473   \n",
       "11186                     0.01783          0.0116                   0.4230   \n",
       "11187                     0.12255          0.1107                   0.3747   \n",
       "11188                     0.00157          0.0000                   0.7880   \n",
       "\n",
       "       fixture  goals_conceded  goals_scored  ict_index  influence  \\\n",
       "9833       173               0             0        0.0        0.0   \n",
       "9834       171               0             0        0.0        0.0   \n",
       "9835       177               0             0        0.0        0.0   \n",
       "9836       176               0             0        4.1        7.6   \n",
       "9837       174               0             0        0.0        0.0   \n",
       "...        ...             ...           ...        ...        ...   \n",
       "11184      178               0             0        0.0        0.0   \n",
       "11185      178               1             0        0.1        1.0   \n",
       "11186      178               0             0        2.8       19.0   \n",
       "11187      172               1             0        1.2        0.0   \n",
       "11188      171               2             0        0.1        0.0   \n",
       "\n",
       "               kickoff_time  minutes  opponent_team  own_goals  \\\n",
       "9833   2022-12-31T15:00:00Z        0              9          0   \n",
       "9834   2022-12-31T15:00:00Z        0              7          0   \n",
       "9835   2023-01-01T16:30:00Z        0             16          0   \n",
       "9836   2022-12-31T15:00:00Z       90             11          0   \n",
       "9837   2022-12-30T20:00:00Z        0             12          0   \n",
       "...                     ...      ...            ...        ...   \n",
       "11184  2023-01-01T14:00:00Z        2              2          0   \n",
       "11185  2023-01-01T14:00:00Z       27              2          0   \n",
       "11186  2023-01-01T14:00:00Z       90             18          0   \n",
       "11187  2022-12-31T17:30:00Z       29              1          0   \n",
       "11188  2022-12-31T15:00:00Z       37              7          0   \n",
       "\n",
       "       penalties_missed  penalties_saved  red_cards  round  saves  selected  \\\n",
       "9833                  0                0          0     18      0      2958   \n",
       "9834                  0                0          0     18      0      2454   \n",
       "9835                  0                0          0     18      0     48382   \n",
       "9836                  0                0          0     18      0   1283324   \n",
       "9837                  0                0          0     18      0     19096   \n",
       "...                 ...              ...        ...    ...    ...       ...   \n",
       "11184                 0                0          0     18      0     11418   \n",
       "11185                 0                0          0     18      0     86632   \n",
       "11186                 0                0          0     18      0     79045   \n",
       "11187                 0                0          0     18      0      4866   \n",
       "11188                 0                0          0     18      0     82456   \n",
       "\n",
       "       starts  team_a_score  team_h_score  threat  total_points  \\\n",
       "9833        0             1             2     0.0             0   \n",
       "9834        0             2             0     0.0             0   \n",
       "9835        0             1             1     0.0             0   \n",
       "9836        1             0             0    29.0             6   \n",
       "9837        0             1             2     0.0             0   \n",
       "...       ...           ...           ...     ...           ...   \n",
       "11184       0             2             0     0.0             1   \n",
       "11185       0             2             0     0.0             1   \n",
       "11186       1             2             0     8.0             7   \n",
       "11187       0             4             2     9.0             0   \n",
       "11188       1             2             0     2.0             1   \n",
       "\n",
       "       transfers_balance  transfers_in  transfers_out  value  was_home  \\\n",
       "9833                 -28             0             28     53     False   \n",
       "9834                 -37            16             53     48      True   \n",
       "9835               -4881           100           4981     53     False   \n",
       "9836               57864         85844          27980     49      True   \n",
       "9837                -550            38            588     44     False   \n",
       "...                  ...           ...            ...    ...       ...   \n",
       "11184                -83           297            380     43      True   \n",
       "11185              -3248           675           3923     45      True   \n",
       "11186              -2888          1295           4183     44     False   \n",
       "11187                -17            91            108     45      True   \n",
       "11188              -1391          7126           8517     53      True   \n",
       "\n",
       "       yellow_cards    GW  \n",
       "9833              0  18.0  \n",
       "9834              0  18.0  \n",
       "9835              0  18.0  \n",
       "9836              0  18.0  \n",
       "9837              0  18.0  \n",
       "...             ...   ...  \n",
       "11184             0  18.0  \n",
       "11185             0  18.0  \n",
       "11186             0  18.0  \n",
       "11187             1  18.0  \n",
       "11188             0  18.0  \n",
       "\n",
       "[1356 rows x 41 columns]"
      ]
     },
     "execution_count": 7,
     "metadata": {},
     "output_type": "execute_result"
    }
   ],
   "source": [
    "df.loc[df['GW']==18.0]"
   ]
  },
  {
   "cell_type": "code",
   "execution_count": 8,
   "id": "9103713e",
   "metadata": {},
   "outputs": [
    {
     "name": "stdout",
     "output_type": "stream",
     "text": [
      "<class 'pandas.core.frame.DataFrame'>\n",
      "RangeIndex: 15866 entries, 0 to 15865\n",
      "Data columns (total 11 columns):\n",
      " #   Column        Non-Null Count  Dtype  \n",
      "---  ------        --------------  -----  \n",
      " 0   name          15866 non-null  object \n",
      " 1   position      15866 non-null  object \n",
      " 2   team          15866 non-null  object \n",
      " 3   GW            15866 non-null  float64\n",
      " 4   xP            15866 non-null  float64\n",
      " 5   influence     15866 non-null  float64\n",
      " 6   creativity    15866 non-null  float64\n",
      " 7   threat        15866 non-null  float64\n",
      " 8   ict_index     15866 non-null  float64\n",
      " 9   total_points  15866 non-null  int64  \n",
      " 10  value         15866 non-null  int64  \n",
      "dtypes: float64(6), int64(2), object(3)\n",
      "memory usage: 1.3+ MB\n"
     ]
    }
   ],
   "source": [
    "# Selecting for specific columns\n",
    "selected = df[['name', 'position', 'team', 'GW', 'xP', 'influence', 'creativity', 'threat', 'ict_index', 'total_points', 'value']]\n",
    "# Checking datatypes in selection\n",
    "selected.info()"
   ]
  },
  {
   "cell_type": "code",
   "execution_count": 9,
   "id": "f55dcc54",
   "metadata": {},
   "outputs": [
    {
     "data": {
      "text/html": [
       "<div>\n",
       "<style scoped>\n",
       "    .dataframe tbody tr th:only-of-type {\n",
       "        vertical-align: middle;\n",
       "    }\n",
       "\n",
       "    .dataframe tbody tr th {\n",
       "        vertical-align: top;\n",
       "    }\n",
       "\n",
       "    .dataframe thead th {\n",
       "        text-align: right;\n",
       "    }\n",
       "</style>\n",
       "<table border=\"1\" class=\"dataframe\">\n",
       "  <thead>\n",
       "    <tr style=\"text-align: right;\">\n",
       "      <th></th>\n",
       "      <th>name</th>\n",
       "      <th>position</th>\n",
       "      <th>team</th>\n",
       "      <th>GW</th>\n",
       "      <th>xP</th>\n",
       "      <th>influence</th>\n",
       "      <th>creativity</th>\n",
       "      <th>threat</th>\n",
       "      <th>ict_index</th>\n",
       "      <th>total_points</th>\n",
       "      <th>value</th>\n",
       "    </tr>\n",
       "  </thead>\n",
       "  <tbody>\n",
       "    <tr>\n",
       "      <th>0</th>\n",
       "      <td>Nathan Redmond</td>\n",
       "      <td>MID</td>\n",
       "      <td>Southampton</td>\n",
       "      <td>1.0</td>\n",
       "      <td>1.5</td>\n",
       "      <td>0.0</td>\n",
       "      <td>0.0</td>\n",
       "      <td>0.0</td>\n",
       "      <td>0.0</td>\n",
       "      <td>1</td>\n",
       "      <td>55</td>\n",
       "    </tr>\n",
       "    <tr>\n",
       "      <th>1</th>\n",
       "      <td>Junior Stanislas</td>\n",
       "      <td>MID</td>\n",
       "      <td>Bournemouth</td>\n",
       "      <td>1.0</td>\n",
       "      <td>1.1</td>\n",
       "      <td>0.0</td>\n",
       "      <td>0.0</td>\n",
       "      <td>0.0</td>\n",
       "      <td>0.0</td>\n",
       "      <td>1</td>\n",
       "      <td>50</td>\n",
       "    </tr>\n",
       "    <tr>\n",
       "      <th>2</th>\n",
       "      <td>Armando Broja</td>\n",
       "      <td>FWD</td>\n",
       "      <td>Chelsea</td>\n",
       "      <td>1.0</td>\n",
       "      <td>2.0</td>\n",
       "      <td>5.2</td>\n",
       "      <td>0.3</td>\n",
       "      <td>19.0</td>\n",
       "      <td>2.5</td>\n",
       "      <td>1</td>\n",
       "      <td>55</td>\n",
       "    </tr>\n",
       "    <tr>\n",
       "      <th>3</th>\n",
       "      <td>Fabian Schär</td>\n",
       "      <td>DEF</td>\n",
       "      <td>Newcastle</td>\n",
       "      <td>1.0</td>\n",
       "      <td>2.4</td>\n",
       "      <td>66.0</td>\n",
       "      <td>14.6</td>\n",
       "      <td>25.0</td>\n",
       "      <td>10.6</td>\n",
       "      <td>15</td>\n",
       "      <td>45</td>\n",
       "    </tr>\n",
       "    <tr>\n",
       "      <th>4</th>\n",
       "      <td>Jonny Evans</td>\n",
       "      <td>DEF</td>\n",
       "      <td>Leicester</td>\n",
       "      <td>1.0</td>\n",
       "      <td>1.9</td>\n",
       "      <td>14.0</td>\n",
       "      <td>1.3</td>\n",
       "      <td>0.0</td>\n",
       "      <td>1.5</td>\n",
       "      <td>1</td>\n",
       "      <td>45</td>\n",
       "    </tr>\n",
       "  </tbody>\n",
       "</table>\n",
       "</div>"
      ],
      "text/plain": [
       "               name position         team   GW   xP  influence  creativity  \\\n",
       "0    Nathan Redmond      MID  Southampton  1.0  1.5        0.0         0.0   \n",
       "1  Junior Stanislas      MID  Bournemouth  1.0  1.1        0.0         0.0   \n",
       "2     Armando Broja      FWD      Chelsea  1.0  2.0        5.2         0.3   \n",
       "3      Fabian Schär      DEF    Newcastle  1.0  2.4       66.0        14.6   \n",
       "4       Jonny Evans      DEF    Leicester  1.0  1.9       14.0         1.3   \n",
       "\n",
       "   threat  ict_index  total_points  value  \n",
       "0     0.0        0.0             1     55  \n",
       "1     0.0        0.0             1     50  \n",
       "2    19.0        2.5             1     55  \n",
       "3    25.0       10.6            15     45  \n",
       "4     0.0        1.5             1     45  "
      ]
     },
     "execution_count": 9,
     "metadata": {},
     "output_type": "execute_result"
    }
   ],
   "source": [
    "selected.head()"
   ]
  },
  {
   "cell_type": "code",
   "execution_count": 10,
   "id": "a4e92b2e",
   "metadata": {},
   "outputs": [],
   "source": [
    "# sample image of cleaned dataframe\n",
    "\n",
    "# import plotly.graph_objects as go\n",
    "\n",
    "# fig = go.Figure(data=[\n",
    "#                      go.Table(\n",
    "#                         header=dict(values=list(selected.columns),align='center'),\n",
    "#                         cells=dict(values=selected.values.transpose()[:,99:105],\n",
    "#                                    fill_color = [[\"white\",\"lightgrey\"]*selected.shape[0]],\n",
    "#                                    align='center'\n",
    "#                                   )\n",
    "#                             )\n",
    "#                        ])\n",
    "# fig.write_image('image.png', width = 1080, height = 800, scale=2)"
   ]
  },
  {
   "cell_type": "code",
   "execution_count": 11,
   "id": "f0d5856a",
   "metadata": {},
   "outputs": [
    {
     "data": {
      "text/html": [
       "<div>\n",
       "<style scoped>\n",
       "    .dataframe tbody tr th:only-of-type {\n",
       "        vertical-align: middle;\n",
       "    }\n",
       "\n",
       "    .dataframe tbody tr th {\n",
       "        vertical-align: top;\n",
       "    }\n",
       "\n",
       "    .dataframe thead th {\n",
       "        text-align: right;\n",
       "    }\n",
       "</style>\n",
       "<table border=\"1\" class=\"dataframe\">\n",
       "  <thead>\n",
       "    <tr style=\"text-align: right;\">\n",
       "      <th></th>\n",
       "      <th>name</th>\n",
       "      <th>team</th>\n",
       "      <th>position</th>\n",
       "      <th>total_points</th>\n",
       "    </tr>\n",
       "  </thead>\n",
       "  <tbody>\n",
       "    <tr>\n",
       "      <th>0</th>\n",
       "      <td>Erling Haaland</td>\n",
       "      <td>Man City</td>\n",
       "      <td>FWD</td>\n",
       "      <td>189</td>\n",
       "    </tr>\n",
       "    <tr>\n",
       "      <th>1</th>\n",
       "      <td>Harry Kane</td>\n",
       "      <td>Spurs</td>\n",
       "      <td>FWD</td>\n",
       "      <td>157</td>\n",
       "    </tr>\n",
       "    <tr>\n",
       "      <th>2</th>\n",
       "      <td>Marcus Rashford</td>\n",
       "      <td>Man Utd</td>\n",
       "      <td>MID</td>\n",
       "      <td>156</td>\n",
       "    </tr>\n",
       "    <tr>\n",
       "      <th>3</th>\n",
       "      <td>Kieran Trippier</td>\n",
       "      <td>Newcastle</td>\n",
       "      <td>DEF</td>\n",
       "      <td>154</td>\n",
       "    </tr>\n",
       "    <tr>\n",
       "      <th>4</th>\n",
       "      <td>Martin Ødegaard</td>\n",
       "      <td>Arsenal</td>\n",
       "      <td>MID</td>\n",
       "      <td>144</td>\n",
       "    </tr>\n",
       "    <tr>\n",
       "      <th>...</th>\n",
       "      <td>...</td>\n",
       "      <td>...</td>\n",
       "      <td>...</td>\n",
       "      <td>...</td>\n",
       "    </tr>\n",
       "    <tr>\n",
       "      <th>768</th>\n",
       "      <td>Nicolas Pépé</td>\n",
       "      <td>Arsenal</td>\n",
       "      <td>MID</td>\n",
       "      <td>0</td>\n",
       "    </tr>\n",
       "    <tr>\n",
       "      <th>769</th>\n",
       "      <td>Niels Nkounkou</td>\n",
       "      <td>Everton</td>\n",
       "      <td>DEF</td>\n",
       "      <td>0</td>\n",
       "    </tr>\n",
       "    <tr>\n",
       "      <th>770</th>\n",
       "      <td>Nikola Vlasic</td>\n",
       "      <td>West Ham</td>\n",
       "      <td>MID</td>\n",
       "      <td>0</td>\n",
       "    </tr>\n",
       "    <tr>\n",
       "      <th>771</th>\n",
       "      <td>Jason Steele</td>\n",
       "      <td>Brighton</td>\n",
       "      <td>GK</td>\n",
       "      <td>0</td>\n",
       "    </tr>\n",
       "    <tr>\n",
       "      <th>772</th>\n",
       "      <td>James McArthur</td>\n",
       "      <td>Crystal Palace</td>\n",
       "      <td>MID</td>\n",
       "      <td>0</td>\n",
       "    </tr>\n",
       "  </tbody>\n",
       "</table>\n",
       "<p>773 rows × 4 columns</p>\n",
       "</div>"
      ],
      "text/plain": [
       "                name            team position  total_points\n",
       "0     Erling Haaland        Man City      FWD           189\n",
       "1         Harry Kane           Spurs      FWD           157\n",
       "2    Marcus Rashford         Man Utd      MID           156\n",
       "3    Kieran Trippier       Newcastle      DEF           154\n",
       "4    Martin Ødegaard         Arsenal      MID           144\n",
       "..               ...             ...      ...           ...\n",
       "768     Nicolas Pépé         Arsenal      MID             0\n",
       "769   Niels Nkounkou         Everton      DEF             0\n",
       "770    Nikola Vlasic        West Ham      MID             0\n",
       "771     Jason Steele        Brighton       GK             0\n",
       "772   James McArthur  Crystal Palace      MID             0\n",
       "\n",
       "[773 rows x 4 columns]"
      ]
     },
     "execution_count": 11,
     "metadata": {},
     "output_type": "execute_result"
    }
   ],
   "source": [
    "agg_points = selected.groupby(['name', 'team', 'position'])[['total_points']].sum().sort_values('total_points', ascending=False).reset_index()\n",
    "agg_points"
   ]
  },
  {
   "cell_type": "code",
   "execution_count": 12,
   "id": "405c5b27",
   "metadata": {},
   "outputs": [
    {
     "data": {
      "text/html": [
       "<div>\n",
       "<style scoped>\n",
       "    .dataframe tbody tr th:only-of-type {\n",
       "        vertical-align: middle;\n",
       "    }\n",
       "\n",
       "    .dataframe tbody tr th {\n",
       "        vertical-align: top;\n",
       "    }\n",
       "\n",
       "    .dataframe thead th {\n",
       "        text-align: right;\n",
       "    }\n",
       "</style>\n",
       "<table border=\"1\" class=\"dataframe\">\n",
       "  <thead>\n",
       "    <tr style=\"text-align: right;\">\n",
       "      <th></th>\n",
       "      <th>name</th>\n",
       "      <th>team</th>\n",
       "      <th>position</th>\n",
       "      <th>value</th>\n",
       "    </tr>\n",
       "  </thead>\n",
       "  <tbody>\n",
       "    <tr>\n",
       "      <th>15120</th>\n",
       "      <td>Nathan Redmond</td>\n",
       "      <td>Southampton</td>\n",
       "      <td>MID</td>\n",
       "      <td>53</td>\n",
       "    </tr>\n",
       "    <tr>\n",
       "      <th>15121</th>\n",
       "      <td>Junior Stanislas</td>\n",
       "      <td>Bournemouth</td>\n",
       "      <td>MID</td>\n",
       "      <td>48</td>\n",
       "    </tr>\n",
       "    <tr>\n",
       "      <th>15122</th>\n",
       "      <td>Armando Broja</td>\n",
       "      <td>Chelsea</td>\n",
       "      <td>FWD</td>\n",
       "      <td>53</td>\n",
       "    </tr>\n",
       "    <tr>\n",
       "      <th>15123</th>\n",
       "      <td>Fabian Schär</td>\n",
       "      <td>Newcastle</td>\n",
       "      <td>DEF</td>\n",
       "      <td>52</td>\n",
       "    </tr>\n",
       "    <tr>\n",
       "      <th>15124</th>\n",
       "      <td>Jeremiah Chilokoa-Mullen</td>\n",
       "      <td>Leeds</td>\n",
       "      <td>DEF</td>\n",
       "      <td>40</td>\n",
       "    </tr>\n",
       "    <tr>\n",
       "      <th>...</th>\n",
       "      <td>...</td>\n",
       "      <td>...</td>\n",
       "      <td>...</td>\n",
       "      <td>...</td>\n",
       "    </tr>\n",
       "    <tr>\n",
       "      <th>15861</th>\n",
       "      <td>Oliver Skipp</td>\n",
       "      <td>Spurs</td>\n",
       "      <td>MID</td>\n",
       "      <td>43</td>\n",
       "    </tr>\n",
       "    <tr>\n",
       "      <th>15862</th>\n",
       "      <td>Ryan Sessegnon</td>\n",
       "      <td>Spurs</td>\n",
       "      <td>DEF</td>\n",
       "      <td>44</td>\n",
       "    </tr>\n",
       "    <tr>\n",
       "      <th>15863</th>\n",
       "      <td>Ashley Young</td>\n",
       "      <td>Aston Villa</td>\n",
       "      <td>DEF</td>\n",
       "      <td>44</td>\n",
       "    </tr>\n",
       "    <tr>\n",
       "      <th>15864</th>\n",
       "      <td>Jeremy Sarmiento Morante</td>\n",
       "      <td>Brighton</td>\n",
       "      <td>MID</td>\n",
       "      <td>45</td>\n",
       "    </tr>\n",
       "    <tr>\n",
       "      <th>15865</th>\n",
       "      <td>Philip Billing</td>\n",
       "      <td>Bournemouth</td>\n",
       "      <td>MID</td>\n",
       "      <td>51</td>\n",
       "    </tr>\n",
       "  </tbody>\n",
       "</table>\n",
       "<p>746 rows × 4 columns</p>\n",
       "</div>"
      ],
      "text/plain": [
       "                           name         team position  value\n",
       "15120            Nathan Redmond  Southampton      MID     53\n",
       "15121          Junior Stanislas  Bournemouth      MID     48\n",
       "15122             Armando Broja      Chelsea      FWD     53\n",
       "15123              Fabian Schär    Newcastle      DEF     52\n",
       "15124  Jeremiah Chilokoa-Mullen        Leeds      DEF     40\n",
       "...                         ...          ...      ...    ...\n",
       "15861              Oliver Skipp        Spurs      MID     43\n",
       "15862            Ryan Sessegnon        Spurs      DEF     44\n",
       "15863              Ashley Young  Aston Villa      DEF     44\n",
       "15864  Jeremy Sarmiento Morante     Brighton      MID     45\n",
       "15865            Philip Billing  Bournemouth      MID     51\n",
       "\n",
       "[746 rows x 4 columns]"
      ]
     },
     "execution_count": 12,
     "metadata": {},
     "output_type": "execute_result"
    }
   ],
   "source": [
    "curr_val =  selected.loc[selected['GW'] == 24.0, ['name', 'team', 'position', 'value']]\n",
    "curr_val"
   ]
  },
  {
   "cell_type": "code",
   "execution_count": 13,
   "id": "a21ffe79",
   "metadata": {},
   "outputs": [
    {
     "data": {
      "text/html": [
       "<div>\n",
       "<style scoped>\n",
       "    .dataframe tbody tr th:only-of-type {\n",
       "        vertical-align: middle;\n",
       "    }\n",
       "\n",
       "    .dataframe tbody tr th {\n",
       "        vertical-align: top;\n",
       "    }\n",
       "\n",
       "    .dataframe thead th {\n",
       "        text-align: right;\n",
       "    }\n",
       "</style>\n",
       "<table border=\"1\" class=\"dataframe\">\n",
       "  <thead>\n",
       "    <tr style=\"text-align: right;\">\n",
       "      <th></th>\n",
       "      <th>name</th>\n",
       "      <th>team</th>\n",
       "      <th>position</th>\n",
       "      <th>total_points</th>\n",
       "      <th>value</th>\n",
       "    </tr>\n",
       "  </thead>\n",
       "  <tbody>\n",
       "    <tr>\n",
       "      <th>0</th>\n",
       "      <td>Erling Haaland</td>\n",
       "      <td>Man City</td>\n",
       "      <td>FWD</td>\n",
       "      <td>189</td>\n",
       "      <td>122</td>\n",
       "    </tr>\n",
       "    <tr>\n",
       "      <th>1</th>\n",
       "      <td>Harry Kane</td>\n",
       "      <td>Spurs</td>\n",
       "      <td>FWD</td>\n",
       "      <td>157</td>\n",
       "      <td>118</td>\n",
       "    </tr>\n",
       "    <tr>\n",
       "      <th>2</th>\n",
       "      <td>Marcus Rashford</td>\n",
       "      <td>Man Utd</td>\n",
       "      <td>MID</td>\n",
       "      <td>156</td>\n",
       "      <td>73</td>\n",
       "    </tr>\n",
       "    <tr>\n",
       "      <th>3</th>\n",
       "      <td>Kieran Trippier</td>\n",
       "      <td>Newcastle</td>\n",
       "      <td>DEF</td>\n",
       "      <td>154</td>\n",
       "      <td>61</td>\n",
       "    </tr>\n",
       "    <tr>\n",
       "      <th>4</th>\n",
       "      <td>Martin Ødegaard</td>\n",
       "      <td>Arsenal</td>\n",
       "      <td>MID</td>\n",
       "      <td>144</td>\n",
       "      <td>70</td>\n",
       "    </tr>\n",
       "    <tr>\n",
       "      <th>...</th>\n",
       "      <td>...</td>\n",
       "      <td>...</td>\n",
       "      <td>...</td>\n",
       "      <td>...</td>\n",
       "      <td>...</td>\n",
       "    </tr>\n",
       "    <tr>\n",
       "      <th>741</th>\n",
       "      <td>Nicolas Pépé</td>\n",
       "      <td>Arsenal</td>\n",
       "      <td>MID</td>\n",
       "      <td>0</td>\n",
       "      <td>53</td>\n",
       "    </tr>\n",
       "    <tr>\n",
       "      <th>742</th>\n",
       "      <td>Niels Nkounkou</td>\n",
       "      <td>Everton</td>\n",
       "      <td>DEF</td>\n",
       "      <td>0</td>\n",
       "      <td>40</td>\n",
       "    </tr>\n",
       "    <tr>\n",
       "      <th>743</th>\n",
       "      <td>Nikola Vlasic</td>\n",
       "      <td>West Ham</td>\n",
       "      <td>MID</td>\n",
       "      <td>0</td>\n",
       "      <td>50</td>\n",
       "    </tr>\n",
       "    <tr>\n",
       "      <th>744</th>\n",
       "      <td>Jason Steele</td>\n",
       "      <td>Brighton</td>\n",
       "      <td>GK</td>\n",
       "      <td>0</td>\n",
       "      <td>39</td>\n",
       "    </tr>\n",
       "    <tr>\n",
       "      <th>745</th>\n",
       "      <td>James McArthur</td>\n",
       "      <td>Crystal Palace</td>\n",
       "      <td>MID</td>\n",
       "      <td>0</td>\n",
       "      <td>48</td>\n",
       "    </tr>\n",
       "  </tbody>\n",
       "</table>\n",
       "<p>746 rows × 5 columns</p>\n",
       "</div>"
      ],
      "text/plain": [
       "                name            team position  total_points  value\n",
       "0     Erling Haaland        Man City      FWD           189    122\n",
       "1         Harry Kane           Spurs      FWD           157    118\n",
       "2    Marcus Rashford         Man Utd      MID           156     73\n",
       "3    Kieran Trippier       Newcastle      DEF           154     61\n",
       "4    Martin Ødegaard         Arsenal      MID           144     70\n",
       "..               ...             ...      ...           ...    ...\n",
       "741     Nicolas Pépé         Arsenal      MID             0     53\n",
       "742   Niels Nkounkou         Everton      DEF             0     40\n",
       "743    Nikola Vlasic        West Ham      MID             0     50\n",
       "744     Jason Steele        Brighton       GK             0     39\n",
       "745   James McArthur  Crystal Palace      MID             0     48\n",
       "\n",
       "[746 rows x 5 columns]"
      ]
     },
     "execution_count": 13,
     "metadata": {},
     "output_type": "execute_result"
    }
   ],
   "source": [
    "agg_points_val = agg_points.merge(curr_val, on=['name', 'position', 'team'])\n",
    "agg_points_val"
   ]
  },
  {
   "cell_type": "code",
   "execution_count": 14,
   "id": "94f8e23b",
   "metadata": {},
   "outputs": [],
   "source": [
    "agg_points_val['PV-ratio'] = agg_points_val['total_points'] / agg_points_val['value']\n",
    "#agg_points_val = agg_points_val[agg_points_val.total_points != 0]"
   ]
  },
  {
   "cell_type": "code",
   "execution_count": 15,
   "id": "01fe35ee",
   "metadata": {
    "scrolled": true
   },
   "outputs": [
    {
     "data": {
      "text/html": [
       "<div>\n",
       "<style scoped>\n",
       "    .dataframe tbody tr th:only-of-type {\n",
       "        vertical-align: middle;\n",
       "    }\n",
       "\n",
       "    .dataframe tbody tr th {\n",
       "        vertical-align: top;\n",
       "    }\n",
       "\n",
       "    .dataframe thead th {\n",
       "        text-align: right;\n",
       "    }\n",
       "</style>\n",
       "<table border=\"1\" class=\"dataframe\">\n",
       "  <thead>\n",
       "    <tr style=\"text-align: right;\">\n",
       "      <th></th>\n",
       "      <th>name</th>\n",
       "      <th>team</th>\n",
       "      <th>position</th>\n",
       "      <th>total_points</th>\n",
       "      <th>value</th>\n",
       "      <th>PV-ratio</th>\n",
       "    </tr>\n",
       "  </thead>\n",
       "  <tbody>\n",
       "    <tr>\n",
       "      <th>3</th>\n",
       "      <td>Kieran Trippier</td>\n",
       "      <td>Newcastle</td>\n",
       "      <td>DEF</td>\n",
       "      <td>154</td>\n",
       "      <td>61</td>\n",
       "      <td>2.524590</td>\n",
       "    </tr>\n",
       "    <tr>\n",
       "      <th>12</th>\n",
       "      <td>David Raya Martin</td>\n",
       "      <td>Brentford</td>\n",
       "      <td>GK</td>\n",
       "      <td>116</td>\n",
       "      <td>47</td>\n",
       "      <td>2.468085</td>\n",
       "    </tr>\n",
       "    <tr>\n",
       "      <th>7</th>\n",
       "      <td>Miguel Almirón Rejala</td>\n",
       "      <td>Newcastle</td>\n",
       "      <td>MID</td>\n",
       "      <td>128</td>\n",
       "      <td>56</td>\n",
       "      <td>2.285714</td>\n",
       "    </tr>\n",
       "    <tr>\n",
       "      <th>22</th>\n",
       "      <td>Bernd Leno</td>\n",
       "      <td>Fulham</td>\n",
       "      <td>GK</td>\n",
       "      <td>99</td>\n",
       "      <td>45</td>\n",
       "      <td>2.200000</td>\n",
       "    </tr>\n",
       "    <tr>\n",
       "      <th>2</th>\n",
       "      <td>Marcus Rashford</td>\n",
       "      <td>Man Utd</td>\n",
       "      <td>MID</td>\n",
       "      <td>156</td>\n",
       "      <td>73</td>\n",
       "      <td>2.136986</td>\n",
       "    </tr>\n",
       "    <tr>\n",
       "      <th>...</th>\n",
       "      <td>...</td>\n",
       "      <td>...</td>\n",
       "      <td>...</td>\n",
       "      <td>...</td>\n",
       "      <td>...</td>\n",
       "      <td>...</td>\n",
       "    </tr>\n",
       "    <tr>\n",
       "      <th>601</th>\n",
       "      <td>Diogo Pinheiro Monteiro</td>\n",
       "      <td>Leeds</td>\n",
       "      <td>DEF</td>\n",
       "      <td>0</td>\n",
       "      <td>40</td>\n",
       "      <td>0.000000</td>\n",
       "    </tr>\n",
       "    <tr>\n",
       "      <th>602</th>\n",
       "      <td>Thomas Strakosha</td>\n",
       "      <td>Brentford</td>\n",
       "      <td>GK</td>\n",
       "      <td>0</td>\n",
       "      <td>43</td>\n",
       "      <td>0.000000</td>\n",
       "    </tr>\n",
       "    <tr>\n",
       "      <th>603</th>\n",
       "      <td>Tim Iroegbunam</td>\n",
       "      <td>Aston Villa</td>\n",
       "      <td>MID</td>\n",
       "      <td>0</td>\n",
       "      <td>45</td>\n",
       "      <td>0.000000</td>\n",
       "    </tr>\n",
       "    <tr>\n",
       "      <th>604</th>\n",
       "      <td>Alex Telles</td>\n",
       "      <td>Man Utd</td>\n",
       "      <td>DEF</td>\n",
       "      <td>0</td>\n",
       "      <td>50</td>\n",
       "      <td>0.000000</td>\n",
       "    </tr>\n",
       "    <tr>\n",
       "      <th>745</th>\n",
       "      <td>James McArthur</td>\n",
       "      <td>Crystal Palace</td>\n",
       "      <td>MID</td>\n",
       "      <td>0</td>\n",
       "      <td>48</td>\n",
       "      <td>0.000000</td>\n",
       "    </tr>\n",
       "  </tbody>\n",
       "</table>\n",
       "<p>746 rows × 6 columns</p>\n",
       "</div>"
      ],
      "text/plain": [
       "                        name            team position  total_points  value  \\\n",
       "3            Kieran Trippier       Newcastle      DEF           154     61   \n",
       "12         David Raya Martin       Brentford       GK           116     47   \n",
       "7      Miguel Almirón Rejala       Newcastle      MID           128     56   \n",
       "22                Bernd Leno          Fulham       GK            99     45   \n",
       "2            Marcus Rashford         Man Utd      MID           156     73   \n",
       "..                       ...             ...      ...           ...    ...   \n",
       "601  Diogo Pinheiro Monteiro           Leeds      DEF             0     40   \n",
       "602         Thomas Strakosha       Brentford       GK             0     43   \n",
       "603           Tim Iroegbunam     Aston Villa      MID             0     45   \n",
       "604              Alex Telles         Man Utd      DEF             0     50   \n",
       "745           James McArthur  Crystal Palace      MID             0     48   \n",
       "\n",
       "     PV-ratio  \n",
       "3    2.524590  \n",
       "12   2.468085  \n",
       "7    2.285714  \n",
       "22   2.200000  \n",
       "2    2.136986  \n",
       "..        ...  \n",
       "601  0.000000  \n",
       "602  0.000000  \n",
       "603  0.000000  \n",
       "604  0.000000  \n",
       "745  0.000000  \n",
       "\n",
       "[746 rows x 6 columns]"
      ]
     },
     "execution_count": 15,
     "metadata": {},
     "output_type": "execute_result"
    }
   ],
   "source": [
    "agg_points_val.sort_values('PV-ratio', ascending=False)"
   ]
  },
  {
   "cell_type": "code",
   "execution_count": 19,
   "id": "69769408",
   "metadata": {},
   "outputs": [
    {
     "data": {
      "application/vnd.plotly.v1+json": {
       "config": {
        "plotlyServerURL": "https://plot.ly"
       },
       "data": [
        {
         "customdata": [
          [
           "Erling Haaland",
           "Man City"
          ],
          [
           "Harry Kane",
           "Spurs"
          ],
          [
           "Ivan Toney",
           "Brentford"
          ],
          [
           "Ollie Watkins",
           "Aston Villa"
          ],
          [
           "Aleksandar Mitrović",
           "Fulham"
          ],
          [
           "Bryan Mbeumo",
           "Brentford"
          ],
          [
           "Brennan Johnson",
           "Nott'm Forest"
          ],
          [
           "Che Adams",
           "Southampton"
          ],
          [
           "Roberto Firmino",
           "Liverpool"
          ],
          [
           "Callum Wilson",
           "Newcastle"
          ],
          [
           "Darwin Núñez Ribeiro",
           "Liverpool"
          ],
          [
           "Kai Havertz",
           "Chelsea"
          ],
          [
           "Dominic Solanke",
           "Bournemouth"
          ],
          [
           "Gabriel Fernando de Jesus",
           "Arsenal"
          ],
          [
           "Eddie Nketiah",
           "Arsenal"
          ],
          [
           "Jamie Vardy",
           "Leicester"
          ],
          [
           "Kieffer Moore",
           "Bournemouth"
          ],
          [
           "Taiwo Awoniyi",
           "Nott'm Forest"
          ],
          [
           "Kelechi Iheanacho",
           "Leicester"
          ],
          [
           "Odsonne Edouard",
           "Crystal Palace"
          ],
          [
           "Patson Daka",
           "Leicester"
          ],
          [
           "Michail Antonio",
           "West Ham"
          ],
          [
           "Julián Álvarez",
           "Man City"
          ],
          [
           "Danny Welbeck",
           "Brighton"
          ],
          [
           "Gianluca Scamacca",
           "West Ham"
          ],
          [
           "Adam Armstrong",
           "Southampton"
          ],
          [
           "Wilfried Gnonto",
           "Leeds"
          ],
          [
           "Evan Ferguson",
           "Brighton"
          ],
          [
           "Patrick Bamford",
           "Leeds"
          ],
          [
           "Anthony Martial",
           "Man Utd"
          ],
          [
           "Alexander Isak",
           "Newcastle"
          ],
          [
           "Neal Maupay",
           "Everton"
          ],
          [
           "Carlos Vinícius Alves Morais",
           "Fulham"
          ],
          [
           "Dominic Calvert-Lewin",
           "Everton"
          ],
          [
           "Richarlison de Andrade",
           "Spurs"
          ],
          [
           "Sam Greenwood",
           "Leeds"
          ],
          [
           "Jean-Philippe Mateta",
           "Crystal Palace"
          ],
          [
           "Pierre-Emerick Aubameyang",
           "Chelsea"
          ],
          [
           "Joe Gelhardt",
           "Leeds"
          ],
          [
           "Sam Surridge",
           "Nott'm Forest"
          ],
          [
           "Emmanuel Dennis",
           "Nott'm Forest"
          ],
          [
           "Armando Broja",
           "Chelsea"
          ],
          [
           "Cristiano Ronaldo dos Santos Aveiro",
           "Man Utd"
          ],
          [
           "Sékou Mara",
           "Southampton"
          ],
          [
           "Chris Wood",
           "Nott'm Forest"
          ],
          [
           "Wout Weghorst",
           "Man Utd"
          ],
          [
           "Diego Da Silva Costa",
           "Wolves"
          ],
          [
           "Deniz Undav",
           "Brighton"
          ],
          [
           "Raúl Jiménez",
           "Wolves"
          ],
          [
           "Diogo Teixeira da Silva",
           "Liverpool"
          ],
          [
           "João Félix Sequeira",
           "Chelsea"
          ],
          [
           "Matheus Santos Carneiro Da Cunha",
           "Wolves"
          ],
          [
           "Julio Enciso",
           "Brighton"
          ],
          [
           "Jay Stansfield",
           "Fulham"
          ],
          [
           "Salomón Rondón",
           "Everton"
          ],
          [
           "Cameron Archer",
           "Aston Villa"
          ],
          [
           "Ellis Simms",
           "Everton"
          ],
          [
           "Paul Onuachu",
           "Southampton"
          ],
          [
           "Georginio Rutter",
           "Leeds"
          ],
          [
           "Antoine Semenyo",
           "Bournemouth"
          ],
          [
           "Halil Dervişoğlu",
           "Brentford"
          ],
          [
           "Danny Ings",
           "West Ham"
          ],
          [
           "Jhon Durán",
           "Aston Villa"
          ],
          [
           "Mateo Joseph Fernández",
           "Leeds"
          ],
          [
           "Thomas Cannon",
           "Everton"
          ],
          [
           "David Datro Fofana",
           "Chelsea"
          ],
          [
           "Sasa Kalajdzic",
           "Wolves"
          ],
          [
           "Divin Mubama",
           "West Ham"
          ],
          [
           "Rodrigo Muniz Carvalho",
           "Fulham"
          ],
          [
           "Shola Shoretire",
           "Man Utd"
          ],
          [
           "Fabio Silva",
           "Wolves"
          ],
          [
           "Euan Pollock",
           "Bournemouth"
          ],
          [
           "Dwight Gayle",
           "Newcastle"
          ],
          [
           "Troy Parrott",
           "Spurs"
          ],
          [
           "Sonny Perkins",
           "Leeds"
          ],
          [
           "Terry Ablade",
           "Fulham"
          ],
          [
           "Timo Werner",
           "Chelsea"
          ],
          [
           "Dominic Sadi",
           "Bournemouth"
          ],
          [
           "Marcus Forss",
           "Brentford"
          ],
          [
           "Christian Saydee",
           "Bournemouth"
          ],
          [
           "Christian Benteke",
           "Crystal Palace"
          ],
          [
           "Liam Delap",
           "Man City"
          ],
          [
           "Luke Plange",
           "Crystal Palace"
          ],
          [
           "Keinan Davis",
           "Aston Villa"
          ],
          [
           "Lyle Taylor",
           "Nott'm Forest"
          ],
          [
           "Daniel Adu-Adjei",
           "Bournemouth"
          ],
          [
           "Nathan Butler-Oyedeji",
           "Arsenal"
          ],
          [
           "John-Kymani Gordon",
           "Crystal Palace"
          ],
          [
           "Jimmy Morgan",
           "Southampton"
          ],
          [
           "Nathan Fraser",
           "Wolves"
          ],
          [
           "Dale Taylor",
           "Nott'm Forest"
          ],
          [
           "Dane Scarlett",
           "Spurs"
          ]
         ],
         "hovertemplate": "position=FWD<br>value=%{x}<br>total_points=%{y}<br>name=%{customdata[0]}<br>team=%{customdata[1]}<extra></extra>",
         "legendgroup": "FWD",
         "marker": {
          "color": "#636efa",
          "symbol": "circle"
         },
         "mode": "markers",
         "name": "FWD",
         "orientation": "v",
         "showlegend": true,
         "type": "scatter",
         "x": [
          122,
          118,
          77,
          71,
          69,
          58,
          57,
          62,
          80,
          70,
          87,
          77,
          55,
          79,
          68,
          91,
          51,
          56,
          61,
          51,
          56,
          70,
          60,
          65,
          66,
          54,
          50,
          46,
          72,
          64,
          66,
          59,
          54,
          79,
          84,
          41,
          51,
          84,
          51,
          47,
          57,
          53,
          102,
          53,
          56,
          59,
          54,
          51,
          67,
          88,
          76,
          55,
          47,
          45,
          49,
          42,
          45,
          55,
          54,
          50,
          45,
          64,
          55,
          45,
          45,
          50,
          53,
          45,
          54,
          45,
          55,
          45,
          45,
          45,
          45,
          45,
          79,
          45,
          45,
          45,
          55,
          44,
          45,
          54,
          42,
          45,
          45,
          45,
          45,
          45,
          45,
          45
         ],
         "xaxis": "x",
         "y": [
          189,
          157,
          134,
          99,
          87,
          83,
          78,
          78,
          71,
          71,
          70,
          70,
          70,
          69,
          60,
          54,
          53,
          52,
          52,
          51,
          49,
          49,
          46,
          45,
          43,
          42,
          36,
          36,
          34,
          34,
          31,
          28,
          28,
          27,
          27,
          26,
          25,
          22,
          21,
          21,
          21,
          21,
          20,
          19,
          14,
          13,
          13,
          12,
          11,
          10,
          9,
          8,
          8,
          7,
          7,
          6,
          5,
          4,
          4,
          4,
          4,
          4,
          3,
          2,
          2,
          2,
          1,
          1,
          0,
          0,
          0,
          0,
          0,
          0,
          0,
          0,
          0,
          0,
          0,
          0,
          0,
          0,
          0,
          0,
          0,
          0,
          0,
          0,
          0,
          0,
          0,
          0
         ],
         "yaxis": "y"
        },
        {
         "customdata": [
          [
           "Marcus Rashford",
           "Man Utd"
          ],
          [
           "Martin Ødegaard",
           "Arsenal"
          ],
          [
           "Bukayo Saka",
           "Arsenal"
          ],
          [
           "Miguel Almirón Rejala",
           "Newcastle"
          ],
          [
           "Kevin De Bruyne",
           "Man City"
          ],
          [
           "Gabriel Martinelli Silva",
           "Arsenal"
          ],
          [
           "Mohamed Salah",
           "Liverpool"
          ],
          [
           "Bruno Borges Fernandes",
           "Man Utd"
          ],
          [
           "Solly March",
           "Brighton"
          ],
          [
           "Pascal Groß",
           "Brighton"
          ],
          [
           "James Maddison",
           "Leicester"
          ],
          [
           "Rodrigo Moreno",
           "Leeds"
          ],
          [
           "Eberechi Eze",
           "Crystal Palace"
          ],
          [
           "James Ward-Prowse",
           "Southampton"
          ],
          [
           "Andreas Hoelgebaum Pereira",
           "Fulham"
          ],
          [
           "Harvey Barnes",
           "Leicester"
          ],
          [
           "Pierre-Emile Højbjerg",
           "Spurs"
          ],
          [
           "Riyad Mahrez",
           "Man City"
          ],
          [
           "Granit Xhaka",
           "Arsenal"
          ],
          [
           "Michael Olise",
           "Crystal Palace"
          ],
          [
           "Jarrod Bowen",
           "West Ham"
          ],
          [
           "Son Heung-min",
           "Spurs"
          ],
          [
           "Bernardo Veiga de Carvalho e Silva",
           "Man City"
          ],
          [
           "Phil Foden",
           "Man City"
          ],
          [
           "Alex Iwobi",
           "Everton"
          ],
          [
           "Mason Mount",
           "Chelsea"
          ],
          [
           "Rúben da Silva Neves",
           "Wolves"
          ],
          [
           "Mathias Jensen",
           "Brentford"
          ],
          [
           "Wilfried Zaha",
           "Crystal Palace"
          ],
          [
           "Douglas Luiz Soares de Paulo",
           "Aston Villa"
          ],
          [
           "Morgan Gibbs-White",
           "Nott'm Forest"
          ],
          [
           "Rodrigo Hernandez",
           "Man City"
          ],
          [
           "Kaoru Mitoma",
           "Brighton"
          ],
          [
           "Christian Eriksen",
           "Man Utd"
          ],
          [
           "Leon Bailey",
           "Aston Villa"
          ],
          [
           "Kiernan Dewsbury-Hall",
           "Leicester"
          ],
          [
           "Joe Willock",
           "Newcastle"
          ],
          [
           "Emiliano Buendía Stati",
           "Aston Villa"
          ],
          [
           "João Palhinha Gonçalves",
           "Fulham"
          ],
          [
           "Bobby De Cordova-Reid",
           "Fulham"
          ],
          [
           "Ilkay Gündogan",
           "Man City"
          ],
          [
           "Jack Grealish",
           "Man City"
          ],
          [
           "Demarai Gray",
           "Everton"
          ],
          [
           "Philip Billing",
           "Bournemouth"
          ],
          [
           "Sean Longstaff",
           "Newcastle"
          ],
          [
           "Raheem Sterling",
           "Chelsea"
          ],
          [
           "Daniel Castelo Podence",
           "Wolves"
          ],
          [
           "Willian Borges da Silva",
           "Fulham"
          ],
          [
           "Rodrigo Bentancur",
           "Spurs"
          ],
          [
           "Alexis Mac Allister",
           "Brighton"
          ],
          [
           "Marcus Tavernier",
           "Bournemouth"
          ],
          [
           "Yoane Wissa",
           "Brentford"
          ],
          [
           "Jack Harrison",
           "Leeds"
          ],
          [
           "Harrison Reed",
           "Fulham"
          ],
          [
           "Declan Rice",
           "West Ham"
          ],
          [
           "Bruno Guimarães Rodriguez Moura",
           "Newcastle"
          ],
          [
           "Youri Tielemans",
           "Leicester"
          ],
          [
           "Joelinton Cássio Apolinário de Lira",
           "Newcastle"
          ],
          [
           "Josh Dasilva",
           "Brentford"
          ],
          [
           "Dejan Kulusevski",
           "Spurs"
          ],
          [
           "Vitaly Janelt",
           "Brentford"
          ],
          [
           "Jordan Ayew",
           "Crystal Palace"
          ],
          [
           "Brenden Aaronson",
           "Leeds"
          ],
          [
           "Jefferson Lerma Solís",
           "Bournemouth"
          ],
          [
           "Thomas Partey",
           "Arsenal"
          ],
          [
           "Carlos Henrique Casimiro",
           "Man Utd"
          ],
          [
           "Crysencio Summerville",
           "Leeds"
          ],
          [
           "Jacob Ramsey",
           "Aston Villa"
          ],
          [
           "Tomas Soucek",
           "West Ham"
          ],
          [
           "Jadon Sancho",
           "Man Utd"
          ],
          [
           "Amadou Onana",
           "Everton"
          ],
          [
           "Saïd Benrahma",
           "West Ham"
          ],
          [
           "Jeffrey Schlupp",
           "Crystal Palace"
          ],
          [
           "Christian Nørgaard",
           "Brentford"
          ],
          [
           "Lucas Tolentino Coelho de Lima",
           "West Ham"
          ],
          [
           "Dwight McNeil",
           "Everton"
          ],
          [
           "Adam Lallana",
           "Brighton"
          ],
          [
           "Cheick Doucouré",
           "Crystal Palace"
          ],
          [
           "Moisés Caicedo Corozo",
           "Brighton"
          ],
          [
           "Matheus Luiz Nunes",
           "Wolves"
          ],
          [
           "João Filipe Iria Santos Moutinho",
           "Wolves"
          ],
          [
           "Harvey Elliott",
           "Liverpool"
          ],
          [
           "Jaidon Anthony",
           "Bournemouth"
          ],
          [
           "Allan Saint-Maximin",
           "Newcastle"
          ],
          [
           "John McGinn",
           "Aston Villa"
          ],
          [
           "Idrissa Gueye",
           "Everton"
          ],
          [
           "Lewis Cook",
           "Bournemouth"
          ],
          [
           "Joe Ayodele-Aribo",
           "Southampton"
          ],
          [
           "Frederico Rodrigues de Paula Santos",
           "Man Utd"
          ],
          [
           "Tyler Adams",
           "Leeds"
          ],
          [
           "Adama Traoré Diarra",
           "Wolves"
          ],
          [
           "Antony Matheus dos Santos",
           "Man Utd"
          ],
          [
           "Remo Freuler",
           "Nott'm Forest"
          ],
          [
           "Marc Roca Junqué",
           "Leeds"
          ],
          [
           "Mohamed Elyounoussi",
           "Southampton"
          ],
          [
           "Luis Díaz",
           "Liverpool"
          ],
          [
           "Pablo Fornals Malla",
           "West Ham"
          ],
          [
           "Ryan Yates",
           "Nott'm Forest"
          ],
          [
           "Jacob Murphy",
           "Newcastle"
          ],
          [
           "Fabio Henrique Tavares",
           "Liverpool"
          ],
          [
           "Ryan Christie",
           "Bournemouth"
          ],
          [
           "Boubacar Kamara",
           "Aston Villa"
          ],
          [
           "Neeskens Kebano",
           "Fulham"
          ],
          [
           "Conor Gallagher",
           "Chelsea"
          ],
          [
           "Philippe Coutinho Correia",
           "Aston Villa"
          ],
          [
           "Jordan Henderson",
           "Liverpool"
          ],
          [
           "Stuart Armstrong",
           "Southampton"
          ],
          [
           "Christian Pulisic",
           "Chelsea"
          ],
          [
           "Fábio Ferreira Vieira",
           "Arsenal"
          ],
          [
           "Jesse Lingard",
           "Nott'm Forest"
          ],
          [
           "Alejandro Garnacho",
           "Man Utd"
          ],
          [
           "Gonçalo Manuel Ganchinho Guedes",
           "Wolves"
          ],
          [
           "Hwang Hee-chan",
           "Wolves"
          ],
          [
           "Ruben Loftus-Cheek",
           "Chelsea"
          ],
          [
           "Roméo Lavia",
           "Southampton"
          ],
          [
           "Thiago Alcántara do Nascimento",
           "Liverpool"
          ],
          [
           "Mateo Kovacic",
           "Chelsea"
          ],
          [
           "Boubakary Soumaré",
           "Leicester"
          ],
          [
           "Cheikhou Kouyaté",
           "Nott'm Forest"
          ],
          [
           "Tom Cairney",
           "Fulham"
          ],
          [
           "Fábio Freitas Gouveia Carvalho",
           "Liverpool"
          ],
          [
           "James Milner",
           "Liverpool"
          ],
          [
           "Luis Sinisterra Lucumí",
           "Leeds"
          ],
          [
           "Yves Bissouma",
           "Spurs"
          ],
          [
           "Orel Mangala",
           "Nott'm Forest"
          ],
          [
           "Dennis Praet",
           "Leicester"
          ],
          [
           "Samuel Edozie",
           "Southampton"
          ],
          [
           "Anthony Elanga",
           "Man Utd"
          ],
          [
           "Lewis O'Brien",
           "Nott'm Forest"
          ],
          [
           "Hakim Ziyech",
           "Chelsea"
          ],
          [
           "Wilfred Ndidi",
           "Leicester"
          ],
          [
           "Harry Wilson",
           "Fulham"
          ],
          [
           "Ayoze Pérez",
           "Leicester"
          ],
          [
           "Cody Gakpo",
           "Liverpool"
          ],
          [
           "Alex Oxlade-Chamberlain",
           "Liverpool"
          ],
          [
           "Moussa Djenepo",
           "Southampton"
          ],
          [
           "Reiss Nelson",
           "Arsenal"
          ],
          [
           "Daniel James",
           "Fulham"
          ],
          [
           "Ainsley Maitland-Niles",
           "Southampton"
          ],
          [
           "Nampalys Mendy",
           "Leicester"
          ],
          [
           "Scott McTominay",
           "Man Utd"
          ],
          [
           "Shandon Baptiste",
           "Brentford"
          ],
          [
           "Frank Onyeka",
           "Brentford"
          ],
          [
           "Pedro Lomba Neto",
           "Wolves"
          ],
          [
           "Stefan Bajcetic",
           "Liverpool"
          ],
          [
           "Ibrahima Diallo",
           "Southampton"
          ],
          [
           "Leander Dendoncker",
           "Aston Villa"
          ],
          [
           "Abdoulaye Doucouré",
           "Everton"
          ],
          [
           "Manor Solomon",
           "Fulham"
          ],
          [
           "Flynn Downes",
           "West Ham"
          ],
          [
           "Dango Ouattara",
           "Bournemouth"
          ],
          [
           "Will Hughes",
           "Crystal Palace"
          ],
          [
           "Tom Davies",
           "Everton"
          ],
          [
           "Luka Milivojevic",
           "Crystal Palace"
          ],
          [
           "Jeremy Sarmiento Morante",
           "Brighton"
          ],
          [
           "Keane Lewis-Potter",
           "Brentford"
          ],
          [
           "Mateusz Klich",
           "Leeds"
          ],
          [
           "Carlos Alcaraz",
           "Southampton"
          ],
          [
           "Marc Albrighton",
           "Leicester"
          ],
          [
           "Boubacar Traoré",
           "Wolves"
          ],
          [
           "Mateus Cardoso Lemos Martins",
           "Leicester"
          ],
          [
           "Mikkel Damsgaard",
           "Brentford"
          ],
          [
           "Carney Chukwuemeka",
           "Chelsea"
          ],
          [
           "Oliver Skipp",
           "Spurs"
          ],
          [
           "Denis Zakaria",
           "Chelsea"
          ],
          [
           "Bryan Gil Salvatierra",
           "Spurs"
          ],
          [
           "Elliot Anderson",
           "Newcastle"
          ],
          [
           "Leandro Trossard",
           "Arsenal"
          ],
          [
           "Joe Rothwell",
           "Bournemouth"
          ],
          [
           "Enock Mwepu",
           "Brighton"
          ],
          [
           "Enzo Fernández",
           "Chelsea"
          ],
          [
           "Naby Keita",
           "Liverpool"
          ],
          [
           "Jack Colback",
           "Nott'm Forest"
          ],
          [
           "Ryan Fraser",
           "Newcastle"
          ],
          [
           "Saman Ghoddos",
           "Brentford"
          ],
          [
           "Ben Pearson",
           "Bournemouth"
          ],
          [
           "Lucas Rodrigues Moura da Silva",
           "Spurs"
          ],
          [
           "Donny van de Beek",
           "Man Utd"
          ],
          [
           "Hamed Traorè",
           "Bournemouth"
          ],
          [
           "Lewis Hall",
           "Chelsea"
          ],
          [
           "Cole Palmer",
           "Man City"
          ],
          [
           "João Victor Gomes da Silva",
           "Wolves"
          ],
          [
           "Marcel Sabitzer",
           "Man Utd"
          ],
          [
           "Billy Gilmour",
           "Brighton"
          ],
          [
           "Jorge Luiz Frello Filho",
           "Arsenal"
          ],
          [
           "Adam Forshaw",
           "Leeds"
          ],
          [
           "Mohamed Elneny",
           "Arsenal"
          ],
          [
           "Siriki Dembélé",
           "Bournemouth"
          ],
          [
           "Curtis Jones",
           "Liverpool"
          ],
          [
           "Pape Matar Sarr",
           "Spurs"
          ],
          [
           "Theo Walcott",
           "Southampton"
          ],
          [
           "Mykhailo Mudryk",
           "Chelsea"
          ],
          [
           "N'Golo Kanté",
           "Chelsea"
          ],
          [
           "Maxwel Cornet",
           "West Ham"
          ],
          [
           "Noni Madueke",
           "Chelsea"
          ],
          [
           "Pablo Sarabia",
           "Wolves"
          ],
          [
           "Manuel Lanzini",
           "West Ham"
          ],
          [
           "James Garner",
           "Everton"
          ],
          [
           "Chem Campbell",
           "Wolves"
          ],
          [
           "Emile Smith Rowe",
           "Arsenal"
          ],
          [
           "Weston McKennie",
           "Leeds"
          ],
          [
           "Kamaldeen Sulemana",
           "Southampton"
          ],
          [
           "Kalvin Phillips",
           "Man City"
          ],
          [
           "Albert Sambi Lokonga",
           "Crystal Palace"
          ],
          [
           "Junior Stanislas",
           "Bournemouth"
          ],
          [
           "Joseph Hodge",
           "Wolves"
          ],
          [
           "Jairo Riedewald",
           "Crystal Palace"
          ],
          [
           "Malcolm Ebiowei",
           "Crystal Palace"
          ],
          [
           "Naouirou Ahamada",
           "Crystal Palace"
          ],
          [
           "Gustavo Henrique Furtado Scarpa",
           "Nott'm Forest"
          ],
          [
           "Mario Lemina",
           "Wolves"
          ],
          [
           "André Ayew",
           "Nott'm Forest"
          ],
          [
           "Jonjo Shelvey",
           "Nott'm Forest"
          ],
          [
           "Luke Harris",
           "Fulham"
          ],
          [
           "Kevin Schade",
           "Brentford"
          ],
          [
           "Jamal Lowe",
           "Bournemouth"
          ],
          [
           "Danilo dos Santos de Oliveira",
           "Nott'm Forest"
          ],
          [
           "Dele Alli",
           "Everton"
          ],
          [
           "Ben Doak",
           "Liverpool"
          ],
          [
           "Oriol Romeu Vidal",
           "Southampton"
          ],
          [
           "Anthony Gordon",
           "Newcastle"
          ],
          [
           "Josh Onomah",
           "Fulham"
          ],
          [
           "Facundo Buonanotte",
           "Brighton"
          ],
          [
           "Morgan Sanson",
           "Aston Villa"
          ],
          [
           "Harvey White",
           "Spurs"
          ],
          [
           "Bobby Clark",
           "Liverpool"
          ],
          [
           "Nathaniel Chalobah",
           "Fulham"
          ],
          [
           "Nathan Redmond",
           "Southampton"
          ],
          [
           "Andrew Moran",
           "Brighton"
          ],
          [
           "Sasa Lukic",
           "Fulham"
          ],
          [
           "Conor Coventry",
           "West Ham"
          ],
          [
           "Darko Gyabi",
           "Leeds"
          ],
          [
           "Mislav Orsic",
           "Southampton"
          ],
          [
           "Emiliano Marcondes",
           "Bournemouth"
          ],
          [
           "Connor Ronan",
           "Wolves"
          ],
          [
           "Tyrese Francois",
           "Fulham"
          ],
          [
           "Kobbie Mainoo",
           "Man Utd"
          ],
          [
           "Alex Mighten",
           "Nott'm Forest"
          ],
          [
           "Marcus Oliveira Alencar",
           "Arsenal"
          ],
          [
           "Carlos Ribeiro Dias",
           "Nott'm Forest"
          ],
          [
           "Ethan Nwaneri",
           "Arsenal"
          ],
          [
           "David Ozoh",
           "Crystal Palace"
          ],
          [
           "Arnaut Danjuma",
           "Spurs"
          ],
          [
           "Omari Hutchinson",
           "Chelsea"
          ],
          [
           "Facundo Pellistri Rebollo",
           "Man Utd"
          ],
          [
           "Andrey Nascimento dos Santos",
           "Chelsea"
          ],
          [
           "Ross Barkley",
           "Chelsea"
          ],
          [
           "Jack Hinshelwood",
           "Brighton"
          ],
          [
           "Ryan Finnigan",
           "Southampton"
          ],
          [
           "Amario Cozier-Duberry",
           "Arsenal"
          ],
          [
           "Harvey Vale",
           "Chelsea"
          ],
          [
           "Harvey Griffiths",
           "Wolves"
          ],
          [
           "Ivan Neves Abreu Cavaleiro",
           "Fulham"
          ],
          [
           "David Brooks",
           "Bournemouth"
          ],
          [
           "Isaac Price",
           "Everton"
          ],
          [
           "Sammy Braybrooke",
           "Leicester"
          ],
          [
           "André Tavares Gomes",
           "Everton"
          ],
          [
           "Anthony Knockaert",
           "Fulham"
          ],
          [
           "Ryan Trevitt",
           "Brentford"
          ],
          [
           "Andros Townsend",
           "Everton"
          ],
          [
           "Jack Wells-Morrison",
           "Crystal Palace"
          ],
          [
           "Alfie Devine",
           "Spurs"
          ],
          [
           "Wanya Marçal-Madivadua",
           "Leicester"
          ],
          [
           "Will Smallbone",
           "Southampton"
          ],
          [
           "Xande Nascimento da Costa Silva",
           "Nott'm Forest"
          ],
          [
           "Yasin Ayari",
           "Brighton"
          ],
          [
           "Yegor Yarmolyuk",
           "Brentford"
          ],
          [
           "Zidane Iqbal",
           "Man Utd"
          ],
          [
           "Tyler Roberts",
           "Leeds"
          ],
          [
           "Harry Winks",
           "Spurs"
          ],
          [
           "Amad Diallo",
           "Man Utd"
          ],
          [
           "Stanley Mills",
           "Everton"
          ],
          [
           "Steven Alzate",
           "Brighton"
          ],
          [
           "Steven Bergwijn",
           "Spurs"
          ],
          [
           "Harry Arter",
           "Nott'm Forest"
          ],
          [
           "Allan Marques Loureiro",
           "Everton"
          ],
          [
           "Hamza Choudhury",
           "Leicester"
          ],
          [
           "Taylor Richards",
           "Brighton"
          ],
          [
           "Tim Iroegbunam",
           "Aston Villa"
          ],
          [
           "Garang Kuol",
           "Newcastle"
          ],
          [
           "Francisco Jorge Tomás Oliveira",
           "Wolves"
          ],
          [
           "Jaden Philogene-Bidace",
           "Aston Villa"
          ],
          [
           "Martial Godo",
           "Fulham"
          ],
          [
           "Kaden Rodney",
           "Crystal Palace"
          ],
          [
           "Anwar El Ghazi",
           "Aston Villa"
          ],
          [
           "Callum Hudson-Odoi",
           "Chelsea"
          ],
          [
           "Kadan Young",
           "Aston Villa"
          ],
          [
           "Braian Ojeda Rodríguez",
           "Nott'm Forest"
          ],
          [
           "Marvelous Nakamba",
           "Aston Villa"
          ],
          [
           "Kacper Kozłowski",
           "Brighton"
          ],
          [
           "Claudio Gomes",
           "Man City"
          ],
          [
           "Matthew Smith",
           "Arsenal"
          ],
          [
           "Kasey McAteer",
           "Leicester"
          ],
          [
           "Lewis Bate",
           "Leeds"
          ],
          [
           "Lewis Miley",
           "Newcastle"
          ],
          [
           "Lewis Payne",
           "Southampton"
          ],
          [
           "Lewis Warrington",
           "Everton"
          ],
          [
           "Kristian Sekularac",
           "Fulham"
          ],
          [
           "Mads Bidstrup",
           "Brentford"
          ],
          [
           "Lucas Torreira di Pascua",
           "Arsenal"
          ],
          [
           "Killian Phillips",
           "Crystal Palace"
          ],
          [
           "Luke Cundle",
           "Wolves"
          ],
          [
           "Michael Dacosta Gonzalez",
           "Bournemouth"
          ],
          [
           "Oliver Hammond",
           "Nott'm Forest"
          ],
          [
           "Jamie Shackleton",
           "Leeds"
          ],
          [
           "James McAtee",
           "Man City"
          ],
          [
           "Arthur Henrique Ramos de Oliveira Melo",
           "Liverpool"
          ],
          [
           "Armstrong Oko-Flex",
           "West Ham"
          ],
          [
           "Raphael Dias Belloli",
           "Leeds"
          ],
          [
           "Archie Gray",
           "Leeds"
          ],
          [
           "Jakub Moder",
           "Brighton"
          ],
          [
           "Bertrand Traoré",
           "Aston Villa"
          ],
          [
           "Ben Knight",
           "Man City"
          ],
          [
           "Joe Lolley",
           "Nott'm Forest"
          ],
          [
           "Máximo Perrone",
           "Man City"
          ],
          [
           "Jesurun Rak-Sakyi",
           "Crystal Palace"
          ],
          [
           "Nathan Tella",
           "Southampton"
          ],
          [
           "Jeff Hendrick",
           "Newcastle"
          ],
          [
           "Jean-Philippe Gbamin",
           "Everton"
          ],
          [
           "Nicolas Pépé",
           "Arsenal"
          ],
          [
           "Nikola Vlasic",
           "West Ham"
          ],
          [
           "James McArthur",
           "Crystal Palace"
          ]
         ],
         "hovertemplate": "position=MID<br>value=%{x}<br>total_points=%{y}<br>name=%{customdata[0]}<br>team=%{customdata[1]}<extra></extra>",
         "legendgroup": "MID",
         "marker": {
          "color": "#EF553B",
          "symbol": "circle"
         },
         "mode": "markers",
         "name": "MID",
         "orientation": "v",
         "showlegend": true,
         "type": "scatter",
         "x": [
          73,
          70,
          84,
          56,
          124,
          65,
          126,
          99,
          51,
          55,
          81,
          63,
          54,
          62,
          44,
          67,
          55,
          78,
          49,
          54,
          80,
          116,
          68,
          80,
          54,
          73,
          54,
          48,
          72,
          48,
          55,
          56,
          54,
          63,
          44,
          49,
          47,
          57,
          49,
          55,
          73,
          68,
          53,
          51,
          43,
          97,
          53,
          55,
          54,
          54,
          47,
          53,
          58,
          44,
          47,
          55,
          61,
          59,
          41,
          79,
          55,
          53,
          54,
          48,
          47,
          49,
          42,
          52,
          51,
          71,
          48,
          55,
          47,
          53,
          59,
          51,
          49,
          50,
          50,
          48,
          47,
          49,
          52,
          61,
          51,
          49,
          49,
          51,
          51,
          49,
          54,
          73,
          49,
          48,
          52,
          78,
          49,
          50,
          42,
          52,
          53,
          48,
          54,
          57,
          66,
          53,
          47,
          57,
          56,
          54,
          42,
          58,
          57,
          50,
          45,
          51,
          49,
          44,
          44,
          47,
          51,
          44,
          65,
          47,
          49,
          48,
          47,
          47,
          48,
          55,
          48,
          57,
          47,
          77,
          49,
          50,
          47,
          60,
          48,
          43,
          49,
          45,
          48,
          49,
          44,
          42,
          47,
          53,
          49,
          42,
          50,
          48,
          49,
          42,
          45,
          52,
          46,
          50,
          47,
          43,
          55,
          51,
          43,
          43,
          49,
          50,
          44,
          66,
          49,
          53,
          50,
          47,
          41,
          52,
          48,
          44,
          58,
          51,
          45,
          44,
          43,
          45,
          50,
          42,
          58,
          44,
          41,
          47,
          49,
          42,
          48,
          69,
          48,
          59,
          55,
          55,
          51,
          45,
          44,
          56,
          50,
          50,
          48,
          43,
          48,
          44,
          43,
          42,
          45,
          50,
          45,
          50,
          48,
          44,
          50,
          52,
          45,
          53,
          45,
          48,
          51,
          43,
          45,
          43,
          44,
          45,
          44,
          53,
          45,
          45,
          44,
          43,
          53,
          47,
          44,
          44,
          45,
          49,
          46,
          42,
          45,
          45,
          65,
          43,
          43,
          45,
          49,
          45,
          45,
          45,
          45,
          44,
          48,
          53,
          45,
          45,
          45,
          47,
          44,
          54,
          45,
          43,
          45,
          45,
          50,
          45,
          45,
          42,
          50,
          44,
          44,
          44,
          44,
          55,
          41,
          48,
          45,
          45,
          45,
          45,
          50,
          45,
          45,
          45,
          48,
          53,
          45,
          45,
          43,
          45,
          45,
          45,
          45,
          45,
          45,
          45,
          44,
          45,
          45,
          45,
          45,
          44,
          44,
          43,
          45,
          45,
          48,
          44,
          70,
          45,
          44,
          49,
          45,
          49,
          45,
          45,
          50,
          45,
          45,
          53,
          50,
          48
         ],
         "xaxis": "x",
         "y": [
          156,
          144,
          138,
          128,
          126,
          124,
          124,
          120,
          106,
          103,
          98,
          95,
          95,
          95,
          94,
          94,
          93,
          90,
          89,
          88,
          87,
          87,
          86,
          85,
          84,
          83,
          83,
          82,
          81,
          81,
          80,
          78,
          78,
          77,
          77,
          76,
          76,
          76,
          75,
          75,
          75,
          74,
          74,
          73,
          72,
          72,
          72,
          72,
          71,
          70,
          70,
          69,
          69,
          69,
          68,
          68,
          67,
          66,
          66,
          65,
          64,
          63,
          60,
          58,
          58,
          58,
          57,
          57,
          56,
          55,
          55,
          55,
          55,
          53,
          52,
          51,
          49,
          49,
          48,
          48,
          47,
          46,
          45,
          45,
          45,
          45,
          45,
          44,
          43,
          43,
          43,
          43,
          41,
          41,
          40,
          39,
          39,
          39,
          39,
          37,
          37,
          37,
          35,
          35,
          33,
          32,
          32,
          31,
          31,
          30,
          29,
          29,
          29,
          28,
          28,
          28,
          27,
          27,
          27,
          26,
          25,
          25,
          25,
          24,
          24,
          24,
          23,
          23,
          22,
          22,
          21,
          21,
          21,
          21,
          21,
          20,
          20,
          20,
          20,
          20,
          19,
          19,
          18,
          18,
          17,
          17,
          17,
          17,
          16,
          16,
          15,
          15,
          14,
          14,
          14,
          14,
          13,
          13,
          13,
          12,
          12,
          12,
          12,
          12,
          12,
          11,
          11,
          11,
          11,
          11,
          11,
          11,
          11,
          11,
          10,
          9,
          9,
          9,
          8,
          8,
          8,
          8,
          8,
          8,
          8,
          7,
          7,
          7,
          6,
          6,
          5,
          5,
          5,
          5,
          5,
          5,
          5,
          5,
          5,
          5,
          4,
          4,
          4,
          4,
          4,
          4,
          4,
          3,
          3,
          3,
          3,
          3,
          3,
          3,
          3,
          3,
          2,
          2,
          2,
          2,
          2,
          2,
          2,
          2,
          1,
          1,
          1,
          1,
          1,
          1,
          1,
          1,
          1,
          1,
          1,
          1,
          1,
          1,
          1,
          1,
          1,
          1,
          1,
          1,
          1,
          0,
          0,
          0,
          0,
          0,
          0,
          0,
          0,
          0,
          0,
          0,
          0,
          0,
          0,
          0,
          0,
          0,
          0,
          0,
          0,
          0,
          0,
          0,
          0,
          0,
          0,
          0,
          0,
          0,
          0,
          0,
          0,
          0,
          0,
          0,
          0,
          0,
          0,
          0,
          0,
          0,
          0,
          0,
          0,
          0,
          0,
          0,
          0,
          0,
          0,
          0,
          0,
          0,
          0,
          0,
          0,
          0,
          0,
          0,
          0,
          0,
          0,
          0,
          0,
          0,
          0,
          0,
          0,
          0,
          0,
          0,
          0,
          0,
          0,
          0,
          0,
          0
         ],
         "yaxis": "y"
        },
        {
         "customdata": [
          [
           "Kieran Trippier",
           "Newcastle"
          ],
          [
           "Fabian Schär",
           "Newcastle"
          ],
          [
           "Ben Mee",
           "Brentford"
          ],
          [
           "Luke Shaw",
           "Man Utd"
          ],
          [
           "William Saliba",
           "Arsenal"
          ],
          [
           "Dan Burn",
           "Newcastle"
          ],
          [
           "Sven Botman",
           "Newcastle"
          ],
          [
           "Gabriel dos Santos Magalhães",
           "Arsenal"
          ],
          [
           "Benjamin White",
           "Arsenal"
          ],
          [
           "Tim Ream",
           "Fulham"
          ],
          [
           "Trent Alexander-Arnold",
           "Liverpool"
          ],
          [
           "Ben Davies",
           "Spurs"
          ],
          [
           "Andrew Robertson",
           "Liverpool"
          ],
          [
           "Timothy Castagne",
           "Leicester"
          ],
          [
           "Eric Dier",
           "Spurs"
          ],
          [
           "Rico Henry",
           "Brentford"
          ],
          [
           "Thiago Emiliano da Silva",
           "Chelsea"
          ],
          [
           "João Cancelo",
           "Man City"
          ],
          [
           "Ivan Perišić",
           "Spurs"
          ],
          [
           "James Tarkowski",
           "Everton"
          ],
          [
           "Max Kilman",
           "Wolves"
          ],
          [
           "Conor Coady",
           "Everton"
          ],
          [
           "Diogo Dalot Teixeira",
           "Man Utd"
          ],
          [
           "Emerson Leite de Souza Junior",
           "Spurs"
          ],
          [
           "Pascal Struijk",
           "Leeds"
          ],
          [
           "Virgil van Dijk",
           "Liverpool"
          ],
          [
           "Lewis Dunk",
           "Brighton"
          ],
          [
           "Kenny Tete",
           "Fulham"
          ],
          [
           "Antonee Robinson",
           "Fulham"
          ],
          [
           "Pervis Estupiñán",
           "Brighton"
          ],
          [
           "Serge Aurier",
           "Nott'm Forest"
          ],
          [
           "Joseph Gomez",
           "Liverpool"
          ],
          [
           "Oleksandr Zinchenko",
           "Arsenal"
          ],
          [
           "Vitalii Mykolenko",
           "Everton"
          ],
          [
           "Issa Diop",
           "Fulham"
          ],
          [
           "Joël Veltman",
           "Brighton"
          ],
          [
           "Tyrone Mings",
           "Aston Villa"
          ],
          [
           "Ashley Young",
           "Aston Villa"
          ],
          [
           "Lisandro Martínez",
           "Man Utd"
          ],
          [
           "Kurt Zouma",
           "West Ham"
          ],
          [
           "Marc Cucurella Saseta",
           "Chelsea"
          ],
          [
           "John Stones",
           "Man City"
          ],
          [
           "Ezri Konsa Ngoyo",
           "Aston Villa"
          ],
          [
           "Ethan Pinnock",
           "Brentford"
          ],
          [
           "Raphaël Varane",
           "Man Utd"
          ],
          [
           "Marc Guéhi",
           "Crystal Palace"
          ],
          [
           "Romain Perraud",
           "Southampton"
          ],
          [
           "Seamus Coleman",
           "Everton"
          ],
          [
           "Tyrell Malacia",
           "Man Utd"
          ],
          [
           "Joachim Andersen",
           "Crystal Palace"
          ],
          [
           "Tyrick Mitchell",
           "Crystal Palace"
          ],
          [
           "Kalidou Koulibaly",
           "Chelsea"
          ],
          [
           "Adam Smith",
           "Bournemouth"
          ],
          [
           "Manuel Akanji",
           "Man City"
          ],
          [
           "Nathan Aké",
           "Man City"
          ],
          [
           "Joel Ward",
           "Crystal Palace"
          ],
          [
           "Daniel Amartey",
           "Leicester"
          ],
          [
           "Jordan Zemura",
           "Bournemouth"
          ],
          [
           "Rúben Gato Alves Dias",
           "Man City"
          ],
          [
           "James Justin",
           "Leicester"
          ],
          [
           "Nélson Cabral Semedo",
           "Wolves"
          ],
          [
           "Nathan Collins",
           "Wolves"
          ],
          [
           "Robin Koch",
           "Leeds"
          ],
          [
           "Aaron Cresswell",
           "West Ham"
          ],
          [
           "Adam Webster",
           "Brighton"
          ],
          [
           "Lucas Digne",
           "Aston Villa"
          ],
          [
           "Mads Roerslev Rasmussen",
           "Brentford"
          ],
          [
           "Neco Williams",
           "Nott'm Forest"
          ],
          [
           "Willy Boly",
           "Nott'm Forest"
          ],
          [
           "César Azpilicueta",
           "Chelsea"
          ],
          [
           "Marcos Senesi",
           "Bournemouth"
          ],
          [
           "Rayan Aït-Nouri",
           "Wolves"
          ],
          [
           "Cristian Romero",
           "Spurs"
          ],
          [
           "Aaron Wan-Bissaka",
           "Man Utd"
          ],
          [
           "Thilo Kehrer",
           "West Ham"
          ],
          [
           "Wout Faes",
           "Leicester"
          ],
          [
           "Joe Worrall",
           "Nott'm Forest"
          ],
          [
           "Scott McKenna",
           "Nott'm Forest"
          ],
          [
           "Liam Cooper",
           "Leeds"
          ],
          [
           "Trevoh Chalobah",
           "Chelsea"
          ],
          [
           "Renan Augusto Lodi dos Santos",
           "Nott'm Forest"
          ],
          [
           "Ryan Sessegnon",
           "Spurs"
          ],
          [
           "Matt Doherty",
           "Spurs"
          ],
          [
           "Ben Chilwell",
           "Chelsea"
          ],
          [
           "Luke Ayling",
           "Leeds"
          ],
          [
           "Hugo Bueno López",
           "Wolves"
          ],
          [
           "Jonathan Castro Otto",
           "Wolves"
          ],
          [
           "Vladimir Coufal",
           "West Ham"
          ],
          [
           "Nathaniel Clyne",
           "Crystal Palace"
          ],
          [
           "Mohammed Salisu",
           "Southampton"
          ],
          [
           "Kyle Walker-Peters",
           "Southampton"
          ],
          [
           "Kyle Walker",
           "Man City"
          ],
          [
           "Tosin Adarabioyo",
           "Fulham"
          ],
          [
           "Clément Lenglet",
           "Spurs"
          ],
          [
           "Reece James",
           "Chelsea"
          ],
          [
           "Chris Mepham",
           "Bournemouth"
          ],
          [
           "Takehiro Tomiyasu",
           "Arsenal"
          ],
          [
           "Kristoffer Ajer",
           "Brentford"
          ],
          [
           "Rasmus Kristensen",
           "Leeds"
          ],
          [
           "Mathias Jorgensen",
           "Brentford"
          ],
          [
           "Matty Cash",
           "Aston Villa"
          ],
          [
           "Lloyd Kelly",
           "Bournemouth"
          ],
          [
           "Emerson Palmieri dos Santos",
           "West Ham"
          ],
          [
           "Konstantinos Tsimikas",
           "Liverpool"
          ],
          [
           "Armel Bella-Kotchap",
           "Southampton"
          ],
          [
           "Nathan Patterson",
           "Everton"
          ],
          [
           "Harry Maguire",
           "Man Utd"
          ],
          [
           "Benoît Badiashile",
           "Chelsea"
          ],
          [
           "Matt Targett",
           "Newcastle"
          ],
          [
           "Kieran Tierney",
           "Arsenal"
          ],
          [
           "Davinson Sánchez",
           "Spurs"
          ],
          [
           "Tariq Lamptey",
           "Brighton"
          ],
          [
           "Victor Lindelöf",
           "Man Utd"
          ],
          [
           "Aaron Hickey",
           "Brentford"
          ],
          [
           "Aymeric Laporte",
           "Man City"
          ],
          [
           "Ben Johnson",
           "West Ham"
          ],
          [
           "Steve Cook",
           "Nott'm Forest"
          ],
          [
           "Harry Toffolo",
           "Nott'm Forest"
          ],
          [
           "Duje Caleta-Car",
           "Southampton"
          ],
          [
           "Jack Stephens",
           "Bournemouth"
          ],
          [
           "Angelo Ogbonna",
           "West Ham"
          ],
          [
           "Pontus Jansson",
           "Brentford"
          ],
          [
           "Luke Thomas",
           "Leicester"
          ],
          [
           "Craig Dawson",
           "Wolves"
          ],
          [
           "Joel Matip",
           "Liverpool"
          ],
          [
           "Rico Lewis",
           "Man City"
          ],
          [
           "Lyanco Silveira Neves Vojnovic",
           "Southampton"
          ],
          [
           "Diego Llorente",
           "Leeds"
          ],
          [
           "Levi Colwill",
           "Brighton"
          ],
          [
           "Nayef Aguerd",
           "West Ham"
          ],
          [
           "Yerry Mina",
           "Everton"
          ],
          [
           "Alexandre Moreno Lopera",
           "Aston Villa"
          ],
          [
           "Maximilian Wöber",
           "Leeds"
          ],
          [
           "Mason Holgate",
           "Everton"
          ],
          [
           "Toti António Gomes",
           "Wolves"
          ],
          [
           "Chris Richards",
           "Crystal Palace"
          ],
          [
           "Jonny Evans",
           "Leicester"
          ],
          [
           "Ryan Fredericks",
           "Bournemouth"
          ],
          [
           "Ibrahima Konaté",
           "Liverpool"
          ],
          [
           "Jan Bednarek",
           "Southampton"
          ],
          [
           "Rob Holding",
           "Arsenal"
          ],
          [
           "James Tomkins",
           "Crystal Palace"
          ],
          [
           "Kevin Mbabu",
           "Fulham"
          ],
          [
           "Ben Godfrey",
           "Everton"
          ],
          [
           "Moussa Niakhaté",
           "Nott'm Forest"
          ],
          [
           "Sergio Gómez",
           "Man City"
          ],
          [
           "Junior Firpo Adames",
           "Leeds"
          ],
          [
           "Sergi Canós Tenés",
           "Brentford"
          ],
          [
           "Wesley Fofana",
           "Chelsea"
          ],
          [
           "Calum Chambers",
           "Aston Villa"
          ],
          [
           "Djed Spence",
           "Spurs"
          ],
          [
           "Jack Stacey",
           "Bournemouth"
          ],
          [
           "Victor Kristiansen",
           "Leicester"
          ],
          [
           "Juan Larios López",
           "Southampton"
          ],
          [
           "Mads Bech Sørensen",
           "Brentford"
          ],
          [
           "Shane Duffy",
           "Fulham"
          ],
          [
           "Harry Souttar",
           "Leicester"
          ],
          [
           "Felipe Augusto de Almeida Monteiro",
           "Nott'm Forest"
          ],
          [
           "Matt Ritchie",
           "Newcastle"
          ],
          [
           "Diego Carlos Santos Silva",
           "Aston Villa"
          ],
          [
           "Nathaniel Phillips",
           "Liverpool"
          ],
          [
           "James Bree",
           "Southampton"
          ],
          [
           "Çaglar Söyüncü",
           "Leicester"
          ],
          [
           "Rúben Nascimento Vinagre",
           "Everton"
          ],
          [
           "Japhet Tanganga",
           "Spurs"
          ],
          [
           "Matías Viña",
           "Bournemouth"
          ],
          [
           "Jan Paul van Hecke",
           "Brighton"
          ],
          [
           "Giulian Biancone",
           "Nott'm Forest"
          ],
          [
           "Ludwig Augustinsson",
           "Aston Villa"
          ],
          [
           "Layvin Kurzawa",
           "Fulham"
          ],
          [
           "Dexter Lembikisa",
           "Wolves"
          ],
          [
           "Javier Manquillo Gaitán",
           "Newcastle"
          ],
          [
           "Lewis Brunt",
           "Leicester"
          ],
          [
           "Cédric Alves Soares",
           "Fulham"
          ],
          [
           "Ricardo Barbosa Pereira",
           "Leicester"
          ],
          [
           "Emil Krafth",
           "Newcastle"
          ],
          [
           "Michael Keane",
           "Everton"
          ],
          [
           "Jamaal Lascelles",
           "Newcastle"
          ],
          [
           "Jamal Lewis",
           "Newcastle"
          ],
          [
           "Owen Bevan",
           "Bournemouth"
          ],
          [
           "Cody Drameh",
           "Leeds"
          ],
          [
           "Pedro Porro",
           "Spurs"
          ],
          [
           "Robert Kenedy Nunes do Nascimento",
           "Chelsea"
          ],
          [
           "Sepp van den Berg",
           "Liverpool"
          ],
          [
           "Sergio Reguilón",
           "Spurs"
          ],
          [
           "Illia Zabarnyi",
           "Bournemouth"
          ],
          [
           "Haydon Roberts",
           "Brighton"
          ],
          [
           "Ryan Bertrand",
           "Leicester"
          ],
          [
           "Fin Stevens",
           "Brentford"
          ],
          [
           "Federico Fernández",
           "Newcastle"
          ],
          [
           "Dominic Thompson",
           "Brentford"
          ],
          [
           "Ethan Ampadu",
           "Chelsea"
          ],
          [
           "Ed Turns",
           "Brighton"
          ],
          [
           "Eric Bailly",
           "Man Utd"
          ],
          [
           "Yan Valery",
           "Southampton"
          ],
          [
           "Yerson Mosquera Valdelamar",
           "Wolves"
          ],
          [
           "Sil Swinkels",
           "Aston Villa"
          ],
          [
           "Tristan Crama",
           "Brentford"
          ],
          [
           "Stefan Parkes",
           "Fulham"
          ],
          [
           "Stuart Dallas",
           "Leeds"
          ],
          [
           "Harrison Ashby",
           "Newcastle"
          ],
          [
           "Terence Kongolo",
           "Fulham"
          ],
          [
           "Diogo Pinheiro Monteiro",
           "Leeds"
          ],
          [
           "Alex Telles",
           "Man Utd"
          ],
          [
           "Tino Livramento",
           "Southampton"
          ],
          [
           "Frédéric Guilbert",
           "Aston Villa"
          ],
          [
           "Leo Fuhr Hjelde",
           "Leeds"
          ],
          [
           "Kaelan Casey",
           "West Ham"
          ],
          [
           "Brandon Williams",
           "Man Utd"
          ],
          [
           "Marcos Alonso",
           "Chelsea"
          ],
          [
           "Kaine Kesler Hayden",
           "Aston Villa"
          ],
          [
           "Ciaran Clark",
           "Newcastle"
          ],
          [
           "Josh Wilson-Esbrand",
           "Man City"
          ],
          [
           "Matt Clarke",
           "Brighton"
          ],
          [
           "Malang Sarr",
           "Chelsea"
          ],
          [
           "Loïc Badé",
           "Nott'm Forest"
          ],
          [
           "Lamare Bogarde",
           "Aston Villa"
          ],
          [
           "Kyle John",
           "Everton"
          ],
          [
           "Lino Sousa",
           "Arsenal"
          ],
          [
           "Loïc Mbe Soh",
           "Nott'm Forest"
          ],
          [
           "Kortney Hause",
           "Aston Villa"
          ],
          [
           "Kofi Balmer",
           "Crystal Palace"
          ],
          [
           "Charlie Goode",
           "Brentford"
          ],
          [
           "Calvin Ramsay",
           "Liverpool"
          ],
          [
           "Luke Chambers",
           "Liverpool"
          ],
          [
           "Luke Mbete-Tabu",
           "Man City"
          ],
          [
           "Max Kinsey-Wellings",
           "Bournemouth"
          ],
          [
           "Bashir Humphreys",
           "Chelsea"
          ],
          [
           "Jannik Vestergaard",
           "Leicester"
          ],
          [
           "Omar Richards",
           "Nott'm Forest"
          ],
          [
           "Pablo Marí Villar",
           "Arsenal"
          ],
          [
           "Arthur Masuaku",
           "West Ham"
          ],
          [
           "Paul Dummett",
           "Newcastle"
          ],
          [
           "Odeluga Offiah",
           "Brighton"
          ],
          [
           "Phil Jones",
           "Man Utd"
          ],
          [
           "James Hill",
           "Bournemouth"
          ],
          [
           "James Furlong",
           "Brighton"
          ],
          [
           "Reece Welch",
           "Everton"
          ],
          [
           "Jakub Kiwior",
           "Arsenal"
          ],
          [
           "Rhys Bennett",
           "Man Utd"
          ],
          [
           "Rhys Williams",
           "Liverpool"
          ],
          [
           "Richie Laryea",
           "Nott'm Forest"
          ],
          [
           "Jarrad Branthwaite",
           "Everton"
          ],
          [
           "Ben Davies",
           "Liverpool"
          ],
          [
           "Mohamed Dräger",
           "Nott'm Forest"
          ],
          [
           "Jonathan Panzo",
           "Nott'm Forest"
          ],
          [
           "Joe Wormleighton",
           "Leicester"
          ],
          [
           "Joe Rodon",
           "Spurs"
          ],
          [
           "Joe Bryan",
           "Fulham"
          ],
          [
           "Ben Greenwood",
           "Bournemouth"
          ],
          [
           "Nuno Varela Tavares",
           "Arsenal"
          ],
          [
           "Nathan Ferguson",
           "Crystal Palace"
          ],
          [
           "Jeremiah Chilokoa-Mullen",
           "Leeds"
          ],
          [
           "Niels Nkounkou",
           "Everton"
          ]
         ],
         "hovertemplate": "position=DEF<br>value=%{x}<br>total_points=%{y}<br>name=%{customdata[0]}<br>team=%{customdata[1]}<extra></extra>",
         "legendgroup": "DEF",
         "marker": {
          "color": "#00cc96",
          "symbol": "circle"
         },
         "mode": "markers",
         "name": "DEF",
         "orientation": "v",
         "showlegend": true,
         "type": "scatter",
         "x": [
          61,
          52,
          50,
          54,
          53,
          46,
          45,
          52,
          47,
          46,
          73,
          48,
          68,
          44,
          51,
          45,
          55,
          71,
          55,
          43,
          44,
          49,
          47,
          49,
          45,
          65,
          47,
          44,
          44,
          47,
          45,
          43,
          51,
          43,
          43,
          46,
          43,
          44,
          45,
          44,
          51,
          54,
          44,
          44,
          48,
          44,
          41,
          44,
          42,
          45,
          44,
          55,
          43,
          50,
          51,
          44,
          41,
          43,
          59,
          42,
          50,
          44,
          45,
          47,
          45,
          46,
          43,
          39,
          42,
          48,
          44,
          42,
          49,
          43,
          44,
          42,
          42,
          44,
          44,
          45,
          43,
          44,
          46,
          58,
          45,
          39,
          43,
          41,
          45,
          44,
          44,
          48,
          45,
          48,
          58,
          44,
          42,
          45,
          48,
          40,
          46,
          43,
          40,
          44,
          45,
          39,
          47,
          50,
          47,
          46,
          43,
          42,
          41,
          49,
          57,
          44,
          43,
          43,
          45,
          43,
          44,
          42,
          41,
          48,
          59,
          39,
          44,
          44,
          44,
          48,
          43,
          44,
          45,
          43,
          39,
          44,
          44,
          44,
          48,
          42,
          42,
          39,
          43,
          43,
          43,
          45,
          45,
          50,
          43,
          42,
          41,
          43,
          45,
          40,
          45,
          43,
          45,
          45,
          42,
          47,
          39,
          45,
          42,
          43,
          39,
          45,
          40,
          42,
          43,
          43,
          40,
          42,
          39,
          42,
          43,
          43,
          42,
          43,
          44,
          40,
          40,
          50,
          39,
          40,
          42,
          45,
          40,
          39,
          40,
          44,
          40,
          44,
          40,
          40,
          40,
          39,
          40,
          40,
          40,
          49,
          38,
          39,
          40,
          50,
          44,
          39,
          39,
          40,
          38,
          53,
          40,
          45,
          38,
          40,
          50,
          45,
          40,
          40,
          40,
          42,
          44,
          40,
          39,
          39,
          40,
          39,
          40,
          45,
          39,
          44,
          45,
          45,
          39,
          40,
          39,
          44,
          40,
          40,
          40,
          40,
          40,
          45,
          40,
          40,
          40,
          40,
          40,
          40,
          44,
          40,
          45,
          39,
          40,
          40
         ],
         "xaxis": "x",
         "y": [
          154,
          108,
          101,
          99,
          98,
          98,
          95,
          92,
          91,
          86,
          83,
          79,
          77,
          77,
          76,
          76,
          73,
          73,
          72,
          71,
          71,
          71,
          68,
          68,
          67,
          66,
          65,
          65,
          64,
          64,
          64,
          63,
          62,
          61,
          61,
          61,
          60,
          60,
          59,
          58,
          58,
          56,
          55,
          55,
          55,
          54,
          54,
          52,
          52,
          52,
          51,
          50,
          50,
          49,
          49,
          48,
          47,
          46,
          45,
          45,
          44,
          44,
          44,
          43,
          43,
          42,
          42,
          42,
          41,
          41,
          40,
          40,
          40,
          40,
          39,
          39,
          38,
          38,
          37,
          36,
          36,
          36,
          36,
          36,
          35,
          35,
          35,
          34,
          34,
          33,
          33,
          32,
          31,
          31,
          30,
          30,
          29,
          29,
          29,
          29,
          28,
          27,
          27,
          25,
          25,
          25,
          24,
          23,
          23,
          23,
          22,
          22,
          21,
          21,
          21,
          20,
          20,
          20,
          19,
          18,
          18,
          18,
          18,
          17,
          17,
          17,
          16,
          16,
          15,
          13,
          13,
          13,
          12,
          12,
          12,
          12,
          11,
          10,
          9,
          8,
          8,
          8,
          7,
          7,
          7,
          7,
          6,
          5,
          5,
          5,
          5,
          5,
          4,
          4,
          4,
          4,
          4,
          3,
          3,
          3,
          3,
          3,
          2,
          2,
          2,
          2,
          2,
          2,
          2,
          2,
          1,
          1,
          1,
          1,
          1,
          1,
          1,
          1,
          1,
          1,
          1,
          1,
          0,
          0,
          0,
          0,
          0,
          0,
          0,
          0,
          0,
          0,
          0,
          0,
          0,
          0,
          0,
          0,
          0,
          0,
          0,
          0,
          0,
          0,
          0,
          0,
          0,
          0,
          0,
          0,
          0,
          0,
          0,
          0,
          0,
          0,
          0,
          0,
          0,
          0,
          0,
          0,
          0,
          0,
          0,
          0,
          0,
          0,
          0,
          0,
          0,
          0,
          0,
          0,
          0,
          0,
          0,
          0,
          0,
          0,
          0,
          0,
          0,
          0,
          0,
          0,
          0,
          0,
          0,
          0,
          0,
          0,
          0,
          0
         ],
         "yaxis": "y"
        },
        {
         "customdata": [
          [
           "David Raya Martin",
           "Brentford"
          ],
          [
           "Nick Pope",
           "Newcastle"
          ],
          [
           "David De Gea Quintana",
           "Man Utd"
          ],
          [
           "Alisson Ramses Becker",
           "Liverpool"
          ],
          [
           "Bernd Leno",
           "Fulham"
          ],
          [
           "José Malheiro de Sá",
           "Wolves"
          ],
          [
           "Aaron Ramsdale",
           "Arsenal"
          ],
          [
           "Vicente Guaita",
           "Crystal Palace"
          ],
          [
           "Ederson Santana de Moraes",
           "Man City"
          ],
          [
           "Dean Henderson",
           "Nott'm Forest"
          ],
          [
           "Hugo Lloris",
           "Spurs"
          ],
          [
           "Lukasz Fabianski",
           "West Ham"
          ],
          [
           "Robert Sánchez",
           "Brighton"
          ],
          [
           "Illan Meslier",
           "Leeds"
          ],
          [
           "Kepa Arrizabalaga",
           "Chelsea"
          ],
          [
           "Danny Ward",
           "Leicester"
          ],
          [
           "Jordan Pickford",
           "Everton"
          ],
          [
           "Gavin Bazunu",
           "Southampton"
          ],
          [
           "Emiliano Martínez Romero",
           "Aston Villa"
          ],
          [
           "Norberto Murara Neto",
           "Bournemouth"
          ],
          [
           "Mark Travers",
           "Bournemouth"
          ],
          [
           "Edouard Mendy",
           "Chelsea"
          ],
          [
           "Robin Olsen",
           "Aston Villa"
          ],
          [
           "Keylor Navas",
           "Nott'm Forest"
          ],
          [
           "Asmir Begović",
           "Everton"
          ],
          [
           "Fraser Forster",
           "Spurs"
          ],
          [
           "Martin Dubravka",
           "Newcastle"
          ],
          [
           "Marek Rodák",
           "Fulham"
          ],
          [
           "Wayne Hennessey",
           "Nott'm Forest"
          ],
          [
           "Alphonse Areola",
           "West Ham"
          ],
          [
           "Harvey Davies",
           "Liverpool"
          ],
          [
           "Jack Butland",
           "Man Utd"
          ],
          [
           "Sam Johnstone",
           "Crystal Palace"
          ],
          [
           "Darren Randolph",
           "Bournemouth"
          ],
          [
           "Scott Carson",
           "Man City"
          ],
          [
           "Alex McCarthy",
           "Southampton"
          ],
          [
           "Filip Marschall",
           "Aston Villa"
          ],
          [
           "Viljami Sinisalo",
           "Aston Villa"
          ],
          [
           "Adrián San Miguel del Castillo",
           "Liverpool"
          ],
          [
           "Will Dennis",
           "Bournemouth"
          ],
          [
           "Willy Caballero",
           "Southampton"
          ],
          [
           "Eldin Jakupovic",
           "Everton"
          ],
          [
           "Ellery Balcombe",
           "Brentford"
          ],
          [
           "Zack Steffen",
           "Man City"
          ],
          [
           "Stefan Ortega Moreno",
           "Man City"
          ],
          [
           "Thomas Strakosha",
           "Brentford"
          ],
          [
           "Alex Smithies",
           "Leicester"
          ],
          [
           "Tom Heaton",
           "Man Utd"
          ],
          [
           "Jackson Smith",
           "Wolves"
          ],
          [
           "Marcus Bettinelli",
           "Chelsea"
          ],
          [
           "Brandon Austin",
           "Spurs"
          ],
          [
           "Brice Samba",
           "Nott'm Forest"
          ],
          [
           "Karl Darlow",
           "Newcastle"
          ],
          [
           "Matej Kovár",
           "Man Utd"
          ],
          [
           "Mateusz Lis",
           "Southampton"
          ],
          [
           "Joseph Whitworth",
           "Crystal Palace"
          ],
          [
           "Matija Šarkić",
           "Wolves"
          ],
          [
           "Matt Turner",
           "Arsenal"
          ],
          [
           "Matthew Cox",
           "Brentford"
          ],
          [
           "Joseph Anang",
           "West Ham"
          ],
          [
           "Karl Hein",
           "Arsenal"
          ],
          [
           "Caoimhin Kelleher",
           "Liverpool"
          ],
          [
           "Krisztián Hegyi",
           "West Ham"
          ],
          [
           "Kristoffer Klaesson",
           "Leeds"
          ],
          [
           "Cameron Plain",
           "Bournemouth"
          ],
          [
           "Loris Karius",
           "Newcastle"
          ],
          [
           "Kjell Scherpen",
           "Brighton"
          ],
          [
           "Kasper Schmeichel",
           "Leicester"
          ],
          [
           "Paulo Gazzaniga Farias",
           "Fulham"
          ],
          [
           "Oliwier Zych",
           "Aston Villa"
          ],
          [
           "Owen Goodman",
           "Crystal Palace"
          ],
          [
           "Daniel Bentley",
           "Wolves"
          ],
          [
           "Daniel Iversen",
           "Leicester"
          ],
          [
           "Remi Matthews",
           "Crystal Palace"
          ],
          [
           "Jordan Smith",
           "Nott'm Forest"
          ],
          [
           "Joel Robles",
           "Leeds"
          ],
          [
           "Nathan Bishop",
           "Man Utd"
          ],
          [
           "Jason Steele",
           "Brighton"
          ]
         ],
         "hovertemplate": "position=GK<br>value=%{x}<br>total_points=%{y}<br>name=%{customdata[0]}<br>team=%{customdata[1]}<extra></extra>",
         "legendgroup": "GK",
         "marker": {
          "color": "#ab63fa",
          "symbol": "circle"
         },
         "mode": "markers",
         "name": "GK",
         "orientation": "v",
         "showlegend": true,
         "type": "scatter",
         "x": [
          47,
          55,
          50,
          54,
          45,
          50,
          49,
          44,
          54,
          46,
          55,
          50,
          46,
          45,
          47,
          40,
          44,
          45,
          49,
          45,
          42,
          48,
          39,
          45,
          40,
          39,
          41,
          43,
          39,
          43,
          40,
          44,
          44,
          40,
          38,
          43,
          40,
          40,
          39,
          39,
          39,
          40,
          40,
          40,
          38,
          43,
          39,
          39,
          39,
          40,
          39,
          45,
          39,
          40,
          40,
          40,
          39,
          38,
          39,
          40,
          40,
          40,
          40,
          39,
          40,
          39,
          40,
          50,
          40,
          40,
          40,
          40,
          38,
          40,
          40,
          40,
          40,
          39
         ],
         "xaxis": "x",
         "y": [
          116,
          111,
          104,
          100,
          99,
          96,
          91,
          90,
          85,
          84,
          83,
          82,
          82,
          80,
          80,
          79,
          76,
          68,
          62,
          45,
          27,
          23,
          16,
          14,
          9,
          8,
          8,
          7,
          4,
          2,
          0,
          0,
          0,
          0,
          0,
          0,
          0,
          0,
          0,
          0,
          0,
          0,
          0,
          0,
          0,
          0,
          0,
          0,
          0,
          0,
          0,
          0,
          0,
          0,
          0,
          0,
          0,
          0,
          0,
          0,
          0,
          0,
          0,
          0,
          0,
          0,
          0,
          0,
          0,
          0,
          0,
          0,
          0,
          0,
          0,
          0,
          0,
          0
         ],
         "yaxis": "y"
        }
       ],
       "layout": {
        "legend": {
         "title": {
          "text": "position"
         },
         "tracegroupgap": 0
        },
        "margin": {
         "t": 60
        },
        "template": {
         "data": {
          "bar": [
           {
            "error_x": {
             "color": "#2a3f5f"
            },
            "error_y": {
             "color": "#2a3f5f"
            },
            "marker": {
             "line": {
              "color": "#E5ECF6",
              "width": 0.5
             }
            },
            "type": "bar"
           }
          ],
          "barpolar": [
           {
            "marker": {
             "line": {
              "color": "#E5ECF6",
              "width": 0.5
             }
            },
            "type": "barpolar"
           }
          ],
          "carpet": [
           {
            "aaxis": {
             "endlinecolor": "#2a3f5f",
             "gridcolor": "white",
             "linecolor": "white",
             "minorgridcolor": "white",
             "startlinecolor": "#2a3f5f"
            },
            "baxis": {
             "endlinecolor": "#2a3f5f",
             "gridcolor": "white",
             "linecolor": "white",
             "minorgridcolor": "white",
             "startlinecolor": "#2a3f5f"
            },
            "type": "carpet"
           }
          ],
          "choropleth": [
           {
            "colorbar": {
             "outlinewidth": 0,
             "ticks": ""
            },
            "type": "choropleth"
           }
          ],
          "contour": [
           {
            "colorbar": {
             "outlinewidth": 0,
             "ticks": ""
            },
            "colorscale": [
             [
              0,
              "#0d0887"
             ],
             [
              0.1111111111111111,
              "#46039f"
             ],
             [
              0.2222222222222222,
              "#7201a8"
             ],
             [
              0.3333333333333333,
              "#9c179e"
             ],
             [
              0.4444444444444444,
              "#bd3786"
             ],
             [
              0.5555555555555556,
              "#d8576b"
             ],
             [
              0.6666666666666666,
              "#ed7953"
             ],
             [
              0.7777777777777778,
              "#fb9f3a"
             ],
             [
              0.8888888888888888,
              "#fdca26"
             ],
             [
              1,
              "#f0f921"
             ]
            ],
            "type": "contour"
           }
          ],
          "contourcarpet": [
           {
            "colorbar": {
             "outlinewidth": 0,
             "ticks": ""
            },
            "type": "contourcarpet"
           }
          ],
          "heatmap": [
           {
            "colorbar": {
             "outlinewidth": 0,
             "ticks": ""
            },
            "colorscale": [
             [
              0,
              "#0d0887"
             ],
             [
              0.1111111111111111,
              "#46039f"
             ],
             [
              0.2222222222222222,
              "#7201a8"
             ],
             [
              0.3333333333333333,
              "#9c179e"
             ],
             [
              0.4444444444444444,
              "#bd3786"
             ],
             [
              0.5555555555555556,
              "#d8576b"
             ],
             [
              0.6666666666666666,
              "#ed7953"
             ],
             [
              0.7777777777777778,
              "#fb9f3a"
             ],
             [
              0.8888888888888888,
              "#fdca26"
             ],
             [
              1,
              "#f0f921"
             ]
            ],
            "type": "heatmap"
           }
          ],
          "heatmapgl": [
           {
            "colorbar": {
             "outlinewidth": 0,
             "ticks": ""
            },
            "colorscale": [
             [
              0,
              "#0d0887"
             ],
             [
              0.1111111111111111,
              "#46039f"
             ],
             [
              0.2222222222222222,
              "#7201a8"
             ],
             [
              0.3333333333333333,
              "#9c179e"
             ],
             [
              0.4444444444444444,
              "#bd3786"
             ],
             [
              0.5555555555555556,
              "#d8576b"
             ],
             [
              0.6666666666666666,
              "#ed7953"
             ],
             [
              0.7777777777777778,
              "#fb9f3a"
             ],
             [
              0.8888888888888888,
              "#fdca26"
             ],
             [
              1,
              "#f0f921"
             ]
            ],
            "type": "heatmapgl"
           }
          ],
          "histogram": [
           {
            "marker": {
             "colorbar": {
              "outlinewidth": 0,
              "ticks": ""
             }
            },
            "type": "histogram"
           }
          ],
          "histogram2d": [
           {
            "colorbar": {
             "outlinewidth": 0,
             "ticks": ""
            },
            "colorscale": [
             [
              0,
              "#0d0887"
             ],
             [
              0.1111111111111111,
              "#46039f"
             ],
             [
              0.2222222222222222,
              "#7201a8"
             ],
             [
              0.3333333333333333,
              "#9c179e"
             ],
             [
              0.4444444444444444,
              "#bd3786"
             ],
             [
              0.5555555555555556,
              "#d8576b"
             ],
             [
              0.6666666666666666,
              "#ed7953"
             ],
             [
              0.7777777777777778,
              "#fb9f3a"
             ],
             [
              0.8888888888888888,
              "#fdca26"
             ],
             [
              1,
              "#f0f921"
             ]
            ],
            "type": "histogram2d"
           }
          ],
          "histogram2dcontour": [
           {
            "colorbar": {
             "outlinewidth": 0,
             "ticks": ""
            },
            "colorscale": [
             [
              0,
              "#0d0887"
             ],
             [
              0.1111111111111111,
              "#46039f"
             ],
             [
              0.2222222222222222,
              "#7201a8"
             ],
             [
              0.3333333333333333,
              "#9c179e"
             ],
             [
              0.4444444444444444,
              "#bd3786"
             ],
             [
              0.5555555555555556,
              "#d8576b"
             ],
             [
              0.6666666666666666,
              "#ed7953"
             ],
             [
              0.7777777777777778,
              "#fb9f3a"
             ],
             [
              0.8888888888888888,
              "#fdca26"
             ],
             [
              1,
              "#f0f921"
             ]
            ],
            "type": "histogram2dcontour"
           }
          ],
          "mesh3d": [
           {
            "colorbar": {
             "outlinewidth": 0,
             "ticks": ""
            },
            "type": "mesh3d"
           }
          ],
          "parcoords": [
           {
            "line": {
             "colorbar": {
              "outlinewidth": 0,
              "ticks": ""
             }
            },
            "type": "parcoords"
           }
          ],
          "pie": [
           {
            "automargin": true,
            "type": "pie"
           }
          ],
          "scatter": [
           {
            "marker": {
             "colorbar": {
              "outlinewidth": 0,
              "ticks": ""
             }
            },
            "type": "scatter"
           }
          ],
          "scatter3d": [
           {
            "line": {
             "colorbar": {
              "outlinewidth": 0,
              "ticks": ""
             }
            },
            "marker": {
             "colorbar": {
              "outlinewidth": 0,
              "ticks": ""
             }
            },
            "type": "scatter3d"
           }
          ],
          "scattercarpet": [
           {
            "marker": {
             "colorbar": {
              "outlinewidth": 0,
              "ticks": ""
             }
            },
            "type": "scattercarpet"
           }
          ],
          "scattergeo": [
           {
            "marker": {
             "colorbar": {
              "outlinewidth": 0,
              "ticks": ""
             }
            },
            "type": "scattergeo"
           }
          ],
          "scattergl": [
           {
            "marker": {
             "colorbar": {
              "outlinewidth": 0,
              "ticks": ""
             }
            },
            "type": "scattergl"
           }
          ],
          "scattermapbox": [
           {
            "marker": {
             "colorbar": {
              "outlinewidth": 0,
              "ticks": ""
             }
            },
            "type": "scattermapbox"
           }
          ],
          "scatterpolar": [
           {
            "marker": {
             "colorbar": {
              "outlinewidth": 0,
              "ticks": ""
             }
            },
            "type": "scatterpolar"
           }
          ],
          "scatterpolargl": [
           {
            "marker": {
             "colorbar": {
              "outlinewidth": 0,
              "ticks": ""
             }
            },
            "type": "scatterpolargl"
           }
          ],
          "scatterternary": [
           {
            "marker": {
             "colorbar": {
              "outlinewidth": 0,
              "ticks": ""
             }
            },
            "type": "scatterternary"
           }
          ],
          "surface": [
           {
            "colorbar": {
             "outlinewidth": 0,
             "ticks": ""
            },
            "colorscale": [
             [
              0,
              "#0d0887"
             ],
             [
              0.1111111111111111,
              "#46039f"
             ],
             [
              0.2222222222222222,
              "#7201a8"
             ],
             [
              0.3333333333333333,
              "#9c179e"
             ],
             [
              0.4444444444444444,
              "#bd3786"
             ],
             [
              0.5555555555555556,
              "#d8576b"
             ],
             [
              0.6666666666666666,
              "#ed7953"
             ],
             [
              0.7777777777777778,
              "#fb9f3a"
             ],
             [
              0.8888888888888888,
              "#fdca26"
             ],
             [
              1,
              "#f0f921"
             ]
            ],
            "type": "surface"
           }
          ],
          "table": [
           {
            "cells": {
             "fill": {
              "color": "#EBF0F8"
             },
             "line": {
              "color": "white"
             }
            },
            "header": {
             "fill": {
              "color": "#C8D4E3"
             },
             "line": {
              "color": "white"
             }
            },
            "type": "table"
           }
          ]
         },
         "layout": {
          "annotationdefaults": {
           "arrowcolor": "#2a3f5f",
           "arrowhead": 0,
           "arrowwidth": 1
          },
          "autotypenumbers": "strict",
          "coloraxis": {
           "colorbar": {
            "outlinewidth": 0,
            "ticks": ""
           }
          },
          "colorscale": {
           "diverging": [
            [
             0,
             "#8e0152"
            ],
            [
             0.1,
             "#c51b7d"
            ],
            [
             0.2,
             "#de77ae"
            ],
            [
             0.3,
             "#f1b6da"
            ],
            [
             0.4,
             "#fde0ef"
            ],
            [
             0.5,
             "#f7f7f7"
            ],
            [
             0.6,
             "#e6f5d0"
            ],
            [
             0.7,
             "#b8e186"
            ],
            [
             0.8,
             "#7fbc41"
            ],
            [
             0.9,
             "#4d9221"
            ],
            [
             1,
             "#276419"
            ]
           ],
           "sequential": [
            [
             0,
             "#0d0887"
            ],
            [
             0.1111111111111111,
             "#46039f"
            ],
            [
             0.2222222222222222,
             "#7201a8"
            ],
            [
             0.3333333333333333,
             "#9c179e"
            ],
            [
             0.4444444444444444,
             "#bd3786"
            ],
            [
             0.5555555555555556,
             "#d8576b"
            ],
            [
             0.6666666666666666,
             "#ed7953"
            ],
            [
             0.7777777777777778,
             "#fb9f3a"
            ],
            [
             0.8888888888888888,
             "#fdca26"
            ],
            [
             1,
             "#f0f921"
            ]
           ],
           "sequentialminus": [
            [
             0,
             "#0d0887"
            ],
            [
             0.1111111111111111,
             "#46039f"
            ],
            [
             0.2222222222222222,
             "#7201a8"
            ],
            [
             0.3333333333333333,
             "#9c179e"
            ],
            [
             0.4444444444444444,
             "#bd3786"
            ],
            [
             0.5555555555555556,
             "#d8576b"
            ],
            [
             0.6666666666666666,
             "#ed7953"
            ],
            [
             0.7777777777777778,
             "#fb9f3a"
            ],
            [
             0.8888888888888888,
             "#fdca26"
            ],
            [
             1,
             "#f0f921"
            ]
           ]
          },
          "colorway": [
           "#636efa",
           "#EF553B",
           "#00cc96",
           "#ab63fa",
           "#FFA15A",
           "#19d3f3",
           "#FF6692",
           "#B6E880",
           "#FF97FF",
           "#FECB52"
          ],
          "font": {
           "color": "#2a3f5f"
          },
          "geo": {
           "bgcolor": "white",
           "lakecolor": "white",
           "landcolor": "#E5ECF6",
           "showlakes": true,
           "showland": true,
           "subunitcolor": "white"
          },
          "hoverlabel": {
           "align": "left"
          },
          "hovermode": "closest",
          "mapbox": {
           "style": "light"
          },
          "paper_bgcolor": "white",
          "plot_bgcolor": "#E5ECF6",
          "polar": {
           "angularaxis": {
            "gridcolor": "white",
            "linecolor": "white",
            "ticks": ""
           },
           "bgcolor": "#E5ECF6",
           "radialaxis": {
            "gridcolor": "white",
            "linecolor": "white",
            "ticks": ""
           }
          },
          "scene": {
           "xaxis": {
            "backgroundcolor": "#E5ECF6",
            "gridcolor": "white",
            "gridwidth": 2,
            "linecolor": "white",
            "showbackground": true,
            "ticks": "",
            "zerolinecolor": "white"
           },
           "yaxis": {
            "backgroundcolor": "#E5ECF6",
            "gridcolor": "white",
            "gridwidth": 2,
            "linecolor": "white",
            "showbackground": true,
            "ticks": "",
            "zerolinecolor": "white"
           },
           "zaxis": {
            "backgroundcolor": "#E5ECF6",
            "gridcolor": "white",
            "gridwidth": 2,
            "linecolor": "white",
            "showbackground": true,
            "ticks": "",
            "zerolinecolor": "white"
           }
          },
          "shapedefaults": {
           "line": {
            "color": "#2a3f5f"
           }
          },
          "ternary": {
           "aaxis": {
            "gridcolor": "white",
            "linecolor": "white",
            "ticks": ""
           },
           "baxis": {
            "gridcolor": "white",
            "linecolor": "white",
            "ticks": ""
           },
           "bgcolor": "#E5ECF6",
           "caxis": {
            "gridcolor": "white",
            "linecolor": "white",
            "ticks": ""
           }
          },
          "title": {
           "x": 0.05
          },
          "xaxis": {
           "automargin": true,
           "gridcolor": "white",
           "linecolor": "white",
           "ticks": "",
           "title": {
            "standoff": 15
           },
           "zerolinecolor": "white",
           "zerolinewidth": 2
          },
          "yaxis": {
           "automargin": true,
           "gridcolor": "white",
           "linecolor": "white",
           "ticks": "",
           "title": {
            "standoff": 15
           },
           "zerolinecolor": "white",
           "zerolinewidth": 2
          }
         }
        },
        "xaxis": {
         "anchor": "y",
         "domain": [
          0,
          1
         ],
         "title": {
          "text": "value"
         }
        },
        "yaxis": {
         "anchor": "x",
         "domain": [
          0,
          1
         ],
         "title": {
          "text": "total_points"
         }
        }
       }
      },
      "text/html": [
       "<div>                            <div id=\"f34072f6-54e3-4e3b-a648-00d0792e4e32\" class=\"plotly-graph-div\" style=\"height:525px; width:100%;\"></div>            <script type=\"text/javascript\">                require([\"plotly\"], function(Plotly) {                    window.PLOTLYENV=window.PLOTLYENV || {};                                    if (document.getElementById(\"f34072f6-54e3-4e3b-a648-00d0792e4e32\")) {                    Plotly.newPlot(                        \"f34072f6-54e3-4e3b-a648-00d0792e4e32\",                        [{\"customdata\": [[\"Erling Haaland\", \"Man City\"], [\"Harry Kane\", \"Spurs\"], [\"Ivan Toney\", \"Brentford\"], [\"Ollie Watkins\", \"Aston Villa\"], [\"Aleksandar Mitrovi\\u0107\", \"Fulham\"], [\"Bryan Mbeumo\", \"Brentford\"], [\"Brennan Johnson\", \"Nott'm Forest\"], [\"Che Adams\", \"Southampton\"], [\"Roberto Firmino\", \"Liverpool\"], [\"Callum Wilson\", \"Newcastle\"], [\"Darwin N\\u00fa\\u00f1ez Ribeiro\", \"Liverpool\"], [\"Kai Havertz\", \"Chelsea\"], [\"Dominic Solanke\", \"Bournemouth\"], [\"Gabriel Fernando de Jesus\", \"Arsenal\"], [\"Eddie Nketiah\", \"Arsenal\"], [\"Jamie Vardy\", \"Leicester\"], [\"Kieffer Moore\", \"Bournemouth\"], [\"Taiwo Awoniyi\", \"Nott'm Forest\"], [\"Kelechi Iheanacho\", \"Leicester\"], [\"Odsonne Edouard\", \"Crystal Palace\"], [\"Patson Daka\", \"Leicester\"], [\"Michail Antonio\", \"West Ham\"], [\"Juli\\u00e1n \\u00c1lvarez\", \"Man City\"], [\"Danny Welbeck\", \"Brighton\"], [\"Gianluca Scamacca\", \"West Ham\"], [\"Adam Armstrong\", \"Southampton\"], [\"Wilfried Gnonto\", \"Leeds\"], [\"Evan Ferguson\", \"Brighton\"], [\"Patrick Bamford\", \"Leeds\"], [\"Anthony Martial\", \"Man Utd\"], [\"Alexander Isak\", \"Newcastle\"], [\"Neal Maupay\", \"Everton\"], [\"Carlos Vin\\u00edcius Alves Morais\", \"Fulham\"], [\"Dominic Calvert-Lewin\", \"Everton\"], [\"Richarlison de Andrade\", \"Spurs\"], [\"Sam Greenwood\", \"Leeds\"], [\"Jean-Philippe Mateta\", \"Crystal Palace\"], [\"Pierre-Emerick Aubameyang\", \"Chelsea\"], [\"Joe Gelhardt\", \"Leeds\"], [\"Sam Surridge\", \"Nott'm Forest\"], [\"Emmanuel Dennis\", \"Nott'm Forest\"], [\"Armando Broja\", \"Chelsea\"], [\"Cristiano Ronaldo dos Santos Aveiro\", \"Man Utd\"], [\"S\\u00e9kou Mara\", \"Southampton\"], [\"Chris Wood\", \"Nott'm Forest\"], [\"Wout Weghorst\", \"Man Utd\"], [\"Diego Da Silva Costa\", \"Wolves\"], [\"Deniz Undav\", \"Brighton\"], [\"Ra\\u00fal Jim\\u00e9nez\", \"Wolves\"], [\"Diogo Teixeira da Silva\", \"Liverpool\"], [\"Jo\\u00e3o F\\u00e9lix Sequeira\", \"Chelsea\"], [\"Matheus Santos Carneiro Da Cunha\", \"Wolves\"], [\"Julio Enciso\", \"Brighton\"], [\"Jay Stansfield\", \"Fulham\"], [\"Salom\\u00f3n Rond\\u00f3n\", \"Everton\"], [\"Cameron Archer\", \"Aston Villa\"], [\"Ellis Simms\", \"Everton\"], [\"Paul Onuachu\", \"Southampton\"], [\"Georginio Rutter\", \"Leeds\"], [\"Antoine Semenyo\", \"Bournemouth\"], [\"Halil Dervi\\u015fo\\u011flu\", \"Brentford\"], [\"Danny Ings\", \"West Ham\"], [\"Jhon Dur\\u00e1n\", \"Aston Villa\"], [\"Mateo Joseph Fern\\u00e1ndez\", \"Leeds\"], [\"Thomas Cannon\", \"Everton\"], [\"David Datro Fofana\", \"Chelsea\"], [\"Sasa Kalajdzic\", \"Wolves\"], [\"Divin Mubama\", \"West Ham\"], [\"Rodrigo Muniz Carvalho\", \"Fulham\"], [\"Shola Shoretire\", \"Man Utd\"], [\"Fabio Silva\", \"Wolves\"], [\"Euan Pollock\", \"Bournemouth\"], [\"Dwight Gayle\", \"Newcastle\"], [\"Troy Parrott\", \"Spurs\"], [\"Sonny Perkins\", \"Leeds\"], [\"Terry Ablade\", \"Fulham\"], [\"Timo Werner\", \"Chelsea\"], [\"Dominic Sadi\", \"Bournemouth\"], [\"Marcus Forss\", \"Brentford\"], [\"Christian Saydee\", \"Bournemouth\"], [\"Christian Benteke\", \"Crystal Palace\"], [\"Liam Delap\", \"Man City\"], [\"Luke Plange\", \"Crystal Palace\"], [\"Keinan Davis\", \"Aston Villa\"], [\"Lyle Taylor\", \"Nott'm Forest\"], [\"Daniel Adu-Adjei\", \"Bournemouth\"], [\"Nathan Butler-Oyedeji\", \"Arsenal\"], [\"John-Kymani Gordon\", \"Crystal Palace\"], [\"Jimmy Morgan\", \"Southampton\"], [\"Nathan Fraser\", \"Wolves\"], [\"Dale Taylor\", \"Nott'm Forest\"], [\"Dane Scarlett\", \"Spurs\"]], \"hovertemplate\": \"position=FWD<br>value=%{x}<br>total_points=%{y}<br>name=%{customdata[0]}<br>team=%{customdata[1]}<extra></extra>\", \"legendgroup\": \"FWD\", \"marker\": {\"color\": \"#636efa\", \"symbol\": \"circle\"}, \"mode\": \"markers\", \"name\": \"FWD\", \"orientation\": \"v\", \"showlegend\": true, \"type\": \"scatter\", \"x\": [122, 118, 77, 71, 69, 58, 57, 62, 80, 70, 87, 77, 55, 79, 68, 91, 51, 56, 61, 51, 56, 70, 60, 65, 66, 54, 50, 46, 72, 64, 66, 59, 54, 79, 84, 41, 51, 84, 51, 47, 57, 53, 102, 53, 56, 59, 54, 51, 67, 88, 76, 55, 47, 45, 49, 42, 45, 55, 54, 50, 45, 64, 55, 45, 45, 50, 53, 45, 54, 45, 55, 45, 45, 45, 45, 45, 79, 45, 45, 45, 55, 44, 45, 54, 42, 45, 45, 45, 45, 45, 45, 45], \"xaxis\": \"x\", \"y\": [189, 157, 134, 99, 87, 83, 78, 78, 71, 71, 70, 70, 70, 69, 60, 54, 53, 52, 52, 51, 49, 49, 46, 45, 43, 42, 36, 36, 34, 34, 31, 28, 28, 27, 27, 26, 25, 22, 21, 21, 21, 21, 20, 19, 14, 13, 13, 12, 11, 10, 9, 8, 8, 7, 7, 6, 5, 4, 4, 4, 4, 4, 3, 2, 2, 2, 1, 1, 0, 0, 0, 0, 0, 0, 0, 0, 0, 0, 0, 0, 0, 0, 0, 0, 0, 0, 0, 0, 0, 0, 0, 0], \"yaxis\": \"y\"}, {\"customdata\": [[\"Marcus Rashford\", \"Man Utd\"], [\"Martin \\u00d8degaard\", \"Arsenal\"], [\"Bukayo Saka\", \"Arsenal\"], [\"Miguel Almir\\u00f3n Rejala\", \"Newcastle\"], [\"Kevin De Bruyne\", \"Man City\"], [\"Gabriel Martinelli Silva\", \"Arsenal\"], [\"Mohamed Salah\", \"Liverpool\"], [\"Bruno Borges Fernandes\", \"Man Utd\"], [\"Solly March\", \"Brighton\"], [\"Pascal Gro\\u00df\", \"Brighton\"], [\"James Maddison\", \"Leicester\"], [\"Rodrigo Moreno\", \"Leeds\"], [\"Eberechi Eze\", \"Crystal Palace\"], [\"James Ward-Prowse\", \"Southampton\"], [\"Andreas Hoelgebaum Pereira\", \"Fulham\"], [\"Harvey Barnes\", \"Leicester\"], [\"Pierre-Emile H\\u00f8jbjerg\", \"Spurs\"], [\"Riyad Mahrez\", \"Man City\"], [\"Granit Xhaka\", \"Arsenal\"], [\"Michael Olise\", \"Crystal Palace\"], [\"Jarrod Bowen\", \"West Ham\"], [\"Son Heung-min\", \"Spurs\"], [\"Bernardo Veiga de Carvalho e Silva\", \"Man City\"], [\"Phil Foden\", \"Man City\"], [\"Alex Iwobi\", \"Everton\"], [\"Mason Mount\", \"Chelsea\"], [\"R\\u00faben da Silva Neves\", \"Wolves\"], [\"Mathias Jensen\", \"Brentford\"], [\"Wilfried Zaha\", \"Crystal Palace\"], [\"Douglas Luiz Soares de Paulo\", \"Aston Villa\"], [\"Morgan Gibbs-White\", \"Nott'm Forest\"], [\"Rodrigo Hernandez\", \"Man City\"], [\"Kaoru Mitoma\", \"Brighton\"], [\"Christian Eriksen\", \"Man Utd\"], [\"Leon Bailey\", \"Aston Villa\"], [\"Kiernan Dewsbury-Hall\", \"Leicester\"], [\"Joe Willock\", \"Newcastle\"], [\"Emiliano Buend\\u00eda Stati\", \"Aston Villa\"], [\"Jo\\u00e3o Palhinha Gon\\u00e7alves\", \"Fulham\"], [\"Bobby De Cordova-Reid\", \"Fulham\"], [\"Ilkay G\\u00fcndogan\", \"Man City\"], [\"Jack Grealish\", \"Man City\"], [\"Demarai Gray\", \"Everton\"], [\"Philip Billing\", \"Bournemouth\"], [\"Sean Longstaff\", \"Newcastle\"], [\"Raheem Sterling\", \"Chelsea\"], [\"Daniel Castelo Podence\", \"Wolves\"], [\"Willian Borges da Silva\", \"Fulham\"], [\"Rodrigo Bentancur\", \"Spurs\"], [\"Alexis Mac Allister\", \"Brighton\"], [\"Marcus Tavernier\", \"Bournemouth\"], [\"Yoane Wissa\", \"Brentford\"], [\"Jack Harrison\", \"Leeds\"], [\"Harrison Reed\", \"Fulham\"], [\"Declan Rice\", \"West Ham\"], [\"Bruno Guimar\\u00e3es Rodriguez Moura\", \"Newcastle\"], [\"Youri Tielemans\", \"Leicester\"], [\"Joelinton C\\u00e1ssio Apolin\\u00e1rio de Lira\", \"Newcastle\"], [\"Josh Dasilva\", \"Brentford\"], [\"Dejan Kulusevski\", \"Spurs\"], [\"Vitaly Janelt\", \"Brentford\"], [\"Jordan Ayew\", \"Crystal Palace\"], [\"Brenden Aaronson\", \"Leeds\"], [\"Jefferson Lerma Sol\\u00eds\", \"Bournemouth\"], [\"Thomas Partey\", \"Arsenal\"], [\"Carlos Henrique Casimiro\", \"Man Utd\"], [\"Crysencio Summerville\", \"Leeds\"], [\"Jacob Ramsey\", \"Aston Villa\"], [\"Tomas Soucek\", \"West Ham\"], [\"Jadon Sancho\", \"Man Utd\"], [\"Amadou Onana\", \"Everton\"], [\"Sa\\u00efd Benrahma\", \"West Ham\"], [\"Jeffrey Schlupp\", \"Crystal Palace\"], [\"Christian N\\u00f8rgaard\", \"Brentford\"], [\"Lucas Tolentino Coelho de Lima\", \"West Ham\"], [\"Dwight McNeil\", \"Everton\"], [\"Adam Lallana\", \"Brighton\"], [\"Cheick Doucour\\u00e9\", \"Crystal Palace\"], [\"Mois\\u00e9s Caicedo Corozo\", \"Brighton\"], [\"Matheus Luiz Nunes\", \"Wolves\"], [\"Jo\\u00e3o Filipe Iria Santos Moutinho\", \"Wolves\"], [\"Harvey Elliott\", \"Liverpool\"], [\"Jaidon Anthony\", \"Bournemouth\"], [\"Allan Saint-Maximin\", \"Newcastle\"], [\"John McGinn\", \"Aston Villa\"], [\"Idrissa Gueye\", \"Everton\"], [\"Lewis Cook\", \"Bournemouth\"], [\"Joe Ayodele-Aribo\", \"Southampton\"], [\"Frederico Rodrigues de Paula Santos\", \"Man Utd\"], [\"Tyler Adams\", \"Leeds\"], [\"Adama Traor\\u00e9 Diarra\", \"Wolves\"], [\"Antony Matheus dos Santos\", \"Man Utd\"], [\"Remo Freuler\", \"Nott'm Forest\"], [\"Marc Roca Junqu\\u00e9\", \"Leeds\"], [\"Mohamed Elyounoussi\", \"Southampton\"], [\"Luis D\\u00edaz\", \"Liverpool\"], [\"Pablo Fornals Malla\", \"West Ham\"], [\"Ryan Yates\", \"Nott'm Forest\"], [\"Jacob Murphy\", \"Newcastle\"], [\"Fabio Henrique Tavares\", \"Liverpool\"], [\"Ryan Christie\", \"Bournemouth\"], [\"Boubacar Kamara\", \"Aston Villa\"], [\"Neeskens Kebano\", \"Fulham\"], [\"Conor Gallagher\", \"Chelsea\"], [\"Philippe Coutinho Correia\", \"Aston Villa\"], [\"Jordan Henderson\", \"Liverpool\"], [\"Stuart Armstrong\", \"Southampton\"], [\"Christian Pulisic\", \"Chelsea\"], [\"F\\u00e1bio Ferreira Vieira\", \"Arsenal\"], [\"Jesse Lingard\", \"Nott'm Forest\"], [\"Alejandro Garnacho\", \"Man Utd\"], [\"Gon\\u00e7alo Manuel Ganchinho Guedes\", \"Wolves\"], [\"Hwang Hee-chan\", \"Wolves\"], [\"Ruben Loftus-Cheek\", \"Chelsea\"], [\"Rom\\u00e9o Lavia\", \"Southampton\"], [\"Thiago Alc\\u00e1ntara do Nascimento\", \"Liverpool\"], [\"Mateo Kovacic\", \"Chelsea\"], [\"Boubakary Soumar\\u00e9\", \"Leicester\"], [\"Cheikhou Kouyat\\u00e9\", \"Nott'm Forest\"], [\"Tom Cairney\", \"Fulham\"], [\"F\\u00e1bio Freitas Gouveia Carvalho\", \"Liverpool\"], [\"James Milner\", \"Liverpool\"], [\"Luis Sinisterra Lucum\\u00ed\", \"Leeds\"], [\"Yves Bissouma\", \"Spurs\"], [\"Orel Mangala\", \"Nott'm Forest\"], [\"Dennis Praet\", \"Leicester\"], [\"Samuel Edozie\", \"Southampton\"], [\"Anthony Elanga\", \"Man Utd\"], [\"Lewis O'Brien\", \"Nott'm Forest\"], [\"Hakim Ziyech\", \"Chelsea\"], [\"Wilfred Ndidi\", \"Leicester\"], [\"Harry Wilson\", \"Fulham\"], [\"Ayoze P\\u00e9rez\", \"Leicester\"], [\"Cody Gakpo\", \"Liverpool\"], [\"Alex Oxlade-Chamberlain\", \"Liverpool\"], [\"Moussa Djenepo\", \"Southampton\"], [\"Reiss Nelson\", \"Arsenal\"], [\"Daniel James\", \"Fulham\"], [\"Ainsley Maitland-Niles\", \"Southampton\"], [\"Nampalys Mendy\", \"Leicester\"], [\"Scott McTominay\", \"Man Utd\"], [\"Shandon Baptiste\", \"Brentford\"], [\"Frank Onyeka\", \"Brentford\"], [\"Pedro Lomba Neto\", \"Wolves\"], [\"Stefan Bajcetic\", \"Liverpool\"], [\"Ibrahima Diallo\", \"Southampton\"], [\"Leander Dendoncker\", \"Aston Villa\"], [\"Abdoulaye Doucour\\u00e9\", \"Everton\"], [\"Manor Solomon\", \"Fulham\"], [\"Flynn Downes\", \"West Ham\"], [\"Dango Ouattara\", \"Bournemouth\"], [\"Will Hughes\", \"Crystal Palace\"], [\"Tom Davies\", \"Everton\"], [\"Luka Milivojevic\", \"Crystal Palace\"], [\"Jeremy Sarmiento Morante\", \"Brighton\"], [\"Keane Lewis-Potter\", \"Brentford\"], [\"Mateusz Klich\", \"Leeds\"], [\"Carlos Alcaraz\", \"Southampton\"], [\"Marc Albrighton\", \"Leicester\"], [\"Boubacar Traor\\u00e9\", \"Wolves\"], [\"Mateus Cardoso Lemos Martins\", \"Leicester\"], [\"Mikkel Damsgaard\", \"Brentford\"], [\"Carney Chukwuemeka\", \"Chelsea\"], [\"Oliver Skipp\", \"Spurs\"], [\"Denis Zakaria\", \"Chelsea\"], [\"Bryan Gil Salvatierra\", \"Spurs\"], [\"Elliot Anderson\", \"Newcastle\"], [\"Leandro Trossard\", \"Arsenal\"], [\"Joe Rothwell\", \"Bournemouth\"], [\"Enock Mwepu\", \"Brighton\"], [\"Enzo Fern\\u00e1ndez\", \"Chelsea\"], [\"Naby Keita\", \"Liverpool\"], [\"Jack Colback\", \"Nott'm Forest\"], [\"Ryan Fraser\", \"Newcastle\"], [\"Saman Ghoddos\", \"Brentford\"], [\"Ben Pearson\", \"Bournemouth\"], [\"Lucas Rodrigues Moura da Silva\", \"Spurs\"], [\"Donny van de Beek\", \"Man Utd\"], [\"Hamed Traor\\u00e8\", \"Bournemouth\"], [\"Lewis Hall\", \"Chelsea\"], [\"Cole Palmer\", \"Man City\"], [\"Jo\\u00e3o Victor Gomes da Silva\", \"Wolves\"], [\"Marcel Sabitzer\", \"Man Utd\"], [\"Billy Gilmour\", \"Brighton\"], [\"Jorge Luiz Frello Filho\", \"Arsenal\"], [\"Adam Forshaw\", \"Leeds\"], [\"Mohamed Elneny\", \"Arsenal\"], [\"Siriki Demb\\u00e9l\\u00e9\", \"Bournemouth\"], [\"Curtis Jones\", \"Liverpool\"], [\"Pape Matar Sarr\", \"Spurs\"], [\"Theo Walcott\", \"Southampton\"], [\"Mykhailo Mudryk\", \"Chelsea\"], [\"N'Golo Kant\\u00e9\", \"Chelsea\"], [\"Maxwel Cornet\", \"West Ham\"], [\"Noni Madueke\", \"Chelsea\"], [\"Pablo Sarabia\", \"Wolves\"], [\"Manuel Lanzini\", \"West Ham\"], [\"James Garner\", \"Everton\"], [\"Chem Campbell\", \"Wolves\"], [\"Emile Smith Rowe\", \"Arsenal\"], [\"Weston McKennie\", \"Leeds\"], [\"Kamaldeen Sulemana\", \"Southampton\"], [\"Kalvin Phillips\", \"Man City\"], [\"Albert Sambi Lokonga\", \"Crystal Palace\"], [\"Junior Stanislas\", \"Bournemouth\"], [\"Joseph Hodge\", \"Wolves\"], [\"Jairo Riedewald\", \"Crystal Palace\"], [\"Malcolm Ebiowei\", \"Crystal Palace\"], [\"Naouirou Ahamada\", \"Crystal Palace\"], [\"Gustavo Henrique Furtado Scarpa\", \"Nott'm Forest\"], [\"Mario Lemina\", \"Wolves\"], [\"Andr\\u00e9 Ayew\", \"Nott'm Forest\"], [\"Jonjo Shelvey\", \"Nott'm Forest\"], [\"Luke Harris\", \"Fulham\"], [\"Kevin Schade\", \"Brentford\"], [\"Jamal Lowe\", \"Bournemouth\"], [\"Danilo dos Santos de Oliveira\", \"Nott'm Forest\"], [\"Dele Alli\", \"Everton\"], [\"Ben Doak\", \"Liverpool\"], [\"Oriol Romeu Vidal\", \"Southampton\"], [\"Anthony Gordon\", \"Newcastle\"], [\"Josh Onomah\", \"Fulham\"], [\"Facundo Buonanotte\", \"Brighton\"], [\"Morgan Sanson\", \"Aston Villa\"], [\"Harvey White\", \"Spurs\"], [\"Bobby Clark\", \"Liverpool\"], [\"Nathaniel Chalobah\", \"Fulham\"], [\"Nathan Redmond\", \"Southampton\"], [\"Andrew Moran\", \"Brighton\"], [\"Sasa Lukic\", \"Fulham\"], [\"Conor Coventry\", \"West Ham\"], [\"Darko Gyabi\", \"Leeds\"], [\"Mislav Orsic\", \"Southampton\"], [\"Emiliano Marcondes\", \"Bournemouth\"], [\"Connor Ronan\", \"Wolves\"], [\"Tyrese Francois\", \"Fulham\"], [\"Kobbie Mainoo\", \"Man Utd\"], [\"Alex Mighten\", \"Nott'm Forest\"], [\"Marcus Oliveira Alencar\", \"Arsenal\"], [\"Carlos Ribeiro Dias\", \"Nott'm Forest\"], [\"Ethan Nwaneri\", \"Arsenal\"], [\"David Ozoh\", \"Crystal Palace\"], [\"Arnaut Danjuma\", \"Spurs\"], [\"Omari Hutchinson\", \"Chelsea\"], [\"Facundo Pellistri Rebollo\", \"Man Utd\"], [\"Andrey Nascimento dos Santos\", \"Chelsea\"], [\"Ross Barkley\", \"Chelsea\"], [\"Jack Hinshelwood\", \"Brighton\"], [\"Ryan Finnigan\", \"Southampton\"], [\"Amario Cozier-Duberry\", \"Arsenal\"], [\"Harvey Vale\", \"Chelsea\"], [\"Harvey Griffiths\", \"Wolves\"], [\"Ivan Neves Abreu Cavaleiro\", \"Fulham\"], [\"David Brooks\", \"Bournemouth\"], [\"Isaac Price\", \"Everton\"], [\"Sammy Braybrooke\", \"Leicester\"], [\"Andr\\u00e9 Tavares Gomes\", \"Everton\"], [\"Anthony Knockaert\", \"Fulham\"], [\"Ryan Trevitt\", \"Brentford\"], [\"Andros Townsend\", \"Everton\"], [\"Jack Wells-Morrison\", \"Crystal Palace\"], [\"Alfie Devine\", \"Spurs\"], [\"Wanya Mar\\u00e7al-Madivadua\", \"Leicester\"], [\"Will Smallbone\", \"Southampton\"], [\"Xande Nascimento da Costa Silva\", \"Nott'm Forest\"], [\"Yasin Ayari\", \"Brighton\"], [\"Yegor Yarmolyuk\", \"Brentford\"], [\"Zidane Iqbal\", \"Man Utd\"], [\"Tyler Roberts\", \"Leeds\"], [\"Harry Winks\", \"Spurs\"], [\"Amad Diallo\", \"Man Utd\"], [\"Stanley Mills\", \"Everton\"], [\"Steven Alzate\", \"Brighton\"], [\"Steven Bergwijn\", \"Spurs\"], [\"Harry Arter\", \"Nott'm Forest\"], [\"Allan Marques Loureiro\", \"Everton\"], [\"Hamza Choudhury\", \"Leicester\"], [\"Taylor Richards\", \"Brighton\"], [\"Tim Iroegbunam\", \"Aston Villa\"], [\"Garang Kuol\", \"Newcastle\"], [\"Francisco Jorge Tom\\u00e1s Oliveira\", \"Wolves\"], [\"Jaden Philogene-Bidace\", \"Aston Villa\"], [\"Martial Godo\", \"Fulham\"], [\"Kaden Rodney\", \"Crystal Palace\"], [\"Anwar El Ghazi\", \"Aston Villa\"], [\"Callum Hudson-Odoi\", \"Chelsea\"], [\"Kadan Young\", \"Aston Villa\"], [\"Braian Ojeda Rodr\\u00edguez\", \"Nott'm Forest\"], [\"Marvelous Nakamba\", \"Aston Villa\"], [\"Kacper Koz\\u0142owski\", \"Brighton\"], [\"Claudio Gomes\", \"Man City\"], [\"Matthew Smith\", \"Arsenal\"], [\"Kasey McAteer\", \"Leicester\"], [\"Lewis Bate\", \"Leeds\"], [\"Lewis Miley\", \"Newcastle\"], [\"Lewis Payne\", \"Southampton\"], [\"Lewis Warrington\", \"Everton\"], [\"Kristian Sekularac\", \"Fulham\"], [\"Mads Bidstrup\", \"Brentford\"], [\"Lucas Torreira di Pascua\", \"Arsenal\"], [\"Killian Phillips\", \"Crystal Palace\"], [\"Luke Cundle\", \"Wolves\"], [\"Michael Dacosta Gonzalez\", \"Bournemouth\"], [\"Oliver Hammond\", \"Nott'm Forest\"], [\"Jamie Shackleton\", \"Leeds\"], [\"James McAtee\", \"Man City\"], [\"Arthur Henrique Ramos de Oliveira Melo\", \"Liverpool\"], [\"Armstrong Oko-Flex\", \"West Ham\"], [\"Raphael Dias Belloli\", \"Leeds\"], [\"Archie Gray\", \"Leeds\"], [\"Jakub Moder\", \"Brighton\"], [\"Bertrand Traor\\u00e9\", \"Aston Villa\"], [\"Ben Knight\", \"Man City\"], [\"Joe Lolley\", \"Nott'm Forest\"], [\"M\\u00e1ximo Perrone\", \"Man City\"], [\"Jesurun Rak-Sakyi\", \"Crystal Palace\"], [\"Nathan Tella\", \"Southampton\"], [\"Jeff Hendrick\", \"Newcastle\"], [\"Jean-Philippe Gbamin\", \"Everton\"], [\"Nicolas P\\u00e9p\\u00e9\", \"Arsenal\"], [\"Nikola Vlasic\", \"West Ham\"], [\"James McArthur\", \"Crystal Palace\"]], \"hovertemplate\": \"position=MID<br>value=%{x}<br>total_points=%{y}<br>name=%{customdata[0]}<br>team=%{customdata[1]}<extra></extra>\", \"legendgroup\": \"MID\", \"marker\": {\"color\": \"#EF553B\", \"symbol\": \"circle\"}, \"mode\": \"markers\", \"name\": \"MID\", \"orientation\": \"v\", \"showlegend\": true, \"type\": \"scatter\", \"x\": [73, 70, 84, 56, 124, 65, 126, 99, 51, 55, 81, 63, 54, 62, 44, 67, 55, 78, 49, 54, 80, 116, 68, 80, 54, 73, 54, 48, 72, 48, 55, 56, 54, 63, 44, 49, 47, 57, 49, 55, 73, 68, 53, 51, 43, 97, 53, 55, 54, 54, 47, 53, 58, 44, 47, 55, 61, 59, 41, 79, 55, 53, 54, 48, 47, 49, 42, 52, 51, 71, 48, 55, 47, 53, 59, 51, 49, 50, 50, 48, 47, 49, 52, 61, 51, 49, 49, 51, 51, 49, 54, 73, 49, 48, 52, 78, 49, 50, 42, 52, 53, 48, 54, 57, 66, 53, 47, 57, 56, 54, 42, 58, 57, 50, 45, 51, 49, 44, 44, 47, 51, 44, 65, 47, 49, 48, 47, 47, 48, 55, 48, 57, 47, 77, 49, 50, 47, 60, 48, 43, 49, 45, 48, 49, 44, 42, 47, 53, 49, 42, 50, 48, 49, 42, 45, 52, 46, 50, 47, 43, 55, 51, 43, 43, 49, 50, 44, 66, 49, 53, 50, 47, 41, 52, 48, 44, 58, 51, 45, 44, 43, 45, 50, 42, 58, 44, 41, 47, 49, 42, 48, 69, 48, 59, 55, 55, 51, 45, 44, 56, 50, 50, 48, 43, 48, 44, 43, 42, 45, 50, 45, 50, 48, 44, 50, 52, 45, 53, 45, 48, 51, 43, 45, 43, 44, 45, 44, 53, 45, 45, 44, 43, 53, 47, 44, 44, 45, 49, 46, 42, 45, 45, 65, 43, 43, 45, 49, 45, 45, 45, 45, 44, 48, 53, 45, 45, 45, 47, 44, 54, 45, 43, 45, 45, 50, 45, 45, 42, 50, 44, 44, 44, 44, 55, 41, 48, 45, 45, 45, 45, 50, 45, 45, 45, 48, 53, 45, 45, 43, 45, 45, 45, 45, 45, 45, 45, 44, 45, 45, 45, 45, 44, 44, 43, 45, 45, 48, 44, 70, 45, 44, 49, 45, 49, 45, 45, 50, 45, 45, 53, 50, 48], \"xaxis\": \"x\", \"y\": [156, 144, 138, 128, 126, 124, 124, 120, 106, 103, 98, 95, 95, 95, 94, 94, 93, 90, 89, 88, 87, 87, 86, 85, 84, 83, 83, 82, 81, 81, 80, 78, 78, 77, 77, 76, 76, 76, 75, 75, 75, 74, 74, 73, 72, 72, 72, 72, 71, 70, 70, 69, 69, 69, 68, 68, 67, 66, 66, 65, 64, 63, 60, 58, 58, 58, 57, 57, 56, 55, 55, 55, 55, 53, 52, 51, 49, 49, 48, 48, 47, 46, 45, 45, 45, 45, 45, 44, 43, 43, 43, 43, 41, 41, 40, 39, 39, 39, 39, 37, 37, 37, 35, 35, 33, 32, 32, 31, 31, 30, 29, 29, 29, 28, 28, 28, 27, 27, 27, 26, 25, 25, 25, 24, 24, 24, 23, 23, 22, 22, 21, 21, 21, 21, 21, 20, 20, 20, 20, 20, 19, 19, 18, 18, 17, 17, 17, 17, 16, 16, 15, 15, 14, 14, 14, 14, 13, 13, 13, 12, 12, 12, 12, 12, 12, 11, 11, 11, 11, 11, 11, 11, 11, 11, 10, 9, 9, 9, 8, 8, 8, 8, 8, 8, 8, 7, 7, 7, 6, 6, 5, 5, 5, 5, 5, 5, 5, 5, 5, 5, 4, 4, 4, 4, 4, 4, 4, 3, 3, 3, 3, 3, 3, 3, 3, 3, 2, 2, 2, 2, 2, 2, 2, 2, 1, 1, 1, 1, 1, 1, 1, 1, 1, 1, 1, 1, 1, 1, 1, 1, 1, 1, 1, 1, 1, 0, 0, 0, 0, 0, 0, 0, 0, 0, 0, 0, 0, 0, 0, 0, 0, 0, 0, 0, 0, 0, 0, 0, 0, 0, 0, 0, 0, 0, 0, 0, 0, 0, 0, 0, 0, 0, 0, 0, 0, 0, 0, 0, 0, 0, 0, 0, 0, 0, 0, 0, 0, 0, 0, 0, 0, 0, 0, 0, 0, 0, 0, 0, 0, 0, 0, 0, 0, 0, 0, 0, 0, 0, 0, 0, 0, 0], \"yaxis\": \"y\"}, {\"customdata\": [[\"Kieran Trippier\", \"Newcastle\"], [\"Fabian Sch\\u00e4r\", \"Newcastle\"], [\"Ben Mee\", \"Brentford\"], [\"Luke Shaw\", \"Man Utd\"], [\"William Saliba\", \"Arsenal\"], [\"Dan Burn\", \"Newcastle\"], [\"Sven Botman\", \"Newcastle\"], [\"Gabriel dos Santos Magalh\\u00e3es\", \"Arsenal\"], [\"Benjamin White\", \"Arsenal\"], [\"Tim Ream\", \"Fulham\"], [\"Trent Alexander-Arnold\", \"Liverpool\"], [\"Ben Davies\", \"Spurs\"], [\"Andrew Robertson\", \"Liverpool\"], [\"Timothy Castagne\", \"Leicester\"], [\"Eric Dier\", \"Spurs\"], [\"Rico Henry\", \"Brentford\"], [\"Thiago Emiliano da Silva\", \"Chelsea\"], [\"Jo\\u00e3o Cancelo\", \"Man City\"], [\"Ivan Peri\\u0161i\\u0107\", \"Spurs\"], [\"James Tarkowski\", \"Everton\"], [\"Max Kilman\", \"Wolves\"], [\"Conor Coady\", \"Everton\"], [\"Diogo Dalot Teixeira\", \"Man Utd\"], [\"Emerson Leite de Souza Junior\", \"Spurs\"], [\"Pascal Struijk\", \"Leeds\"], [\"Virgil van Dijk\", \"Liverpool\"], [\"Lewis Dunk\", \"Brighton\"], [\"Kenny Tete\", \"Fulham\"], [\"Antonee Robinson\", \"Fulham\"], [\"Pervis Estupi\\u00f1\\u00e1n\", \"Brighton\"], [\"Serge Aurier\", \"Nott'm Forest\"], [\"Joseph Gomez\", \"Liverpool\"], [\"Oleksandr Zinchenko\", \"Arsenal\"], [\"Vitalii Mykolenko\", \"Everton\"], [\"Issa Diop\", \"Fulham\"], [\"Jo\\u00ebl Veltman\", \"Brighton\"], [\"Tyrone Mings\", \"Aston Villa\"], [\"Ashley Young\", \"Aston Villa\"], [\"Lisandro Mart\\u00ednez\", \"Man Utd\"], [\"Kurt Zouma\", \"West Ham\"], [\"Marc Cucurella Saseta\", \"Chelsea\"], [\"John Stones\", \"Man City\"], [\"Ezri Konsa Ngoyo\", \"Aston Villa\"], [\"Ethan Pinnock\", \"Brentford\"], [\"Rapha\\u00ebl Varane\", \"Man Utd\"], [\"Marc Gu\\u00e9hi\", \"Crystal Palace\"], [\"Romain Perraud\", \"Southampton\"], [\"Seamus Coleman\", \"Everton\"], [\"Tyrell Malacia\", \"Man Utd\"], [\"Joachim Andersen\", \"Crystal Palace\"], [\"Tyrick Mitchell\", \"Crystal Palace\"], [\"Kalidou Koulibaly\", \"Chelsea\"], [\"Adam Smith\", \"Bournemouth\"], [\"Manuel Akanji\", \"Man City\"], [\"Nathan Ak\\u00e9\", \"Man City\"], [\"Joel Ward\", \"Crystal Palace\"], [\"Daniel Amartey\", \"Leicester\"], [\"Jordan Zemura\", \"Bournemouth\"], [\"R\\u00faben Gato Alves Dias\", \"Man City\"], [\"James Justin\", \"Leicester\"], [\"N\\u00e9lson Cabral Semedo\", \"Wolves\"], [\"Nathan Collins\", \"Wolves\"], [\"Robin Koch\", \"Leeds\"], [\"Aaron Cresswell\", \"West Ham\"], [\"Adam Webster\", \"Brighton\"], [\"Lucas Digne\", \"Aston Villa\"], [\"Mads Roerslev Rasmussen\", \"Brentford\"], [\"Neco Williams\", \"Nott'm Forest\"], [\"Willy Boly\", \"Nott'm Forest\"], [\"C\\u00e9sar Azpilicueta\", \"Chelsea\"], [\"Marcos Senesi\", \"Bournemouth\"], [\"Rayan A\\u00eft-Nouri\", \"Wolves\"], [\"Cristian Romero\", \"Spurs\"], [\"Aaron Wan-Bissaka\", \"Man Utd\"], [\"Thilo Kehrer\", \"West Ham\"], [\"Wout Faes\", \"Leicester\"], [\"Joe Worrall\", \"Nott'm Forest\"], [\"Scott McKenna\", \"Nott'm Forest\"], [\"Liam Cooper\", \"Leeds\"], [\"Trevoh Chalobah\", \"Chelsea\"], [\"Renan Augusto Lodi dos Santos\", \"Nott'm Forest\"], [\"Ryan Sessegnon\", \"Spurs\"], [\"Matt Doherty\", \"Spurs\"], [\"Ben Chilwell\", \"Chelsea\"], [\"Luke Ayling\", \"Leeds\"], [\"Hugo Bueno L\\u00f3pez\", \"Wolves\"], [\"Jonathan Castro Otto\", \"Wolves\"], [\"Vladimir Coufal\", \"West Ham\"], [\"Nathaniel Clyne\", \"Crystal Palace\"], [\"Mohammed Salisu\", \"Southampton\"], [\"Kyle Walker-Peters\", \"Southampton\"], [\"Kyle Walker\", \"Man City\"], [\"Tosin Adarabioyo\", \"Fulham\"], [\"Cl\\u00e9ment Lenglet\", \"Spurs\"], [\"Reece James\", \"Chelsea\"], [\"Chris Mepham\", \"Bournemouth\"], [\"Takehiro Tomiyasu\", \"Arsenal\"], [\"Kristoffer Ajer\", \"Brentford\"], [\"Rasmus Kristensen\", \"Leeds\"], [\"Mathias Jorgensen\", \"Brentford\"], [\"Matty Cash\", \"Aston Villa\"], [\"Lloyd Kelly\", \"Bournemouth\"], [\"Emerson Palmieri dos Santos\", \"West Ham\"], [\"Konstantinos Tsimikas\", \"Liverpool\"], [\"Armel Bella-Kotchap\", \"Southampton\"], [\"Nathan Patterson\", \"Everton\"], [\"Harry Maguire\", \"Man Utd\"], [\"Beno\\u00eet Badiashile\", \"Chelsea\"], [\"Matt Targett\", \"Newcastle\"], [\"Kieran Tierney\", \"Arsenal\"], [\"Davinson S\\u00e1nchez\", \"Spurs\"], [\"Tariq Lamptey\", \"Brighton\"], [\"Victor Lindel\\u00f6f\", \"Man Utd\"], [\"Aaron Hickey\", \"Brentford\"], [\"Aymeric Laporte\", \"Man City\"], [\"Ben Johnson\", \"West Ham\"], [\"Steve Cook\", \"Nott'm Forest\"], [\"Harry Toffolo\", \"Nott'm Forest\"], [\"Duje Caleta-Car\", \"Southampton\"], [\"Jack Stephens\", \"Bournemouth\"], [\"Angelo Ogbonna\", \"West Ham\"], [\"Pontus Jansson\", \"Brentford\"], [\"Luke Thomas\", \"Leicester\"], [\"Craig Dawson\", \"Wolves\"], [\"Joel Matip\", \"Liverpool\"], [\"Rico Lewis\", \"Man City\"], [\"Lyanco Silveira Neves Vojnovic\", \"Southampton\"], [\"Diego Llorente\", \"Leeds\"], [\"Levi Colwill\", \"Brighton\"], [\"Nayef Aguerd\", \"West Ham\"], [\"Yerry Mina\", \"Everton\"], [\"Alexandre Moreno Lopera\", \"Aston Villa\"], [\"Maximilian W\\u00f6ber\", \"Leeds\"], [\"Mason Holgate\", \"Everton\"], [\"Toti Ant\\u00f3nio Gomes\", \"Wolves\"], [\"Chris Richards\", \"Crystal Palace\"], [\"Jonny Evans\", \"Leicester\"], [\"Ryan Fredericks\", \"Bournemouth\"], [\"Ibrahima Konat\\u00e9\", \"Liverpool\"], [\"Jan Bednarek\", \"Southampton\"], [\"Rob Holding\", \"Arsenal\"], [\"James Tomkins\", \"Crystal Palace\"], [\"Kevin Mbabu\", \"Fulham\"], [\"Ben Godfrey\", \"Everton\"], [\"Moussa Niakhat\\u00e9\", \"Nott'm Forest\"], [\"Sergio G\\u00f3mez\", \"Man City\"], [\"Junior Firpo Adames\", \"Leeds\"], [\"Sergi Can\\u00f3s Ten\\u00e9s\", \"Brentford\"], [\"Wesley Fofana\", \"Chelsea\"], [\"Calum Chambers\", \"Aston Villa\"], [\"Djed Spence\", \"Spurs\"], [\"Jack Stacey\", \"Bournemouth\"], [\"Victor Kristiansen\", \"Leicester\"], [\"Juan Larios L\\u00f3pez\", \"Southampton\"], [\"Mads Bech S\\u00f8rensen\", \"Brentford\"], [\"Shane Duffy\", \"Fulham\"], [\"Harry Souttar\", \"Leicester\"], [\"Felipe Augusto de Almeida Monteiro\", \"Nott'm Forest\"], [\"Matt Ritchie\", \"Newcastle\"], [\"Diego Carlos Santos Silva\", \"Aston Villa\"], [\"Nathaniel Phillips\", \"Liverpool\"], [\"James Bree\", \"Southampton\"], [\"\\u00c7aglar S\\u00f6y\\u00fcnc\\u00fc\", \"Leicester\"], [\"R\\u00faben Nascimento Vinagre\", \"Everton\"], [\"Japhet Tanganga\", \"Spurs\"], [\"Mat\\u00edas Vi\\u00f1a\", \"Bournemouth\"], [\"Jan Paul van Hecke\", \"Brighton\"], [\"Giulian Biancone\", \"Nott'm Forest\"], [\"Ludwig Augustinsson\", \"Aston Villa\"], [\"Layvin Kurzawa\", \"Fulham\"], [\"Dexter Lembikisa\", \"Wolves\"], [\"Javier Manquillo Gait\\u00e1n\", \"Newcastle\"], [\"Lewis Brunt\", \"Leicester\"], [\"C\\u00e9dric Alves Soares\", \"Fulham\"], [\"Ricardo Barbosa Pereira\", \"Leicester\"], [\"Emil Krafth\", \"Newcastle\"], [\"Michael Keane\", \"Everton\"], [\"Jamaal Lascelles\", \"Newcastle\"], [\"Jamal Lewis\", \"Newcastle\"], [\"Owen Bevan\", \"Bournemouth\"], [\"Cody Drameh\", \"Leeds\"], [\"Pedro Porro\", \"Spurs\"], [\"Robert Kenedy Nunes do Nascimento\", \"Chelsea\"], [\"Sepp van den Berg\", \"Liverpool\"], [\"Sergio Reguil\\u00f3n\", \"Spurs\"], [\"Illia Zabarnyi\", \"Bournemouth\"], [\"Haydon Roberts\", \"Brighton\"], [\"Ryan Bertrand\", \"Leicester\"], [\"Fin Stevens\", \"Brentford\"], [\"Federico Fern\\u00e1ndez\", \"Newcastle\"], [\"Dominic Thompson\", \"Brentford\"], [\"Ethan Ampadu\", \"Chelsea\"], [\"Ed Turns\", \"Brighton\"], [\"Eric Bailly\", \"Man Utd\"], [\"Yan Valery\", \"Southampton\"], [\"Yerson Mosquera Valdelamar\", \"Wolves\"], [\"Sil Swinkels\", \"Aston Villa\"], [\"Tristan Crama\", \"Brentford\"], [\"Stefan Parkes\", \"Fulham\"], [\"Stuart Dallas\", \"Leeds\"], [\"Harrison Ashby\", \"Newcastle\"], [\"Terence Kongolo\", \"Fulham\"], [\"Diogo Pinheiro Monteiro\", \"Leeds\"], [\"Alex Telles\", \"Man Utd\"], [\"Tino Livramento\", \"Southampton\"], [\"Fr\\u00e9d\\u00e9ric Guilbert\", \"Aston Villa\"], [\"Leo Fuhr Hjelde\", \"Leeds\"], [\"Kaelan Casey\", \"West Ham\"], [\"Brandon Williams\", \"Man Utd\"], [\"Marcos Alonso\", \"Chelsea\"], [\"Kaine Kesler Hayden\", \"Aston Villa\"], [\"Ciaran Clark\", \"Newcastle\"], [\"Josh Wilson-Esbrand\", \"Man City\"], [\"Matt Clarke\", \"Brighton\"], [\"Malang Sarr\", \"Chelsea\"], [\"Lo\\u00efc Bad\\u00e9\", \"Nott'm Forest\"], [\"Lamare Bogarde\", \"Aston Villa\"], [\"Kyle John\", \"Everton\"], [\"Lino Sousa\", \"Arsenal\"], [\"Lo\\u00efc Mbe Soh\", \"Nott'm Forest\"], [\"Kortney Hause\", \"Aston Villa\"], [\"Kofi Balmer\", \"Crystal Palace\"], [\"Charlie Goode\", \"Brentford\"], [\"Calvin Ramsay\", \"Liverpool\"], [\"Luke Chambers\", \"Liverpool\"], [\"Luke Mbete-Tabu\", \"Man City\"], [\"Max Kinsey-Wellings\", \"Bournemouth\"], [\"Bashir Humphreys\", \"Chelsea\"], [\"Jannik Vestergaard\", \"Leicester\"], [\"Omar Richards\", \"Nott'm Forest\"], [\"Pablo Mar\\u00ed Villar\", \"Arsenal\"], [\"Arthur Masuaku\", \"West Ham\"], [\"Paul Dummett\", \"Newcastle\"], [\"Odeluga Offiah\", \"Brighton\"], [\"Phil Jones\", \"Man Utd\"], [\"James Hill\", \"Bournemouth\"], [\"James Furlong\", \"Brighton\"], [\"Reece Welch\", \"Everton\"], [\"Jakub Kiwior\", \"Arsenal\"], [\"Rhys Bennett\", \"Man Utd\"], [\"Rhys Williams\", \"Liverpool\"], [\"Richie Laryea\", \"Nott'm Forest\"], [\"Jarrad Branthwaite\", \"Everton\"], [\"Ben Davies\", \"Liverpool\"], [\"Mohamed Dr\\u00e4ger\", \"Nott'm Forest\"], [\"Jonathan Panzo\", \"Nott'm Forest\"], [\"Joe Wormleighton\", \"Leicester\"], [\"Joe Rodon\", \"Spurs\"], [\"Joe Bryan\", \"Fulham\"], [\"Ben Greenwood\", \"Bournemouth\"], [\"Nuno Varela Tavares\", \"Arsenal\"], [\"Nathan Ferguson\", \"Crystal Palace\"], [\"Jeremiah Chilokoa-Mullen\", \"Leeds\"], [\"Niels Nkounkou\", \"Everton\"]], \"hovertemplate\": \"position=DEF<br>value=%{x}<br>total_points=%{y}<br>name=%{customdata[0]}<br>team=%{customdata[1]}<extra></extra>\", \"legendgroup\": \"DEF\", \"marker\": {\"color\": \"#00cc96\", \"symbol\": \"circle\"}, \"mode\": \"markers\", \"name\": \"DEF\", \"orientation\": \"v\", \"showlegend\": true, \"type\": \"scatter\", \"x\": [61, 52, 50, 54, 53, 46, 45, 52, 47, 46, 73, 48, 68, 44, 51, 45, 55, 71, 55, 43, 44, 49, 47, 49, 45, 65, 47, 44, 44, 47, 45, 43, 51, 43, 43, 46, 43, 44, 45, 44, 51, 54, 44, 44, 48, 44, 41, 44, 42, 45, 44, 55, 43, 50, 51, 44, 41, 43, 59, 42, 50, 44, 45, 47, 45, 46, 43, 39, 42, 48, 44, 42, 49, 43, 44, 42, 42, 44, 44, 45, 43, 44, 46, 58, 45, 39, 43, 41, 45, 44, 44, 48, 45, 48, 58, 44, 42, 45, 48, 40, 46, 43, 40, 44, 45, 39, 47, 50, 47, 46, 43, 42, 41, 49, 57, 44, 43, 43, 45, 43, 44, 42, 41, 48, 59, 39, 44, 44, 44, 48, 43, 44, 45, 43, 39, 44, 44, 44, 48, 42, 42, 39, 43, 43, 43, 45, 45, 50, 43, 42, 41, 43, 45, 40, 45, 43, 45, 45, 42, 47, 39, 45, 42, 43, 39, 45, 40, 42, 43, 43, 40, 42, 39, 42, 43, 43, 42, 43, 44, 40, 40, 50, 39, 40, 42, 45, 40, 39, 40, 44, 40, 44, 40, 40, 40, 39, 40, 40, 40, 49, 38, 39, 40, 50, 44, 39, 39, 40, 38, 53, 40, 45, 38, 40, 50, 45, 40, 40, 40, 42, 44, 40, 39, 39, 40, 39, 40, 45, 39, 44, 45, 45, 39, 40, 39, 44, 40, 40, 40, 40, 40, 45, 40, 40, 40, 40, 40, 40, 44, 40, 45, 39, 40, 40], \"xaxis\": \"x\", \"y\": [154, 108, 101, 99, 98, 98, 95, 92, 91, 86, 83, 79, 77, 77, 76, 76, 73, 73, 72, 71, 71, 71, 68, 68, 67, 66, 65, 65, 64, 64, 64, 63, 62, 61, 61, 61, 60, 60, 59, 58, 58, 56, 55, 55, 55, 54, 54, 52, 52, 52, 51, 50, 50, 49, 49, 48, 47, 46, 45, 45, 44, 44, 44, 43, 43, 42, 42, 42, 41, 41, 40, 40, 40, 40, 39, 39, 38, 38, 37, 36, 36, 36, 36, 36, 35, 35, 35, 34, 34, 33, 33, 32, 31, 31, 30, 30, 29, 29, 29, 29, 28, 27, 27, 25, 25, 25, 24, 23, 23, 23, 22, 22, 21, 21, 21, 20, 20, 20, 19, 18, 18, 18, 18, 17, 17, 17, 16, 16, 15, 13, 13, 13, 12, 12, 12, 12, 11, 10, 9, 8, 8, 8, 7, 7, 7, 7, 6, 5, 5, 5, 5, 5, 4, 4, 4, 4, 4, 3, 3, 3, 3, 3, 2, 2, 2, 2, 2, 2, 2, 2, 1, 1, 1, 1, 1, 1, 1, 1, 1, 1, 1, 1, 0, 0, 0, 0, 0, 0, 0, 0, 0, 0, 0, 0, 0, 0, 0, 0, 0, 0, 0, 0, 0, 0, 0, 0, 0, 0, 0, 0, 0, 0, 0, 0, 0, 0, 0, 0, 0, 0, 0, 0, 0, 0, 0, 0, 0, 0, 0, 0, 0, 0, 0, 0, 0, 0, 0, 0, 0, 0, 0, 0, 0, 0, 0, 0, 0, 0, 0, 0, 0, 0, 0, 0], \"yaxis\": \"y\"}, {\"customdata\": [[\"David Raya Martin\", \"Brentford\"], [\"Nick Pope\", \"Newcastle\"], [\"David De Gea Quintana\", \"Man Utd\"], [\"Alisson Ramses Becker\", \"Liverpool\"], [\"Bernd Leno\", \"Fulham\"], [\"Jos\\u00e9 Malheiro de S\\u00e1\", \"Wolves\"], [\"Aaron Ramsdale\", \"Arsenal\"], [\"Vicente Guaita\", \"Crystal Palace\"], [\"Ederson Santana de Moraes\", \"Man City\"], [\"Dean Henderson\", \"Nott'm Forest\"], [\"Hugo Lloris\", \"Spurs\"], [\"Lukasz Fabianski\", \"West Ham\"], [\"Robert S\\u00e1nchez\", \"Brighton\"], [\"Illan Meslier\", \"Leeds\"], [\"Kepa Arrizabalaga\", \"Chelsea\"], [\"Danny Ward\", \"Leicester\"], [\"Jordan Pickford\", \"Everton\"], [\"Gavin Bazunu\", \"Southampton\"], [\"Emiliano Mart\\u00ednez Romero\", \"Aston Villa\"], [\"Norberto Murara Neto\", \"Bournemouth\"], [\"Mark Travers\", \"Bournemouth\"], [\"Edouard Mendy\", \"Chelsea\"], [\"Robin Olsen\", \"Aston Villa\"], [\"Keylor Navas\", \"Nott'm Forest\"], [\"Asmir Begovi\\u0107\", \"Everton\"], [\"Fraser Forster\", \"Spurs\"], [\"Martin Dubravka\", \"Newcastle\"], [\"Marek Rod\\u00e1k\", \"Fulham\"], [\"Wayne Hennessey\", \"Nott'm Forest\"], [\"Alphonse Areola\", \"West Ham\"], [\"Harvey Davies\", \"Liverpool\"], [\"Jack Butland\", \"Man Utd\"], [\"Sam Johnstone\", \"Crystal Palace\"], [\"Darren Randolph\", \"Bournemouth\"], [\"Scott Carson\", \"Man City\"], [\"Alex McCarthy\", \"Southampton\"], [\"Filip Marschall\", \"Aston Villa\"], [\"Viljami Sinisalo\", \"Aston Villa\"], [\"Adri\\u00e1n San Miguel del Castillo\", \"Liverpool\"], [\"Will Dennis\", \"Bournemouth\"], [\"Willy Caballero\", \"Southampton\"], [\"Eldin Jakupovic\", \"Everton\"], [\"Ellery Balcombe\", \"Brentford\"], [\"Zack Steffen\", \"Man City\"], [\"Stefan Ortega Moreno\", \"Man City\"], [\"Thomas Strakosha\", \"Brentford\"], [\"Alex Smithies\", \"Leicester\"], [\"Tom Heaton\", \"Man Utd\"], [\"Jackson Smith\", \"Wolves\"], [\"Marcus Bettinelli\", \"Chelsea\"], [\"Brandon Austin\", \"Spurs\"], [\"Brice Samba\", \"Nott'm Forest\"], [\"Karl Darlow\", \"Newcastle\"], [\"Matej Kov\\u00e1r\", \"Man Utd\"], [\"Mateusz Lis\", \"Southampton\"], [\"Joseph Whitworth\", \"Crystal Palace\"], [\"Matija \\u0160arki\\u0107\", \"Wolves\"], [\"Matt Turner\", \"Arsenal\"], [\"Matthew Cox\", \"Brentford\"], [\"Joseph Anang\", \"West Ham\"], [\"Karl Hein\", \"Arsenal\"], [\"Caoimhin Kelleher\", \"Liverpool\"], [\"Kriszti\\u00e1n Hegyi\", \"West Ham\"], [\"Kristoffer Klaesson\", \"Leeds\"], [\"Cameron Plain\", \"Bournemouth\"], [\"Loris Karius\", \"Newcastle\"], [\"Kjell Scherpen\", \"Brighton\"], [\"Kasper Schmeichel\", \"Leicester\"], [\"Paulo Gazzaniga Farias\", \"Fulham\"], [\"Oliwier Zych\", \"Aston Villa\"], [\"Owen Goodman\", \"Crystal Palace\"], [\"Daniel Bentley\", \"Wolves\"], [\"Daniel Iversen\", \"Leicester\"], [\"Remi Matthews\", \"Crystal Palace\"], [\"Jordan Smith\", \"Nott'm Forest\"], [\"Joel Robles\", \"Leeds\"], [\"Nathan Bishop\", \"Man Utd\"], [\"Jason Steele\", \"Brighton\"]], \"hovertemplate\": \"position=GK<br>value=%{x}<br>total_points=%{y}<br>name=%{customdata[0]}<br>team=%{customdata[1]}<extra></extra>\", \"legendgroup\": \"GK\", \"marker\": {\"color\": \"#ab63fa\", \"symbol\": \"circle\"}, \"mode\": \"markers\", \"name\": \"GK\", \"orientation\": \"v\", \"showlegend\": true, \"type\": \"scatter\", \"x\": [47, 55, 50, 54, 45, 50, 49, 44, 54, 46, 55, 50, 46, 45, 47, 40, 44, 45, 49, 45, 42, 48, 39, 45, 40, 39, 41, 43, 39, 43, 40, 44, 44, 40, 38, 43, 40, 40, 39, 39, 39, 40, 40, 40, 38, 43, 39, 39, 39, 40, 39, 45, 39, 40, 40, 40, 39, 38, 39, 40, 40, 40, 40, 39, 40, 39, 40, 50, 40, 40, 40, 40, 38, 40, 40, 40, 40, 39], \"xaxis\": \"x\", \"y\": [116, 111, 104, 100, 99, 96, 91, 90, 85, 84, 83, 82, 82, 80, 80, 79, 76, 68, 62, 45, 27, 23, 16, 14, 9, 8, 8, 7, 4, 2, 0, 0, 0, 0, 0, 0, 0, 0, 0, 0, 0, 0, 0, 0, 0, 0, 0, 0, 0, 0, 0, 0, 0, 0, 0, 0, 0, 0, 0, 0, 0, 0, 0, 0, 0, 0, 0, 0, 0, 0, 0, 0, 0, 0, 0, 0, 0, 0], \"yaxis\": \"y\"}],                        {\"legend\": {\"title\": {\"text\": \"position\"}, \"tracegroupgap\": 0}, \"margin\": {\"t\": 60}, \"template\": {\"data\": {\"bar\": [{\"error_x\": {\"color\": \"#2a3f5f\"}, \"error_y\": {\"color\": \"#2a3f5f\"}, \"marker\": {\"line\": {\"color\": \"#E5ECF6\", \"width\": 0.5}}, \"type\": \"bar\"}], \"barpolar\": [{\"marker\": {\"line\": {\"color\": \"#E5ECF6\", \"width\": 0.5}}, \"type\": \"barpolar\"}], \"carpet\": [{\"aaxis\": {\"endlinecolor\": \"#2a3f5f\", \"gridcolor\": \"white\", \"linecolor\": \"white\", \"minorgridcolor\": \"white\", \"startlinecolor\": \"#2a3f5f\"}, \"baxis\": {\"endlinecolor\": \"#2a3f5f\", \"gridcolor\": \"white\", \"linecolor\": \"white\", \"minorgridcolor\": \"white\", \"startlinecolor\": \"#2a3f5f\"}, \"type\": \"carpet\"}], \"choropleth\": [{\"colorbar\": {\"outlinewidth\": 0, \"ticks\": \"\"}, \"type\": \"choropleth\"}], \"contour\": [{\"colorbar\": {\"outlinewidth\": 0, \"ticks\": \"\"}, \"colorscale\": [[0.0, \"#0d0887\"], [0.1111111111111111, \"#46039f\"], [0.2222222222222222, \"#7201a8\"], [0.3333333333333333, \"#9c179e\"], [0.4444444444444444, \"#bd3786\"], [0.5555555555555556, \"#d8576b\"], [0.6666666666666666, \"#ed7953\"], [0.7777777777777778, \"#fb9f3a\"], [0.8888888888888888, \"#fdca26\"], [1.0, \"#f0f921\"]], \"type\": \"contour\"}], \"contourcarpet\": [{\"colorbar\": {\"outlinewidth\": 0, \"ticks\": \"\"}, \"type\": \"contourcarpet\"}], \"heatmap\": [{\"colorbar\": {\"outlinewidth\": 0, \"ticks\": \"\"}, \"colorscale\": [[0.0, \"#0d0887\"], [0.1111111111111111, \"#46039f\"], [0.2222222222222222, \"#7201a8\"], [0.3333333333333333, \"#9c179e\"], [0.4444444444444444, \"#bd3786\"], [0.5555555555555556, \"#d8576b\"], [0.6666666666666666, \"#ed7953\"], [0.7777777777777778, \"#fb9f3a\"], [0.8888888888888888, \"#fdca26\"], [1.0, \"#f0f921\"]], \"type\": \"heatmap\"}], \"heatmapgl\": [{\"colorbar\": {\"outlinewidth\": 0, \"ticks\": \"\"}, \"colorscale\": [[0.0, \"#0d0887\"], [0.1111111111111111, \"#46039f\"], [0.2222222222222222, \"#7201a8\"], [0.3333333333333333, \"#9c179e\"], [0.4444444444444444, \"#bd3786\"], [0.5555555555555556, \"#d8576b\"], [0.6666666666666666, \"#ed7953\"], [0.7777777777777778, \"#fb9f3a\"], [0.8888888888888888, \"#fdca26\"], [1.0, \"#f0f921\"]], \"type\": \"heatmapgl\"}], \"histogram\": [{\"marker\": {\"colorbar\": {\"outlinewidth\": 0, \"ticks\": \"\"}}, \"type\": \"histogram\"}], \"histogram2d\": [{\"colorbar\": {\"outlinewidth\": 0, \"ticks\": \"\"}, \"colorscale\": [[0.0, \"#0d0887\"], [0.1111111111111111, \"#46039f\"], [0.2222222222222222, \"#7201a8\"], [0.3333333333333333, \"#9c179e\"], [0.4444444444444444, \"#bd3786\"], [0.5555555555555556, \"#d8576b\"], [0.6666666666666666, \"#ed7953\"], [0.7777777777777778, \"#fb9f3a\"], [0.8888888888888888, \"#fdca26\"], [1.0, \"#f0f921\"]], \"type\": \"histogram2d\"}], \"histogram2dcontour\": [{\"colorbar\": {\"outlinewidth\": 0, \"ticks\": \"\"}, \"colorscale\": [[0.0, \"#0d0887\"], [0.1111111111111111, \"#46039f\"], [0.2222222222222222, \"#7201a8\"], [0.3333333333333333, \"#9c179e\"], [0.4444444444444444, \"#bd3786\"], [0.5555555555555556, \"#d8576b\"], [0.6666666666666666, \"#ed7953\"], [0.7777777777777778, \"#fb9f3a\"], [0.8888888888888888, \"#fdca26\"], [1.0, \"#f0f921\"]], \"type\": \"histogram2dcontour\"}], \"mesh3d\": [{\"colorbar\": {\"outlinewidth\": 0, \"ticks\": \"\"}, \"type\": \"mesh3d\"}], \"parcoords\": [{\"line\": {\"colorbar\": {\"outlinewidth\": 0, \"ticks\": \"\"}}, \"type\": \"parcoords\"}], \"pie\": [{\"automargin\": true, \"type\": \"pie\"}], \"scatter\": [{\"marker\": {\"colorbar\": {\"outlinewidth\": 0, \"ticks\": \"\"}}, \"type\": \"scatter\"}], \"scatter3d\": [{\"line\": {\"colorbar\": {\"outlinewidth\": 0, \"ticks\": \"\"}}, \"marker\": {\"colorbar\": {\"outlinewidth\": 0, \"ticks\": \"\"}}, \"type\": \"scatter3d\"}], \"scattercarpet\": [{\"marker\": {\"colorbar\": {\"outlinewidth\": 0, \"ticks\": \"\"}}, \"type\": \"scattercarpet\"}], \"scattergeo\": [{\"marker\": {\"colorbar\": {\"outlinewidth\": 0, \"ticks\": \"\"}}, \"type\": \"scattergeo\"}], \"scattergl\": [{\"marker\": {\"colorbar\": {\"outlinewidth\": 0, \"ticks\": \"\"}}, \"type\": \"scattergl\"}], \"scattermapbox\": [{\"marker\": {\"colorbar\": {\"outlinewidth\": 0, \"ticks\": \"\"}}, \"type\": \"scattermapbox\"}], \"scatterpolar\": [{\"marker\": {\"colorbar\": {\"outlinewidth\": 0, \"ticks\": \"\"}}, \"type\": \"scatterpolar\"}], \"scatterpolargl\": [{\"marker\": {\"colorbar\": {\"outlinewidth\": 0, \"ticks\": \"\"}}, \"type\": \"scatterpolargl\"}], \"scatterternary\": [{\"marker\": {\"colorbar\": {\"outlinewidth\": 0, \"ticks\": \"\"}}, \"type\": \"scatterternary\"}], \"surface\": [{\"colorbar\": {\"outlinewidth\": 0, \"ticks\": \"\"}, \"colorscale\": [[0.0, \"#0d0887\"], [0.1111111111111111, \"#46039f\"], [0.2222222222222222, \"#7201a8\"], [0.3333333333333333, \"#9c179e\"], [0.4444444444444444, \"#bd3786\"], [0.5555555555555556, \"#d8576b\"], [0.6666666666666666, \"#ed7953\"], [0.7777777777777778, \"#fb9f3a\"], [0.8888888888888888, \"#fdca26\"], [1.0, \"#f0f921\"]], \"type\": \"surface\"}], \"table\": [{\"cells\": {\"fill\": {\"color\": \"#EBF0F8\"}, \"line\": {\"color\": \"white\"}}, \"header\": {\"fill\": {\"color\": \"#C8D4E3\"}, \"line\": {\"color\": \"white\"}}, \"type\": \"table\"}]}, \"layout\": {\"annotationdefaults\": {\"arrowcolor\": \"#2a3f5f\", \"arrowhead\": 0, \"arrowwidth\": 1}, \"autotypenumbers\": \"strict\", \"coloraxis\": {\"colorbar\": {\"outlinewidth\": 0, \"ticks\": \"\"}}, \"colorscale\": {\"diverging\": [[0, \"#8e0152\"], [0.1, \"#c51b7d\"], [0.2, \"#de77ae\"], [0.3, \"#f1b6da\"], [0.4, \"#fde0ef\"], [0.5, \"#f7f7f7\"], [0.6, \"#e6f5d0\"], [0.7, \"#b8e186\"], [0.8, \"#7fbc41\"], [0.9, \"#4d9221\"], [1, \"#276419\"]], \"sequential\": [[0.0, \"#0d0887\"], [0.1111111111111111, \"#46039f\"], [0.2222222222222222, \"#7201a8\"], [0.3333333333333333, \"#9c179e\"], [0.4444444444444444, \"#bd3786\"], [0.5555555555555556, \"#d8576b\"], [0.6666666666666666, \"#ed7953\"], [0.7777777777777778, \"#fb9f3a\"], [0.8888888888888888, \"#fdca26\"], [1.0, \"#f0f921\"]], \"sequentialminus\": [[0.0, \"#0d0887\"], [0.1111111111111111, \"#46039f\"], [0.2222222222222222, \"#7201a8\"], [0.3333333333333333, \"#9c179e\"], [0.4444444444444444, \"#bd3786\"], [0.5555555555555556, \"#d8576b\"], [0.6666666666666666, \"#ed7953\"], [0.7777777777777778, \"#fb9f3a\"], [0.8888888888888888, \"#fdca26\"], [1.0, \"#f0f921\"]]}, \"colorway\": [\"#636efa\", \"#EF553B\", \"#00cc96\", \"#ab63fa\", \"#FFA15A\", \"#19d3f3\", \"#FF6692\", \"#B6E880\", \"#FF97FF\", \"#FECB52\"], \"font\": {\"color\": \"#2a3f5f\"}, \"geo\": {\"bgcolor\": \"white\", \"lakecolor\": \"white\", \"landcolor\": \"#E5ECF6\", \"showlakes\": true, \"showland\": true, \"subunitcolor\": \"white\"}, \"hoverlabel\": {\"align\": \"left\"}, \"hovermode\": \"closest\", \"mapbox\": {\"style\": \"light\"}, \"paper_bgcolor\": \"white\", \"plot_bgcolor\": \"#E5ECF6\", \"polar\": {\"angularaxis\": {\"gridcolor\": \"white\", \"linecolor\": \"white\", \"ticks\": \"\"}, \"bgcolor\": \"#E5ECF6\", \"radialaxis\": {\"gridcolor\": \"white\", \"linecolor\": \"white\", \"ticks\": \"\"}}, \"scene\": {\"xaxis\": {\"backgroundcolor\": \"#E5ECF6\", \"gridcolor\": \"white\", \"gridwidth\": 2, \"linecolor\": \"white\", \"showbackground\": true, \"ticks\": \"\", \"zerolinecolor\": \"white\"}, \"yaxis\": {\"backgroundcolor\": \"#E5ECF6\", \"gridcolor\": \"white\", \"gridwidth\": 2, \"linecolor\": \"white\", \"showbackground\": true, \"ticks\": \"\", \"zerolinecolor\": \"white\"}, \"zaxis\": {\"backgroundcolor\": \"#E5ECF6\", \"gridcolor\": \"white\", \"gridwidth\": 2, \"linecolor\": \"white\", \"showbackground\": true, \"ticks\": \"\", \"zerolinecolor\": \"white\"}}, \"shapedefaults\": {\"line\": {\"color\": \"#2a3f5f\"}}, \"ternary\": {\"aaxis\": {\"gridcolor\": \"white\", \"linecolor\": \"white\", \"ticks\": \"\"}, \"baxis\": {\"gridcolor\": \"white\", \"linecolor\": \"white\", \"ticks\": \"\"}, \"bgcolor\": \"#E5ECF6\", \"caxis\": {\"gridcolor\": \"white\", \"linecolor\": \"white\", \"ticks\": \"\"}}, \"title\": {\"x\": 0.05}, \"xaxis\": {\"automargin\": true, \"gridcolor\": \"white\", \"linecolor\": \"white\", \"ticks\": \"\", \"title\": {\"standoff\": 15}, \"zerolinecolor\": \"white\", \"zerolinewidth\": 2}, \"yaxis\": {\"automargin\": true, \"gridcolor\": \"white\", \"linecolor\": \"white\", \"ticks\": \"\", \"title\": {\"standoff\": 15}, \"zerolinecolor\": \"white\", \"zerolinewidth\": 2}}}, \"xaxis\": {\"anchor\": \"y\", \"domain\": [0.0, 1.0], \"title\": {\"text\": \"value\"}}, \"yaxis\": {\"anchor\": \"x\", \"domain\": [0.0, 1.0], \"title\": {\"text\": \"total_points\"}}},                        {\"responsive\": true}                    ).then(function(){\n",
       "                            \n",
       "var gd = document.getElementById('f34072f6-54e3-4e3b-a648-00d0792e4e32');\n",
       "var x = new MutationObserver(function (mutations, observer) {{\n",
       "        var display = window.getComputedStyle(gd).display;\n",
       "        if (!display || display === 'none') {{\n",
       "            console.log([gd, 'removed!']);\n",
       "            Plotly.purge(gd);\n",
       "            observer.disconnect();\n",
       "        }}\n",
       "}});\n",
       "\n",
       "// Listen for the removal of the full notebook cells\n",
       "var notebookContainer = gd.closest('#notebook-container');\n",
       "if (notebookContainer) {{\n",
       "    x.observe(notebookContainer, {childList: true});\n",
       "}}\n",
       "\n",
       "// Listen for the clearing of the current output cell\n",
       "var outputEl = gd.closest('.output');\n",
       "if (outputEl) {{\n",
       "    x.observe(outputEl, {childList: true});\n",
       "}}\n",
       "\n",
       "                        })                };                });            </script>        </div>"
      ]
     },
     "metadata": {},
     "output_type": "display_data"
    }
   ],
   "source": [
    "px.scatter(agg_points_val, x= 'value', y= 'total_points', color= 'position', hover_data=['name', 'team']).show()"
   ]
  },
  {
   "cell_type": "markdown",
   "id": "6e0d75f8",
   "metadata": {},
   "source": [
    "Objective: $F = \\sum_{i=0}^{N}(x_i + y_i) * V_i$\n",
    "\n",
    "Constraints:\n",
    "\n",
    "$\\sum_{i=0}^{N}(x_i+y_i) * C_i \\le 100$\n",
    "\n",
    "$\\sum_{i=0}^{N}x_i = 11$\n",
    "\n",
    "$\\sum_{i=0}^{N}x_i + y_i = 15$\n",
    "\n",
    " $\\sum_{j \\in G}x_j = 1$\n",
    " \n",
    "  $\\sum_{j \\in G}x_j +y_j = 2$\n",
    "\n",
    "$3 \\le \\sum_{j \\in D}x_j \\le 5$\n",
    "\n",
    "$\\sum_{j \\in D}x_j + y_j = 5$\n",
    "\n",
    "$3 \\le \\sum_{j \\in M}x_j \\le 5$\n",
    "\n",
    "$\\sum_{j \\in M}x_j + y_j = 5$\n",
    "\n",
    "$1 \\le \\sum_{j \\in F}x_j \\le 3$\n",
    "\n",
    "$\\sum_{j \\in F}x_j + y_j \\le 3$\n",
    "\n",
    "$\\sum_{j \\in T_k}x_j + y_j \\le 3$\n",
    "\n"
   ]
  },
  {
   "cell_type": "code",
   "execution_count": 20,
   "id": "7820430c",
   "metadata": {
    "scrolled": false
   },
   "outputs": [
    {
     "data": {
      "application/vnd.plotly.v1+json": {
       "config": {
        "plotlyServerURL": "https://plot.ly"
       },
       "data": [
        {
         "alignmentgroup": "True",
         "hovertemplate": "position=%{x}<br>PV-ratio=%{y}<extra></extra>",
         "legendgroup": "DEF",
         "marker": {
          "color": "#636efa"
         },
         "name": "DEF",
         "offsetgroup": "DEF",
         "orientation": "v",
         "showlegend": true,
         "textposition": "auto",
         "type": "bar",
         "x": [
          "DEF"
         ],
         "xaxis": "x",
         "y": [
          0.5386493401888449
         ],
         "yaxis": "y"
        },
        {
         "alignmentgroup": "True",
         "hovertemplate": "position=%{x}<br>PV-ratio=%{y}<extra></extra>",
         "legendgroup": "FWD",
         "marker": {
          "color": "#EF553B"
         },
         "name": "FWD",
         "offsetgroup": "FWD",
         "orientation": "v",
         "showlegend": true,
         "textposition": "auto",
         "type": "bar",
         "x": [
          "FWD"
         ],
         "xaxis": "x",
         "y": [
          0.41155522005868383
         ],
         "yaxis": "y"
        },
        {
         "alignmentgroup": "True",
         "hovertemplate": "position=%{x}<br>PV-ratio=%{y}<extra></extra>",
         "legendgroup": "GK",
         "marker": {
          "color": "#00cc96"
         },
         "name": "GK",
         "offsetgroup": "GK",
         "orientation": "v",
         "showlegend": true,
         "textposition": "auto",
         "type": "bar",
         "x": [
          "GK"
         ],
         "xaxis": "x",
         "y": [
          0.49373948881952
         ],
         "yaxis": "y"
        },
        {
         "alignmentgroup": "True",
         "hovertemplate": "position=%{x}<br>PV-ratio=%{y}<extra></extra>",
         "legendgroup": "MID",
         "marker": {
          "color": "#ab63fa"
         },
         "name": "MID",
         "offsetgroup": "MID",
         "orientation": "v",
         "showlegend": true,
         "textposition": "auto",
         "type": "bar",
         "x": [
          "MID"
         ],
         "xaxis": "x",
         "y": [
          0.4979331744931136
         ],
         "yaxis": "y"
        }
       ],
       "layout": {
        "barmode": "relative",
        "legend": {
         "title": {
          "text": "position"
         },
         "tracegroupgap": 0
        },
        "margin": {
         "t": 60
        },
        "template": {
         "data": {
          "bar": [
           {
            "error_x": {
             "color": "#2a3f5f"
            },
            "error_y": {
             "color": "#2a3f5f"
            },
            "marker": {
             "line": {
              "color": "#E5ECF6",
              "width": 0.5
             }
            },
            "type": "bar"
           }
          ],
          "barpolar": [
           {
            "marker": {
             "line": {
              "color": "#E5ECF6",
              "width": 0.5
             }
            },
            "type": "barpolar"
           }
          ],
          "carpet": [
           {
            "aaxis": {
             "endlinecolor": "#2a3f5f",
             "gridcolor": "white",
             "linecolor": "white",
             "minorgridcolor": "white",
             "startlinecolor": "#2a3f5f"
            },
            "baxis": {
             "endlinecolor": "#2a3f5f",
             "gridcolor": "white",
             "linecolor": "white",
             "minorgridcolor": "white",
             "startlinecolor": "#2a3f5f"
            },
            "type": "carpet"
           }
          ],
          "choropleth": [
           {
            "colorbar": {
             "outlinewidth": 0,
             "ticks": ""
            },
            "type": "choropleth"
           }
          ],
          "contour": [
           {
            "colorbar": {
             "outlinewidth": 0,
             "ticks": ""
            },
            "colorscale": [
             [
              0,
              "#0d0887"
             ],
             [
              0.1111111111111111,
              "#46039f"
             ],
             [
              0.2222222222222222,
              "#7201a8"
             ],
             [
              0.3333333333333333,
              "#9c179e"
             ],
             [
              0.4444444444444444,
              "#bd3786"
             ],
             [
              0.5555555555555556,
              "#d8576b"
             ],
             [
              0.6666666666666666,
              "#ed7953"
             ],
             [
              0.7777777777777778,
              "#fb9f3a"
             ],
             [
              0.8888888888888888,
              "#fdca26"
             ],
             [
              1,
              "#f0f921"
             ]
            ],
            "type": "contour"
           }
          ],
          "contourcarpet": [
           {
            "colorbar": {
             "outlinewidth": 0,
             "ticks": ""
            },
            "type": "contourcarpet"
           }
          ],
          "heatmap": [
           {
            "colorbar": {
             "outlinewidth": 0,
             "ticks": ""
            },
            "colorscale": [
             [
              0,
              "#0d0887"
             ],
             [
              0.1111111111111111,
              "#46039f"
             ],
             [
              0.2222222222222222,
              "#7201a8"
             ],
             [
              0.3333333333333333,
              "#9c179e"
             ],
             [
              0.4444444444444444,
              "#bd3786"
             ],
             [
              0.5555555555555556,
              "#d8576b"
             ],
             [
              0.6666666666666666,
              "#ed7953"
             ],
             [
              0.7777777777777778,
              "#fb9f3a"
             ],
             [
              0.8888888888888888,
              "#fdca26"
             ],
             [
              1,
              "#f0f921"
             ]
            ],
            "type": "heatmap"
           }
          ],
          "heatmapgl": [
           {
            "colorbar": {
             "outlinewidth": 0,
             "ticks": ""
            },
            "colorscale": [
             [
              0,
              "#0d0887"
             ],
             [
              0.1111111111111111,
              "#46039f"
             ],
             [
              0.2222222222222222,
              "#7201a8"
             ],
             [
              0.3333333333333333,
              "#9c179e"
             ],
             [
              0.4444444444444444,
              "#bd3786"
             ],
             [
              0.5555555555555556,
              "#d8576b"
             ],
             [
              0.6666666666666666,
              "#ed7953"
             ],
             [
              0.7777777777777778,
              "#fb9f3a"
             ],
             [
              0.8888888888888888,
              "#fdca26"
             ],
             [
              1,
              "#f0f921"
             ]
            ],
            "type": "heatmapgl"
           }
          ],
          "histogram": [
           {
            "marker": {
             "colorbar": {
              "outlinewidth": 0,
              "ticks": ""
             }
            },
            "type": "histogram"
           }
          ],
          "histogram2d": [
           {
            "colorbar": {
             "outlinewidth": 0,
             "ticks": ""
            },
            "colorscale": [
             [
              0,
              "#0d0887"
             ],
             [
              0.1111111111111111,
              "#46039f"
             ],
             [
              0.2222222222222222,
              "#7201a8"
             ],
             [
              0.3333333333333333,
              "#9c179e"
             ],
             [
              0.4444444444444444,
              "#bd3786"
             ],
             [
              0.5555555555555556,
              "#d8576b"
             ],
             [
              0.6666666666666666,
              "#ed7953"
             ],
             [
              0.7777777777777778,
              "#fb9f3a"
             ],
             [
              0.8888888888888888,
              "#fdca26"
             ],
             [
              1,
              "#f0f921"
             ]
            ],
            "type": "histogram2d"
           }
          ],
          "histogram2dcontour": [
           {
            "colorbar": {
             "outlinewidth": 0,
             "ticks": ""
            },
            "colorscale": [
             [
              0,
              "#0d0887"
             ],
             [
              0.1111111111111111,
              "#46039f"
             ],
             [
              0.2222222222222222,
              "#7201a8"
             ],
             [
              0.3333333333333333,
              "#9c179e"
             ],
             [
              0.4444444444444444,
              "#bd3786"
             ],
             [
              0.5555555555555556,
              "#d8576b"
             ],
             [
              0.6666666666666666,
              "#ed7953"
             ],
             [
              0.7777777777777778,
              "#fb9f3a"
             ],
             [
              0.8888888888888888,
              "#fdca26"
             ],
             [
              1,
              "#f0f921"
             ]
            ],
            "type": "histogram2dcontour"
           }
          ],
          "mesh3d": [
           {
            "colorbar": {
             "outlinewidth": 0,
             "ticks": ""
            },
            "type": "mesh3d"
           }
          ],
          "parcoords": [
           {
            "line": {
             "colorbar": {
              "outlinewidth": 0,
              "ticks": ""
             }
            },
            "type": "parcoords"
           }
          ],
          "pie": [
           {
            "automargin": true,
            "type": "pie"
           }
          ],
          "scatter": [
           {
            "marker": {
             "colorbar": {
              "outlinewidth": 0,
              "ticks": ""
             }
            },
            "type": "scatter"
           }
          ],
          "scatter3d": [
           {
            "line": {
             "colorbar": {
              "outlinewidth": 0,
              "ticks": ""
             }
            },
            "marker": {
             "colorbar": {
              "outlinewidth": 0,
              "ticks": ""
             }
            },
            "type": "scatter3d"
           }
          ],
          "scattercarpet": [
           {
            "marker": {
             "colorbar": {
              "outlinewidth": 0,
              "ticks": ""
             }
            },
            "type": "scattercarpet"
           }
          ],
          "scattergeo": [
           {
            "marker": {
             "colorbar": {
              "outlinewidth": 0,
              "ticks": ""
             }
            },
            "type": "scattergeo"
           }
          ],
          "scattergl": [
           {
            "marker": {
             "colorbar": {
              "outlinewidth": 0,
              "ticks": ""
             }
            },
            "type": "scattergl"
           }
          ],
          "scattermapbox": [
           {
            "marker": {
             "colorbar": {
              "outlinewidth": 0,
              "ticks": ""
             }
            },
            "type": "scattermapbox"
           }
          ],
          "scatterpolar": [
           {
            "marker": {
             "colorbar": {
              "outlinewidth": 0,
              "ticks": ""
             }
            },
            "type": "scatterpolar"
           }
          ],
          "scatterpolargl": [
           {
            "marker": {
             "colorbar": {
              "outlinewidth": 0,
              "ticks": ""
             }
            },
            "type": "scatterpolargl"
           }
          ],
          "scatterternary": [
           {
            "marker": {
             "colorbar": {
              "outlinewidth": 0,
              "ticks": ""
             }
            },
            "type": "scatterternary"
           }
          ],
          "surface": [
           {
            "colorbar": {
             "outlinewidth": 0,
             "ticks": ""
            },
            "colorscale": [
             [
              0,
              "#0d0887"
             ],
             [
              0.1111111111111111,
              "#46039f"
             ],
             [
              0.2222222222222222,
              "#7201a8"
             ],
             [
              0.3333333333333333,
              "#9c179e"
             ],
             [
              0.4444444444444444,
              "#bd3786"
             ],
             [
              0.5555555555555556,
              "#d8576b"
             ],
             [
              0.6666666666666666,
              "#ed7953"
             ],
             [
              0.7777777777777778,
              "#fb9f3a"
             ],
             [
              0.8888888888888888,
              "#fdca26"
             ],
             [
              1,
              "#f0f921"
             ]
            ],
            "type": "surface"
           }
          ],
          "table": [
           {
            "cells": {
             "fill": {
              "color": "#EBF0F8"
             },
             "line": {
              "color": "white"
             }
            },
            "header": {
             "fill": {
              "color": "#C8D4E3"
             },
             "line": {
              "color": "white"
             }
            },
            "type": "table"
           }
          ]
         },
         "layout": {
          "annotationdefaults": {
           "arrowcolor": "#2a3f5f",
           "arrowhead": 0,
           "arrowwidth": 1
          },
          "autotypenumbers": "strict",
          "coloraxis": {
           "colorbar": {
            "outlinewidth": 0,
            "ticks": ""
           }
          },
          "colorscale": {
           "diverging": [
            [
             0,
             "#8e0152"
            ],
            [
             0.1,
             "#c51b7d"
            ],
            [
             0.2,
             "#de77ae"
            ],
            [
             0.3,
             "#f1b6da"
            ],
            [
             0.4,
             "#fde0ef"
            ],
            [
             0.5,
             "#f7f7f7"
            ],
            [
             0.6,
             "#e6f5d0"
            ],
            [
             0.7,
             "#b8e186"
            ],
            [
             0.8,
             "#7fbc41"
            ],
            [
             0.9,
             "#4d9221"
            ],
            [
             1,
             "#276419"
            ]
           ],
           "sequential": [
            [
             0,
             "#0d0887"
            ],
            [
             0.1111111111111111,
             "#46039f"
            ],
            [
             0.2222222222222222,
             "#7201a8"
            ],
            [
             0.3333333333333333,
             "#9c179e"
            ],
            [
             0.4444444444444444,
             "#bd3786"
            ],
            [
             0.5555555555555556,
             "#d8576b"
            ],
            [
             0.6666666666666666,
             "#ed7953"
            ],
            [
             0.7777777777777778,
             "#fb9f3a"
            ],
            [
             0.8888888888888888,
             "#fdca26"
            ],
            [
             1,
             "#f0f921"
            ]
           ],
           "sequentialminus": [
            [
             0,
             "#0d0887"
            ],
            [
             0.1111111111111111,
             "#46039f"
            ],
            [
             0.2222222222222222,
             "#7201a8"
            ],
            [
             0.3333333333333333,
             "#9c179e"
            ],
            [
             0.4444444444444444,
             "#bd3786"
            ],
            [
             0.5555555555555556,
             "#d8576b"
            ],
            [
             0.6666666666666666,
             "#ed7953"
            ],
            [
             0.7777777777777778,
             "#fb9f3a"
            ],
            [
             0.8888888888888888,
             "#fdca26"
            ],
            [
             1,
             "#f0f921"
            ]
           ]
          },
          "colorway": [
           "#636efa",
           "#EF553B",
           "#00cc96",
           "#ab63fa",
           "#FFA15A",
           "#19d3f3",
           "#FF6692",
           "#B6E880",
           "#FF97FF",
           "#FECB52"
          ],
          "font": {
           "color": "#2a3f5f"
          },
          "geo": {
           "bgcolor": "white",
           "lakecolor": "white",
           "landcolor": "#E5ECF6",
           "showlakes": true,
           "showland": true,
           "subunitcolor": "white"
          },
          "hoverlabel": {
           "align": "left"
          },
          "hovermode": "closest",
          "mapbox": {
           "style": "light"
          },
          "paper_bgcolor": "white",
          "plot_bgcolor": "#E5ECF6",
          "polar": {
           "angularaxis": {
            "gridcolor": "white",
            "linecolor": "white",
            "ticks": ""
           },
           "bgcolor": "#E5ECF6",
           "radialaxis": {
            "gridcolor": "white",
            "linecolor": "white",
            "ticks": ""
           }
          },
          "scene": {
           "xaxis": {
            "backgroundcolor": "#E5ECF6",
            "gridcolor": "white",
            "gridwidth": 2,
            "linecolor": "white",
            "showbackground": true,
            "ticks": "",
            "zerolinecolor": "white"
           },
           "yaxis": {
            "backgroundcolor": "#E5ECF6",
            "gridcolor": "white",
            "gridwidth": 2,
            "linecolor": "white",
            "showbackground": true,
            "ticks": "",
            "zerolinecolor": "white"
           },
           "zaxis": {
            "backgroundcolor": "#E5ECF6",
            "gridcolor": "white",
            "gridwidth": 2,
            "linecolor": "white",
            "showbackground": true,
            "ticks": "",
            "zerolinecolor": "white"
           }
          },
          "shapedefaults": {
           "line": {
            "color": "#2a3f5f"
           }
          },
          "ternary": {
           "aaxis": {
            "gridcolor": "white",
            "linecolor": "white",
            "ticks": ""
           },
           "baxis": {
            "gridcolor": "white",
            "linecolor": "white",
            "ticks": ""
           },
           "bgcolor": "#E5ECF6",
           "caxis": {
            "gridcolor": "white",
            "linecolor": "white",
            "ticks": ""
           }
          },
          "title": {
           "x": 0.05
          },
          "xaxis": {
           "automargin": true,
           "gridcolor": "white",
           "linecolor": "white",
           "ticks": "",
           "title": {
            "standoff": 15
           },
           "zerolinecolor": "white",
           "zerolinewidth": 2
          },
          "yaxis": {
           "automargin": true,
           "gridcolor": "white",
           "linecolor": "white",
           "ticks": "",
           "title": {
            "standoff": 15
           },
           "zerolinecolor": "white",
           "zerolinewidth": 2
          }
         }
        },
        "xaxis": {
         "anchor": "y",
         "categoryarray": [
          "DEF",
          "FWD",
          "GK",
          "MID"
         ],
         "categoryorder": "array",
         "domain": [
          0,
          1
         ],
         "title": {
          "text": "position"
         }
        },
        "yaxis": {
         "anchor": "x",
         "domain": [
          0,
          1
         ],
         "title": {
          "text": "PV-ratio"
         }
        }
       }
      },
      "text/html": [
       "<div>                            <div id=\"0d774b68-a334-4353-b35a-24b71739b1b8\" class=\"plotly-graph-div\" style=\"height:525px; width:100%;\"></div>            <script type=\"text/javascript\">                require([\"plotly\"], function(Plotly) {                    window.PLOTLYENV=window.PLOTLYENV || {};                                    if (document.getElementById(\"0d774b68-a334-4353-b35a-24b71739b1b8\")) {                    Plotly.newPlot(                        \"0d774b68-a334-4353-b35a-24b71739b1b8\",                        [{\"alignmentgroup\": \"True\", \"hovertemplate\": \"position=%{x}<br>PV-ratio=%{y}<extra></extra>\", \"legendgroup\": \"DEF\", \"marker\": {\"color\": \"#636efa\"}, \"name\": \"DEF\", \"offsetgroup\": \"DEF\", \"orientation\": \"v\", \"showlegend\": true, \"textposition\": \"auto\", \"type\": \"bar\", \"x\": [\"DEF\"], \"xaxis\": \"x\", \"y\": [0.5386493401888449], \"yaxis\": \"y\"}, {\"alignmentgroup\": \"True\", \"hovertemplate\": \"position=%{x}<br>PV-ratio=%{y}<extra></extra>\", \"legendgroup\": \"FWD\", \"marker\": {\"color\": \"#EF553B\"}, \"name\": \"FWD\", \"offsetgroup\": \"FWD\", \"orientation\": \"v\", \"showlegend\": true, \"textposition\": \"auto\", \"type\": \"bar\", \"x\": [\"FWD\"], \"xaxis\": \"x\", \"y\": [0.41155522005868383], \"yaxis\": \"y\"}, {\"alignmentgroup\": \"True\", \"hovertemplate\": \"position=%{x}<br>PV-ratio=%{y}<extra></extra>\", \"legendgroup\": \"GK\", \"marker\": {\"color\": \"#00cc96\"}, \"name\": \"GK\", \"offsetgroup\": \"GK\", \"orientation\": \"v\", \"showlegend\": true, \"textposition\": \"auto\", \"type\": \"bar\", \"x\": [\"GK\"], \"xaxis\": \"x\", \"y\": [0.49373948881952], \"yaxis\": \"y\"}, {\"alignmentgroup\": \"True\", \"hovertemplate\": \"position=%{x}<br>PV-ratio=%{y}<extra></extra>\", \"legendgroup\": \"MID\", \"marker\": {\"color\": \"#ab63fa\"}, \"name\": \"MID\", \"offsetgroup\": \"MID\", \"orientation\": \"v\", \"showlegend\": true, \"textposition\": \"auto\", \"type\": \"bar\", \"x\": [\"MID\"], \"xaxis\": \"x\", \"y\": [0.4979331744931136], \"yaxis\": \"y\"}],                        {\"barmode\": \"relative\", \"legend\": {\"title\": {\"text\": \"position\"}, \"tracegroupgap\": 0}, \"margin\": {\"t\": 60}, \"template\": {\"data\": {\"bar\": [{\"error_x\": {\"color\": \"#2a3f5f\"}, \"error_y\": {\"color\": \"#2a3f5f\"}, \"marker\": {\"line\": {\"color\": \"#E5ECF6\", \"width\": 0.5}}, \"type\": \"bar\"}], \"barpolar\": [{\"marker\": {\"line\": {\"color\": \"#E5ECF6\", \"width\": 0.5}}, \"type\": \"barpolar\"}], \"carpet\": [{\"aaxis\": {\"endlinecolor\": \"#2a3f5f\", \"gridcolor\": \"white\", \"linecolor\": \"white\", \"minorgridcolor\": \"white\", \"startlinecolor\": \"#2a3f5f\"}, \"baxis\": {\"endlinecolor\": \"#2a3f5f\", \"gridcolor\": \"white\", \"linecolor\": \"white\", \"minorgridcolor\": \"white\", \"startlinecolor\": \"#2a3f5f\"}, \"type\": \"carpet\"}], \"choropleth\": [{\"colorbar\": {\"outlinewidth\": 0, \"ticks\": \"\"}, \"type\": \"choropleth\"}], \"contour\": [{\"colorbar\": {\"outlinewidth\": 0, \"ticks\": \"\"}, \"colorscale\": [[0.0, \"#0d0887\"], [0.1111111111111111, \"#46039f\"], [0.2222222222222222, \"#7201a8\"], [0.3333333333333333, \"#9c179e\"], [0.4444444444444444, \"#bd3786\"], [0.5555555555555556, \"#d8576b\"], [0.6666666666666666, \"#ed7953\"], [0.7777777777777778, \"#fb9f3a\"], [0.8888888888888888, \"#fdca26\"], [1.0, \"#f0f921\"]], \"type\": \"contour\"}], \"contourcarpet\": [{\"colorbar\": {\"outlinewidth\": 0, \"ticks\": \"\"}, \"type\": \"contourcarpet\"}], \"heatmap\": [{\"colorbar\": {\"outlinewidth\": 0, \"ticks\": \"\"}, \"colorscale\": [[0.0, \"#0d0887\"], [0.1111111111111111, \"#46039f\"], [0.2222222222222222, \"#7201a8\"], [0.3333333333333333, \"#9c179e\"], [0.4444444444444444, \"#bd3786\"], [0.5555555555555556, \"#d8576b\"], [0.6666666666666666, \"#ed7953\"], [0.7777777777777778, \"#fb9f3a\"], [0.8888888888888888, \"#fdca26\"], [1.0, \"#f0f921\"]], \"type\": \"heatmap\"}], \"heatmapgl\": [{\"colorbar\": {\"outlinewidth\": 0, \"ticks\": \"\"}, \"colorscale\": [[0.0, \"#0d0887\"], [0.1111111111111111, \"#46039f\"], [0.2222222222222222, \"#7201a8\"], [0.3333333333333333, \"#9c179e\"], [0.4444444444444444, \"#bd3786\"], [0.5555555555555556, \"#d8576b\"], [0.6666666666666666, \"#ed7953\"], [0.7777777777777778, \"#fb9f3a\"], [0.8888888888888888, \"#fdca26\"], [1.0, \"#f0f921\"]], \"type\": \"heatmapgl\"}], \"histogram\": [{\"marker\": {\"colorbar\": {\"outlinewidth\": 0, \"ticks\": \"\"}}, \"type\": \"histogram\"}], \"histogram2d\": [{\"colorbar\": {\"outlinewidth\": 0, \"ticks\": \"\"}, \"colorscale\": [[0.0, \"#0d0887\"], [0.1111111111111111, \"#46039f\"], [0.2222222222222222, \"#7201a8\"], [0.3333333333333333, \"#9c179e\"], [0.4444444444444444, \"#bd3786\"], [0.5555555555555556, \"#d8576b\"], [0.6666666666666666, \"#ed7953\"], [0.7777777777777778, \"#fb9f3a\"], [0.8888888888888888, \"#fdca26\"], [1.0, \"#f0f921\"]], \"type\": \"histogram2d\"}], \"histogram2dcontour\": [{\"colorbar\": {\"outlinewidth\": 0, \"ticks\": \"\"}, \"colorscale\": [[0.0, \"#0d0887\"], [0.1111111111111111, \"#46039f\"], [0.2222222222222222, \"#7201a8\"], [0.3333333333333333, \"#9c179e\"], [0.4444444444444444, \"#bd3786\"], [0.5555555555555556, \"#d8576b\"], [0.6666666666666666, \"#ed7953\"], [0.7777777777777778, \"#fb9f3a\"], [0.8888888888888888, \"#fdca26\"], [1.0, \"#f0f921\"]], \"type\": \"histogram2dcontour\"}], \"mesh3d\": [{\"colorbar\": {\"outlinewidth\": 0, \"ticks\": \"\"}, \"type\": \"mesh3d\"}], \"parcoords\": [{\"line\": {\"colorbar\": {\"outlinewidth\": 0, \"ticks\": \"\"}}, \"type\": \"parcoords\"}], \"pie\": [{\"automargin\": true, \"type\": \"pie\"}], \"scatter\": [{\"marker\": {\"colorbar\": {\"outlinewidth\": 0, \"ticks\": \"\"}}, \"type\": \"scatter\"}], \"scatter3d\": [{\"line\": {\"colorbar\": {\"outlinewidth\": 0, \"ticks\": \"\"}}, \"marker\": {\"colorbar\": {\"outlinewidth\": 0, \"ticks\": \"\"}}, \"type\": \"scatter3d\"}], \"scattercarpet\": [{\"marker\": {\"colorbar\": {\"outlinewidth\": 0, \"ticks\": \"\"}}, \"type\": \"scattercarpet\"}], \"scattergeo\": [{\"marker\": {\"colorbar\": {\"outlinewidth\": 0, \"ticks\": \"\"}}, \"type\": \"scattergeo\"}], \"scattergl\": [{\"marker\": {\"colorbar\": {\"outlinewidth\": 0, \"ticks\": \"\"}}, \"type\": \"scattergl\"}], \"scattermapbox\": [{\"marker\": {\"colorbar\": {\"outlinewidth\": 0, \"ticks\": \"\"}}, \"type\": \"scattermapbox\"}], \"scatterpolar\": [{\"marker\": {\"colorbar\": {\"outlinewidth\": 0, \"ticks\": \"\"}}, \"type\": \"scatterpolar\"}], \"scatterpolargl\": [{\"marker\": {\"colorbar\": {\"outlinewidth\": 0, \"ticks\": \"\"}}, \"type\": \"scatterpolargl\"}], \"scatterternary\": [{\"marker\": {\"colorbar\": {\"outlinewidth\": 0, \"ticks\": \"\"}}, \"type\": \"scatterternary\"}], \"surface\": [{\"colorbar\": {\"outlinewidth\": 0, \"ticks\": \"\"}, \"colorscale\": [[0.0, \"#0d0887\"], [0.1111111111111111, \"#46039f\"], [0.2222222222222222, \"#7201a8\"], [0.3333333333333333, \"#9c179e\"], [0.4444444444444444, \"#bd3786\"], [0.5555555555555556, \"#d8576b\"], [0.6666666666666666, \"#ed7953\"], [0.7777777777777778, \"#fb9f3a\"], [0.8888888888888888, \"#fdca26\"], [1.0, \"#f0f921\"]], \"type\": \"surface\"}], \"table\": [{\"cells\": {\"fill\": {\"color\": \"#EBF0F8\"}, \"line\": {\"color\": \"white\"}}, \"header\": {\"fill\": {\"color\": \"#C8D4E3\"}, \"line\": {\"color\": \"white\"}}, \"type\": \"table\"}]}, \"layout\": {\"annotationdefaults\": {\"arrowcolor\": \"#2a3f5f\", \"arrowhead\": 0, \"arrowwidth\": 1}, \"autotypenumbers\": \"strict\", \"coloraxis\": {\"colorbar\": {\"outlinewidth\": 0, \"ticks\": \"\"}}, \"colorscale\": {\"diverging\": [[0, \"#8e0152\"], [0.1, \"#c51b7d\"], [0.2, \"#de77ae\"], [0.3, \"#f1b6da\"], [0.4, \"#fde0ef\"], [0.5, \"#f7f7f7\"], [0.6, \"#e6f5d0\"], [0.7, \"#b8e186\"], [0.8, \"#7fbc41\"], [0.9, \"#4d9221\"], [1, \"#276419\"]], \"sequential\": [[0.0, \"#0d0887\"], [0.1111111111111111, \"#46039f\"], [0.2222222222222222, \"#7201a8\"], [0.3333333333333333, \"#9c179e\"], [0.4444444444444444, \"#bd3786\"], [0.5555555555555556, \"#d8576b\"], [0.6666666666666666, \"#ed7953\"], [0.7777777777777778, \"#fb9f3a\"], [0.8888888888888888, \"#fdca26\"], [1.0, \"#f0f921\"]], \"sequentialminus\": [[0.0, \"#0d0887\"], [0.1111111111111111, \"#46039f\"], [0.2222222222222222, \"#7201a8\"], [0.3333333333333333, \"#9c179e\"], [0.4444444444444444, \"#bd3786\"], [0.5555555555555556, \"#d8576b\"], [0.6666666666666666, \"#ed7953\"], [0.7777777777777778, \"#fb9f3a\"], [0.8888888888888888, \"#fdca26\"], [1.0, \"#f0f921\"]]}, \"colorway\": [\"#636efa\", \"#EF553B\", \"#00cc96\", \"#ab63fa\", \"#FFA15A\", \"#19d3f3\", \"#FF6692\", \"#B6E880\", \"#FF97FF\", \"#FECB52\"], \"font\": {\"color\": \"#2a3f5f\"}, \"geo\": {\"bgcolor\": \"white\", \"lakecolor\": \"white\", \"landcolor\": \"#E5ECF6\", \"showlakes\": true, \"showland\": true, \"subunitcolor\": \"white\"}, \"hoverlabel\": {\"align\": \"left\"}, \"hovermode\": \"closest\", \"mapbox\": {\"style\": \"light\"}, \"paper_bgcolor\": \"white\", \"plot_bgcolor\": \"#E5ECF6\", \"polar\": {\"angularaxis\": {\"gridcolor\": \"white\", \"linecolor\": \"white\", \"ticks\": \"\"}, \"bgcolor\": \"#E5ECF6\", \"radialaxis\": {\"gridcolor\": \"white\", \"linecolor\": \"white\", \"ticks\": \"\"}}, \"scene\": {\"xaxis\": {\"backgroundcolor\": \"#E5ECF6\", \"gridcolor\": \"white\", \"gridwidth\": 2, \"linecolor\": \"white\", \"showbackground\": true, \"ticks\": \"\", \"zerolinecolor\": \"white\"}, \"yaxis\": {\"backgroundcolor\": \"#E5ECF6\", \"gridcolor\": \"white\", \"gridwidth\": 2, \"linecolor\": \"white\", \"showbackground\": true, \"ticks\": \"\", \"zerolinecolor\": \"white\"}, \"zaxis\": {\"backgroundcolor\": \"#E5ECF6\", \"gridcolor\": \"white\", \"gridwidth\": 2, \"linecolor\": \"white\", \"showbackground\": true, \"ticks\": \"\", \"zerolinecolor\": \"white\"}}, \"shapedefaults\": {\"line\": {\"color\": \"#2a3f5f\"}}, \"ternary\": {\"aaxis\": {\"gridcolor\": \"white\", \"linecolor\": \"white\", \"ticks\": \"\"}, \"baxis\": {\"gridcolor\": \"white\", \"linecolor\": \"white\", \"ticks\": \"\"}, \"bgcolor\": \"#E5ECF6\", \"caxis\": {\"gridcolor\": \"white\", \"linecolor\": \"white\", \"ticks\": \"\"}}, \"title\": {\"x\": 0.05}, \"xaxis\": {\"automargin\": true, \"gridcolor\": \"white\", \"linecolor\": \"white\", \"ticks\": \"\", \"title\": {\"standoff\": 15}, \"zerolinecolor\": \"white\", \"zerolinewidth\": 2}, \"yaxis\": {\"automargin\": true, \"gridcolor\": \"white\", \"linecolor\": \"white\", \"ticks\": \"\", \"title\": {\"standoff\": 15}, \"zerolinecolor\": \"white\", \"zerolinewidth\": 2}}}, \"xaxis\": {\"anchor\": \"y\", \"categoryarray\": [\"DEF\", \"FWD\", \"GK\", \"MID\"], \"categoryorder\": \"array\", \"domain\": [0.0, 1.0], \"title\": {\"text\": \"position\"}}, \"yaxis\": {\"anchor\": \"x\", \"domain\": [0.0, 1.0], \"title\": {\"text\": \"PV-ratio\"}}},                        {\"responsive\": true}                    ).then(function(){\n",
       "                            \n",
       "var gd = document.getElementById('0d774b68-a334-4353-b35a-24b71739b1b8');\n",
       "var x = new MutationObserver(function (mutations, observer) {{\n",
       "        var display = window.getComputedStyle(gd).display;\n",
       "        if (!display || display === 'none') {{\n",
       "            console.log([gd, 'removed!']);\n",
       "            Plotly.purge(gd);\n",
       "            observer.disconnect();\n",
       "        }}\n",
       "}});\n",
       "\n",
       "// Listen for the removal of the full notebook cells\n",
       "var notebookContainer = gd.closest('#notebook-container');\n",
       "if (notebookContainer) {{\n",
       "    x.observe(notebookContainer, {childList: true});\n",
       "}}\n",
       "\n",
       "// Listen for the clearing of the current output cell\n",
       "var outputEl = gd.closest('.output');\n",
       "if (outputEl) {{\n",
       "    x.observe(outputEl, {childList: true});\n",
       "}}\n",
       "\n",
       "                        })                };                });            </script>        </div>"
      ]
     },
     "metadata": {},
     "output_type": "display_data"
    }
   ],
   "source": [
    "# boxplot possibly?\n",
    "avg_ratio_pos = agg_points_val.groupby('position')[['PV-ratio']].mean().reset_index()\n",
    "px.bar(avg_ratio_pos, \n",
    "       x= 'position', \n",
    "       y= 'PV-ratio', \n",
    "       color= 'position').show()"
   ]
  },
  {
   "cell_type": "code",
   "execution_count": 21,
   "id": "9559e38a",
   "metadata": {},
   "outputs": [],
   "source": [
    "corr = selected.iloc[:,5:].corr()"
   ]
  },
  {
   "cell_type": "code",
   "execution_count": 22,
   "id": "bd1d55d8",
   "metadata": {},
   "outputs": [
    {
     "data": {
      "image/png": "[encoded data removed]",
      "text/plain": [
       "<Figure size 640x480 with 2 Axes>"
      ]
     },
     "metadata": {},
     "output_type": "display_data"
    }
   ],
   "source": [
    "import seaborn as sns\n",
    "import matplotlib.pyplot as plt\n",
    "plt.figure()\n",
    "sns.heatmap(corr[['total_points', 'value']], cmap=\"YlGnBu\", annot=True)\n",
    "plt.show()"
   ]
  },
  {
   "cell_type": "markdown",
   "id": "647d6e6f",
   "metadata": {},
   "source": [
    "From the above we can a strong positive correlation between `total_points` and `influence` of 0.83. Additionally, it seems `creativity` and `threat` of a player are not as descriptive of their success in earning points with a correlation coefficient of 0.46 and 0.53 respectively. The `ict_index` is a combined column from `influence`, `creativity` and `threat` columns which will introduce collinearity if included in a linear regression model but interesting to see that the combined metric lowers the correlation further evidence that `influence` may be a better predictor of `total_points`.\n",
    "Surprisingly, there is only a weak positive correlation between `value` and `total_points` which may indicated that there are a large amount of undervalued players that earn big points."
   ]
  },
  {
   "cell_type": "markdown",
   "id": "48bbb2df",
   "metadata": {},
   "source": [
    "# Attempt at Linear Optimization Using puLP library"
   ]
  },
  {
   "cell_type": "markdown",
   "id": "d6d5c029",
   "metadata": {},
   "source": [
    "What we want to do in words: <br>\n",
    "maximize player * points <br>\n",
    "constraints: <br>\n",
    "squad = 15 <br>\n",
    "lineup = 11 <br>\n",
    "player(club) </= 3 <br>\n",
    "player(position(GK)) = 2 <br>\n",
    "player(position(DEF)) = 5 <br>\n",
    "player(position(MID)) = 5 <br>\n",
    "player(position(FWD)) = 3 <br>"
   ]
  },
  {
   "cell_type": "code",
   "execution_count": 23,
   "id": "52aaab24",
   "metadata": {},
   "outputs": [],
   "source": [
    "import pulp"
   ]
  },
  {
   "cell_type": "code",
   "execution_count": 24,
   "id": "15ca8e52",
   "metadata": {},
   "outputs": [],
   "source": [
    "# Helper Variables\n",
    "POS = agg_points_val['position'].unique()\n",
    "CLUBS = agg_points_val['team'].unique()\n",
    "budget = 1000\n",
    "pos_available = {'GK': 2, 'DEF': 5, 'MID': 5, 'FWD': 3}\n",
    "\n",
    "positions = np.array(agg_points_val.position)\n",
    "costs = np.array(agg_points_val.value)\n",
    "points = np.array(agg_points_val.total_points)\n",
    "teams = np.array(agg_points_val.team)\n",
    "\n",
    "# names = [agg_points_val.name[i] for i in agg_points_val.index]\n",
    "# players = [agg_points_val.name[i] for i in agg_points_val.index]"
   ]
  },
  {
   "cell_type": "code",
   "execution_count": null,
   "id": "73d0d0af",
   "metadata": {},
   "outputs": [],
   "source": []
  },
  {
   "cell_type": "code",
   "execution_count": 25,
   "id": "de79ef15",
   "metadata": {},
   "outputs": [
    {
     "data": {
      "text/plain": [
       "1"
      ]
     },
     "execution_count": 25,
     "metadata": {},
     "output_type": "execute_result"
    }
   ],
   "source": [
    "# initializing the model\n",
    "model = pulp.LpProblem(\"FPL-Optimization\", pulp.LpMaximize)\n",
    "# decision types\n",
    "# the format function inserts i into empty placeholder {} to create a list of possible inclusions for the model\n",
    "\n",
    "lineup = [pulp.LpVariable(\"x_{}\".format(i), lowBound = 0, upBound = 1, cat = 'Integer') for i in range(len(agg_points_val))]\n",
    "capt = [pulp.LpVariable(\"y_{}\".format(i), lowBound = 0, upBound = 1, cat = 'Integer') for i in range(len(agg_points_val))]\n",
    "subs = [pulp.LpVariable(\"z_{}\".format(i), lowBound = 0, upBound = 1, cat = 'Integer') for i in range(len(agg_points_val))]\n",
    "\n",
    "# defining model objective\n",
    "\n",
    "model += pulp.lpSum((lineup[i] + capt[i] +subs[i]*0.1) * points[i] for i in range(len(agg_points_val))), \"Objective\"\n",
    "\n",
    "# defining constraints\n",
    "\n",
    "# Budget constraint\n",
    "model += pulp.lpSum((lineup[i] + subs[i]) * costs[i] for i in range(len(agg_points_val))) <= budget\n",
    "\n",
    "# Starting Goalkeeper constraint\n",
    "model += pulp.lpSum(lineup[i] for i in range(len(agg_points_val)) if positions[i] == 'GK') == 1\n",
    "\n",
    "# Starting Defender constraint\n",
    "model += pulp.lpSum(lineup[i] for i in range(len(agg_points_val)) if positions[i] == 'DEF') >= 3\n",
    "model += pulp.lpSum(lineup[i] for i in range(len(agg_points_val)) if positions[i] == 'DEF') <= 5\n",
    "\n",
    "# Starting Midfielder constraint\n",
    "model += pulp.lpSum(lineup[i] for i in range(len(agg_points_val)) if positions[i] == 'MID') >= 3\n",
    "model += pulp.lpSum(lineup[i] for i in range(len(agg_points_val)) if positions[i] == 'MID') <= 5\n",
    "\n",
    "# Starting Forward constraint\n",
    "model += pulp.lpSum(lineup[i] for i in range(len(agg_points_val)) if positions[i] == 'FWD') >= 1\n",
    "model += pulp.lpSum(lineup[i] for i in range(len(agg_points_val)) if positions[i] == 'FWD') <= 3\n",
    "\n",
    "# Team position constraints\n",
    "for pos in POS:\n",
    "    model += pulp.lpSum(lineup[i] + subs[i] for i in range(len(agg_points_val)) if positions[i] == pos) == pos_available[pos]\n",
    "\n",
    "# Club constraint for team\n",
    "for club in CLUBS:\n",
    "    model += pulp.lpSum(lineup[i] + subs[i] for i in range(len(agg_points_val)) if teams[i] == club) <= 3\n",
    "\n",
    "# Lineup size constraint\n",
    "\n",
    "model += pulp.lpSum(lineup[i] for i in range(len(agg_points_val))) == 11\n",
    "\n",
    "# captain size constraint\n",
    "model += pulp.lpSum(capt[i] for i in range(len(agg_points_val))) == 1\n",
    "\n",
    "# total team size constraint\n",
    "\n",
    "model += pulp.lpSum(lineup[i] + subs[i] for i in range(len(agg_points_val))) == 15\n",
    "\n",
    "for i in range(len(agg_points_val)):\n",
    "    model += (lineup[i] - capt[i]) >= 0  # captain must be on team\n",
    "    model += (lineup[i] + subs[i]) <= 1  # subs must not be on team\n",
    "    \n",
    "model.solve()"
   ]
  },
  {
   "cell_type": "code",
   "execution_count": 26,
   "id": "cffd27ca",
   "metadata": {},
   "outputs": [
    {
     "name": "stdout",
     "output_type": "stream",
     "text": [
      "Total score = 1752.3000000000002\n"
     ]
    }
   ],
   "source": [
    "print(\"Total score = {}\".format(model.objective.value()))"
   ]
  },
  {
   "cell_type": "code",
   "execution_count": null,
   "id": "b229690a",
   "metadata": {},
   "outputs": [],
   "source": [
    "print(\"Starting XI\")\n",
    "\n",
    "for i in range(len(lineup)):\n",
    "    if lineup[i].value() != 0:\n",
    "        print(f\"{agg_points_val.name[i]}, Points = {agg_points_val.total_points[i]}, Price = {agg_points_val.value[i]}\")\n",
    "        \n",
    "print(\"\\n\\nSubs\")\n",
    "for i in range(len(subs)):\n",
    "    if subs[i].value() != 0:\n",
    "        print(f\"{agg_points_val.name[i]}, Points = {agg_points_val.total_points[i]}, Price = {agg_points_val.value[i]}\")\n",
    "\n",
    "print(\"\\n\\nCaptain\")\n",
    "for i in range(len(capt)):\n",
    "    if capt[i].value() != 0:\n",
    "        print(f\"{agg_points_val.name[i]}, Points = {agg_points_val.total_points[i]}, Price = {agg_points_val.value[i]}\")"
   ]
  },
  {
   "cell_type": "code",
   "execution_count": 48,
   "id": "cba53d4f",
   "metadata": {},
   "outputs": [],
   "source": [
    "lineup_array = []\n",
    "for i in range(len(lineup)):\n",
    "    if lineup[i].value() != 0:\n",
    "        lineup_array.append([agg_points_val.name[i], agg_points_val.team[i], agg_points_val.position[i],  agg_points_val.total_points[i], agg_points_val.value[i]])"
   ]
  },
  {
   "cell_type": "code",
   "execution_count": 50,
   "id": "8675825b",
   "metadata": {},
   "outputs": [],
   "source": [
    "subs_array = []\n",
    "for i in range(len(subs)):\n",
    "    if subs[i].value() != 0:\n",
    "        subs_array.append([agg_points_val.name[i], agg_points_val.team[i], agg_points_val.position[i],  agg_points_val.total_points[i], agg_points_val.value[i]])"
   ]
  },
  {
   "cell_type": "code",
   "execution_count": 49,
   "id": "ec9c9016",
   "metadata": {},
   "outputs": [
    {
     "data": {
      "text/html": [
       "<div>\n",
       "<style scoped>\n",
       "    .dataframe tbody tr th:only-of-type {\n",
       "        vertical-align: middle;\n",
       "    }\n",
       "\n",
       "    .dataframe tbody tr th {\n",
       "        vertical-align: top;\n",
       "    }\n",
       "\n",
       "    .dataframe thead th {\n",
       "        text-align: right;\n",
       "    }\n",
       "</style>\n",
       "<table border=\"1\" class=\"dataframe\">\n",
       "  <thead>\n",
       "    <tr style=\"text-align: right;\">\n",
       "      <th></th>\n",
       "      <th>name</th>\n",
       "      <th>team</th>\n",
       "      <th>position</th>\n",
       "      <th>points</th>\n",
       "      <th>value</th>\n",
       "    </tr>\n",
       "  </thead>\n",
       "  <tbody>\n",
       "    <tr>\n",
       "      <th>0</th>\n",
       "      <td>Erling Haaland</td>\n",
       "      <td>Man City</td>\n",
       "      <td>FWD</td>\n",
       "      <td>189</td>\n",
       "      <td>122</td>\n",
       "    </tr>\n",
       "    <tr>\n",
       "      <th>1</th>\n",
       "      <td>Harry Kane</td>\n",
       "      <td>Spurs</td>\n",
       "      <td>FWD</td>\n",
       "      <td>157</td>\n",
       "      <td>118</td>\n",
       "    </tr>\n",
       "    <tr>\n",
       "      <th>2</th>\n",
       "      <td>Marcus Rashford</td>\n",
       "      <td>Man Utd</td>\n",
       "      <td>MID</td>\n",
       "      <td>156</td>\n",
       "      <td>73</td>\n",
       "    </tr>\n",
       "    <tr>\n",
       "      <th>3</th>\n",
       "      <td>Kieran Trippier</td>\n",
       "      <td>Newcastle</td>\n",
       "      <td>DEF</td>\n",
       "      <td>154</td>\n",
       "      <td>61</td>\n",
       "    </tr>\n",
       "    <tr>\n",
       "      <th>4</th>\n",
       "      <td>Martin Ødegaard</td>\n",
       "      <td>Arsenal</td>\n",
       "      <td>MID</td>\n",
       "      <td>144</td>\n",
       "      <td>70</td>\n",
       "    </tr>\n",
       "    <tr>\n",
       "      <th>5</th>\n",
       "      <td>Bukayo Saka</td>\n",
       "      <td>Arsenal</td>\n",
       "      <td>MID</td>\n",
       "      <td>138</td>\n",
       "      <td>84</td>\n",
       "    </tr>\n",
       "    <tr>\n",
       "      <th>6</th>\n",
       "      <td>Ivan Toney</td>\n",
       "      <td>Brentford</td>\n",
       "      <td>FWD</td>\n",
       "      <td>134</td>\n",
       "      <td>77</td>\n",
       "    </tr>\n",
       "    <tr>\n",
       "      <th>7</th>\n",
       "      <td>Miguel Almirón Rejala</td>\n",
       "      <td>Newcastle</td>\n",
       "      <td>MID</td>\n",
       "      <td>128</td>\n",
       "      <td>56</td>\n",
       "    </tr>\n",
       "    <tr>\n",
       "      <th>8</th>\n",
       "      <td>David Raya Martin</td>\n",
       "      <td>Brentford</td>\n",
       "      <td>GK</td>\n",
       "      <td>116</td>\n",
       "      <td>47</td>\n",
       "    </tr>\n",
       "    <tr>\n",
       "      <th>9</th>\n",
       "      <td>Fabian Schär</td>\n",
       "      <td>Newcastle</td>\n",
       "      <td>DEF</td>\n",
       "      <td>108</td>\n",
       "      <td>52</td>\n",
       "    </tr>\n",
       "    <tr>\n",
       "      <th>10</th>\n",
       "      <td>Ben Mee</td>\n",
       "      <td>Brentford</td>\n",
       "      <td>DEF</td>\n",
       "      <td>101</td>\n",
       "      <td>50</td>\n",
       "    </tr>\n",
       "  </tbody>\n",
       "</table>\n",
       "</div>"
      ],
      "text/plain": [
       "                     name       team position  points  value\n",
       "0          Erling Haaland   Man City      FWD     189    122\n",
       "1              Harry Kane      Spurs      FWD     157    118\n",
       "2         Marcus Rashford    Man Utd      MID     156     73\n",
       "3         Kieran Trippier  Newcastle      DEF     154     61\n",
       "4         Martin Ødegaard    Arsenal      MID     144     70\n",
       "5             Bukayo Saka    Arsenal      MID     138     84\n",
       "6              Ivan Toney  Brentford      FWD     134     77\n",
       "7   Miguel Almirón Rejala  Newcastle      MID     128     56\n",
       "8       David Raya Martin  Brentford       GK     116     47\n",
       "9            Fabian Schär  Newcastle      DEF     108     52\n",
       "10                Ben Mee  Brentford      DEF     101     50"
      ]
     },
     "execution_count": 49,
     "metadata": {},
     "output_type": "execute_result"
    }
   ],
   "source": [
    "lineup_df = pd.DataFrame(data=lineup_array,columns=['name', 'team', 'position', 'points','value'])\n",
    "lineup_df"
   ]
  },
  {
   "cell_type": "code",
   "execution_count": 51,
   "id": "5f3f1ecc",
   "metadata": {},
   "outputs": [
    {
     "data": {
      "text/html": [
       "<div>\n",
       "<style scoped>\n",
       "    .dataframe tbody tr th:only-of-type {\n",
       "        vertical-align: middle;\n",
       "    }\n",
       "\n",
       "    .dataframe tbody tr th {\n",
       "        vertical-align: top;\n",
       "    }\n",
       "\n",
       "    .dataframe thead th {\n",
       "        text-align: right;\n",
       "    }\n",
       "</style>\n",
       "<table border=\"1\" class=\"dataframe\">\n",
       "  <thead>\n",
       "    <tr style=\"text-align: right;\">\n",
       "      <th></th>\n",
       "      <th>name</th>\n",
       "      <th>team</th>\n",
       "      <th>position</th>\n",
       "      <th>points</th>\n",
       "      <th>value</th>\n",
       "    </tr>\n",
       "  </thead>\n",
       "  <tbody>\n",
       "    <tr>\n",
       "      <th>0</th>\n",
       "      <td>Luke Shaw</td>\n",
       "      <td>Man Utd</td>\n",
       "      <td>DEF</td>\n",
       "      <td>99</td>\n",
       "      <td>54</td>\n",
       "    </tr>\n",
       "    <tr>\n",
       "      <th>1</th>\n",
       "      <td>Bernd Leno</td>\n",
       "      <td>Fulham</td>\n",
       "      <td>GK</td>\n",
       "      <td>99</td>\n",
       "      <td>45</td>\n",
       "    </tr>\n",
       "    <tr>\n",
       "      <th>2</th>\n",
       "      <td>Andreas Hoelgebaum Pereira</td>\n",
       "      <td>Fulham</td>\n",
       "      <td>MID</td>\n",
       "      <td>94</td>\n",
       "      <td>44</td>\n",
       "    </tr>\n",
       "    <tr>\n",
       "      <th>3</th>\n",
       "      <td>Benjamin White</td>\n",
       "      <td>Arsenal</td>\n",
       "      <td>DEF</td>\n",
       "      <td>91</td>\n",
       "      <td>47</td>\n",
       "    </tr>\n",
       "  </tbody>\n",
       "</table>\n",
       "</div>"
      ],
      "text/plain": [
       "                         name     team position  points  value\n",
       "0                   Luke Shaw  Man Utd      DEF      99     54\n",
       "1                  Bernd Leno   Fulham       GK      99     45\n",
       "2  Andreas Hoelgebaum Pereira   Fulham      MID      94     44\n",
       "3              Benjamin White  Arsenal      DEF      91     47"
      ]
     },
     "execution_count": 51,
     "metadata": {},
     "output_type": "execute_result"
    }
   ],
   "source": [
    "subs_df = pd.DataFrame(data=subs_array,columns=['name', 'team', 'position', 'points','value'])\n",
    "subs_df"
   ]
  },
  {
   "cell_type": "code",
   "execution_count": 53,
   "id": "fa868a0c",
   "metadata": {},
   "outputs": [],
   "source": [
    "import plotly.graph_objects as go\n",
    "\n",
    "fig = go.Figure(data=[\n",
    "                     go.Table(\n",
    "                        header=dict(values=list(subs_df.columns),align='center'),\n",
    "                        cells=dict(values=subs_df.values.transpose(),\n",
    "                                   fill_color = [[\"white\",\"lightgrey\"]*subs_df.shape[0]],\n",
    "                                   align='center'\n",
    "                                  )\n",
    "                            )\n",
    "                       ])\n",
    "fig.write_image('subs.png', width = 1080, height = 800, scale=2)"
   ]
  },
  {
   "cell_type": "markdown",
   "id": "7261cbc3",
   "metadata": {},
   "source": [
    "# Possibly simpler PULP model"
   ]
  },
  {
   "cell_type": "code",
   "execution_count": null,
   "id": "5fbc68a8",
   "metadata": {},
   "outputs": [],
   "source": [
    "players = [pulp.LpVariable(\"player_{}\".format(i), lowBound = 0, upBound = 1, cat = 'Integer') for i in range(len(agg_points_val))]\n",
    "\n",
    "prob = pulp.LpProblem(\"FPL-Player-Choices\", pulp.LpMaximize)\n",
    "\n",
    "prob += pulp.lpSum(players[i] * points[i] for i in range(len(agg_points_val))) # Objective\n",
    "\n",
    "prob += pulp.lpSum(players[i] * costs[i] for i in range(len(agg_points_val))) <= budget # Budget Limit\n",
    "\n",
    "for pos in POS:\n",
    "    prob += pulp.lpSum(players[i] for i in range(len(agg_points_val)) if positions[i] == pos) <= pos_available[pos] # Position Limit\n",
    "\n",
    "for club in CLUBS:\n",
    "    prob += pulp.lpSum(players[i] for i in range(len(agg_points_val)) if teams[i] == club) <= 3 # Club Limit\n",
    "\n",
    "prob += pulp.lpSum(players[i] for i in range(len(agg_points_val))) == 11\n",
    "    \n",
    "prob.solve()"
   ]
  },
  {
   "cell_type": "code",
   "execution_count": null,
   "id": "66d0fcf5",
   "metadata": {},
   "outputs": [],
   "source": [
    "for v in prob.variables():\n",
    "    if v.varValue != 0:\n",
    "        name = agg_points_val.name[int(v.name.split(\"_\")[1])]\n",
    "        club = agg_points_val.team[int(v.name.split(\"_\")[1])]\n",
    "        position = agg_points_val.position[int(v.name.split(\"_\")[1])]\n",
    "        point = agg_points_val.total_points[int(v.name.split(\"_\")[1])]\n",
    "        price = agg_points_val.value[int(v.name.split(\"_\")[1])]\n",
    "        print(name, position, club, point, price, sep=\" | \")"
   ]
  },
  {
   "cell_type": "markdown",
   "id": "778a7c36",
   "metadata": {},
   "source": [
    "# IGNORE EVERYTHING BELOW FOR NOW"
   ]
  },
  {
   "cell_type": "code",
   "execution_count": null,
   "id": "18e5814e",
   "metadata": {},
   "outputs": [],
   "source": [
    "print(agg_points_val['position'].unique())"
   ]
  },
  {
   "cell_type": "code",
   "execution_count": null,
   "id": "2e9c80a2",
   "metadata": {},
   "outputs": [],
   "source": [
    "# Create separate dataframes for each position?\n",
    "# Use locals to convert string to variable names\n",
    "for pos in agg_points_val['position'].unique():\n",
    "    locals()[pos + '_df'] = agg_points_val.loc[agg_points_val['position'] == pos, ['name', 'team', 'total_points', 'value', 'PV-ratio']].sort_values('PV-ratio', ascending=False)"
   ]
  },
  {
   "cell_type": "code",
   "execution_count": null,
   "id": "ff15b1a1",
   "metadata": {},
   "outputs": [],
   "source": [
    "FWD_df.head()"
   ]
  },
  {
   "cell_type": "code",
   "execution_count": null,
   "id": "3202465f",
   "metadata": {},
   "outputs": [],
   "source": [
    "MID_df.head()"
   ]
  },
  {
   "cell_type": "code",
   "execution_count": null,
   "id": "0221fbd2",
   "metadata": {},
   "outputs": [],
   "source": [
    "DEF_df.head()"
   ]
  },
  {
   "cell_type": "code",
   "execution_count": null,
   "id": "1b993ea4",
   "metadata": {},
   "outputs": [],
   "source": [
    "GK_df.head()"
   ]
  },
  {
   "cell_type": "code",
   "execution_count": null,
   "id": "312d8489",
   "metadata": {},
   "outputs": [],
   "source": [
    "agg_points_val"
   ]
  }
 ],
 "metadata": {
  "kernelspec": {
   "display_name": "capstone",
   "language": "python",
   "name": "capstone"
  },
  "language_info": {
   "codemirror_mode": {
    "name": "ipython",
    "version": 3
   },
   "file_extension": ".py",
   "mimetype": "text/x-python",
   "name": "python",
   "nbconvert_exporter": "python",
   "pygments_lexer": "ipython3",
   "version": "3.8.16"
  }
 },
 "nbformat": 4,
 "nbformat_minor": 5
}
