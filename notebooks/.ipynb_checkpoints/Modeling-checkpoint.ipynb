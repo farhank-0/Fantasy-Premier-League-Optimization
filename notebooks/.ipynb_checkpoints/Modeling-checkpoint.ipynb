{
 "cells": [
  {
   "cell_type": "markdown",
   "id": "48d6e359",
   "metadata": {},
   "source": [
    "# <center> Predicting FPL Player Points via Modeling </center>\n",
    "\n",
    "In this notebook, we will be taking the cleaned data from the `Data_Cleaning_and_EDA` notebook and create multiple models that will predict the points earned by a player in a given match. The goal is to hopefully have a model that can predict `total_points` better than the FPL `xP` column which will both be compared to the ground truth `total_points`. \n",
    "\n",
    "The data we have is from GW 1-24 for the 22/23 Season, for the modelling we will split the train and test sets based on the GW number where we will train on GW 1-20 and test on the following four gameweeks (21-24 GW).\n",
    "\n",
    "Since the target column `total_points` is a continous variable, we will fitting and evaluating the following models:\n",
    "- Linear Regression\n",
    "- Lasso Regression (a Linear Regression model with L1 regularization)\n",
    "- Random Forest Regressor"
   ]
  },
  {
   "cell_type": "code",
   "execution_count": 1,
   "id": "1148479c",
   "metadata": {},
   "outputs": [],
   "source": [
    "import pandas as pd\n",
    "import numpy as np"
   ]
  },
  {
   "cell_type": "code",
   "execution_count": 2,
   "id": "402ad1b6",
   "metadata": {},
   "outputs": [
    {
     "data": {
      "text/html": [
       "<div>\n",
       "<style scoped>\n",
       "    .dataframe tbody tr th:only-of-type {\n",
       "        vertical-align: middle;\n",
       "    }\n",
       "\n",
       "    .dataframe tbody tr th {\n",
       "        vertical-align: top;\n",
       "    }\n",
       "\n",
       "    .dataframe thead th {\n",
       "        text-align: right;\n",
       "    }\n",
       "</style>\n",
       "<table border=\"1\" class=\"dataframe\">\n",
       "  <thead>\n",
       "    <tr style=\"text-align: right;\">\n",
       "      <th></th>\n",
       "      <th>name</th>\n",
       "      <th>position</th>\n",
       "      <th>team</th>\n",
       "      <th>GW</th>\n",
       "      <th>xP</th>\n",
       "      <th>minutes</th>\n",
       "      <th>goals_scored</th>\n",
       "      <th>assists</th>\n",
       "      <th>clean_sheets</th>\n",
       "      <th>saves</th>\n",
       "      <th>...</th>\n",
       "      <th>penalties_missed</th>\n",
       "      <th>goals_conceded</th>\n",
       "      <th>own_goals</th>\n",
       "      <th>yellow_cards</th>\n",
       "      <th>red_cards</th>\n",
       "      <th>influence</th>\n",
       "      <th>creativity</th>\n",
       "      <th>threat</th>\n",
       "      <th>value</th>\n",
       "      <th>total_points</th>\n",
       "    </tr>\n",
       "  </thead>\n",
       "  <tbody>\n",
       "    <tr>\n",
       "      <th>0</th>\n",
       "      <td>Nathan Redmond</td>\n",
       "      <td>MID</td>\n",
       "      <td>Southampton</td>\n",
       "      <td>1</td>\n",
       "      <td>1.5</td>\n",
       "      <td>1</td>\n",
       "      <td>0</td>\n",
       "      <td>0</td>\n",
       "      <td>0</td>\n",
       "      <td>0</td>\n",
       "      <td>...</td>\n",
       "      <td>0</td>\n",
       "      <td>0</td>\n",
       "      <td>0</td>\n",
       "      <td>0</td>\n",
       "      <td>0</td>\n",
       "      <td>0.0</td>\n",
       "      <td>0.0</td>\n",
       "      <td>0.0</td>\n",
       "      <td>55</td>\n",
       "      <td>1</td>\n",
       "    </tr>\n",
       "    <tr>\n",
       "      <th>1</th>\n",
       "      <td>Junior Stanislas</td>\n",
       "      <td>MID</td>\n",
       "      <td>Bournemouth</td>\n",
       "      <td>1</td>\n",
       "      <td>1.1</td>\n",
       "      <td>1</td>\n",
       "      <td>0</td>\n",
       "      <td>0</td>\n",
       "      <td>0</td>\n",
       "      <td>0</td>\n",
       "      <td>...</td>\n",
       "      <td>0</td>\n",
       "      <td>0</td>\n",
       "      <td>0</td>\n",
       "      <td>0</td>\n",
       "      <td>0</td>\n",
       "      <td>0.0</td>\n",
       "      <td>0.0</td>\n",
       "      <td>0.0</td>\n",
       "      <td>50</td>\n",
       "      <td>1</td>\n",
       "    </tr>\n",
       "    <tr>\n",
       "      <th>2</th>\n",
       "      <td>Armando Broja</td>\n",
       "      <td>FWD</td>\n",
       "      <td>Chelsea</td>\n",
       "      <td>1</td>\n",
       "      <td>2.0</td>\n",
       "      <td>15</td>\n",
       "      <td>0</td>\n",
       "      <td>0</td>\n",
       "      <td>0</td>\n",
       "      <td>0</td>\n",
       "      <td>...</td>\n",
       "      <td>0</td>\n",
       "      <td>0</td>\n",
       "      <td>0</td>\n",
       "      <td>0</td>\n",
       "      <td>0</td>\n",
       "      <td>5.2</td>\n",
       "      <td>0.3</td>\n",
       "      <td>19.0</td>\n",
       "      <td>55</td>\n",
       "      <td>1</td>\n",
       "    </tr>\n",
       "    <tr>\n",
       "      <th>3</th>\n",
       "      <td>Fabian Schär</td>\n",
       "      <td>DEF</td>\n",
       "      <td>Newcastle</td>\n",
       "      <td>1</td>\n",
       "      <td>2.4</td>\n",
       "      <td>90</td>\n",
       "      <td>1</td>\n",
       "      <td>0</td>\n",
       "      <td>1</td>\n",
       "      <td>0</td>\n",
       "      <td>...</td>\n",
       "      <td>0</td>\n",
       "      <td>0</td>\n",
       "      <td>0</td>\n",
       "      <td>0</td>\n",
       "      <td>0</td>\n",
       "      <td>66.0</td>\n",
       "      <td>14.6</td>\n",
       "      <td>25.0</td>\n",
       "      <td>45</td>\n",
       "      <td>15</td>\n",
       "    </tr>\n",
       "    <tr>\n",
       "      <th>4</th>\n",
       "      <td>Jonny Evans</td>\n",
       "      <td>DEF</td>\n",
       "      <td>Leicester</td>\n",
       "      <td>1</td>\n",
       "      <td>1.9</td>\n",
       "      <td>90</td>\n",
       "      <td>0</td>\n",
       "      <td>0</td>\n",
       "      <td>0</td>\n",
       "      <td>0</td>\n",
       "      <td>...</td>\n",
       "      <td>0</td>\n",
       "      <td>2</td>\n",
       "      <td>0</td>\n",
       "      <td>0</td>\n",
       "      <td>0</td>\n",
       "      <td>14.0</td>\n",
       "      <td>1.3</td>\n",
       "      <td>0.0</td>\n",
       "      <td>45</td>\n",
       "      <td>1</td>\n",
       "    </tr>\n",
       "  </tbody>\n",
       "</table>\n",
       "<p>5 rows × 21 columns</p>\n",
       "</div>"
      ],
      "text/plain": [
       "               name position         team  GW   xP  minutes  goals_scored  \\\n",
       "0    Nathan Redmond      MID  Southampton   1  1.5        1             0   \n",
       "1  Junior Stanislas      MID  Bournemouth   1  1.1        1             0   \n",
       "2     Armando Broja      FWD      Chelsea   1  2.0       15             0   \n",
       "3      Fabian Schär      DEF    Newcastle   1  2.4       90             1   \n",
       "4       Jonny Evans      DEF    Leicester   1  1.9       90             0   \n",
       "\n",
       "   assists  clean_sheets  saves  ...  penalties_missed  goals_conceded  \\\n",
       "0        0             0      0  ...                 0               0   \n",
       "1        0             0      0  ...                 0               0   \n",
       "2        0             0      0  ...                 0               0   \n",
       "3        0             1      0  ...                 0               0   \n",
       "4        0             0      0  ...                 0               2   \n",
       "\n",
       "   own_goals  yellow_cards  red_cards  influence  creativity  threat  value  \\\n",
       "0          0             0          0        0.0         0.0     0.0     55   \n",
       "1          0             0          0        0.0         0.0     0.0     50   \n",
       "2          0             0          0        5.2         0.3    19.0     55   \n",
       "3          0             0          0       66.0        14.6    25.0     45   \n",
       "4          0             0          0       14.0         1.3     0.0     45   \n",
       "\n",
       "   total_points  \n",
       "0             1  \n",
       "1             1  \n",
       "2             1  \n",
       "3            15  \n",
       "4             1  \n",
       "\n",
       "[5 rows x 21 columns]"
      ]
     },
     "execution_count": 2,
     "metadata": {},
     "output_type": "execute_result"
    }
   ],
   "source": [
    "# reading in the clean data and viewing it\n",
    "df = pd.read_csv('../data/cleaned.csv', index_col=0)\n",
    "df.head()"
   ]
  },
  {
   "cell_type": "markdown",
   "id": "7a1418fa",
   "metadata": {},
   "source": [
    "From the cleaned dataset, we still have some preprocessing to do before we can fit this to a model. We need to remove the `xP` column since it is the official FPL's point predicition for the match. Since we are only interested in an individual player's performance, we can drop the `team` column as well and add it back into our dataframe after the model's predicition. Similarly, we will drop the `name` column as we are assuming that a player's name should not affect their performance but we will need their names and team names later during team selection. Lastly, we need to convert the `position` column to a numerical column so that the model can interpret it. It was determined in the EDA notebook that positions have an effect do to the scoring scheme in FPL. \n",
    "\n",
    "To summarize, the steps are as follows:\n",
    "\n",
    "- Convert `position` to numerical via OneHotEncoder\n",
    "- Split the train and test data based on GW numbers\n",
    "- Save into a list the `xP`, `GW`, `name`, and `team` of the players\n",
    "- Drop `xP`, `GW`, `name`, and `team` from the train and test sets "
   ]
  },
  {
   "cell_type": "code",
   "execution_count": 3,
   "id": "22001786",
   "metadata": {},
   "outputs": [],
   "source": [
    "from sklearn.preprocessing import OneHotEncoder\n",
    "from sklearn.preprocessing import StandardScaler\n",
    "from sklearn.linear_model import LinearRegression"
   ]
  },
  {
   "cell_type": "code",
   "execution_count": 4,
   "id": "02d603ba",
   "metadata": {},
   "outputs": [
    {
     "data": {
      "text/html": [
       "<div>\n",
       "<style scoped>\n",
       "    .dataframe tbody tr th:only-of-type {\n",
       "        vertical-align: middle;\n",
       "    }\n",
       "\n",
       "    .dataframe tbody tr th {\n",
       "        vertical-align: top;\n",
       "    }\n",
       "\n",
       "    .dataframe thead th {\n",
       "        text-align: right;\n",
       "    }\n",
       "</style>\n",
       "<table border=\"1\" class=\"dataframe\">\n",
       "  <thead>\n",
       "    <tr style=\"text-align: right;\">\n",
       "      <th></th>\n",
       "      <th>name</th>\n",
       "      <th>team</th>\n",
       "      <th>GW</th>\n",
       "      <th>xP</th>\n",
       "      <th>minutes</th>\n",
       "      <th>goals_scored</th>\n",
       "      <th>assists</th>\n",
       "      <th>clean_sheets</th>\n",
       "      <th>saves</th>\n",
       "      <th>penalties_saved</th>\n",
       "      <th>...</th>\n",
       "      <th>red_cards</th>\n",
       "      <th>influence</th>\n",
       "      <th>creativity</th>\n",
       "      <th>threat</th>\n",
       "      <th>value</th>\n",
       "      <th>total_points</th>\n",
       "      <th>DEF</th>\n",
       "      <th>FWD</th>\n",
       "      <th>GK</th>\n",
       "      <th>MID</th>\n",
       "    </tr>\n",
       "  </thead>\n",
       "  <tbody>\n",
       "    <tr>\n",
       "      <th>0</th>\n",
       "      <td>Nathan Redmond</td>\n",
       "      <td>Southampton</td>\n",
       "      <td>1</td>\n",
       "      <td>1.5</td>\n",
       "      <td>1</td>\n",
       "      <td>0</td>\n",
       "      <td>0</td>\n",
       "      <td>0</td>\n",
       "      <td>0</td>\n",
       "      <td>0</td>\n",
       "      <td>...</td>\n",
       "      <td>0</td>\n",
       "      <td>0.0</td>\n",
       "      <td>0.0</td>\n",
       "      <td>0.0</td>\n",
       "      <td>55</td>\n",
       "      <td>1</td>\n",
       "      <td>0</td>\n",
       "      <td>0</td>\n",
       "      <td>0</td>\n",
       "      <td>1</td>\n",
       "    </tr>\n",
       "    <tr>\n",
       "      <th>1</th>\n",
       "      <td>Junior Stanislas</td>\n",
       "      <td>Bournemouth</td>\n",
       "      <td>1</td>\n",
       "      <td>1.1</td>\n",
       "      <td>1</td>\n",
       "      <td>0</td>\n",
       "      <td>0</td>\n",
       "      <td>0</td>\n",
       "      <td>0</td>\n",
       "      <td>0</td>\n",
       "      <td>...</td>\n",
       "      <td>0</td>\n",
       "      <td>0.0</td>\n",
       "      <td>0.0</td>\n",
       "      <td>0.0</td>\n",
       "      <td>50</td>\n",
       "      <td>1</td>\n",
       "      <td>0</td>\n",
       "      <td>0</td>\n",
       "      <td>0</td>\n",
       "      <td>1</td>\n",
       "    </tr>\n",
       "    <tr>\n",
       "      <th>2</th>\n",
       "      <td>Armando Broja</td>\n",
       "      <td>Chelsea</td>\n",
       "      <td>1</td>\n",
       "      <td>2.0</td>\n",
       "      <td>15</td>\n",
       "      <td>0</td>\n",
       "      <td>0</td>\n",
       "      <td>0</td>\n",
       "      <td>0</td>\n",
       "      <td>0</td>\n",
       "      <td>...</td>\n",
       "      <td>0</td>\n",
       "      <td>5.2</td>\n",
       "      <td>0.3</td>\n",
       "      <td>19.0</td>\n",
       "      <td>55</td>\n",
       "      <td>1</td>\n",
       "      <td>0</td>\n",
       "      <td>1</td>\n",
       "      <td>0</td>\n",
       "      <td>0</td>\n",
       "    </tr>\n",
       "    <tr>\n",
       "      <th>3</th>\n",
       "      <td>Fabian Schär</td>\n",
       "      <td>Newcastle</td>\n",
       "      <td>1</td>\n",
       "      <td>2.4</td>\n",
       "      <td>90</td>\n",
       "      <td>1</td>\n",
       "      <td>0</td>\n",
       "      <td>1</td>\n",
       "      <td>0</td>\n",
       "      <td>0</td>\n",
       "      <td>...</td>\n",
       "      <td>0</td>\n",
       "      <td>66.0</td>\n",
       "      <td>14.6</td>\n",
       "      <td>25.0</td>\n",
       "      <td>45</td>\n",
       "      <td>15</td>\n",
       "      <td>1</td>\n",
       "      <td>0</td>\n",
       "      <td>0</td>\n",
       "      <td>0</td>\n",
       "    </tr>\n",
       "    <tr>\n",
       "      <th>4</th>\n",
       "      <td>Jonny Evans</td>\n",
       "      <td>Leicester</td>\n",
       "      <td>1</td>\n",
       "      <td>1.9</td>\n",
       "      <td>90</td>\n",
       "      <td>0</td>\n",
       "      <td>0</td>\n",
       "      <td>0</td>\n",
       "      <td>0</td>\n",
       "      <td>0</td>\n",
       "      <td>...</td>\n",
       "      <td>0</td>\n",
       "      <td>14.0</td>\n",
       "      <td>1.3</td>\n",
       "      <td>0.0</td>\n",
       "      <td>45</td>\n",
       "      <td>1</td>\n",
       "      <td>1</td>\n",
       "      <td>0</td>\n",
       "      <td>0</td>\n",
       "      <td>0</td>\n",
       "    </tr>\n",
       "  </tbody>\n",
       "</table>\n",
       "<p>5 rows × 24 columns</p>\n",
       "</div>"
      ],
      "text/plain": [
       "               name         team  GW   xP  minutes  goals_scored  assists  \\\n",
       "0    Nathan Redmond  Southampton   1  1.5        1             0        0   \n",
       "1  Junior Stanislas  Bournemouth   1  1.1        1             0        0   \n",
       "2     Armando Broja      Chelsea   1  2.0       15             0        0   \n",
       "3      Fabian Schär    Newcastle   1  2.4       90             1        0   \n",
       "4       Jonny Evans    Leicester   1  1.9       90             0        0   \n",
       "\n",
       "   clean_sheets  saves  penalties_saved  ...  red_cards  influence  \\\n",
       "0             0      0                0  ...          0        0.0   \n",
       "1             0      0                0  ...          0        0.0   \n",
       "2             0      0                0  ...          0        5.2   \n",
       "3             1      0                0  ...          0       66.0   \n",
       "4             0      0                0  ...          0       14.0   \n",
       "\n",
       "   creativity  threat  value  total_points  DEF  FWD  GK  MID  \n",
       "0         0.0     0.0     55             1    0    0   0    1  \n",
       "1         0.0     0.0     50             1    0    0   0    1  \n",
       "2         0.3    19.0     55             1    0    1   0    0  \n",
       "3        14.6    25.0     45            15    1    0   0    0  \n",
       "4         1.3     0.0     45             1    1    0   0    0  \n",
       "\n",
       "[5 rows x 24 columns]"
      ]
     },
     "execution_count": 4,
     "metadata": {},
     "output_type": "execute_result"
    }
   ],
   "source": [
    "# Instantiate the OneHotEncoder\n",
    "ohe = OneHotEncoder(sparse=False)\n",
    "\n",
    "# Fit the OneHotEncoder to the positions column and transform\n",
    "pos = pd.DataFrame(df['position'])\n",
    "encoded = ohe.fit_transform(pos)\n",
    "\n",
    "# Put into a dataframe to get column names\n",
    "encoded_df = pd.DataFrame(encoded, columns=['DEF', 'FWD', 'GK', 'MID'], dtype=int)\n",
    "\n",
    "# Add original back in\n",
    "model_df = pd.concat([df, encoded_df], axis=1)\n",
    "\n",
    "# Drop position column\n",
    "model_df = model_df.drop('position', axis=1)\n",
    "\n",
    "# Show\n",
    "model_df.head()"
   ]
  },
  {
   "cell_type": "markdown",
   "id": "a2c189c3",
   "metadata": {},
   "source": [
    "Since we are splitting the train and test data based on the GW number, we do not need to import the train-test split from sklearn."
   ]
  },
  {
   "cell_type": "code",
   "execution_count": 5,
   "id": "173224ae",
   "metadata": {},
   "outputs": [],
   "source": [
    "# Train test split\n",
    "\n",
    "X = model_df.drop('total_points', axis = 1)\n",
    "y = model_df['total_points']"
   ]
  },
  {
   "cell_type": "code",
   "execution_count": 6,
   "id": "9027a5f2",
   "metadata": {},
   "outputs": [],
   "source": [
    "X_train, X_test = X.loc[X['GW'] < 21], X.loc[X['GW'] >= 21]\n",
    "y_train, y_test = y[:X_train.shape[0]], y[X_train.shape[0]:]"
   ]
  },
  {
   "cell_type": "code",
   "execution_count": 7,
   "id": "6b1073a3",
   "metadata": {},
   "outputs": [
    {
     "name": "stdout",
     "output_type": "stream",
     "text": [
      "X_train Shape: (5916, 23)\n",
      "y_train Shape:(5916,)\n",
      "\n",
      "X_test Shape:(1257, 23)\n",
      "y_test Shape:(1257,)\n"
     ]
    }
   ],
   "source": [
    "# Sanity check to make sure shapes of train and test sets are consistent\n",
    "print(f\"X_train Shape: {X_train.shape}\\ny_train Shape:{y_train.shape}\\n\\nX_test Shape:{X_test.shape}\\ny_test Shape:{y_test.shape}\")"
   ]
  },
  {
   "cell_type": "code",
   "execution_count": 8,
   "id": "b55e50d6",
   "metadata": {},
   "outputs": [],
   "source": [
    "# saving player names, team, xP, GW number in a list for train and test data\n",
    "\n",
    "train_names = list(n for n in X_train['name'])\n",
    "train_teams = list(t for t in X_train['team'])\n",
    "train_xP = list(x for x in X_train['xP'])\n",
    "train_GW = list(g for g in X_train['GW'])\n",
    "\n",
    "\n",
    "test_names = list(n for n in X_test['name'])\n",
    "test_teams = list(t for t in X_test['team'])\n",
    "test_xP = list(x for x in X_test['xP'])\n",
    "test_GW = list(g for g in X_test['GW'])"
   ]
  },
  {
   "cell_type": "code",
   "execution_count": 9,
   "id": "70a66775",
   "metadata": {},
   "outputs": [],
   "source": [
    "# Removing names from training and test data\n",
    "X_train = X_train.drop(['name', 'team', 'xP', 'GW'], axis = 1)\n",
    "X_test = X_test.drop(['name', 'team', 'xP', 'GW'], axis = 1)"
   ]
  },
  {
   "cell_type": "code",
   "execution_count": 10,
   "id": "8d1c00b2",
   "metadata": {},
   "outputs": [],
   "source": [
    "# Scale data with Standard Scaler\n",
    "\n",
    "ss = StandardScaler()\n",
    "ss.fit(X_train)\n",
    "\n",
    "X_train_scaled = ss.transform(X_train)\n",
    "X_test_scaled = ss.transform(X_test)"
   ]
  },
  {
   "cell_type": "markdown",
   "id": "79e54e4c",
   "metadata": {},
   "source": [
    "## Linear Regression Model"
   ]
  },
  {
   "cell_type": "code",
   "execution_count": 11,
   "id": "a5c10166",
   "metadata": {},
   "outputs": [
    {
     "data": {
      "text/plain": [
       "LinearRegression()"
      ]
     },
     "execution_count": 11,
     "metadata": {},
     "output_type": "execute_result"
    }
   ],
   "source": [
    "LR_model = LinearRegression()\n",
    "LR_model.fit(X_train_scaled, y_train)"
   ]
  },
  {
   "cell_type": "code",
   "execution_count": 12,
   "id": "c0e532a8",
   "metadata": {},
   "outputs": [
    {
     "name": "stdout",
     "output_type": "stream",
     "text": [
      "R^2 of the Linear Regression for train data: 0.8703524975724928\n",
      "R^2 of the Linear Regression for test data: 0.8548425633013981\n"
     ]
    },
    {
     "data": {
      "image/png": "[encoded data removed]",
      "text/plain": [
       "<Figure size 640x480 with 1 Axes>"
      ]
     },
     "metadata": {},
     "output_type": "display_data"
    }
   ],
   "source": [
    "import matplotlib.pyplot as plt\n",
    "import seaborn as sns\n",
    "\n",
    "print(f\"R^2 of the Linear Regression for train data: {LR_model.score(X_train_scaled, y_train)}\")\n",
    "print(f\"R^2 of the Linear Regression for test data: {LR_model.score(X_test_scaled, y_test)}\")\n",
    "\n",
    "plt.figure()\n",
    "sns.regplot(x=LR_model.predict(X_test_scaled), y=y_test)\n",
    "plt.title('Base Linear Regression Model Results')\n",
    "plt.xlabel('Predicted Points')\n",
    "plt.ylabel('True Points Achieved')\n",
    "plt.show()"
   ]
  },
  {
   "cell_type": "markdown",
   "id": "a2e9b411",
   "metadata": {},
   "source": [
    "## Determining Hyperparameters for Lasso Regression"
   ]
  },
  {
   "cell_type": "code",
   "execution_count": 13,
   "id": "eed56fa5",
   "metadata": {},
   "outputs": [],
   "source": [
    "from sklearn.preprocessing import MinMaxScaler\n",
    "from sklearn.pipeline import Pipeline\n",
    "from sklearn.model_selection import TimeSeriesSplit\n",
    "from sklearn.model_selection import GridSearchCV\n",
    "from sklearn.linear_model import Lasso\n",
    "from tempfile import mkdtemp\n",
    "\n",
    "# Cross-validation with time series split to split the folds by the number of gameweeks in the training set.\n",
    "X = X_train.values\n",
    "tsc = TimeSeriesSplit(n_splits=20)\n",
    "\n",
    "# Save pipeline parameters in temperary directory\n",
    "cachedir = mkdtemp()\n",
    "\n",
    "# placeholders for pipeline\n",
    "estimators = [('normalise', StandardScaler()),\n",
    "              ('model', LinearRegression())]\n",
    "\n",
    "# Initializing pipeline\n",
    "pipe = Pipeline(estimators, memory = cachedir)\n",
    "\n",
    "# parameter grid for finding best model and hyperparameters for our data\n",
    "param_grid = [\n",
    "            {'model': [LinearRegression()], \n",
    "             'normalise': [StandardScaler(), MinMaxScaler(), None]},\n",
    "            {'model': [Lasso()],\n",
    "             'normalise': [StandardScaler(), MinMaxScaler(), None],\n",
    "             'model__alpha': [0.001, 0.01, 1, 5, 10]\n",
    "            }\n",
    "]\n",
    "\n",
    "# Cross Validation based on Time Series Split by number of GWs\n",
    "grid = GridSearchCV(pipe, param_grid, cv=tsc.split(X))\n",
    "\n",
    "fittedgrid = grid.fit(X_train, y_train)"
   ]
  },
  {
   "cell_type": "code",
   "execution_count": 14,
   "id": "adfb7f9f",
   "metadata": {},
   "outputs": [
    {
     "data": {
      "text/plain": [
       "Pipeline(memory='C:\\\\Users\\\\FARHAN~1\\\\AppData\\\\Local\\\\Temp\\\\tmpcn4zjagg',\n",
       "         steps=[('normalise', None), ('model', Lasso(alpha=0.001))])"
      ]
     },
     "execution_count": 14,
     "metadata": {},
     "output_type": "execute_result"
    }
   ],
   "source": [
    "fittedgrid.best_estimator_"
   ]
  },
  {
   "cell_type": "code",
   "execution_count": 15,
   "id": "c75e3494",
   "metadata": {},
   "outputs": [
    {
     "data": {
      "text/plain": [
       "Lasso(alpha=0.001)"
      ]
     },
     "execution_count": 15,
     "metadata": {},
     "output_type": "execute_result"
    }
   ],
   "source": [
    "# Fitting the Lasso Regression with the best parameters from grid search\n",
    "\n",
    "LM = Lasso(alpha=0.001)\n",
    "LM.fit(X_train, y_train)"
   ]
  },
  {
   "cell_type": "code",
   "execution_count": 16,
   "id": "d2d5b956",
   "metadata": {},
   "outputs": [
    {
     "name": "stdout",
     "output_type": "stream",
     "text": [
      "R^2 of the Lasso Model for train data: 0.8701593166196246\n",
      "R^2 of the Lasso Model for test data: 0.8553304149783999\n"
     ]
    },
    {
     "data": {
      "image/png": "[encoded data removed]",
      "text/plain": [
       "<Figure size 640x480 with 1 Axes>"
      ]
     },
     "metadata": {},
     "output_type": "display_data"
    }
   ],
   "source": [
    "print(f\"R^2 of the Lasso Model for train data: {LM.score(X_train, y_train)}\")\n",
    "print(f\"R^2 of the Lasso Model for test data: {LM.score(X_test, y_test)}\")\n",
    "\n",
    "plt.figure()\n",
    "sns.regplot(x=LM.predict(X_test), y=y_test)\n",
    "plt.title('Lasso Regression with Alpha 0.001 Results')\n",
    "plt.xlabel('Predicted Points')\n",
    "plt.ylabel('True Points Achieved')\n",
    "plt.show()"
   ]
  },
  {
   "cell_type": "code",
   "execution_count": null,
   "id": "8210f717",
   "metadata": {},
   "outputs": [],
   "source": []
  }
 ],
 "metadata": {
  "kernelspec": {
   "display_name": "capstone",
   "language": "python",
   "name": "capstone"
  },
  "language_info": {
   "codemirror_mode": {
    "name": "ipython",
    "version": 3
   },
   "file_extension": ".py",
   "mimetype": "text/x-python",
   "name": "python",
   "nbconvert_exporter": "python",
   "pygments_lexer": "ipython3",
   "version": "3.8.16"
  }
 },
 "nbformat": 4,
 "nbformat_minor": 5
}
