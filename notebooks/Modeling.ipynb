{
 "cells": [
  {
   "cell_type": "markdown",
   "id": "3248969b",
   "metadata": {},
   "source": [
    "# <center> Predicting FPL Player Points via Modeling </center>\n",
    "\n",
    "Author: Farhan Kassam\n",
    "\n",
    "In this notebook, we will be taking the cleaned data from the `Data_Cleaning_and_EDA` notebook and create multiple models that will predict the points earned by a player in a given match. The goal is to hopefully have a model that can predict `total_points` better than the FPL `xP` column which will both be compared to the ground truth `total_points`. \n",
    "\n",
    "As a reminder, the data is a review of the 22/23 Season and consists of GW 1-24.\n",
    "\n",
    "Since the target column `total_points` is a continous variable, we will be fitting and evaluating the following models:\n",
    "- Linear Regression\n",
    "- Lasso Regression (a Linear Regression model with L1 regularization)\n",
    "- Random Forest Regressor"
   ]
  },
  {
   "cell_type": "code",
   "execution_count": 33,
   "id": "1148479c",
   "metadata": {},
   "outputs": [],
   "source": [
    "import pandas as pd\n",
    "import numpy as np\n",
    "\n",
    "np.random.seed(123)"
   ]
  },
  {
   "cell_type": "code",
   "execution_count": 34,
   "id": "133b6534",
   "metadata": {},
   "outputs": [
    {
     "data": {
      "text/html": [
       "<div>\n",
       "<style scoped>\n",
       "    .dataframe tbody tr th:only-of-type {\n",
       "        vertical-align: middle;\n",
       "    }\n",
       "\n",
       "    .dataframe tbody tr th {\n",
       "        vertical-align: top;\n",
       "    }\n",
       "\n",
       "    .dataframe thead th {\n",
       "        text-align: right;\n",
       "    }\n",
       "</style>\n",
       "<table border=\"1\" class=\"dataframe\">\n",
       "  <thead>\n",
       "    <tr style=\"text-align: right;\">\n",
       "      <th></th>\n",
       "      <th>name</th>\n",
       "      <th>position</th>\n",
       "      <th>team</th>\n",
       "      <th>GW</th>\n",
       "      <th>xP</th>\n",
       "      <th>minutes</th>\n",
       "      <th>goals_scored</th>\n",
       "      <th>assists</th>\n",
       "      <th>clean_sheets</th>\n",
       "      <th>saves</th>\n",
       "      <th>...</th>\n",
       "      <th>penalties_missed</th>\n",
       "      <th>goals_conceded</th>\n",
       "      <th>own_goals</th>\n",
       "      <th>yellow_cards</th>\n",
       "      <th>red_cards</th>\n",
       "      <th>influence</th>\n",
       "      <th>creativity</th>\n",
       "      <th>threat</th>\n",
       "      <th>value</th>\n",
       "      <th>total_points</th>\n",
       "    </tr>\n",
       "  </thead>\n",
       "  <tbody>\n",
       "    <tr>\n",
       "      <th>0</th>\n",
       "      <td>Nathan Redmond</td>\n",
       "      <td>MID</td>\n",
       "      <td>Southampton</td>\n",
       "      <td>1</td>\n",
       "      <td>1.5</td>\n",
       "      <td>1</td>\n",
       "      <td>0</td>\n",
       "      <td>0</td>\n",
       "      <td>0</td>\n",
       "      <td>0</td>\n",
       "      <td>...</td>\n",
       "      <td>0</td>\n",
       "      <td>0</td>\n",
       "      <td>0</td>\n",
       "      <td>0</td>\n",
       "      <td>0</td>\n",
       "      <td>0.0</td>\n",
       "      <td>0.0</td>\n",
       "      <td>0.0</td>\n",
       "      <td>55</td>\n",
       "      <td>1</td>\n",
       "    </tr>\n",
       "    <tr>\n",
       "      <th>1</th>\n",
       "      <td>Junior Stanislas</td>\n",
       "      <td>MID</td>\n",
       "      <td>Bournemouth</td>\n",
       "      <td>1</td>\n",
       "      <td>1.1</td>\n",
       "      <td>1</td>\n",
       "      <td>0</td>\n",
       "      <td>0</td>\n",
       "      <td>0</td>\n",
       "      <td>0</td>\n",
       "      <td>...</td>\n",
       "      <td>0</td>\n",
       "      <td>0</td>\n",
       "      <td>0</td>\n",
       "      <td>0</td>\n",
       "      <td>0</td>\n",
       "      <td>0.0</td>\n",
       "      <td>0.0</td>\n",
       "      <td>0.0</td>\n",
       "      <td>50</td>\n",
       "      <td>1</td>\n",
       "    </tr>\n",
       "    <tr>\n",
       "      <th>2</th>\n",
       "      <td>Armando Broja</td>\n",
       "      <td>FWD</td>\n",
       "      <td>Chelsea</td>\n",
       "      <td>1</td>\n",
       "      <td>2.0</td>\n",
       "      <td>15</td>\n",
       "      <td>0</td>\n",
       "      <td>0</td>\n",
       "      <td>0</td>\n",
       "      <td>0</td>\n",
       "      <td>...</td>\n",
       "      <td>0</td>\n",
       "      <td>0</td>\n",
       "      <td>0</td>\n",
       "      <td>0</td>\n",
       "      <td>0</td>\n",
       "      <td>5.2</td>\n",
       "      <td>0.3</td>\n",
       "      <td>19.0</td>\n",
       "      <td>55</td>\n",
       "      <td>1</td>\n",
       "    </tr>\n",
       "    <tr>\n",
       "      <th>3</th>\n",
       "      <td>Fabian Schär</td>\n",
       "      <td>DEF</td>\n",
       "      <td>Newcastle</td>\n",
       "      <td>1</td>\n",
       "      <td>2.4</td>\n",
       "      <td>90</td>\n",
       "      <td>1</td>\n",
       "      <td>0</td>\n",
       "      <td>1</td>\n",
       "      <td>0</td>\n",
       "      <td>...</td>\n",
       "      <td>0</td>\n",
       "      <td>0</td>\n",
       "      <td>0</td>\n",
       "      <td>0</td>\n",
       "      <td>0</td>\n",
       "      <td>66.0</td>\n",
       "      <td>14.6</td>\n",
       "      <td>25.0</td>\n",
       "      <td>45</td>\n",
       "      <td>15</td>\n",
       "    </tr>\n",
       "    <tr>\n",
       "      <th>4</th>\n",
       "      <td>Jonny Evans</td>\n",
       "      <td>DEF</td>\n",
       "      <td>Leicester</td>\n",
       "      <td>1</td>\n",
       "      <td>1.9</td>\n",
       "      <td>90</td>\n",
       "      <td>0</td>\n",
       "      <td>0</td>\n",
       "      <td>0</td>\n",
       "      <td>0</td>\n",
       "      <td>...</td>\n",
       "      <td>0</td>\n",
       "      <td>2</td>\n",
       "      <td>0</td>\n",
       "      <td>0</td>\n",
       "      <td>0</td>\n",
       "      <td>14.0</td>\n",
       "      <td>1.3</td>\n",
       "      <td>0.0</td>\n",
       "      <td>45</td>\n",
       "      <td>1</td>\n",
       "    </tr>\n",
       "  </tbody>\n",
       "</table>\n",
       "<p>5 rows × 21 columns</p>\n",
       "</div>"
      ],
      "text/plain": [
       "               name position         team  GW   xP  minutes  goals_scored  \\\n",
       "0    Nathan Redmond      MID  Southampton   1  1.5        1             0   \n",
       "1  Junior Stanislas      MID  Bournemouth   1  1.1        1             0   \n",
       "2     Armando Broja      FWD      Chelsea   1  2.0       15             0   \n",
       "3      Fabian Schär      DEF    Newcastle   1  2.4       90             1   \n",
       "4       Jonny Evans      DEF    Leicester   1  1.9       90             0   \n",
       "\n",
       "   assists  clean_sheets  saves  ...  penalties_missed  goals_conceded  \\\n",
       "0        0             0      0  ...                 0               0   \n",
       "1        0             0      0  ...                 0               0   \n",
       "2        0             0      0  ...                 0               0   \n",
       "3        0             1      0  ...                 0               0   \n",
       "4        0             0      0  ...                 0               2   \n",
       "\n",
       "   own_goals  yellow_cards  red_cards  influence  creativity  threat  value  \\\n",
       "0          0             0          0        0.0         0.0     0.0     55   \n",
       "1          0             0          0        0.0         0.0     0.0     50   \n",
       "2          0             0          0        5.2         0.3    19.0     55   \n",
       "3          0             0          0       66.0        14.6    25.0     45   \n",
       "4          0             0          0       14.0         1.3     0.0     45   \n",
       "\n",
       "   total_points  \n",
       "0             1  \n",
       "1             1  \n",
       "2             1  \n",
       "3            15  \n",
       "4             1  \n",
       "\n",
       "[5 rows x 21 columns]"
      ]
     },
     "execution_count": 34,
     "metadata": {},
     "output_type": "execute_result"
    }
   ],
   "source": [
    "# reading in the clean data and viewing it\n",
    "df = pd.read_csv('../data/cleaned.csv', index_col=0)\n",
    "df.head()"
   ]
  },
  {
   "cell_type": "markdown",
   "id": "335703e7",
   "metadata": {},
   "source": [
    "## Preprocessing"
   ]
  },
  {
   "cell_type": "markdown",
   "id": "0b0f19c5",
   "metadata": {},
   "source": [
    "From the cleaned dataset, we still have some preprocessing to do before we can fit this to a model. We need to convert the categorical `position` column to a numerical column as it was determined in the EDA notebook that positions have an effect do to the scoring scheme in FPL. Since our dataset is time-dependent in that we are attempting to predict future matches based on past performance, we will split a training and test data based on the GW number where we will train on GW 1-20 and test on the following four gameweeks (21-24 GW). \n",
    "\n",
    "Since we are only interested in an individual player's performance, we can drop the `team` column and add it back into our dataframe after the model's predicition. Similarly, we will drop the `name` column as we are assuming that a player's name should not affect their performance but we will need their names and team names later during team selection. Lastly, we need to remove the `xP` column since it is the official FPL's point predicition for the match. \n",
    "\n",
    "To summarize, the steps are as follows:\n",
    "\n",
    "- Convert `position` to numerical via OneHotEncoder\n",
    "- Split the train and test data based on GW numbers\n",
    "- Save into a list the `xP`, `GW`, `name`, and `team` of the players\n",
    "- Drop `xP`, `GW`, `name`, and `team` from the train and test sets "
   ]
  },
  {
   "cell_type": "code",
   "execution_count": 35,
   "id": "22001786",
   "metadata": {},
   "outputs": [],
   "source": [
    "from sklearn.preprocessing import OneHotEncoder\n",
    "from sklearn.preprocessing import StandardScaler\n",
    "from sklearn.linear_model import LinearRegression"
   ]
  },
  {
   "cell_type": "code",
   "execution_count": 36,
   "id": "02d603ba",
   "metadata": {},
   "outputs": [
    {
     "data": {
      "text/html": [
       "<div>\n",
       "<style scoped>\n",
       "    .dataframe tbody tr th:only-of-type {\n",
       "        vertical-align: middle;\n",
       "    }\n",
       "\n",
       "    .dataframe tbody tr th {\n",
       "        vertical-align: top;\n",
       "    }\n",
       "\n",
       "    .dataframe thead th {\n",
       "        text-align: right;\n",
       "    }\n",
       "</style>\n",
       "<table border=\"1\" class=\"dataframe\">\n",
       "  <thead>\n",
       "    <tr style=\"text-align: right;\">\n",
       "      <th></th>\n",
       "      <th>name</th>\n",
       "      <th>team</th>\n",
       "      <th>GW</th>\n",
       "      <th>xP</th>\n",
       "      <th>minutes</th>\n",
       "      <th>goals_scored</th>\n",
       "      <th>assists</th>\n",
       "      <th>clean_sheets</th>\n",
       "      <th>saves</th>\n",
       "      <th>penalties_saved</th>\n",
       "      <th>...</th>\n",
       "      <th>red_cards</th>\n",
       "      <th>influence</th>\n",
       "      <th>creativity</th>\n",
       "      <th>threat</th>\n",
       "      <th>value</th>\n",
       "      <th>total_points</th>\n",
       "      <th>DEF</th>\n",
       "      <th>FWD</th>\n",
       "      <th>GK</th>\n",
       "      <th>MID</th>\n",
       "    </tr>\n",
       "  </thead>\n",
       "  <tbody>\n",
       "    <tr>\n",
       "      <th>0</th>\n",
       "      <td>Nathan Redmond</td>\n",
       "      <td>Southampton</td>\n",
       "      <td>1</td>\n",
       "      <td>1.5</td>\n",
       "      <td>1</td>\n",
       "      <td>0</td>\n",
       "      <td>0</td>\n",
       "      <td>0</td>\n",
       "      <td>0</td>\n",
       "      <td>0</td>\n",
       "      <td>...</td>\n",
       "      <td>0</td>\n",
       "      <td>0.0</td>\n",
       "      <td>0.0</td>\n",
       "      <td>0.0</td>\n",
       "      <td>55</td>\n",
       "      <td>1</td>\n",
       "      <td>0</td>\n",
       "      <td>0</td>\n",
       "      <td>0</td>\n",
       "      <td>1</td>\n",
       "    </tr>\n",
       "    <tr>\n",
       "      <th>1</th>\n",
       "      <td>Junior Stanislas</td>\n",
       "      <td>Bournemouth</td>\n",
       "      <td>1</td>\n",
       "      <td>1.1</td>\n",
       "      <td>1</td>\n",
       "      <td>0</td>\n",
       "      <td>0</td>\n",
       "      <td>0</td>\n",
       "      <td>0</td>\n",
       "      <td>0</td>\n",
       "      <td>...</td>\n",
       "      <td>0</td>\n",
       "      <td>0.0</td>\n",
       "      <td>0.0</td>\n",
       "      <td>0.0</td>\n",
       "      <td>50</td>\n",
       "      <td>1</td>\n",
       "      <td>0</td>\n",
       "      <td>0</td>\n",
       "      <td>0</td>\n",
       "      <td>1</td>\n",
       "    </tr>\n",
       "    <tr>\n",
       "      <th>2</th>\n",
       "      <td>Armando Broja</td>\n",
       "      <td>Chelsea</td>\n",
       "      <td>1</td>\n",
       "      <td>2.0</td>\n",
       "      <td>15</td>\n",
       "      <td>0</td>\n",
       "      <td>0</td>\n",
       "      <td>0</td>\n",
       "      <td>0</td>\n",
       "      <td>0</td>\n",
       "      <td>...</td>\n",
       "      <td>0</td>\n",
       "      <td>5.2</td>\n",
       "      <td>0.3</td>\n",
       "      <td>19.0</td>\n",
       "      <td>55</td>\n",
       "      <td>1</td>\n",
       "      <td>0</td>\n",
       "      <td>1</td>\n",
       "      <td>0</td>\n",
       "      <td>0</td>\n",
       "    </tr>\n",
       "    <tr>\n",
       "      <th>3</th>\n",
       "      <td>Fabian Schär</td>\n",
       "      <td>Newcastle</td>\n",
       "      <td>1</td>\n",
       "      <td>2.4</td>\n",
       "      <td>90</td>\n",
       "      <td>1</td>\n",
       "      <td>0</td>\n",
       "      <td>1</td>\n",
       "      <td>0</td>\n",
       "      <td>0</td>\n",
       "      <td>...</td>\n",
       "      <td>0</td>\n",
       "      <td>66.0</td>\n",
       "      <td>14.6</td>\n",
       "      <td>25.0</td>\n",
       "      <td>45</td>\n",
       "      <td>15</td>\n",
       "      <td>1</td>\n",
       "      <td>0</td>\n",
       "      <td>0</td>\n",
       "      <td>0</td>\n",
       "    </tr>\n",
       "    <tr>\n",
       "      <th>4</th>\n",
       "      <td>Jonny Evans</td>\n",
       "      <td>Leicester</td>\n",
       "      <td>1</td>\n",
       "      <td>1.9</td>\n",
       "      <td>90</td>\n",
       "      <td>0</td>\n",
       "      <td>0</td>\n",
       "      <td>0</td>\n",
       "      <td>0</td>\n",
       "      <td>0</td>\n",
       "      <td>...</td>\n",
       "      <td>0</td>\n",
       "      <td>14.0</td>\n",
       "      <td>1.3</td>\n",
       "      <td>0.0</td>\n",
       "      <td>45</td>\n",
       "      <td>1</td>\n",
       "      <td>1</td>\n",
       "      <td>0</td>\n",
       "      <td>0</td>\n",
       "      <td>0</td>\n",
       "    </tr>\n",
       "  </tbody>\n",
       "</table>\n",
       "<p>5 rows × 24 columns</p>\n",
       "</div>"
      ],
      "text/plain": [
       "               name         team  GW   xP  minutes  goals_scored  assists  \\\n",
       "0    Nathan Redmond  Southampton   1  1.5        1             0        0   \n",
       "1  Junior Stanislas  Bournemouth   1  1.1        1             0        0   \n",
       "2     Armando Broja      Chelsea   1  2.0       15             0        0   \n",
       "3      Fabian Schär    Newcastle   1  2.4       90             1        0   \n",
       "4       Jonny Evans    Leicester   1  1.9       90             0        0   \n",
       "\n",
       "   clean_sheets  saves  penalties_saved  ...  red_cards  influence  \\\n",
       "0             0      0                0  ...          0        0.0   \n",
       "1             0      0                0  ...          0        0.0   \n",
       "2             0      0                0  ...          0        5.2   \n",
       "3             1      0                0  ...          0       66.0   \n",
       "4             0      0                0  ...          0       14.0   \n",
       "\n",
       "   creativity  threat  value  total_points  DEF  FWD  GK  MID  \n",
       "0         0.0     0.0     55             1    0    0   0    1  \n",
       "1         0.0     0.0     50             1    0    0   0    1  \n",
       "2         0.3    19.0     55             1    0    1   0    0  \n",
       "3        14.6    25.0     45            15    1    0   0    0  \n",
       "4         1.3     0.0     45             1    1    0   0    0  \n",
       "\n",
       "[5 rows x 24 columns]"
      ]
     },
     "execution_count": 36,
     "metadata": {},
     "output_type": "execute_result"
    }
   ],
   "source": [
    "# Instantiate the OneHotEncoder\n",
    "ohe = OneHotEncoder(sparse_output=False)\n",
    "\n",
    "# Fit the OneHotEncoder to the positions column and transform\n",
    "pos = pd.DataFrame(df['position'])\n",
    "encoded = ohe.fit_transform(pos)\n",
    "\n",
    "# Put into a dataframe to get column names\n",
    "encoded_df = pd.DataFrame(encoded, columns=['DEF', 'FWD', 'GK', 'MID'], dtype=int)\n",
    "\n",
    "# Add original back in\n",
    "model_df = pd.concat([df, encoded_df], axis=1)\n",
    "\n",
    "# Drop position column\n",
    "model_df = model_df.drop('position', axis=1)\n",
    "\n",
    "# Show\n",
    "model_df.head()"
   ]
  },
  {
   "cell_type": "markdown",
   "id": "a2c189c3",
   "metadata": {},
   "source": [
    "Since we are splitting the train and test data based on the GW number, we do not need to import the train-test split from sklearn."
   ]
  },
  {
   "cell_type": "code",
   "execution_count": 37,
   "id": "173224ae",
   "metadata": {},
   "outputs": [],
   "source": [
    "# Train test split\n",
    "\n",
    "X = model_df.drop('total_points', axis = 1)\n",
    "y = model_df['total_points']"
   ]
  },
  {
   "cell_type": "code",
   "execution_count": 38,
   "id": "f0d236e8",
   "metadata": {},
   "outputs": [],
   "source": [
    "X_train, X_test = X.loc[X['GW'] < 21], X.loc[X['GW'] >= 21]\n",
    "y_train, y_test = y[:X_train.shape[0]], y[X_train.shape[0]:]"
   ]
  },
  {
   "cell_type": "code",
   "execution_count": 39,
   "id": "902c6d6e",
   "metadata": {},
   "outputs": [
    {
     "name": "stdout",
     "output_type": "stream",
     "text": [
      "X_train Shape: (5916, 23)\n",
      "y_train Shape:(5916,)\n",
      "\n",
      "X_test Shape:(1257, 23)\n",
      "y_test Shape:(1257,)\n"
     ]
    }
   ],
   "source": [
    "# Sanity check to make sure shapes of train and test sets are consistent\n",
    "print(f\"X_train Shape: {X_train.shape}\\ny_train Shape:{y_train.shape}\\n\\nX_test Shape:{X_test.shape}\\ny_test Shape:{y_test.shape}\")"
   ]
  },
  {
   "cell_type": "code",
   "execution_count": 40,
   "id": "b55e50d6",
   "metadata": {},
   "outputs": [],
   "source": [
    "# saving player names, team, xP, GW number in a list for train and test data\n",
    "\n",
    "train_names = list(n for n in X_train['name'])\n",
    "train_teams = list(t for t in X_train['team'])\n",
    "train_xP = list(x for x in X_train['xP'])\n",
    "train_GW = list(g for g in X_train['GW'])\n",
    "\n",
    "\n",
    "test_names = list(n for n in X_test['name'])\n",
    "test_teams = list(t for t in X_test['team'])\n",
    "test_xP = list(x for x in X_test['xP'])\n",
    "test_GW = list(g for g in X_test['GW'])"
   ]
  },
  {
   "cell_type": "code",
   "execution_count": 41,
   "id": "70a66775",
   "metadata": {},
   "outputs": [],
   "source": [
    "# Removing names from training and test data\n",
    "X_train = X_train.drop(['name', 'team', 'xP', 'GW'], axis = 1)\n",
    "X_test = X_test.drop(['name', 'team', 'xP', 'GW'], axis = 1)"
   ]
  },
  {
   "cell_type": "markdown",
   "id": "a594cd69",
   "metadata": {},
   "source": [
    "## Linear Regression Model\n",
    "\n",
    "We are now ready to fit our first model on the data. We will first be scaling our data and then fitting to a base linear regression model. We will then view and discuss the model's coefficients and score using the r-squared metric."
   ]
  },
  {
   "cell_type": "code",
   "execution_count": 42,
   "id": "8d1c00b2",
   "metadata": {},
   "outputs": [],
   "source": [
    "# Scale data with Standard Scaler\n",
    "\n",
    "ss = StandardScaler()\n",
    "ss.fit(X_train)\n",
    "\n",
    "X_train_scaled = ss.transform(X_train)\n",
    "X_test_scaled = ss.transform(X_test)"
   ]
  },
  {
   "cell_type": "code",
   "execution_count": 43,
   "id": "a5c10166",
   "metadata": {},
   "outputs": [
    {
     "data": {
      "text/html": [
       "<style>#sk-container-id-6 {color: black;background-color: white;}#sk-container-id-6 pre{padding: 0;}#sk-container-id-6 div.sk-toggleable {background-color: white;}#sk-container-id-6 label.sk-toggleable__label {cursor: pointer;display: block;width: 100%;margin-bottom: 0;padding: 0.3em;box-sizing: border-box;text-align: center;}#sk-container-id-6 label.sk-toggleable__label-arrow:before {content: \"▸\";float: left;margin-right: 0.25em;color: #696969;}#sk-container-id-6 label.sk-toggleable__label-arrow:hover:before {color: black;}#sk-container-id-6 div.sk-estimator:hover label.sk-toggleable__label-arrow:before {color: black;}#sk-container-id-6 div.sk-toggleable__content {max-height: 0;max-width: 0;overflow: hidden;text-align: left;background-color: #f0f8ff;}#sk-container-id-6 div.sk-toggleable__content pre {margin: 0.2em;color: black;border-radius: 0.25em;background-color: #f0f8ff;}#sk-container-id-6 input.sk-toggleable__control:checked~div.sk-toggleable__content {max-height: 200px;max-width: 100%;overflow: auto;}#sk-container-id-6 input.sk-toggleable__control:checked~label.sk-toggleable__label-arrow:before {content: \"▾\";}#sk-container-id-6 div.sk-estimator input.sk-toggleable__control:checked~label.sk-toggleable__label {background-color: #d4ebff;}#sk-container-id-6 div.sk-label input.sk-toggleable__control:checked~label.sk-toggleable__label {background-color: #d4ebff;}#sk-container-id-6 input.sk-hidden--visually {border: 0;clip: rect(1px 1px 1px 1px);clip: rect(1px, 1px, 1px, 1px);height: 1px;margin: -1px;overflow: hidden;padding: 0;position: absolute;width: 1px;}#sk-container-id-6 div.sk-estimator {font-family: monospace;background-color: #f0f8ff;border: 1px dotted black;border-radius: 0.25em;box-sizing: border-box;margin-bottom: 0.5em;}#sk-container-id-6 div.sk-estimator:hover {background-color: #d4ebff;}#sk-container-id-6 div.sk-parallel-item::after {content: \"\";width: 100%;border-bottom: 1px solid gray;flex-grow: 1;}#sk-container-id-6 div.sk-label:hover label.sk-toggleable__label {background-color: #d4ebff;}#sk-container-id-6 div.sk-serial::before {content: \"\";position: absolute;border-left: 1px solid gray;box-sizing: border-box;top: 0;bottom: 0;left: 50%;z-index: 0;}#sk-container-id-6 div.sk-serial {display: flex;flex-direction: column;align-items: center;background-color: white;padding-right: 0.2em;padding-left: 0.2em;position: relative;}#sk-container-id-6 div.sk-item {position: relative;z-index: 1;}#sk-container-id-6 div.sk-parallel {display: flex;align-items: stretch;justify-content: center;background-color: white;position: relative;}#sk-container-id-6 div.sk-item::before, #sk-container-id-6 div.sk-parallel-item::before {content: \"\";position: absolute;border-left: 1px solid gray;box-sizing: border-box;top: 0;bottom: 0;left: 50%;z-index: -1;}#sk-container-id-6 div.sk-parallel-item {display: flex;flex-direction: column;z-index: 1;position: relative;background-color: white;}#sk-container-id-6 div.sk-parallel-item:first-child::after {align-self: flex-end;width: 50%;}#sk-container-id-6 div.sk-parallel-item:last-child::after {align-self: flex-start;width: 50%;}#sk-container-id-6 div.sk-parallel-item:only-child::after {width: 0;}#sk-container-id-6 div.sk-dashed-wrapped {border: 1px dashed gray;margin: 0 0.4em 0.5em 0.4em;box-sizing: border-box;padding-bottom: 0.4em;background-color: white;}#sk-container-id-6 div.sk-label label {font-family: monospace;font-weight: bold;display: inline-block;line-height: 1.2em;}#sk-container-id-6 div.sk-label-container {text-align: center;}#sk-container-id-6 div.sk-container {/* jupyter's `normalize.less` sets `[hidden] { display: none; }` but bootstrap.min.css set `[hidden] { display: none !important; }` so we also need the `!important` here to be able to override the default hidden behavior on the sphinx rendered scikit-learn.org. See: https://github.com/scikit-learn/scikit-learn/issues/21755 */display: inline-block !important;position: relative;}#sk-container-id-6 div.sk-text-repr-fallback {display: none;}</style><div id=\"sk-container-id-6\" class=\"sk-top-container\"><div class=\"sk-text-repr-fallback\"><pre>LinearRegression()</pre><b>In a Jupyter environment, please rerun this cell to show the HTML representation or trust the notebook. <br />On GitHub, the HTML representation is unable to render, please try loading this page with nbviewer.org.</b></div><div class=\"sk-container\" hidden><div class=\"sk-item\"><div class=\"sk-estimator sk-toggleable\"><input class=\"sk-toggleable__control sk-hidden--visually\" id=\"sk-estimator-id-10\" type=\"checkbox\" checked><label for=\"sk-estimator-id-10\" class=\"sk-toggleable__label sk-toggleable__label-arrow\">LinearRegression</label><div class=\"sk-toggleable__content\"><pre>LinearRegression()</pre></div></div></div></div></div>"
      ],
      "text/plain": [
       "LinearRegression()"
      ]
     },
     "execution_count": 43,
     "metadata": {},
     "output_type": "execute_result"
    }
   ],
   "source": [
    "LR_model = LinearRegression()\n",
    "LR_model.fit(X_train_scaled, y_train)"
   ]
  },
  {
   "cell_type": "code",
   "execution_count": 44,
   "id": "5cd9b5c6",
   "metadata": {},
   "outputs": [
    {
     "data": {
      "text/html": [
       "<div>\n",
       "<style scoped>\n",
       "    .dataframe tbody tr th:only-of-type {\n",
       "        vertical-align: middle;\n",
       "    }\n",
       "\n",
       "    .dataframe tbody tr th {\n",
       "        vertical-align: top;\n",
       "    }\n",
       "\n",
       "    .dataframe thead th {\n",
       "        text-align: right;\n",
       "    }\n",
       "</style>\n",
       "<table border=\"1\" class=\"dataframe\">\n",
       "  <thead>\n",
       "    <tr style=\"text-align: right;\">\n",
       "      <th></th>\n",
       "      <th>minutes</th>\n",
       "      <th>goals_scored</th>\n",
       "      <th>assists</th>\n",
       "      <th>clean_sheets</th>\n",
       "      <th>saves</th>\n",
       "      <th>penalties_saved</th>\n",
       "      <th>penalties_missed</th>\n",
       "      <th>goals_conceded</th>\n",
       "      <th>own_goals</th>\n",
       "      <th>yellow_cards</th>\n",
       "      <th>red_cards</th>\n",
       "      <th>influence</th>\n",
       "      <th>creativity</th>\n",
       "      <th>threat</th>\n",
       "      <th>value</th>\n",
       "      <th>DEF</th>\n",
       "      <th>FWD</th>\n",
       "      <th>GK</th>\n",
       "      <th>MID</th>\n",
       "    </tr>\n",
       "  </thead>\n",
       "  <tbody>\n",
       "    <tr>\n",
       "      <th>coeffs</th>\n",
       "      <td>0.471161</td>\n",
       "      <td>1.729205</td>\n",
       "      <td>0.905741</td>\n",
       "      <td>0.9356</td>\n",
       "      <td>0.326425</td>\n",
       "      <td>0.277705</td>\n",
       "      <td>-0.098572</td>\n",
       "      <td>-0.380149</td>\n",
       "      <td>-0.176443</td>\n",
       "      <td>-0.378476</td>\n",
       "      <td>-0.14612</td>\n",
       "      <td>0.251833</td>\n",
       "      <td>0.062377</td>\n",
       "      <td>-0.123467</td>\n",
       "      <td>-0.025455</td>\n",
       "      <td>-1.971373e+13</td>\n",
       "      <td>-1.385099e+13</td>\n",
       "      <td>-1.049463e+13</td>\n",
       "      <td>-2.077991e+13</td>\n",
       "    </tr>\n",
       "  </tbody>\n",
       "</table>\n",
       "</div>"
      ],
      "text/plain": [
       "         minutes  goals_scored   assists  clean_sheets     saves  \\\n",
       "coeffs  0.471161      1.729205  0.905741        0.9356  0.326425   \n",
       "\n",
       "        penalties_saved  penalties_missed  goals_conceded  own_goals  \\\n",
       "coeffs         0.277705         -0.098572       -0.380149  -0.176443   \n",
       "\n",
       "        yellow_cards  red_cards  influence  creativity    threat     value  \\\n",
       "coeffs     -0.378476   -0.14612   0.251833    0.062377 -0.123467 -0.025455   \n",
       "\n",
       "                 DEF           FWD            GK           MID  \n",
       "coeffs -1.971373e+13 -1.385099e+13 -1.049463e+13 -2.077991e+13  "
      ]
     },
     "execution_count": 44,
     "metadata": {},
     "output_type": "execute_result"
    }
   ],
   "source": [
    "LR_coefs = pd.DataFrame(data= LR_model.coef_.reshape(1,19), columns=X_train.columns, index = ['coeffs'])\n",
    "LR_coefs"
   ]
  },
  {
   "cell_type": "markdown",
   "id": "14454b9f",
   "metadata": {},
   "source": [
    "The base model determined that the most important features to predict points are:\n",
    "- goals_scored with a positive correlation of 1.729\n",
    "- assists with a positive correlation of 0.905\n",
    "- clean_sheets with a positive correlation of 0.935\n",
    "\n",
    "This makes sense since the rules of FPL reward these statistics the most. Interestingly, the positions were the least important in prediction with this model. \n",
    "\n",
    "Let's view and interpret the models performance."
   ]
  },
  {
   "cell_type": "code",
   "execution_count": 45,
   "id": "c0e532a8",
   "metadata": {},
   "outputs": [
    {
     "name": "stdout",
     "output_type": "stream",
     "text": [
      "R^2 of the Linear Regression for train data: 0.8703524975724928\n",
      "R^2 of the Linear Regression for test data: 0.8548425633013981\n"
     ]
    },
    {
     "data": {
      "image/png": "[encoded data removed]",
      "text/plain": [
       "<Figure size 640x480 with 1 Axes>"
      ]
     },
     "metadata": {},
     "output_type": "display_data"
    }
   ],
   "source": [
    "import matplotlib.pyplot as plt\n",
    "import seaborn as sns\n",
    "\n",
    "print(f\"R^2 of the Linear Regression for train data: {LR_model.score(X_train_scaled, y_train)}\")\n",
    "print(f\"R^2 of the Linear Regression for test data: {LR_model.score(X_test_scaled, y_test)}\")\n",
    "\n",
    "plt.figure()\n",
    "sns.regplot(x=LR_model.predict(X_test_scaled), y=y_test)\n",
    "plt.title('Base Linear Regression Model Results')\n",
    "plt.xlabel('Predicted Points')\n",
    "plt.ylabel('True Points Achieved')\n",
    "plt.show()"
   ]
  },
  {
   "cell_type": "markdown",
   "id": "a430de2f",
   "metadata": {},
   "source": [
    "The base model has a r-squared of 87% in the training data and a 85% in the test data meaning that the model can explain 87% of variance in the points earned for the training data and 85% in the test data.\n",
    "\n",
    "Although this is a good score, we can attempt to improve the model by penalizing (by shrinking/L1 regularization) features that are not as important in explaining `total_points` via a lasso regression."
   ]
  },
  {
   "cell_type": "markdown",
   "id": "6b573ed0",
   "metadata": {},
   "source": [
    "# Lasso Regression\n",
    "\n",
    "For the lasso regression, we will set up a pipeline with three options for scaling the data: mean and standard deviation (standard scaler), on minimum and maximum values (min max scaler), or no scaling. We will also iterate through a set of alpha values which determine the magnitude of the penalty. \n",
    "\n",
    "Again, since our data is time-dependent, we will use a time series split to cross validate our models in the training set where there will be 20 splits, each split representing a gameweek in the train set."
   ]
  },
  {
   "cell_type": "code",
   "execution_count": 46,
   "id": "6c12562a",
   "metadata": {},
   "outputs": [],
   "source": [
    "from sklearn.preprocessing import MinMaxScaler\n",
    "from sklearn.pipeline import Pipeline\n",
    "from sklearn.model_selection import TimeSeriesSplit\n",
    "from sklearn.model_selection import GridSearchCV\n",
    "from sklearn.linear_model import Lasso\n",
    "from tempfile import mkdtemp\n",
    "\n",
    "# Cross-validation with time series split to split the folds by the number of gameweeks in the training set.\n",
    "X = X_train.values\n",
    "tsc = TimeSeriesSplit(n_splits=20)\n",
    "\n",
    "# Save pipeline parameters in temperary directory\n",
    "cachedir = mkdtemp()\n",
    "\n",
    "# placeholders for pipeline\n",
    "estimators = [('normalise', StandardScaler()),\n",
    "              ('model', Lasso())]\n",
    "\n",
    "# Initializing pipeline\n",
    "pipe = Pipeline(estimators, memory = cachedir)\n",
    "\n",
    "# parameter grid for finding best model and hyperparameters for our data\n",
    "param_grid = [\n",
    "            {'model': [Lasso()],\n",
    "             'normalise': [StandardScaler(), MinMaxScaler(), None],\n",
    "             'model__alpha': [0.001, 0.01, 1, 5, 10]\n",
    "            }\n",
    "]\n",
    "\n",
    "# Cross Validation based on Time Series Split by number of GWs\n",
    "grid = GridSearchCV(pipe, param_grid, cv=tsc.split(X))\n",
    "\n",
    "fittedgrid = grid.fit(X_train, y_train)"
   ]
  },
  {
   "cell_type": "markdown",
   "id": "60a80727",
   "metadata": {},
   "source": [
    "Let's now extract the best parameters for the Lasso regression."
   ]
  },
  {
   "cell_type": "code",
   "execution_count": 47,
   "id": "2d0c95f2",
   "metadata": {},
   "outputs": [
    {
     "data": {
      "text/html": [
       "<style>#sk-container-id-7 {color: black;background-color: white;}#sk-container-id-7 pre{padding: 0;}#sk-container-id-7 div.sk-toggleable {background-color: white;}#sk-container-id-7 label.sk-toggleable__label {cursor: pointer;display: block;width: 100%;margin-bottom: 0;padding: 0.3em;box-sizing: border-box;text-align: center;}#sk-container-id-7 label.sk-toggleable__label-arrow:before {content: \"▸\";float: left;margin-right: 0.25em;color: #696969;}#sk-container-id-7 label.sk-toggleable__label-arrow:hover:before {color: black;}#sk-container-id-7 div.sk-estimator:hover label.sk-toggleable__label-arrow:before {color: black;}#sk-container-id-7 div.sk-toggleable__content {max-height: 0;max-width: 0;overflow: hidden;text-align: left;background-color: #f0f8ff;}#sk-container-id-7 div.sk-toggleable__content pre {margin: 0.2em;color: black;border-radius: 0.25em;background-color: #f0f8ff;}#sk-container-id-7 input.sk-toggleable__control:checked~div.sk-toggleable__content {max-height: 200px;max-width: 100%;overflow: auto;}#sk-container-id-7 input.sk-toggleable__control:checked~label.sk-toggleable__label-arrow:before {content: \"▾\";}#sk-container-id-7 div.sk-estimator input.sk-toggleable__control:checked~label.sk-toggleable__label {background-color: #d4ebff;}#sk-container-id-7 div.sk-label input.sk-toggleable__control:checked~label.sk-toggleable__label {background-color: #d4ebff;}#sk-container-id-7 input.sk-hidden--visually {border: 0;clip: rect(1px 1px 1px 1px);clip: rect(1px, 1px, 1px, 1px);height: 1px;margin: -1px;overflow: hidden;padding: 0;position: absolute;width: 1px;}#sk-container-id-7 div.sk-estimator {font-family: monospace;background-color: #f0f8ff;border: 1px dotted black;border-radius: 0.25em;box-sizing: border-box;margin-bottom: 0.5em;}#sk-container-id-7 div.sk-estimator:hover {background-color: #d4ebff;}#sk-container-id-7 div.sk-parallel-item::after {content: \"\";width: 100%;border-bottom: 1px solid gray;flex-grow: 1;}#sk-container-id-7 div.sk-label:hover label.sk-toggleable__label {background-color: #d4ebff;}#sk-container-id-7 div.sk-serial::before {content: \"\";position: absolute;border-left: 1px solid gray;box-sizing: border-box;top: 0;bottom: 0;left: 50%;z-index: 0;}#sk-container-id-7 div.sk-serial {display: flex;flex-direction: column;align-items: center;background-color: white;padding-right: 0.2em;padding-left: 0.2em;position: relative;}#sk-container-id-7 div.sk-item {position: relative;z-index: 1;}#sk-container-id-7 div.sk-parallel {display: flex;align-items: stretch;justify-content: center;background-color: white;position: relative;}#sk-container-id-7 div.sk-item::before, #sk-container-id-7 div.sk-parallel-item::before {content: \"\";position: absolute;border-left: 1px solid gray;box-sizing: border-box;top: 0;bottom: 0;left: 50%;z-index: -1;}#sk-container-id-7 div.sk-parallel-item {display: flex;flex-direction: column;z-index: 1;position: relative;background-color: white;}#sk-container-id-7 div.sk-parallel-item:first-child::after {align-self: flex-end;width: 50%;}#sk-container-id-7 div.sk-parallel-item:last-child::after {align-self: flex-start;width: 50%;}#sk-container-id-7 div.sk-parallel-item:only-child::after {width: 0;}#sk-container-id-7 div.sk-dashed-wrapped {border: 1px dashed gray;margin: 0 0.4em 0.5em 0.4em;box-sizing: border-box;padding-bottom: 0.4em;background-color: white;}#sk-container-id-7 div.sk-label label {font-family: monospace;font-weight: bold;display: inline-block;line-height: 1.2em;}#sk-container-id-7 div.sk-label-container {text-align: center;}#sk-container-id-7 div.sk-container {/* jupyter's `normalize.less` sets `[hidden] { display: none; }` but bootstrap.min.css set `[hidden] { display: none !important; }` so we also need the `!important` here to be able to override the default hidden behavior on the sphinx rendered scikit-learn.org. See: https://github.com/scikit-learn/scikit-learn/issues/21755 */display: inline-block !important;position: relative;}#sk-container-id-7 div.sk-text-repr-fallback {display: none;}</style><div id=\"sk-container-id-7\" class=\"sk-top-container\"><div class=\"sk-text-repr-fallback\"><pre>Pipeline(memory=&#x27;C:\\\\Users\\\\FARHAN~1\\\\AppData\\\\Local\\\\Temp\\\\tmpkrgw78v3&#x27;,\n",
       "         steps=[(&#x27;normalise&#x27;, None), (&#x27;model&#x27;, Lasso(alpha=0.001))])</pre><b>In a Jupyter environment, please rerun this cell to show the HTML representation or trust the notebook. <br />On GitHub, the HTML representation is unable to render, please try loading this page with nbviewer.org.</b></div><div class=\"sk-container\" hidden><div class=\"sk-item sk-dashed-wrapped\"><div class=\"sk-label-container\"><div class=\"sk-label sk-toggleable\"><input class=\"sk-toggleable__control sk-hidden--visually\" id=\"sk-estimator-id-11\" type=\"checkbox\" ><label for=\"sk-estimator-id-11\" class=\"sk-toggleable__label sk-toggleable__label-arrow\">Pipeline</label><div class=\"sk-toggleable__content\"><pre>Pipeline(memory=&#x27;C:\\\\Users\\\\FARHAN~1\\\\AppData\\\\Local\\\\Temp\\\\tmpkrgw78v3&#x27;,\n",
       "         steps=[(&#x27;normalise&#x27;, None), (&#x27;model&#x27;, Lasso(alpha=0.001))])</pre></div></div></div><div class=\"sk-serial\"><div class=\"sk-item\"><div class=\"sk-estimator sk-toggleable\"><input class=\"sk-toggleable__control sk-hidden--visually\" id=\"sk-estimator-id-12\" type=\"checkbox\" ><label for=\"sk-estimator-id-12\" class=\"sk-toggleable__label sk-toggleable__label-arrow\">None</label><div class=\"sk-toggleable__content\"><pre>None</pre></div></div></div><div class=\"sk-item\"><div class=\"sk-estimator sk-toggleable\"><input class=\"sk-toggleable__control sk-hidden--visually\" id=\"sk-estimator-id-13\" type=\"checkbox\" ><label for=\"sk-estimator-id-13\" class=\"sk-toggleable__label sk-toggleable__label-arrow\">Lasso</label><div class=\"sk-toggleable__content\"><pre>Lasso(alpha=0.001)</pre></div></div></div></div></div></div></div>"
      ],
      "text/plain": [
       "Pipeline(memory='C:\\\\Users\\\\FARHAN~1\\\\AppData\\\\Local\\\\Temp\\\\tmpkrgw78v3',\n",
       "         steps=[('normalise', None), ('model', Lasso(alpha=0.001))])"
      ]
     },
     "execution_count": 47,
     "metadata": {},
     "output_type": "execute_result"
    }
   ],
   "source": [
    "fittedgrid.best_estimator_"
   ]
  },
  {
   "cell_type": "markdown",
   "id": "6683e1f8",
   "metadata": {},
   "source": [
    "We can see that the pipeline determined that the best estimator for our data is a Lasso regression with an alpha of 0.001 and no normalization.\n",
    "\n",
    "Let's check what our model coefficients and scores looked like for each alpha value. To improve interpretability of the coefficients, we will fit the models with a standard scaler. "
   ]
  },
  {
   "cell_type": "code",
   "execution_count": 48,
   "id": "46f0dc26",
   "metadata": {},
   "outputs": [],
   "source": [
    "# Checking how the model coeffs change with alpha in Lasso\n",
    "# Recall X_train_scaled and X_test_scaled were previously defined with a standard scaler\n",
    "coefs = []\n",
    "train_scores = []\n",
    "test_scores = []\n",
    "for a in [0.001, 0.01, 1, 5, 10]:\n",
    "    LM = Lasso(alpha=a)\n",
    "    LM.fit(X_train_scaled, y_train)\n",
    "    train_scores.append(LM.score(X_train_scaled, y_train))\n",
    "    test_scores.append(LM.score(X_test_scaled, y_test))\n",
    "    coefs.append(LM.coef_)"
   ]
  },
  {
   "cell_type": "code",
   "execution_count": 49,
   "id": "9ce8afc0",
   "metadata": {},
   "outputs": [
    {
     "data": {
      "text/html": [
       "<div>\n",
       "<style scoped>\n",
       "    .dataframe tbody tr th:only-of-type {\n",
       "        vertical-align: middle;\n",
       "    }\n",
       "\n",
       "    .dataframe tbody tr th {\n",
       "        vertical-align: top;\n",
       "    }\n",
       "\n",
       "    .dataframe thead th {\n",
       "        text-align: right;\n",
       "    }\n",
       "</style>\n",
       "<table border=\"1\" class=\"dataframe\">\n",
       "  <thead>\n",
       "    <tr style=\"text-align: right;\">\n",
       "      <th></th>\n",
       "      <th>minutes</th>\n",
       "      <th>goals_scored</th>\n",
       "      <th>assists</th>\n",
       "      <th>clean_sheets</th>\n",
       "      <th>saves</th>\n",
       "      <th>penalties_saved</th>\n",
       "      <th>penalties_missed</th>\n",
       "      <th>goals_conceded</th>\n",
       "      <th>own_goals</th>\n",
       "      <th>yellow_cards</th>\n",
       "      <th>red_cards</th>\n",
       "      <th>influence</th>\n",
       "      <th>creativity</th>\n",
       "      <th>threat</th>\n",
       "      <th>value</th>\n",
       "      <th>DEF</th>\n",
       "      <th>FWD</th>\n",
       "      <th>GK</th>\n",
       "      <th>MID</th>\n",
       "    </tr>\n",
       "  </thead>\n",
       "  <tbody>\n",
       "    <tr>\n",
       "      <th>0.001</th>\n",
       "      <td>0.456239</td>\n",
       "      <td>1.733441</td>\n",
       "      <td>0.905780</td>\n",
       "      <td>0.943292</td>\n",
       "      <td>0.331829</td>\n",
       "      <td>0.275821</td>\n",
       "      <td>-0.096572</td>\n",
       "      <td>-0.378595</td>\n",
       "      <td>-0.174639</td>\n",
       "      <td>-0.379505</td>\n",
       "      <td>-0.145148</td>\n",
       "      <td>0.254052</td>\n",
       "      <td>0.064654</td>\n",
       "      <td>-0.122621</td>\n",
       "      <td>-0.023505</td>\n",
       "      <td>0.145643</td>\n",
       "      <td>-0.059305</td>\n",
       "      <td>-0.038596</td>\n",
       "      <td>0.0</td>\n",
       "    </tr>\n",
       "    <tr>\n",
       "      <th>0.010</th>\n",
       "      <td>0.421556</td>\n",
       "      <td>1.674135</td>\n",
       "      <td>0.885096</td>\n",
       "      <td>0.949335</td>\n",
       "      <td>0.276528</td>\n",
       "      <td>0.263026</td>\n",
       "      <td>-0.088540</td>\n",
       "      <td>-0.359359</td>\n",
       "      <td>-0.163808</td>\n",
       "      <td>-0.366805</td>\n",
       "      <td>-0.136841</td>\n",
       "      <td>0.310840</td>\n",
       "      <td>0.046354</td>\n",
       "      <td>-0.100015</td>\n",
       "      <td>-0.011961</td>\n",
       "      <td>0.132949</td>\n",
       "      <td>-0.057103</td>\n",
       "      <td>-0.000000</td>\n",
       "      <td>-0.0</td>\n",
       "    </tr>\n",
       "    <tr>\n",
       "      <th>1.000</th>\n",
       "      <td>0.000000</td>\n",
       "      <td>0.346444</td>\n",
       "      <td>0.000000</td>\n",
       "      <td>0.313175</td>\n",
       "      <td>0.000000</td>\n",
       "      <td>0.000000</td>\n",
       "      <td>-0.000000</td>\n",
       "      <td>-0.000000</td>\n",
       "      <td>-0.000000</td>\n",
       "      <td>-0.000000</td>\n",
       "      <td>-0.000000</td>\n",
       "      <td>0.874161</td>\n",
       "      <td>0.000000</td>\n",
       "      <td>0.000000</td>\n",
       "      <td>0.000000</td>\n",
       "      <td>-0.000000</td>\n",
       "      <td>0.000000</td>\n",
       "      <td>0.000000</td>\n",
       "      <td>0.0</td>\n",
       "    </tr>\n",
       "    <tr>\n",
       "      <th>5.000</th>\n",
       "      <td>0.000000</td>\n",
       "      <td>0.000000</td>\n",
       "      <td>0.000000</td>\n",
       "      <td>0.000000</td>\n",
       "      <td>0.000000</td>\n",
       "      <td>0.000000</td>\n",
       "      <td>-0.000000</td>\n",
       "      <td>-0.000000</td>\n",
       "      <td>-0.000000</td>\n",
       "      <td>-0.000000</td>\n",
       "      <td>-0.000000</td>\n",
       "      <td>0.000000</td>\n",
       "      <td>0.000000</td>\n",
       "      <td>0.000000</td>\n",
       "      <td>0.000000</td>\n",
       "      <td>-0.000000</td>\n",
       "      <td>0.000000</td>\n",
       "      <td>0.000000</td>\n",
       "      <td>-0.0</td>\n",
       "    </tr>\n",
       "    <tr>\n",
       "      <th>10.000</th>\n",
       "      <td>0.000000</td>\n",
       "      <td>0.000000</td>\n",
       "      <td>0.000000</td>\n",
       "      <td>0.000000</td>\n",
       "      <td>0.000000</td>\n",
       "      <td>0.000000</td>\n",
       "      <td>-0.000000</td>\n",
       "      <td>-0.000000</td>\n",
       "      <td>-0.000000</td>\n",
       "      <td>-0.000000</td>\n",
       "      <td>-0.000000</td>\n",
       "      <td>0.000000</td>\n",
       "      <td>0.000000</td>\n",
       "      <td>0.000000</td>\n",
       "      <td>0.000000</td>\n",
       "      <td>-0.000000</td>\n",
       "      <td>0.000000</td>\n",
       "      <td>0.000000</td>\n",
       "      <td>-0.0</td>\n",
       "    </tr>\n",
       "  </tbody>\n",
       "</table>\n",
       "</div>"
      ],
      "text/plain": [
       "         minutes  goals_scored   assists  clean_sheets     saves  \\\n",
       "0.001   0.456239      1.733441  0.905780      0.943292  0.331829   \n",
       "0.010   0.421556      1.674135  0.885096      0.949335  0.276528   \n",
       "1.000   0.000000      0.346444  0.000000      0.313175  0.000000   \n",
       "5.000   0.000000      0.000000  0.000000      0.000000  0.000000   \n",
       "10.000  0.000000      0.000000  0.000000      0.000000  0.000000   \n",
       "\n",
       "        penalties_saved  penalties_missed  goals_conceded  own_goals  \\\n",
       "0.001          0.275821         -0.096572       -0.378595  -0.174639   \n",
       "0.010          0.263026         -0.088540       -0.359359  -0.163808   \n",
       "1.000          0.000000         -0.000000       -0.000000  -0.000000   \n",
       "5.000          0.000000         -0.000000       -0.000000  -0.000000   \n",
       "10.000         0.000000         -0.000000       -0.000000  -0.000000   \n",
       "\n",
       "        yellow_cards  red_cards  influence  creativity    threat     value  \\\n",
       "0.001      -0.379505  -0.145148   0.254052    0.064654 -0.122621 -0.023505   \n",
       "0.010      -0.366805  -0.136841   0.310840    0.046354 -0.100015 -0.011961   \n",
       "1.000      -0.000000  -0.000000   0.874161    0.000000  0.000000  0.000000   \n",
       "5.000      -0.000000  -0.000000   0.000000    0.000000  0.000000  0.000000   \n",
       "10.000     -0.000000  -0.000000   0.000000    0.000000  0.000000  0.000000   \n",
       "\n",
       "             DEF       FWD        GK  MID  \n",
       "0.001   0.145643 -0.059305 -0.038596  0.0  \n",
       "0.010   0.132949 -0.057103 -0.000000 -0.0  \n",
       "1.000  -0.000000  0.000000  0.000000  0.0  \n",
       "5.000  -0.000000  0.000000  0.000000 -0.0  \n",
       "10.000 -0.000000  0.000000  0.000000 -0.0  "
      ]
     },
     "execution_count": 49,
     "metadata": {},
     "output_type": "execute_result"
    }
   ],
   "source": [
    "LM_coeffs = pd.DataFrame(data=coefs, columns=X_train.columns, index = [0.001, 0.01, 1, 5, 10])\n",
    "LM_coeffs"
   ]
  },
  {
   "cell_type": "code",
   "execution_count": 50,
   "id": "69a04dba",
   "metadata": {},
   "outputs": [
    {
     "data": {
      "text/html": [
       "<div>\n",
       "<style scoped>\n",
       "    .dataframe tbody tr th:only-of-type {\n",
       "        vertical-align: middle;\n",
       "    }\n",
       "\n",
       "    .dataframe tbody tr th {\n",
       "        vertical-align: top;\n",
       "    }\n",
       "\n",
       "    .dataframe thead th {\n",
       "        text-align: right;\n",
       "    }\n",
       "</style>\n",
       "<table border=\"1\" class=\"dataframe\">\n",
       "  <thead>\n",
       "    <tr style=\"text-align: right;\">\n",
       "      <th></th>\n",
       "      <th>0.001</th>\n",
       "      <th>0.010</th>\n",
       "      <th>1.000</th>\n",
       "      <th>5.000</th>\n",
       "      <th>10.000</th>\n",
       "    </tr>\n",
       "  </thead>\n",
       "  <tbody>\n",
       "    <tr>\n",
       "      <th>Train</th>\n",
       "      <td>0.870392</td>\n",
       "      <td>0.870062</td>\n",
       "      <td>0.537158</td>\n",
       "      <td>0.000000</td>\n",
       "      <td>0.000000</td>\n",
       "    </tr>\n",
       "    <tr>\n",
       "      <th>Test</th>\n",
       "      <td>0.855361</td>\n",
       "      <td>0.854521</td>\n",
       "      <td>0.524473</td>\n",
       "      <td>-0.000084</td>\n",
       "      <td>-0.000084</td>\n",
       "    </tr>\n",
       "  </tbody>\n",
       "</table>\n",
       "</div>"
      ],
      "text/plain": [
       "         0.001     0.010     1.000     5.000     10.000\n",
       "Train  0.870392  0.870062  0.537158  0.000000  0.000000\n",
       "Test   0.855361  0.854521  0.524473 -0.000084 -0.000084"
      ]
     },
     "execution_count": 50,
     "metadata": {},
     "output_type": "execute_result"
    }
   ],
   "source": [
    "LM_scores = pd.DataFrame(data=[train_scores,test_scores], columns = [0.001, 0.01, 1, 5, 10], index=['Train', 'Test'])\n",
    "LM_scores"
   ]
  },
  {
   "cell_type": "markdown",
   "id": "168b7bc4",
   "metadata": {},
   "source": [
    "As the alpha value increases, some of the model coefficients drop to 0 indicating that they are less important features. \n",
    "\n",
    "The most important features determined by a lasso with alpha = 1 are:\n",
    "- goals_scored with a positive correlation of 0.346\n",
    "- clean_sheets with a positive correlation of 0.313\n",
    "- influence witha positive correlation of 0.874\n",
    "\n",
    "This model had a poor r-squared score meaning that it could only explain 53% of the variance in `total_points` for the train set and 52% for the test set.\n",
    "\n",
    "\n",
    "The coefficients in the optimized model (alpha of 0.001) has a similar distribution of the most important features being:\n",
    "- goals_scored with a positive correlation of 1.733\n",
    "- clean_sheets with a positive correlation of 0.943\n",
    "- influence with a positive correlation of 0.254\n",
    "\n",
    "In contrast, this model had a much better r-squared value of 87% for the train set and 85% for the test set."
   ]
  },
  {
   "cell_type": "markdown",
   "id": "b75ca35f",
   "metadata": {},
   "source": [
    "### Optimized Lasso Regression\n",
    "\n",
    "Let's now fit the hyperparameter optimized lasso regression and intrepret the results.\n",
    "This means fitting a lasso regression with an alpha of 0.001 with no normalization."
   ]
  },
  {
   "cell_type": "code",
   "execution_count": 51,
   "id": "c4cfb797",
   "metadata": {},
   "outputs": [
    {
     "data": {
      "text/html": [
       "<style>#sk-container-id-8 {color: black;background-color: white;}#sk-container-id-8 pre{padding: 0;}#sk-container-id-8 div.sk-toggleable {background-color: white;}#sk-container-id-8 label.sk-toggleable__label {cursor: pointer;display: block;width: 100%;margin-bottom: 0;padding: 0.3em;box-sizing: border-box;text-align: center;}#sk-container-id-8 label.sk-toggleable__label-arrow:before {content: \"▸\";float: left;margin-right: 0.25em;color: #696969;}#sk-container-id-8 label.sk-toggleable__label-arrow:hover:before {color: black;}#sk-container-id-8 div.sk-estimator:hover label.sk-toggleable__label-arrow:before {color: black;}#sk-container-id-8 div.sk-toggleable__content {max-height: 0;max-width: 0;overflow: hidden;text-align: left;background-color: #f0f8ff;}#sk-container-id-8 div.sk-toggleable__content pre {margin: 0.2em;color: black;border-radius: 0.25em;background-color: #f0f8ff;}#sk-container-id-8 input.sk-toggleable__control:checked~div.sk-toggleable__content {max-height: 200px;max-width: 100%;overflow: auto;}#sk-container-id-8 input.sk-toggleable__control:checked~label.sk-toggleable__label-arrow:before {content: \"▾\";}#sk-container-id-8 div.sk-estimator input.sk-toggleable__control:checked~label.sk-toggleable__label {background-color: #d4ebff;}#sk-container-id-8 div.sk-label input.sk-toggleable__control:checked~label.sk-toggleable__label {background-color: #d4ebff;}#sk-container-id-8 input.sk-hidden--visually {border: 0;clip: rect(1px 1px 1px 1px);clip: rect(1px, 1px, 1px, 1px);height: 1px;margin: -1px;overflow: hidden;padding: 0;position: absolute;width: 1px;}#sk-container-id-8 div.sk-estimator {font-family: monospace;background-color: #f0f8ff;border: 1px dotted black;border-radius: 0.25em;box-sizing: border-box;margin-bottom: 0.5em;}#sk-container-id-8 div.sk-estimator:hover {background-color: #d4ebff;}#sk-container-id-8 div.sk-parallel-item::after {content: \"\";width: 100%;border-bottom: 1px solid gray;flex-grow: 1;}#sk-container-id-8 div.sk-label:hover label.sk-toggleable__label {background-color: #d4ebff;}#sk-container-id-8 div.sk-serial::before {content: \"\";position: absolute;border-left: 1px solid gray;box-sizing: border-box;top: 0;bottom: 0;left: 50%;z-index: 0;}#sk-container-id-8 div.sk-serial {display: flex;flex-direction: column;align-items: center;background-color: white;padding-right: 0.2em;padding-left: 0.2em;position: relative;}#sk-container-id-8 div.sk-item {position: relative;z-index: 1;}#sk-container-id-8 div.sk-parallel {display: flex;align-items: stretch;justify-content: center;background-color: white;position: relative;}#sk-container-id-8 div.sk-item::before, #sk-container-id-8 div.sk-parallel-item::before {content: \"\";position: absolute;border-left: 1px solid gray;box-sizing: border-box;top: 0;bottom: 0;left: 50%;z-index: -1;}#sk-container-id-8 div.sk-parallel-item {display: flex;flex-direction: column;z-index: 1;position: relative;background-color: white;}#sk-container-id-8 div.sk-parallel-item:first-child::after {align-self: flex-end;width: 50%;}#sk-container-id-8 div.sk-parallel-item:last-child::after {align-self: flex-start;width: 50%;}#sk-container-id-8 div.sk-parallel-item:only-child::after {width: 0;}#sk-container-id-8 div.sk-dashed-wrapped {border: 1px dashed gray;margin: 0 0.4em 0.5em 0.4em;box-sizing: border-box;padding-bottom: 0.4em;background-color: white;}#sk-container-id-8 div.sk-label label {font-family: monospace;font-weight: bold;display: inline-block;line-height: 1.2em;}#sk-container-id-8 div.sk-label-container {text-align: center;}#sk-container-id-8 div.sk-container {/* jupyter's `normalize.less` sets `[hidden] { display: none; }` but bootstrap.min.css set `[hidden] { display: none !important; }` so we also need the `!important` here to be able to override the default hidden behavior on the sphinx rendered scikit-learn.org. See: https://github.com/scikit-learn/scikit-learn/issues/21755 */display: inline-block !important;position: relative;}#sk-container-id-8 div.sk-text-repr-fallback {display: none;}</style><div id=\"sk-container-id-8\" class=\"sk-top-container\"><div class=\"sk-text-repr-fallback\"><pre>Lasso(alpha=0.001)</pre><b>In a Jupyter environment, please rerun this cell to show the HTML representation or trust the notebook. <br />On GitHub, the HTML representation is unable to render, please try loading this page with nbviewer.org.</b></div><div class=\"sk-container\" hidden><div class=\"sk-item\"><div class=\"sk-estimator sk-toggleable\"><input class=\"sk-toggleable__control sk-hidden--visually\" id=\"sk-estimator-id-14\" type=\"checkbox\" checked><label for=\"sk-estimator-id-14\" class=\"sk-toggleable__label sk-toggleable__label-arrow\">Lasso</label><div class=\"sk-toggleable__content\"><pre>Lasso(alpha=0.001)</pre></div></div></div></div></div>"
      ],
      "text/plain": [
       "Lasso(alpha=0.001)"
      ]
     },
     "execution_count": 51,
     "metadata": {},
     "output_type": "execute_result"
    }
   ],
   "source": [
    "# Fitting the Lasso Regression with the best parameters from grid search\n",
    "\n",
    "LM = Lasso(alpha=0.001)\n",
    "LM.fit(X_train, y_train)"
   ]
  },
  {
   "cell_type": "code",
   "execution_count": 52,
   "id": "d05fb789",
   "metadata": {},
   "outputs": [
    {
     "name": "stdout",
     "output_type": "stream",
     "text": [
      "R^2 of the Lasso Model for train data: 0.8701593166196246\n",
      "R^2 of the Lasso Model for test data: 0.8553304149783999\n"
     ]
    },
    {
     "data": {
      "image/png": "[encoded data removed]",
      "text/plain": [
       "<Figure size 640x480 with 1 Axes>"
      ]
     },
     "metadata": {},
     "output_type": "display_data"
    }
   ],
   "source": [
    "print(f\"R^2 of the Lasso Model for train data: {LM.score(X_train, y_train)}\")\n",
    "print(f\"R^2 of the Lasso Model for test data: {LM.score(X_test, y_test)}\")\n",
    "\n",
    "plt.figure()\n",
    "sns.regplot(x=LM.predict(X_test), y=y_test)\n",
    "plt.title('Lasso Regression with Alpha 0.001 Results')\n",
    "plt.xlabel('Predicted Points')\n",
    "plt.ylabel('True Points Achieved')\n",
    "plt.show()"
   ]
  },
  {
   "cell_type": "code",
   "execution_count": 55,
   "id": "e9a35504",
   "metadata": {},
   "outputs": [
    {
     "data": {
      "text/html": [
       "<div>\n",
       "<style scoped>\n",
       "    .dataframe tbody tr th:only-of-type {\n",
       "        vertical-align: middle;\n",
       "    }\n",
       "\n",
       "    .dataframe tbody tr th {\n",
       "        vertical-align: top;\n",
       "    }\n",
       "\n",
       "    .dataframe thead th {\n",
       "        text-align: right;\n",
       "    }\n",
       "</style>\n",
       "<table border=\"1\" class=\"dataframe\">\n",
       "  <thead>\n",
       "    <tr style=\"text-align: right;\">\n",
       "      <th></th>\n",
       "      <th>minutes</th>\n",
       "      <th>goals_scored</th>\n",
       "      <th>assists</th>\n",
       "      <th>clean_sheets</th>\n",
       "      <th>saves</th>\n",
       "      <th>penalties_saved</th>\n",
       "      <th>penalties_missed</th>\n",
       "      <th>goals_conceded</th>\n",
       "      <th>own_goals</th>\n",
       "      <th>yellow_cards</th>\n",
       "      <th>red_cards</th>\n",
       "      <th>influence</th>\n",
       "      <th>creativity</th>\n",
       "      <th>threat</th>\n",
       "      <th>value</th>\n",
       "      <th>DEF</th>\n",
       "      <th>FWD</th>\n",
       "      <th>GK</th>\n",
       "      <th>MID</th>\n",
       "    </tr>\n",
       "  </thead>\n",
       "  <tbody>\n",
       "    <tr>\n",
       "      <th>0</th>\n",
       "      <td>0.014372</td>\n",
       "      <td>5.356998</td>\n",
       "      <td>3.069435</td>\n",
       "      <td>2.31039</td>\n",
       "      <td>0.348292</td>\n",
       "      <td>6.081139</td>\n",
       "      <td>-1.630524</td>\n",
       "      <td>-0.321643</td>\n",
       "      <td>-2.161076</td>\n",
       "      <td>-1.148421</td>\n",
       "      <td>-2.492737</td>\n",
       "      <td>0.01945</td>\n",
       "      <td>0.004883</td>\n",
       "      <td>-0.007079</td>\n",
       "      <td>-0.001847</td>\n",
       "      <td>0.32688</td>\n",
       "      <td>-0.135687</td>\n",
       "      <td>-0.056577</td>\n",
       "      <td>0.030588</td>\n",
       "    </tr>\n",
       "  </tbody>\n",
       "</table>\n",
       "</div>"
      ],
      "text/plain": [
       "    minutes  goals_scored   assists  clean_sheets     saves  penalties_saved  \\\n",
       "0  0.014372      5.356998  3.069435       2.31039  0.348292         6.081139   \n",
       "\n",
       "   penalties_missed  goals_conceded  own_goals  yellow_cards  red_cards  \\\n",
       "0         -1.630524       -0.321643  -2.161076     -1.148421  -2.492737   \n",
       "\n",
       "   influence  creativity    threat     value      DEF       FWD        GK  \\\n",
       "0    0.01945    0.004883 -0.007079 -0.001847  0.32688 -0.135687 -0.056577   \n",
       "\n",
       "        MID  \n",
       "0  0.030588  "
      ]
     },
     "execution_count": 55,
     "metadata": {},
     "output_type": "execute_result"
    }
   ],
   "source": [
    "LM_coefs = pd.DataFrame(data=LM.coef_.reshape(1,19), columns=X_train.columns)\n",
    "LM_coefs"
   ]
  },
  {
   "cell_type": "markdown",
   "id": "dd8ffa94",
   "metadata": {},
   "source": [
    "The most important features are:\n",
    "- goals_scored with a positive correlation of 5.35\n",
    "- assists with a positive correlation of 3.069\n",
    "- clean_sheets with a positive correaltion of 2.31\n",
    "- penalties_saved with a positive correlation of 6.08\n",
    "- penalties_missed with a negative correlation of -1.63\n",
    "- own_goals with a negative correlation of -2.161\n",
    "- yellow_cards with a negative correlation of -1.148\n",
    "- red_cards with a negative correlation of -2.493\n",
    "\n",
    "Interestingly, the model coefficients from this model are impressively close to the scoring scheme in FPL. For example, for a goal scored by position the model determined a coefficient of 5.35 and in FPL, 6 points are awarded for GK/DEF, 5 points for MID, and 4 points for FWD. This is similar across the most important features and their weights closely resembling the scoring scheme by FPL.\n",
    "\n",
    "This also explains the high r-squared values for the train and test set being 87% and 85% respectively."
   ]
  },
  {
   "cell_type": "markdown",
   "id": "89bf72a1",
   "metadata": {},
   "source": [
    "## Random Forest Regressor\n",
    "\n",
    "Random forest regressor are a type of ensemble learning where many decision trees are fit on sub-samples of the data and averaging is used to improve predictive accuracy as well as control for over-fitting.\n",
    "\n",
    "We will first instantiate a regressor with default parameters prior to optimization and interpretation."
   ]
  },
  {
   "cell_type": "code",
   "execution_count": 22,
   "id": "c27f506f",
   "metadata": {},
   "outputs": [
    {
     "name": "stdout",
     "output_type": "stream",
     "text": [
      "Train:0.9949649961838325\n",
      "Test:0.9672437563402643\n"
     ]
    }
   ],
   "source": [
    "from sklearn.ensemble import RandomForestRegressor\n",
    "\n",
    "RFR = RandomForestRegressor()\n",
    "RFR.fit(X_train, y_train)\n",
    "\n",
    "print(f\"Train:{RFR.score(X_train, y_train)}\\nTest:{RFR.score(X_test, y_test)}\")"
   ]
  },
  {
   "cell_type": "markdown",
   "id": "24cf6613",
   "metadata": {},
   "source": [
    "The high r-squared in the train data may be indicative of overfitting and can be improved with hyperparameter optimization in the following section. The larger gap between the train and test r-squares compared to the previous models may also be indicating overfitting. "
   ]
  },
  {
   "cell_type": "code",
   "execution_count": 23,
   "id": "b695a75d",
   "metadata": {},
   "outputs": [
    {
     "data": {
      "image/png": "[encoded data removed]",
      "text/plain": [
       "<Figure size 640x480 with 1 Axes>"
      ]
     },
     "metadata": {},
     "output_type": "display_data"
    }
   ],
   "source": [
    "plt.figure()\n",
    "sns.regplot(x=RFR.predict(X_test), y=y_test)\n",
    "plt.title('Random Forest Results')\n",
    "plt.xlabel('Predicted Points')\n",
    "plt.ylabel('True Points Achieved')\n",
    "plt.show()"
   ]
  },
  {
   "cell_type": "markdown",
   "id": "00ea81c4",
   "metadata": {},
   "source": [
    "### Optimized Random Forest Regressor\n",
    "\n",
    "To determine the best parameters for our regressor model, we will set up a pipeline with three options for scaling the data: mean and standard deviation (standard scaler), on minimum and maximum values (min max scaler), or no scaling. We will also iterate through a set of estimators which determine the number of decision trees in the forest and a set of max_depth which control the amount of nodes in a decision tree. \n",
    "\n",
    "Again, since our data is time-dependent, we will use a time series split to cross validate our models in the training set where there will be 20 splits, each split representing a gameweek in the train set."
   ]
  },
  {
   "cell_type": "code",
   "execution_count": 24,
   "id": "e3f15b85",
   "metadata": {},
   "outputs": [],
   "source": [
    "# Cross-validation with time series split to split the folds by the number of gameweeks in the training set.\n",
    "X = X_train.values\n",
    "tsc = TimeSeriesSplit(n_splits=20)\n",
    "\n",
    "# Save pipeline parameters in temperary directory\n",
    "cachedir = mkdtemp()\n",
    "\n",
    "# placeholders for pipeline\n",
    "estimators = [('normalise', StandardScaler()),\n",
    "              ('model', RandomForestRegressor())]\n",
    "\n",
    "# Initializing pipeline\n",
    "pipe = Pipeline(estimators, memory = cachedir)\n",
    "\n",
    "# parameter grid for finding best model and hyperparameters for our data\n",
    "param_grid = [\n",
    "            {'model': [RandomForestRegressor()], \n",
    "             'normalise': [StandardScaler(), MinMaxScaler(), None],\n",
    "             'model__n_estimators': [i for i in range(50, 100, 50)],\n",
    "             'model__max_depth': [i for i in range(2, 10, 2)],\n",
    "             }\n",
    "]\n",
    "\n",
    "# Cross Validation based on Time Series Split by number of GWs\n",
    "grid = GridSearchCV(pipe, param_grid, cv=tsc.split(X))\n",
    "\n",
    "fittedgrid = grid.fit(X_train, y_train)"
   ]
  },
  {
   "cell_type": "code",
   "execution_count": 25,
   "id": "126a2b0d",
   "metadata": {},
   "outputs": [
    {
     "data": {
      "text/html": [
       "<style>#sk-container-id-4 {color: black;background-color: white;}#sk-container-id-4 pre{padding: 0;}#sk-container-id-4 div.sk-toggleable {background-color: white;}#sk-container-id-4 label.sk-toggleable__label {cursor: pointer;display: block;width: 100%;margin-bottom: 0;padding: 0.3em;box-sizing: border-box;text-align: center;}#sk-container-id-4 label.sk-toggleable__label-arrow:before {content: \"▸\";float: left;margin-right: 0.25em;color: #696969;}#sk-container-id-4 label.sk-toggleable__label-arrow:hover:before {color: black;}#sk-container-id-4 div.sk-estimator:hover label.sk-toggleable__label-arrow:before {color: black;}#sk-container-id-4 div.sk-toggleable__content {max-height: 0;max-width: 0;overflow: hidden;text-align: left;background-color: #f0f8ff;}#sk-container-id-4 div.sk-toggleable__content pre {margin: 0.2em;color: black;border-radius: 0.25em;background-color: #f0f8ff;}#sk-container-id-4 input.sk-toggleable__control:checked~div.sk-toggleable__content {max-height: 200px;max-width: 100%;overflow: auto;}#sk-container-id-4 input.sk-toggleable__control:checked~label.sk-toggleable__label-arrow:before {content: \"▾\";}#sk-container-id-4 div.sk-estimator input.sk-toggleable__control:checked~label.sk-toggleable__label {background-color: #d4ebff;}#sk-container-id-4 div.sk-label input.sk-toggleable__control:checked~label.sk-toggleable__label {background-color: #d4ebff;}#sk-container-id-4 input.sk-hidden--visually {border: 0;clip: rect(1px 1px 1px 1px);clip: rect(1px, 1px, 1px, 1px);height: 1px;margin: -1px;overflow: hidden;padding: 0;position: absolute;width: 1px;}#sk-container-id-4 div.sk-estimator {font-family: monospace;background-color: #f0f8ff;border: 1px dotted black;border-radius: 0.25em;box-sizing: border-box;margin-bottom: 0.5em;}#sk-container-id-4 div.sk-estimator:hover {background-color: #d4ebff;}#sk-container-id-4 div.sk-parallel-item::after {content: \"\";width: 100%;border-bottom: 1px solid gray;flex-grow: 1;}#sk-container-id-4 div.sk-label:hover label.sk-toggleable__label {background-color: #d4ebff;}#sk-container-id-4 div.sk-serial::before {content: \"\";position: absolute;border-left: 1px solid gray;box-sizing: border-box;top: 0;bottom: 0;left: 50%;z-index: 0;}#sk-container-id-4 div.sk-serial {display: flex;flex-direction: column;align-items: center;background-color: white;padding-right: 0.2em;padding-left: 0.2em;position: relative;}#sk-container-id-4 div.sk-item {position: relative;z-index: 1;}#sk-container-id-4 div.sk-parallel {display: flex;align-items: stretch;justify-content: center;background-color: white;position: relative;}#sk-container-id-4 div.sk-item::before, #sk-container-id-4 div.sk-parallel-item::before {content: \"\";position: absolute;border-left: 1px solid gray;box-sizing: border-box;top: 0;bottom: 0;left: 50%;z-index: -1;}#sk-container-id-4 div.sk-parallel-item {display: flex;flex-direction: column;z-index: 1;position: relative;background-color: white;}#sk-container-id-4 div.sk-parallel-item:first-child::after {align-self: flex-end;width: 50%;}#sk-container-id-4 div.sk-parallel-item:last-child::after {align-self: flex-start;width: 50%;}#sk-container-id-4 div.sk-parallel-item:only-child::after {width: 0;}#sk-container-id-4 div.sk-dashed-wrapped {border: 1px dashed gray;margin: 0 0.4em 0.5em 0.4em;box-sizing: border-box;padding-bottom: 0.4em;background-color: white;}#sk-container-id-4 div.sk-label label {font-family: monospace;font-weight: bold;display: inline-block;line-height: 1.2em;}#sk-container-id-4 div.sk-label-container {text-align: center;}#sk-container-id-4 div.sk-container {/* jupyter's `normalize.less` sets `[hidden] { display: none; }` but bootstrap.min.css set `[hidden] { display: none !important; }` so we also need the `!important` here to be able to override the default hidden behavior on the sphinx rendered scikit-learn.org. See: https://github.com/scikit-learn/scikit-learn/issues/21755 */display: inline-block !important;position: relative;}#sk-container-id-4 div.sk-text-repr-fallback {display: none;}</style><div id=\"sk-container-id-4\" class=\"sk-top-container\"><div class=\"sk-text-repr-fallback\"><pre>Pipeline(memory=&#x27;C:\\\\Users\\\\FARHAN~1\\\\AppData\\\\Local\\\\Temp\\\\tmpm6sw3j8z&#x27;,\n",
       "         steps=[(&#x27;normalise&#x27;, StandardScaler()),\n",
       "                (&#x27;model&#x27;, RandomForestRegressor(max_depth=8, n_estimators=50))])</pre><b>In a Jupyter environment, please rerun this cell to show the HTML representation or trust the notebook. <br />On GitHub, the HTML representation is unable to render, please try loading this page with nbviewer.org.</b></div><div class=\"sk-container\" hidden><div class=\"sk-item sk-dashed-wrapped\"><div class=\"sk-label-container\"><div class=\"sk-label sk-toggleable\"><input class=\"sk-toggleable__control sk-hidden--visually\" id=\"sk-estimator-id-6\" type=\"checkbox\" ><label for=\"sk-estimator-id-6\" class=\"sk-toggleable__label sk-toggleable__label-arrow\">Pipeline</label><div class=\"sk-toggleable__content\"><pre>Pipeline(memory=&#x27;C:\\\\Users\\\\FARHAN~1\\\\AppData\\\\Local\\\\Temp\\\\tmpm6sw3j8z&#x27;,\n",
       "         steps=[(&#x27;normalise&#x27;, StandardScaler()),\n",
       "                (&#x27;model&#x27;, RandomForestRegressor(max_depth=8, n_estimators=50))])</pre></div></div></div><div class=\"sk-serial\"><div class=\"sk-item\"><div class=\"sk-estimator sk-toggleable\"><input class=\"sk-toggleable__control sk-hidden--visually\" id=\"sk-estimator-id-7\" type=\"checkbox\" ><label for=\"sk-estimator-id-7\" class=\"sk-toggleable__label sk-toggleable__label-arrow\">StandardScaler</label><div class=\"sk-toggleable__content\"><pre>StandardScaler()</pre></div></div></div><div class=\"sk-item\"><div class=\"sk-estimator sk-toggleable\"><input class=\"sk-toggleable__control sk-hidden--visually\" id=\"sk-estimator-id-8\" type=\"checkbox\" ><label for=\"sk-estimator-id-8\" class=\"sk-toggleable__label sk-toggleable__label-arrow\">RandomForestRegressor</label><div class=\"sk-toggleable__content\"><pre>RandomForestRegressor(max_depth=8, n_estimators=50)</pre></div></div></div></div></div></div></div>"
      ],
      "text/plain": [
       "Pipeline(memory='C:\\\\Users\\\\FARHAN~1\\\\AppData\\\\Local\\\\Temp\\\\tmpm6sw3j8z',\n",
       "         steps=[('normalise', StandardScaler()),\n",
       "                ('model', RandomForestRegressor(max_depth=8, n_estimators=50))])"
      ]
     },
     "execution_count": 25,
     "metadata": {},
     "output_type": "execute_result"
    }
   ],
   "source": [
    "fittedgrid.best_estimator_"
   ]
  },
  {
   "cell_type": "code",
   "execution_count": 26,
   "id": "5518a527",
   "metadata": {},
   "outputs": [
    {
     "data": {
      "text/html": [
       "<style>#sk-container-id-5 {color: black;background-color: white;}#sk-container-id-5 pre{padding: 0;}#sk-container-id-5 div.sk-toggleable {background-color: white;}#sk-container-id-5 label.sk-toggleable__label {cursor: pointer;display: block;width: 100%;margin-bottom: 0;padding: 0.3em;box-sizing: border-box;text-align: center;}#sk-container-id-5 label.sk-toggleable__label-arrow:before {content: \"▸\";float: left;margin-right: 0.25em;color: #696969;}#sk-container-id-5 label.sk-toggleable__label-arrow:hover:before {color: black;}#sk-container-id-5 div.sk-estimator:hover label.sk-toggleable__label-arrow:before {color: black;}#sk-container-id-5 div.sk-toggleable__content {max-height: 0;max-width: 0;overflow: hidden;text-align: left;background-color: #f0f8ff;}#sk-container-id-5 div.sk-toggleable__content pre {margin: 0.2em;color: black;border-radius: 0.25em;background-color: #f0f8ff;}#sk-container-id-5 input.sk-toggleable__control:checked~div.sk-toggleable__content {max-height: 200px;max-width: 100%;overflow: auto;}#sk-container-id-5 input.sk-toggleable__control:checked~label.sk-toggleable__label-arrow:before {content: \"▾\";}#sk-container-id-5 div.sk-estimator input.sk-toggleable__control:checked~label.sk-toggleable__label {background-color: #d4ebff;}#sk-container-id-5 div.sk-label input.sk-toggleable__control:checked~label.sk-toggleable__label {background-color: #d4ebff;}#sk-container-id-5 input.sk-hidden--visually {border: 0;clip: rect(1px 1px 1px 1px);clip: rect(1px, 1px, 1px, 1px);height: 1px;margin: -1px;overflow: hidden;padding: 0;position: absolute;width: 1px;}#sk-container-id-5 div.sk-estimator {font-family: monospace;background-color: #f0f8ff;border: 1px dotted black;border-radius: 0.25em;box-sizing: border-box;margin-bottom: 0.5em;}#sk-container-id-5 div.sk-estimator:hover {background-color: #d4ebff;}#sk-container-id-5 div.sk-parallel-item::after {content: \"\";width: 100%;border-bottom: 1px solid gray;flex-grow: 1;}#sk-container-id-5 div.sk-label:hover label.sk-toggleable__label {background-color: #d4ebff;}#sk-container-id-5 div.sk-serial::before {content: \"\";position: absolute;border-left: 1px solid gray;box-sizing: border-box;top: 0;bottom: 0;left: 50%;z-index: 0;}#sk-container-id-5 div.sk-serial {display: flex;flex-direction: column;align-items: center;background-color: white;padding-right: 0.2em;padding-left: 0.2em;position: relative;}#sk-container-id-5 div.sk-item {position: relative;z-index: 1;}#sk-container-id-5 div.sk-parallel {display: flex;align-items: stretch;justify-content: center;background-color: white;position: relative;}#sk-container-id-5 div.sk-item::before, #sk-container-id-5 div.sk-parallel-item::before {content: \"\";position: absolute;border-left: 1px solid gray;box-sizing: border-box;top: 0;bottom: 0;left: 50%;z-index: -1;}#sk-container-id-5 div.sk-parallel-item {display: flex;flex-direction: column;z-index: 1;position: relative;background-color: white;}#sk-container-id-5 div.sk-parallel-item:first-child::after {align-self: flex-end;width: 50%;}#sk-container-id-5 div.sk-parallel-item:last-child::after {align-self: flex-start;width: 50%;}#sk-container-id-5 div.sk-parallel-item:only-child::after {width: 0;}#sk-container-id-5 div.sk-dashed-wrapped {border: 1px dashed gray;margin: 0 0.4em 0.5em 0.4em;box-sizing: border-box;padding-bottom: 0.4em;background-color: white;}#sk-container-id-5 div.sk-label label {font-family: monospace;font-weight: bold;display: inline-block;line-height: 1.2em;}#sk-container-id-5 div.sk-label-container {text-align: center;}#sk-container-id-5 div.sk-container {/* jupyter's `normalize.less` sets `[hidden] { display: none; }` but bootstrap.min.css set `[hidden] { display: none !important; }` so we also need the `!important` here to be able to override the default hidden behavior on the sphinx rendered scikit-learn.org. See: https://github.com/scikit-learn/scikit-learn/issues/21755 */display: inline-block !important;position: relative;}#sk-container-id-5 div.sk-text-repr-fallback {display: none;}</style><div id=\"sk-container-id-5\" class=\"sk-top-container\"><div class=\"sk-text-repr-fallback\"><pre>RandomForestRegressor(max_depth=8, n_estimators=50)</pre><b>In a Jupyter environment, please rerun this cell to show the HTML representation or trust the notebook. <br />On GitHub, the HTML representation is unable to render, please try loading this page with nbviewer.org.</b></div><div class=\"sk-container\" hidden><div class=\"sk-item\"><div class=\"sk-estimator sk-toggleable\"><input class=\"sk-toggleable__control sk-hidden--visually\" id=\"sk-estimator-id-9\" type=\"checkbox\" checked><label for=\"sk-estimator-id-9\" class=\"sk-toggleable__label sk-toggleable__label-arrow\">RandomForestRegressor</label><div class=\"sk-toggleable__content\"><pre>RandomForestRegressor(max_depth=8, n_estimators=50)</pre></div></div></div></div></div>"
      ],
      "text/plain": [
       "RandomForestRegressor(max_depth=8, n_estimators=50)"
      ]
     },
     "execution_count": 26,
     "metadata": {},
     "output_type": "execute_result"
    }
   ],
   "source": [
    "RFR = RandomForestRegressor(max_depth = 8, n_estimators=50)\n",
    "\n",
    "RFR.fit(X_train_scaled, y_train)"
   ]
  },
  {
   "cell_type": "code",
   "execution_count": 27,
   "id": "9f1bcffe",
   "metadata": {},
   "outputs": [
    {
     "name": "stdout",
     "output_type": "stream",
     "text": [
      "Train:0.9742661453189418\n",
      "Test:0.9619328976562443\n"
     ]
    },
    {
     "data": {
      "image/png": "[encoded data removed]",
      "text/plain": [
       "<Figure size 640x480 with 1 Axes>"
      ]
     },
     "metadata": {},
     "output_type": "display_data"
    }
   ],
   "source": [
    "print(f\"Train:{RFR.score(X_train_scaled, y_train)}\\nTest:{RFR.score(X_test_scaled, y_test)}\")\n",
    "\n",
    "plt.figure()\n",
    "sns.regplot(x=RFR.predict(X_test_scaled), y=y_test)\n",
    "plt.title('Random Forest with Hyperparameter Optimization Results')\n",
    "plt.xlabel('Predicted Points')\n",
    "plt.ylabel('True Points Achieved')\n",
    "plt.show()"
   ]
  },
  {
   "cell_type": "code",
   "execution_count": 59,
   "id": "adf365fc",
   "metadata": {},
   "outputs": [
    {
     "data": {
      "text/html": [
       "<div>\n",
       "<style scoped>\n",
       "    .dataframe tbody tr th:only-of-type {\n",
       "        vertical-align: middle;\n",
       "    }\n",
       "\n",
       "    .dataframe tbody tr th {\n",
       "        vertical-align: top;\n",
       "    }\n",
       "\n",
       "    .dataframe thead th {\n",
       "        text-align: right;\n",
       "    }\n",
       "</style>\n",
       "<table border=\"1\" class=\"dataframe\">\n",
       "  <thead>\n",
       "    <tr style=\"text-align: right;\">\n",
       "      <th></th>\n",
       "      <th>minutes</th>\n",
       "      <th>goals_scored</th>\n",
       "      <th>assists</th>\n",
       "      <th>clean_sheets</th>\n",
       "      <th>saves</th>\n",
       "      <th>penalties_saved</th>\n",
       "      <th>penalties_missed</th>\n",
       "      <th>goals_conceded</th>\n",
       "      <th>own_goals</th>\n",
       "      <th>yellow_cards</th>\n",
       "      <th>red_cards</th>\n",
       "      <th>influence</th>\n",
       "      <th>creativity</th>\n",
       "      <th>threat</th>\n",
       "      <th>value</th>\n",
       "      <th>DEF</th>\n",
       "      <th>FWD</th>\n",
       "      <th>GK</th>\n",
       "      <th>MID</th>\n",
       "    </tr>\n",
       "  </thead>\n",
       "  <tbody>\n",
       "    <tr>\n",
       "      <th>0</th>\n",
       "      <td>0.013308</td>\n",
       "      <td>0.095374</td>\n",
       "      <td>0.087746</td>\n",
       "      <td>0.205492</td>\n",
       "      <td>0.002792</td>\n",
       "      <td>0.005086</td>\n",
       "      <td>0.000573</td>\n",
       "      <td>0.011593</td>\n",
       "      <td>0.001476</td>\n",
       "      <td>0.013591</td>\n",
       "      <td>0.002083</td>\n",
       "      <td>0.473204</td>\n",
       "      <td>0.008978</td>\n",
       "      <td>0.00622</td>\n",
       "      <td>0.003014</td>\n",
       "      <td>0.042368</td>\n",
       "      <td>0.006848</td>\n",
       "      <td>0.010357</td>\n",
       "      <td>0.009898</td>\n",
       "    </tr>\n",
       "  </tbody>\n",
       "</table>\n",
       "</div>"
      ],
      "text/plain": [
       "    minutes  goals_scored   assists  clean_sheets     saves  penalties_saved  \\\n",
       "0  0.013308      0.095374  0.087746      0.205492  0.002792         0.005086   \n",
       "\n",
       "   penalties_missed  goals_conceded  own_goals  yellow_cards  red_cards  \\\n",
       "0          0.000573        0.011593   0.001476      0.013591   0.002083   \n",
       "\n",
       "   influence  creativity   threat     value       DEF       FWD        GK  \\\n",
       "0   0.473204    0.008978  0.00622  0.003014  0.042368  0.006848  0.010357   \n",
       "\n",
       "        MID  \n",
       "0  0.009898  "
      ]
     },
     "execution_count": 59,
     "metadata": {},
     "output_type": "execute_result"
    }
   ],
   "source": [
    "RFR_coefs = pd.DataFrame(data=RFR.feature_importances_.reshape(1,19), columns=X_train.columns)\n",
    "RFR_coefs"
   ]
  },
  {
   "cell_type": "markdown",
   "id": "c4253381",
   "metadata": {},
   "source": [
    "The most important features for the random forest model are:\n",
    "- goals_scored with a positive correlation of 0.095\n",
    "- assists with a positive correlation of 0.087\n",
    "- clean_sheets with a positive correlation of 0.205\n",
    "- influence with a positive correlation of 0.473\n",
    "\n",
    "These important predictiors in this model more closely resemble the scaled lasso regression with an alpha of 0.001 which was the expected result. \n",
    "\n",
    "Since random forest uses multiple decision trees, the improved accuracy between the two models is expected where the random forest is able to explain 97% of the variance in the test data and 96% in the train data. "
   ]
  },
  {
   "cell_type": "markdown",
   "id": "baccefba",
   "metadata": {},
   "source": [
    "# Team Selector Data\n",
    "\n",
    "Now that we have our predictions on the test data, "
   ]
  }
 ],
 "metadata": {
  "kernelspec": {
   "display_name": "capstone",
   "language": "python",
   "name": "capstone"
  },
  "language_info": {
   "codemirror_mode": {
    "name": "ipython",
    "version": 3
   },
   "file_extension": ".py",
   "mimetype": "text/x-python",
   "name": "python",
   "nbconvert_exporter": "python",
   "pygments_lexer": "ipython3",
   "version": "3.8.16"
  }
 },
 "nbformat": 4,
 "nbformat_minor": 5
}
